{
 "cells": [
  {
   "cell_type": "code",
   "execution_count": 61,
   "metadata": {},
   "outputs": [],
   "source": [
    "import numpy as np\n",
    "import pandas as pd\n",
    "import seaborn as sns\n",
    "import matplotlib.pyplot as plt\n",
    "%matplotlib inline\n",
    "import plotly"
   ]
  },
  {
   "cell_type": "code",
   "execution_count": 78,
   "metadata": {},
   "outputs": [],
   "source": [
    "df = pd.read_csv('C://Users//RKG//Desktop//Preperation of WBS studies//Python projects//World Happiness Report_Python//world-happiness-report-2021.csv')"
   ]
  },
  {
   "cell_type": "code",
   "execution_count": 79,
   "metadata": {},
   "outputs": [
    {
     "data": {
      "text/html": [
       "<div>\n",
       "<style scoped>\n",
       "    .dataframe tbody tr th:only-of-type {\n",
       "        vertical-align: middle;\n",
       "    }\n",
       "\n",
       "    .dataframe tbody tr th {\n",
       "        vertical-align: top;\n",
       "    }\n",
       "\n",
       "    .dataframe thead th {\n",
       "        text-align: right;\n",
       "    }\n",
       "</style>\n",
       "<table border=\"1\" class=\"dataframe\">\n",
       "  <thead>\n",
       "    <tr style=\"text-align: right;\">\n",
       "      <th></th>\n",
       "      <th>Country</th>\n",
       "      <th>Region</th>\n",
       "      <th>Happiness Rank</th>\n",
       "      <th>Happiness Score</th>\n",
       "      <th>Standard Error</th>\n",
       "      <th>upperwhisker</th>\n",
       "      <th>lowerwhisker</th>\n",
       "      <th>Logged GDP per capita_1</th>\n",
       "      <th>Social support_1</th>\n",
       "      <th>Healthy life expectancy_1</th>\n",
       "      <th>...</th>\n",
       "      <th>Generosity_1</th>\n",
       "      <th>Perceptions of corruption_1</th>\n",
       "      <th>Ladder score in Dystopia</th>\n",
       "      <th>Economy (GDP per Capita)</th>\n",
       "      <th>Social support</th>\n",
       "      <th>Health (Life Expectancy)</th>\n",
       "      <th>Freedom to make life choices</th>\n",
       "      <th>Generosity</th>\n",
       "      <th>Perceptions of corruption</th>\n",
       "      <th>Dystopia + residual</th>\n",
       "    </tr>\n",
       "  </thead>\n",
       "  <tbody>\n",
       "    <tr>\n",
       "      <th>0</th>\n",
       "      <td>Finland</td>\n",
       "      <td>Western Europe</td>\n",
       "      <td>1</td>\n",
       "      <td>7.842</td>\n",
       "      <td>0.032</td>\n",
       "      <td>7.904</td>\n",
       "      <td>7.780</td>\n",
       "      <td>10.775</td>\n",
       "      <td>0.954</td>\n",
       "      <td>72.0</td>\n",
       "      <td>...</td>\n",
       "      <td>-0.098</td>\n",
       "      <td>0.186</td>\n",
       "      <td>2.43</td>\n",
       "      <td>1.446</td>\n",
       "      <td>1.106</td>\n",
       "      <td>0.741</td>\n",
       "      <td>0.691</td>\n",
       "      <td>0.124</td>\n",
       "      <td>0.481</td>\n",
       "      <td>3.253</td>\n",
       "    </tr>\n",
       "    <tr>\n",
       "      <th>1</th>\n",
       "      <td>Denmark</td>\n",
       "      <td>Western Europe</td>\n",
       "      <td>2</td>\n",
       "      <td>7.620</td>\n",
       "      <td>0.035</td>\n",
       "      <td>7.687</td>\n",
       "      <td>7.552</td>\n",
       "      <td>10.933</td>\n",
       "      <td>0.954</td>\n",
       "      <td>72.7</td>\n",
       "      <td>...</td>\n",
       "      <td>0.030</td>\n",
       "      <td>0.179</td>\n",
       "      <td>2.43</td>\n",
       "      <td>1.502</td>\n",
       "      <td>1.108</td>\n",
       "      <td>0.763</td>\n",
       "      <td>0.686</td>\n",
       "      <td>0.208</td>\n",
       "      <td>0.485</td>\n",
       "      <td>2.868</td>\n",
       "    </tr>\n",
       "    <tr>\n",
       "      <th>2</th>\n",
       "      <td>Switzerland</td>\n",
       "      <td>Western Europe</td>\n",
       "      <td>3</td>\n",
       "      <td>7.571</td>\n",
       "      <td>0.036</td>\n",
       "      <td>7.643</td>\n",
       "      <td>7.500</td>\n",
       "      <td>11.117</td>\n",
       "      <td>0.942</td>\n",
       "      <td>74.4</td>\n",
       "      <td>...</td>\n",
       "      <td>0.025</td>\n",
       "      <td>0.292</td>\n",
       "      <td>2.43</td>\n",
       "      <td>1.566</td>\n",
       "      <td>1.079</td>\n",
       "      <td>0.816</td>\n",
       "      <td>0.653</td>\n",
       "      <td>0.204</td>\n",
       "      <td>0.413</td>\n",
       "      <td>2.839</td>\n",
       "    </tr>\n",
       "    <tr>\n",
       "      <th>3</th>\n",
       "      <td>Iceland</td>\n",
       "      <td>Western Europe</td>\n",
       "      <td>4</td>\n",
       "      <td>7.554</td>\n",
       "      <td>0.059</td>\n",
       "      <td>7.670</td>\n",
       "      <td>7.438</td>\n",
       "      <td>10.878</td>\n",
       "      <td>0.983</td>\n",
       "      <td>73.0</td>\n",
       "      <td>...</td>\n",
       "      <td>0.160</td>\n",
       "      <td>0.673</td>\n",
       "      <td>2.43</td>\n",
       "      <td>1.482</td>\n",
       "      <td>1.172</td>\n",
       "      <td>0.772</td>\n",
       "      <td>0.698</td>\n",
       "      <td>0.293</td>\n",
       "      <td>0.170</td>\n",
       "      <td>2.967</td>\n",
       "    </tr>\n",
       "    <tr>\n",
       "      <th>4</th>\n",
       "      <td>Netherlands</td>\n",
       "      <td>Western Europe</td>\n",
       "      <td>5</td>\n",
       "      <td>7.464</td>\n",
       "      <td>0.027</td>\n",
       "      <td>7.518</td>\n",
       "      <td>7.410</td>\n",
       "      <td>10.932</td>\n",
       "      <td>0.942</td>\n",
       "      <td>72.4</td>\n",
       "      <td>...</td>\n",
       "      <td>0.175</td>\n",
       "      <td>0.338</td>\n",
       "      <td>2.43</td>\n",
       "      <td>1.501</td>\n",
       "      <td>1.079</td>\n",
       "      <td>0.753</td>\n",
       "      <td>0.647</td>\n",
       "      <td>0.302</td>\n",
       "      <td>0.384</td>\n",
       "      <td>2.798</td>\n",
       "    </tr>\n",
       "  </tbody>\n",
       "</table>\n",
       "<p>5 rows × 21 columns</p>\n",
       "</div>"
      ],
      "text/plain": [
       "       Country          Region  Happiness Rank  Happiness Score  \\\n",
       "0      Finland  Western Europe               1            7.842   \n",
       "1      Denmark  Western Europe               2            7.620   \n",
       "2  Switzerland  Western Europe               3            7.571   \n",
       "3      Iceland  Western Europe               4            7.554   \n",
       "4  Netherlands  Western Europe               5            7.464   \n",
       "\n",
       "   Standard Error  upperwhisker  lowerwhisker  Logged GDP per capita_1  \\\n",
       "0           0.032         7.904         7.780                   10.775   \n",
       "1           0.035         7.687         7.552                   10.933   \n",
       "2           0.036         7.643         7.500                   11.117   \n",
       "3           0.059         7.670         7.438                   10.878   \n",
       "4           0.027         7.518         7.410                   10.932   \n",
       "\n",
       "   Social support_1  Healthy life expectancy_1  ...  Generosity_1  \\\n",
       "0             0.954                       72.0  ...        -0.098   \n",
       "1             0.954                       72.7  ...         0.030   \n",
       "2             0.942                       74.4  ...         0.025   \n",
       "3             0.983                       73.0  ...         0.160   \n",
       "4             0.942                       72.4  ...         0.175   \n",
       "\n",
       "   Perceptions of corruption_1  Ladder score in Dystopia  \\\n",
       "0                        0.186                      2.43   \n",
       "1                        0.179                      2.43   \n",
       "2                        0.292                      2.43   \n",
       "3                        0.673                      2.43   \n",
       "4                        0.338                      2.43   \n",
       "\n",
       "   Economy (GDP per Capita)  Social support  Health (Life Expectancy)  \\\n",
       "0                     1.446           1.106                     0.741   \n",
       "1                     1.502           1.108                     0.763   \n",
       "2                     1.566           1.079                     0.816   \n",
       "3                     1.482           1.172                     0.772   \n",
       "4                     1.501           1.079                     0.753   \n",
       "\n",
       "   Freedom to make life choices  Generosity  Perceptions of corruption  \\\n",
       "0                         0.691       0.124                      0.481   \n",
       "1                         0.686       0.208                      0.485   \n",
       "2                         0.653       0.204                      0.413   \n",
       "3                         0.698       0.293                      0.170   \n",
       "4                         0.647       0.302                      0.384   \n",
       "\n",
       "   Dystopia + residual  \n",
       "0                3.253  \n",
       "1                2.868  \n",
       "2                2.839  \n",
       "3                2.967  \n",
       "4                2.798  \n",
       "\n",
       "[5 rows x 21 columns]"
      ]
     },
     "execution_count": 79,
     "metadata": {},
     "output_type": "execute_result"
    }
   ],
   "source": [
    "df.head()"
   ]
  },
  {
   "cell_type": "code",
   "execution_count": 80,
   "metadata": {},
   "outputs": [],
   "source": [
    "df.drop(df.columns[[5, 6, 7,8,9,10,11,12]], axis = 1, inplace = True)"
   ]
  },
  {
   "cell_type": "code",
   "execution_count": 81,
   "metadata": {},
   "outputs": [
    {
     "name": "stdout",
     "output_type": "stream",
     "text": [
      "<class 'pandas.core.frame.DataFrame'>\n",
      "RangeIndex: 149 entries, 0 to 148\n",
      "Data columns (total 13 columns):\n",
      " #   Column                        Non-Null Count  Dtype  \n",
      "---  ------                        --------------  -----  \n",
      " 0   Country                       149 non-null    object \n",
      " 1   Region                        149 non-null    object \n",
      " 2   Happiness Rank                149 non-null    int64  \n",
      " 3   Happiness Score               149 non-null    float64\n",
      " 4   Standard Error                149 non-null    float64\n",
      " 5   Ladder score in Dystopia      149 non-null    float64\n",
      " 6   Economy (GDP per Capita)      149 non-null    float64\n",
      " 7   Social support                149 non-null    float64\n",
      " 8   Health (Life Expectancy)      149 non-null    float64\n",
      " 9   Freedom to make life choices  149 non-null    float64\n",
      " 10  Generosity                    149 non-null    float64\n",
      " 11  Perceptions of corruption     149 non-null    float64\n",
      " 12  Dystopia + residual           149 non-null    float64\n",
      "dtypes: float64(10), int64(1), object(2)\n",
      "memory usage: 15.3+ KB\n"
     ]
    }
   ],
   "source": [
    "df.info()"
   ]
  },
  {
   "cell_type": "code",
   "execution_count": 82,
   "metadata": {},
   "outputs": [
    {
     "data": {
      "text/html": [
       "<div>\n",
       "<style scoped>\n",
       "    .dataframe tbody tr th:only-of-type {\n",
       "        vertical-align: middle;\n",
       "    }\n",
       "\n",
       "    .dataframe tbody tr th {\n",
       "        vertical-align: top;\n",
       "    }\n",
       "\n",
       "    .dataframe thead th {\n",
       "        text-align: right;\n",
       "    }\n",
       "</style>\n",
       "<table border=\"1\" class=\"dataframe\">\n",
       "  <thead>\n",
       "    <tr style=\"text-align: right;\">\n",
       "      <th></th>\n",
       "      <th>Happiness Rank</th>\n",
       "      <th>Happiness Score</th>\n",
       "      <th>Standard Error</th>\n",
       "      <th>Ladder score in Dystopia</th>\n",
       "      <th>Economy (GDP per Capita)</th>\n",
       "      <th>Social support</th>\n",
       "      <th>Health (Life Expectancy)</th>\n",
       "      <th>Freedom to make life choices</th>\n",
       "      <th>Generosity</th>\n",
       "      <th>Perceptions of corruption</th>\n",
       "      <th>Dystopia + residual</th>\n",
       "    </tr>\n",
       "  </thead>\n",
       "  <tbody>\n",
       "    <tr>\n",
       "      <th>count</th>\n",
       "      <td>149.000000</td>\n",
       "      <td>149.000000</td>\n",
       "      <td>149.000000</td>\n",
       "      <td>1.490000e+02</td>\n",
       "      <td>149.000000</td>\n",
       "      <td>149.000000</td>\n",
       "      <td>149.000000</td>\n",
       "      <td>149.000000</td>\n",
       "      <td>149.000000</td>\n",
       "      <td>149.000000</td>\n",
       "      <td>149.000000</td>\n",
       "    </tr>\n",
       "    <tr>\n",
       "      <th>mean</th>\n",
       "      <td>75.000000</td>\n",
       "      <td>5.532839</td>\n",
       "      <td>0.058752</td>\n",
       "      <td>2.430000e+00</td>\n",
       "      <td>0.977161</td>\n",
       "      <td>0.793315</td>\n",
       "      <td>0.520161</td>\n",
       "      <td>0.498711</td>\n",
       "      <td>0.178047</td>\n",
       "      <td>0.135141</td>\n",
       "      <td>2.430329</td>\n",
       "    </tr>\n",
       "    <tr>\n",
       "      <th>std</th>\n",
       "      <td>43.156691</td>\n",
       "      <td>1.073924</td>\n",
       "      <td>0.022001</td>\n",
       "      <td>5.347044e-15</td>\n",
       "      <td>0.404740</td>\n",
       "      <td>0.258871</td>\n",
       "      <td>0.213019</td>\n",
       "      <td>0.137888</td>\n",
       "      <td>0.098270</td>\n",
       "      <td>0.114361</td>\n",
       "      <td>0.537645</td>\n",
       "    </tr>\n",
       "    <tr>\n",
       "      <th>min</th>\n",
       "      <td>1.000000</td>\n",
       "      <td>2.523000</td>\n",
       "      <td>0.026000</td>\n",
       "      <td>2.430000e+00</td>\n",
       "      <td>0.000000</td>\n",
       "      <td>0.000000</td>\n",
       "      <td>0.000000</td>\n",
       "      <td>0.000000</td>\n",
       "      <td>0.000000</td>\n",
       "      <td>0.000000</td>\n",
       "      <td>0.648000</td>\n",
       "    </tr>\n",
       "    <tr>\n",
       "      <th>25%</th>\n",
       "      <td>38.000000</td>\n",
       "      <td>4.852000</td>\n",
       "      <td>0.043000</td>\n",
       "      <td>2.430000e+00</td>\n",
       "      <td>0.666000</td>\n",
       "      <td>0.647000</td>\n",
       "      <td>0.357000</td>\n",
       "      <td>0.409000</td>\n",
       "      <td>0.105000</td>\n",
       "      <td>0.060000</td>\n",
       "      <td>2.138000</td>\n",
       "    </tr>\n",
       "    <tr>\n",
       "      <th>50%</th>\n",
       "      <td>75.000000</td>\n",
       "      <td>5.534000</td>\n",
       "      <td>0.054000</td>\n",
       "      <td>2.430000e+00</td>\n",
       "      <td>1.025000</td>\n",
       "      <td>0.832000</td>\n",
       "      <td>0.571000</td>\n",
       "      <td>0.514000</td>\n",
       "      <td>0.164000</td>\n",
       "      <td>0.101000</td>\n",
       "      <td>2.509000</td>\n",
       "    </tr>\n",
       "    <tr>\n",
       "      <th>75%</th>\n",
       "      <td>112.000000</td>\n",
       "      <td>6.255000</td>\n",
       "      <td>0.070000</td>\n",
       "      <td>2.430000e+00</td>\n",
       "      <td>1.323000</td>\n",
       "      <td>0.996000</td>\n",
       "      <td>0.665000</td>\n",
       "      <td>0.603000</td>\n",
       "      <td>0.239000</td>\n",
       "      <td>0.174000</td>\n",
       "      <td>2.794000</td>\n",
       "    </tr>\n",
       "    <tr>\n",
       "      <th>max</th>\n",
       "      <td>149.000000</td>\n",
       "      <td>7.842000</td>\n",
       "      <td>0.173000</td>\n",
       "      <td>2.430000e+00</td>\n",
       "      <td>1.751000</td>\n",
       "      <td>1.172000</td>\n",
       "      <td>0.897000</td>\n",
       "      <td>0.716000</td>\n",
       "      <td>0.541000</td>\n",
       "      <td>0.547000</td>\n",
       "      <td>3.482000</td>\n",
       "    </tr>\n",
       "  </tbody>\n",
       "</table>\n",
       "</div>"
      ],
      "text/plain": [
       "       Happiness Rank  Happiness Score  Standard Error  \\\n",
       "count      149.000000       149.000000      149.000000   \n",
       "mean        75.000000         5.532839        0.058752   \n",
       "std         43.156691         1.073924        0.022001   \n",
       "min          1.000000         2.523000        0.026000   \n",
       "25%         38.000000         4.852000        0.043000   \n",
       "50%         75.000000         5.534000        0.054000   \n",
       "75%        112.000000         6.255000        0.070000   \n",
       "max        149.000000         7.842000        0.173000   \n",
       "\n",
       "       Ladder score in Dystopia  Economy (GDP per Capita)  Social support  \\\n",
       "count              1.490000e+02                149.000000      149.000000   \n",
       "mean               2.430000e+00                  0.977161        0.793315   \n",
       "std                5.347044e-15                  0.404740        0.258871   \n",
       "min                2.430000e+00                  0.000000        0.000000   \n",
       "25%                2.430000e+00                  0.666000        0.647000   \n",
       "50%                2.430000e+00                  1.025000        0.832000   \n",
       "75%                2.430000e+00                  1.323000        0.996000   \n",
       "max                2.430000e+00                  1.751000        1.172000   \n",
       "\n",
       "       Health (Life Expectancy)  Freedom to make life choices  Generosity  \\\n",
       "count                149.000000                    149.000000  149.000000   \n",
       "mean                   0.520161                      0.498711    0.178047   \n",
       "std                    0.213019                      0.137888    0.098270   \n",
       "min                    0.000000                      0.000000    0.000000   \n",
       "25%                    0.357000                      0.409000    0.105000   \n",
       "50%                    0.571000                      0.514000    0.164000   \n",
       "75%                    0.665000                      0.603000    0.239000   \n",
       "max                    0.897000                      0.716000    0.541000   \n",
       "\n",
       "       Perceptions of corruption  Dystopia + residual  \n",
       "count                 149.000000           149.000000  \n",
       "mean                    0.135141             2.430329  \n",
       "std                     0.114361             0.537645  \n",
       "min                     0.000000             0.648000  \n",
       "25%                     0.060000             2.138000  \n",
       "50%                     0.101000             2.509000  \n",
       "75%                     0.174000             2.794000  \n",
       "max                     0.547000             3.482000  "
      ]
     },
     "execution_count": 82,
     "metadata": {},
     "output_type": "execute_result"
    }
   ],
   "source": [
    "df.describe()"
   ]
  },
  {
   "cell_type": "code",
   "execution_count": 87,
   "metadata": {},
   "outputs": [
    {
     "name": "stdout",
     "output_type": "stream",
     "text": [
      "<class 'pandas.core.frame.DataFrame'>\n",
      "RangeIndex: 149 entries, 0 to 148\n",
      "Data columns (total 13 columns):\n",
      " #   Column                        Non-Null Count  Dtype  \n",
      "---  ------                        --------------  -----  \n",
      " 0   Country                       149 non-null    object \n",
      " 1   Region                        149 non-null    object \n",
      " 2   Happiness Rank                149 non-null    int64  \n",
      " 3   Happiness Score               149 non-null    float64\n",
      " 4   Standard Error                149 non-null    float64\n",
      " 5   Ladder score in Dystopia      149 non-null    float64\n",
      " 6   Economy (GDP per Capita)      149 non-null    float64\n",
      " 7   Social support                149 non-null    float64\n",
      " 8   Health (Life Expectancy)      149 non-null    float64\n",
      " 9   Freedom to make life choices  149 non-null    float64\n",
      " 10  Generosity                    149 non-null    float64\n",
      " 11  Perceptions of corruption     149 non-null    float64\n",
      " 12  Dystopia + residual           149 non-null    float64\n",
      "dtypes: float64(10), int64(1), object(2)\n",
      "memory usage: 15.3+ KB\n"
     ]
    }
   ],
   "source": [
    "df.info()"
   ]
  },
  {
   "cell_type": "code",
   "execution_count": 149,
   "metadata": {},
   "outputs": [
    {
     "data": {
      "application/vnd.plotly.v1+json": {
       "config": {
        "plotlyServerURL": "https://plot.ly"
       },
       "data": [
        {
         "alignmentgroup": "True",
         "bingroup": "x",
         "hovertemplate": "Happiness Score=%{x}<br>count=%{y}<extra></extra>",
         "legendgroup": "",
         "marker": {
          "color": "#636efa"
         },
         "name": "",
         "offsetgroup": "",
         "orientation": "v",
         "showlegend": false,
         "type": "histogram",
         "x": [
          7.8420000000000005,
          7.62,
          7.571000000000001,
          7.553999999999999,
          7.4639999999999995,
          7.392,
          7.3629999999999995,
          7.324,
          7.277,
          7.268,
          7.183,
          7.157,
          7.155,
          7.103,
          7.085,
          7.069,
          7.064,
          6.965,
          6.9510000000000005,
          6.834,
          6.69,
          6.647,
          6.602,
          6.584,
          6.561,
          6.494,
          6.4910000000000005,
          6.483,
          6.461,
          6.435,
          6.431,
          6.377000000000001,
          6.372000000000001,
          6.331,
          6.33,
          6.317,
          6.309,
          6.255,
          6.223,
          6.189,
          6.18,
          6.178999999999999,
          6.172000000000001,
          6.166,
          6.152,
          6.14,
          6.106,
          6.077999999999999,
          6.061,
          6.0489999999999995,
          6.032,
          6.0120000000000005,
          5.992000000000001,
          5.985,
          5.972,
          5.94,
          5.928999999999999,
          5.928999999999999,
          5.919,
          5.882000000000001,
          5.88,
          5.845,
          5.84,
          5.813,
          5.766,
          5.763999999999999,
          5.744,
          5.723,
          5.716,
          5.6770000000000005,
          5.653,
          5.581,
          5.545,
          5.5360000000000005,
          5.534,
          5.477,
          5.477,
          5.466,
          5.4110000000000005,
          5.41,
          5.3839999999999995,
          5.345,
          5.3420000000000005,
          5.3389999999999995,
          5.306,
          5.2829999999999995,
          5.269,
          5.266,
          5.1979999999999995,
          5.171,
          5.142,
          5.132000000000001,
          5.117,
          5.101,
          5.088,
          5.074,
          5.066,
          5.051,
          5.045,
          5.03,
          5.025,
          4.984,
          4.956,
          4.948,
          4.934,
          4.918,
          4.8919999999999995,
          4.891,
          4.887,
          4.875,
          4.854,
          4.852,
          4.834,
          4.83,
          4.794,
          4.7589999999999995,
          4.723,
          4.721,
          4.636,
          4.625,
          4.607,
          4.596,
          4.584,
          4.574,
          4.5169999999999995,
          4.426,
          4.395,
          4.355,
          4.325,
          4.308,
          4.289,
          4.283,
          4.275,
          4.227,
          4.208,
          4.107,
          4.073,
          3.8489999999999998,
          3.819,
          3.775,
          3.658,
          3.623,
          3.615,
          3.6,
          3.512,
          3.467,
          3.415,
          3.145,
          2.523
         ],
         "xaxis": "x",
         "yaxis": "y"
        },
        {
         "alignmentgroup": "True",
         "hovertemplate": "Happiness Score=%{x}<extra></extra>",
         "legendgroup": "",
         "marker": {
          "color": "#636efa"
         },
         "name": "",
         "notched": true,
         "offsetgroup": "",
         "showlegend": false,
         "type": "box",
         "x": [
          7.8420000000000005,
          7.62,
          7.571000000000001,
          7.553999999999999,
          7.4639999999999995,
          7.392,
          7.3629999999999995,
          7.324,
          7.277,
          7.268,
          7.183,
          7.157,
          7.155,
          7.103,
          7.085,
          7.069,
          7.064,
          6.965,
          6.9510000000000005,
          6.834,
          6.69,
          6.647,
          6.602,
          6.584,
          6.561,
          6.494,
          6.4910000000000005,
          6.483,
          6.461,
          6.435,
          6.431,
          6.377000000000001,
          6.372000000000001,
          6.331,
          6.33,
          6.317,
          6.309,
          6.255,
          6.223,
          6.189,
          6.18,
          6.178999999999999,
          6.172000000000001,
          6.166,
          6.152,
          6.14,
          6.106,
          6.077999999999999,
          6.061,
          6.0489999999999995,
          6.032,
          6.0120000000000005,
          5.992000000000001,
          5.985,
          5.972,
          5.94,
          5.928999999999999,
          5.928999999999999,
          5.919,
          5.882000000000001,
          5.88,
          5.845,
          5.84,
          5.813,
          5.766,
          5.763999999999999,
          5.744,
          5.723,
          5.716,
          5.6770000000000005,
          5.653,
          5.581,
          5.545,
          5.5360000000000005,
          5.534,
          5.477,
          5.477,
          5.466,
          5.4110000000000005,
          5.41,
          5.3839999999999995,
          5.345,
          5.3420000000000005,
          5.3389999999999995,
          5.306,
          5.2829999999999995,
          5.269,
          5.266,
          5.1979999999999995,
          5.171,
          5.142,
          5.132000000000001,
          5.117,
          5.101,
          5.088,
          5.074,
          5.066,
          5.051,
          5.045,
          5.03,
          5.025,
          4.984,
          4.956,
          4.948,
          4.934,
          4.918,
          4.8919999999999995,
          4.891,
          4.887,
          4.875,
          4.854,
          4.852,
          4.834,
          4.83,
          4.794,
          4.7589999999999995,
          4.723,
          4.721,
          4.636,
          4.625,
          4.607,
          4.596,
          4.584,
          4.574,
          4.5169999999999995,
          4.426,
          4.395,
          4.355,
          4.325,
          4.308,
          4.289,
          4.283,
          4.275,
          4.227,
          4.208,
          4.107,
          4.073,
          3.8489999999999998,
          3.819,
          3.775,
          3.658,
          3.623,
          3.615,
          3.6,
          3.512,
          3.467,
          3.415,
          3.145,
          2.523
         ],
         "xaxis": "x2",
         "yaxis": "y2"
        }
       ],
       "layout": {
        "barmode": "relative",
        "legend": {
         "tracegroupgap": 0
        },
        "margin": {
         "t": 60
        },
        "template": {
         "data": {
          "bar": [
           {
            "error_x": {
             "color": "#2a3f5f"
            },
            "error_y": {
             "color": "#2a3f5f"
            },
            "marker": {
             "line": {
              "color": "#E5ECF6",
              "width": 0.5
             }
            },
            "type": "bar"
           }
          ],
          "barpolar": [
           {
            "marker": {
             "line": {
              "color": "#E5ECF6",
              "width": 0.5
             }
            },
            "type": "barpolar"
           }
          ],
          "carpet": [
           {
            "aaxis": {
             "endlinecolor": "#2a3f5f",
             "gridcolor": "white",
             "linecolor": "white",
             "minorgridcolor": "white",
             "startlinecolor": "#2a3f5f"
            },
            "baxis": {
             "endlinecolor": "#2a3f5f",
             "gridcolor": "white",
             "linecolor": "white",
             "minorgridcolor": "white",
             "startlinecolor": "#2a3f5f"
            },
            "type": "carpet"
           }
          ],
          "choropleth": [
           {
            "colorbar": {
             "outlinewidth": 0,
             "ticks": ""
            },
            "type": "choropleth"
           }
          ],
          "contour": [
           {
            "colorbar": {
             "outlinewidth": 0,
             "ticks": ""
            },
            "colorscale": [
             [
              0,
              "#0d0887"
             ],
             [
              0.1111111111111111,
              "#46039f"
             ],
             [
              0.2222222222222222,
              "#7201a8"
             ],
             [
              0.3333333333333333,
              "#9c179e"
             ],
             [
              0.4444444444444444,
              "#bd3786"
             ],
             [
              0.5555555555555556,
              "#d8576b"
             ],
             [
              0.6666666666666666,
              "#ed7953"
             ],
             [
              0.7777777777777778,
              "#fb9f3a"
             ],
             [
              0.8888888888888888,
              "#fdca26"
             ],
             [
              1,
              "#f0f921"
             ]
            ],
            "type": "contour"
           }
          ],
          "contourcarpet": [
           {
            "colorbar": {
             "outlinewidth": 0,
             "ticks": ""
            },
            "type": "contourcarpet"
           }
          ],
          "heatmap": [
           {
            "colorbar": {
             "outlinewidth": 0,
             "ticks": ""
            },
            "colorscale": [
             [
              0,
              "#0d0887"
             ],
             [
              0.1111111111111111,
              "#46039f"
             ],
             [
              0.2222222222222222,
              "#7201a8"
             ],
             [
              0.3333333333333333,
              "#9c179e"
             ],
             [
              0.4444444444444444,
              "#bd3786"
             ],
             [
              0.5555555555555556,
              "#d8576b"
             ],
             [
              0.6666666666666666,
              "#ed7953"
             ],
             [
              0.7777777777777778,
              "#fb9f3a"
             ],
             [
              0.8888888888888888,
              "#fdca26"
             ],
             [
              1,
              "#f0f921"
             ]
            ],
            "type": "heatmap"
           }
          ],
          "heatmapgl": [
           {
            "colorbar": {
             "outlinewidth": 0,
             "ticks": ""
            },
            "colorscale": [
             [
              0,
              "#0d0887"
             ],
             [
              0.1111111111111111,
              "#46039f"
             ],
             [
              0.2222222222222222,
              "#7201a8"
             ],
             [
              0.3333333333333333,
              "#9c179e"
             ],
             [
              0.4444444444444444,
              "#bd3786"
             ],
             [
              0.5555555555555556,
              "#d8576b"
             ],
             [
              0.6666666666666666,
              "#ed7953"
             ],
             [
              0.7777777777777778,
              "#fb9f3a"
             ],
             [
              0.8888888888888888,
              "#fdca26"
             ],
             [
              1,
              "#f0f921"
             ]
            ],
            "type": "heatmapgl"
           }
          ],
          "histogram": [
           {
            "marker": {
             "colorbar": {
              "outlinewidth": 0,
              "ticks": ""
             }
            },
            "type": "histogram"
           }
          ],
          "histogram2d": [
           {
            "colorbar": {
             "outlinewidth": 0,
             "ticks": ""
            },
            "colorscale": [
             [
              0,
              "#0d0887"
             ],
             [
              0.1111111111111111,
              "#46039f"
             ],
             [
              0.2222222222222222,
              "#7201a8"
             ],
             [
              0.3333333333333333,
              "#9c179e"
             ],
             [
              0.4444444444444444,
              "#bd3786"
             ],
             [
              0.5555555555555556,
              "#d8576b"
             ],
             [
              0.6666666666666666,
              "#ed7953"
             ],
             [
              0.7777777777777778,
              "#fb9f3a"
             ],
             [
              0.8888888888888888,
              "#fdca26"
             ],
             [
              1,
              "#f0f921"
             ]
            ],
            "type": "histogram2d"
           }
          ],
          "histogram2dcontour": [
           {
            "colorbar": {
             "outlinewidth": 0,
             "ticks": ""
            },
            "colorscale": [
             [
              0,
              "#0d0887"
             ],
             [
              0.1111111111111111,
              "#46039f"
             ],
             [
              0.2222222222222222,
              "#7201a8"
             ],
             [
              0.3333333333333333,
              "#9c179e"
             ],
             [
              0.4444444444444444,
              "#bd3786"
             ],
             [
              0.5555555555555556,
              "#d8576b"
             ],
             [
              0.6666666666666666,
              "#ed7953"
             ],
             [
              0.7777777777777778,
              "#fb9f3a"
             ],
             [
              0.8888888888888888,
              "#fdca26"
             ],
             [
              1,
              "#f0f921"
             ]
            ],
            "type": "histogram2dcontour"
           }
          ],
          "mesh3d": [
           {
            "colorbar": {
             "outlinewidth": 0,
             "ticks": ""
            },
            "type": "mesh3d"
           }
          ],
          "parcoords": [
           {
            "line": {
             "colorbar": {
              "outlinewidth": 0,
              "ticks": ""
             }
            },
            "type": "parcoords"
           }
          ],
          "pie": [
           {
            "automargin": true,
            "type": "pie"
           }
          ],
          "scatter": [
           {
            "marker": {
             "colorbar": {
              "outlinewidth": 0,
              "ticks": ""
             }
            },
            "type": "scatter"
           }
          ],
          "scatter3d": [
           {
            "line": {
             "colorbar": {
              "outlinewidth": 0,
              "ticks": ""
             }
            },
            "marker": {
             "colorbar": {
              "outlinewidth": 0,
              "ticks": ""
             }
            },
            "type": "scatter3d"
           }
          ],
          "scattercarpet": [
           {
            "marker": {
             "colorbar": {
              "outlinewidth": 0,
              "ticks": ""
             }
            },
            "type": "scattercarpet"
           }
          ],
          "scattergeo": [
           {
            "marker": {
             "colorbar": {
              "outlinewidth": 0,
              "ticks": ""
             }
            },
            "type": "scattergeo"
           }
          ],
          "scattergl": [
           {
            "marker": {
             "colorbar": {
              "outlinewidth": 0,
              "ticks": ""
             }
            },
            "type": "scattergl"
           }
          ],
          "scattermapbox": [
           {
            "marker": {
             "colorbar": {
              "outlinewidth": 0,
              "ticks": ""
             }
            },
            "type": "scattermapbox"
           }
          ],
          "scatterpolar": [
           {
            "marker": {
             "colorbar": {
              "outlinewidth": 0,
              "ticks": ""
             }
            },
            "type": "scatterpolar"
           }
          ],
          "scatterpolargl": [
           {
            "marker": {
             "colorbar": {
              "outlinewidth": 0,
              "ticks": ""
             }
            },
            "type": "scatterpolargl"
           }
          ],
          "scatterternary": [
           {
            "marker": {
             "colorbar": {
              "outlinewidth": 0,
              "ticks": ""
             }
            },
            "type": "scatterternary"
           }
          ],
          "surface": [
           {
            "colorbar": {
             "outlinewidth": 0,
             "ticks": ""
            },
            "colorscale": [
             [
              0,
              "#0d0887"
             ],
             [
              0.1111111111111111,
              "#46039f"
             ],
             [
              0.2222222222222222,
              "#7201a8"
             ],
             [
              0.3333333333333333,
              "#9c179e"
             ],
             [
              0.4444444444444444,
              "#bd3786"
             ],
             [
              0.5555555555555556,
              "#d8576b"
             ],
             [
              0.6666666666666666,
              "#ed7953"
             ],
             [
              0.7777777777777778,
              "#fb9f3a"
             ],
             [
              0.8888888888888888,
              "#fdca26"
             ],
             [
              1,
              "#f0f921"
             ]
            ],
            "type": "surface"
           }
          ],
          "table": [
           {
            "cells": {
             "fill": {
              "color": "#EBF0F8"
             },
             "line": {
              "color": "white"
             }
            },
            "header": {
             "fill": {
              "color": "#C8D4E3"
             },
             "line": {
              "color": "white"
             }
            },
            "type": "table"
           }
          ]
         },
         "layout": {
          "annotationdefaults": {
           "arrowcolor": "#2a3f5f",
           "arrowhead": 0,
           "arrowwidth": 1
          },
          "autotypenumbers": "strict",
          "coloraxis": {
           "colorbar": {
            "outlinewidth": 0,
            "ticks": ""
           }
          },
          "colorscale": {
           "diverging": [
            [
             0,
             "#8e0152"
            ],
            [
             0.1,
             "#c51b7d"
            ],
            [
             0.2,
             "#de77ae"
            ],
            [
             0.3,
             "#f1b6da"
            ],
            [
             0.4,
             "#fde0ef"
            ],
            [
             0.5,
             "#f7f7f7"
            ],
            [
             0.6,
             "#e6f5d0"
            ],
            [
             0.7,
             "#b8e186"
            ],
            [
             0.8,
             "#7fbc41"
            ],
            [
             0.9,
             "#4d9221"
            ],
            [
             1,
             "#276419"
            ]
           ],
           "sequential": [
            [
             0,
             "#0d0887"
            ],
            [
             0.1111111111111111,
             "#46039f"
            ],
            [
             0.2222222222222222,
             "#7201a8"
            ],
            [
             0.3333333333333333,
             "#9c179e"
            ],
            [
             0.4444444444444444,
             "#bd3786"
            ],
            [
             0.5555555555555556,
             "#d8576b"
            ],
            [
             0.6666666666666666,
             "#ed7953"
            ],
            [
             0.7777777777777778,
             "#fb9f3a"
            ],
            [
             0.8888888888888888,
             "#fdca26"
            ],
            [
             1,
             "#f0f921"
            ]
           ],
           "sequentialminus": [
            [
             0,
             "#0d0887"
            ],
            [
             0.1111111111111111,
             "#46039f"
            ],
            [
             0.2222222222222222,
             "#7201a8"
            ],
            [
             0.3333333333333333,
             "#9c179e"
            ],
            [
             0.4444444444444444,
             "#bd3786"
            ],
            [
             0.5555555555555556,
             "#d8576b"
            ],
            [
             0.6666666666666666,
             "#ed7953"
            ],
            [
             0.7777777777777778,
             "#fb9f3a"
            ],
            [
             0.8888888888888888,
             "#fdca26"
            ],
            [
             1,
             "#f0f921"
            ]
           ]
          },
          "colorway": [
           "#636efa",
           "#EF553B",
           "#00cc96",
           "#ab63fa",
           "#FFA15A",
           "#19d3f3",
           "#FF6692",
           "#B6E880",
           "#FF97FF",
           "#FECB52"
          ],
          "font": {
           "color": "#2a3f5f"
          },
          "geo": {
           "bgcolor": "white",
           "lakecolor": "white",
           "landcolor": "#E5ECF6",
           "showlakes": true,
           "showland": true,
           "subunitcolor": "white"
          },
          "hoverlabel": {
           "align": "left"
          },
          "hovermode": "closest",
          "mapbox": {
           "style": "light"
          },
          "paper_bgcolor": "white",
          "plot_bgcolor": "#E5ECF6",
          "polar": {
           "angularaxis": {
            "gridcolor": "white",
            "linecolor": "white",
            "ticks": ""
           },
           "bgcolor": "#E5ECF6",
           "radialaxis": {
            "gridcolor": "white",
            "linecolor": "white",
            "ticks": ""
           }
          },
          "scene": {
           "xaxis": {
            "backgroundcolor": "#E5ECF6",
            "gridcolor": "white",
            "gridwidth": 2,
            "linecolor": "white",
            "showbackground": true,
            "ticks": "",
            "zerolinecolor": "white"
           },
           "yaxis": {
            "backgroundcolor": "#E5ECF6",
            "gridcolor": "white",
            "gridwidth": 2,
            "linecolor": "white",
            "showbackground": true,
            "ticks": "",
            "zerolinecolor": "white"
           },
           "zaxis": {
            "backgroundcolor": "#E5ECF6",
            "gridcolor": "white",
            "gridwidth": 2,
            "linecolor": "white",
            "showbackground": true,
            "ticks": "",
            "zerolinecolor": "white"
           }
          },
          "shapedefaults": {
           "line": {
            "color": "#2a3f5f"
           }
          },
          "ternary": {
           "aaxis": {
            "gridcolor": "white",
            "linecolor": "white",
            "ticks": ""
           },
           "baxis": {
            "gridcolor": "white",
            "linecolor": "white",
            "ticks": ""
           },
           "bgcolor": "#E5ECF6",
           "caxis": {
            "gridcolor": "white",
            "linecolor": "white",
            "ticks": ""
           }
          },
          "title": {
           "x": 0.05
          },
          "xaxis": {
           "automargin": true,
           "gridcolor": "white",
           "linecolor": "white",
           "ticks": "",
           "title": {
            "standoff": 15
           },
           "zerolinecolor": "white",
           "zerolinewidth": 2
          },
          "yaxis": {
           "automargin": true,
           "gridcolor": "white",
           "linecolor": "white",
           "ticks": "",
           "title": {
            "standoff": 15
           },
           "zerolinecolor": "white",
           "zerolinewidth": 2
          }
         }
        },
        "xaxis": {
         "anchor": "y",
         "domain": [
          0,
          1
         ],
         "title": {
          "text": "Happiness Score"
         }
        },
        "xaxis2": {
         "anchor": "y2",
         "domain": [
          0,
          1
         ],
         "matches": "x",
         "showgrid": true,
         "showticklabels": false
        },
        "yaxis": {
         "anchor": "x",
         "domain": [
          0,
          0.8316
         ],
         "title": {
          "text": "count"
         }
        },
        "yaxis2": {
         "anchor": "x2",
         "domain": [
          0.8416,
          1
         ],
         "matches": "y2",
         "showgrid": false,
         "showline": false,
         "showticklabels": false,
         "ticks": ""
        }
       }
      },
      "text/html": [
       "<div>                            <div id=\"9a6cf7aa-1d6f-408a-8b69-2bddc7ad7201\" class=\"plotly-graph-div\" style=\"height:525px; width:100%;\"></div>            <script type=\"text/javascript\">                require([\"plotly\"], function(Plotly) {                    window.PLOTLYENV=window.PLOTLYENV || {};                                    if (document.getElementById(\"9a6cf7aa-1d6f-408a-8b69-2bddc7ad7201\")) {                    Plotly.newPlot(                        \"9a6cf7aa-1d6f-408a-8b69-2bddc7ad7201\",                        [{\"alignmentgroup\": \"True\", \"bingroup\": \"x\", \"hovertemplate\": \"Happiness Score=%{x}<br>count=%{y}<extra></extra>\", \"legendgroup\": \"\", \"marker\": {\"color\": \"#636efa\"}, \"name\": \"\", \"offsetgroup\": \"\", \"orientation\": \"v\", \"showlegend\": false, \"type\": \"histogram\", \"x\": [7.8420000000000005, 7.62, 7.571000000000001, 7.553999999999999, 7.4639999999999995, 7.392, 7.3629999999999995, 7.324, 7.277, 7.268, 7.183, 7.157, 7.155, 7.103, 7.085, 7.069, 7.064, 6.965, 6.9510000000000005, 6.834, 6.69, 6.647, 6.602, 6.584, 6.561, 6.494, 6.4910000000000005, 6.483, 6.461, 6.435, 6.431, 6.377000000000001, 6.372000000000001, 6.331, 6.33, 6.317, 6.309, 6.255, 6.223, 6.189, 6.18, 6.178999999999999, 6.172000000000001, 6.166, 6.152, 6.14, 6.106, 6.077999999999999, 6.061, 6.0489999999999995, 6.032, 6.0120000000000005, 5.992000000000001, 5.985, 5.972, 5.94, 5.928999999999999, 5.928999999999999, 5.919, 5.882000000000001, 5.88, 5.845, 5.84, 5.813, 5.766, 5.763999999999999, 5.744, 5.723, 5.716, 5.6770000000000005, 5.653, 5.581, 5.545, 5.5360000000000005, 5.534, 5.477, 5.477, 5.466, 5.4110000000000005, 5.41, 5.3839999999999995, 5.345, 5.3420000000000005, 5.3389999999999995, 5.306, 5.2829999999999995, 5.269, 5.266, 5.1979999999999995, 5.171, 5.142, 5.132000000000001, 5.117, 5.101, 5.088, 5.074, 5.066, 5.051, 5.045, 5.03, 5.025, 4.984, 4.956, 4.948, 4.934, 4.918, 4.8919999999999995, 4.891, 4.887, 4.875, 4.854, 4.852, 4.834, 4.83, 4.794, 4.7589999999999995, 4.723, 4.721, 4.636, 4.625, 4.607, 4.596, 4.584, 4.574, 4.5169999999999995, 4.426, 4.395, 4.355, 4.325, 4.308, 4.289, 4.283, 4.275, 4.227, 4.208, 4.107, 4.073, 3.8489999999999998, 3.819, 3.775, 3.658, 3.623, 3.615, 3.6, 3.512, 3.467, 3.415, 3.145, 2.523], \"xaxis\": \"x\", \"yaxis\": \"y\"}, {\"alignmentgroup\": \"True\", \"hovertemplate\": \"Happiness Score=%{x}<extra></extra>\", \"legendgroup\": \"\", \"marker\": {\"color\": \"#636efa\"}, \"name\": \"\", \"notched\": true, \"offsetgroup\": \"\", \"showlegend\": false, \"type\": \"box\", \"x\": [7.8420000000000005, 7.62, 7.571000000000001, 7.553999999999999, 7.4639999999999995, 7.392, 7.3629999999999995, 7.324, 7.277, 7.268, 7.183, 7.157, 7.155, 7.103, 7.085, 7.069, 7.064, 6.965, 6.9510000000000005, 6.834, 6.69, 6.647, 6.602, 6.584, 6.561, 6.494, 6.4910000000000005, 6.483, 6.461, 6.435, 6.431, 6.377000000000001, 6.372000000000001, 6.331, 6.33, 6.317, 6.309, 6.255, 6.223, 6.189, 6.18, 6.178999999999999, 6.172000000000001, 6.166, 6.152, 6.14, 6.106, 6.077999999999999, 6.061, 6.0489999999999995, 6.032, 6.0120000000000005, 5.992000000000001, 5.985, 5.972, 5.94, 5.928999999999999, 5.928999999999999, 5.919, 5.882000000000001, 5.88, 5.845, 5.84, 5.813, 5.766, 5.763999999999999, 5.744, 5.723, 5.716, 5.6770000000000005, 5.653, 5.581, 5.545, 5.5360000000000005, 5.534, 5.477, 5.477, 5.466, 5.4110000000000005, 5.41, 5.3839999999999995, 5.345, 5.3420000000000005, 5.3389999999999995, 5.306, 5.2829999999999995, 5.269, 5.266, 5.1979999999999995, 5.171, 5.142, 5.132000000000001, 5.117, 5.101, 5.088, 5.074, 5.066, 5.051, 5.045, 5.03, 5.025, 4.984, 4.956, 4.948, 4.934, 4.918, 4.8919999999999995, 4.891, 4.887, 4.875, 4.854, 4.852, 4.834, 4.83, 4.794, 4.7589999999999995, 4.723, 4.721, 4.636, 4.625, 4.607, 4.596, 4.584, 4.574, 4.5169999999999995, 4.426, 4.395, 4.355, 4.325, 4.308, 4.289, 4.283, 4.275, 4.227, 4.208, 4.107, 4.073, 3.8489999999999998, 3.819, 3.775, 3.658, 3.623, 3.615, 3.6, 3.512, 3.467, 3.415, 3.145, 2.523], \"xaxis\": \"x2\", \"yaxis\": \"y2\"}],                        {\"barmode\": \"relative\", \"legend\": {\"tracegroupgap\": 0}, \"margin\": {\"t\": 60}, \"template\": {\"data\": {\"bar\": [{\"error_x\": {\"color\": \"#2a3f5f\"}, \"error_y\": {\"color\": \"#2a3f5f\"}, \"marker\": {\"line\": {\"color\": \"#E5ECF6\", \"width\": 0.5}}, \"type\": \"bar\"}], \"barpolar\": [{\"marker\": {\"line\": {\"color\": \"#E5ECF6\", \"width\": 0.5}}, \"type\": \"barpolar\"}], \"carpet\": [{\"aaxis\": {\"endlinecolor\": \"#2a3f5f\", \"gridcolor\": \"white\", \"linecolor\": \"white\", \"minorgridcolor\": \"white\", \"startlinecolor\": \"#2a3f5f\"}, \"baxis\": {\"endlinecolor\": \"#2a3f5f\", \"gridcolor\": \"white\", \"linecolor\": \"white\", \"minorgridcolor\": \"white\", \"startlinecolor\": \"#2a3f5f\"}, \"type\": \"carpet\"}], \"choropleth\": [{\"colorbar\": {\"outlinewidth\": 0, \"ticks\": \"\"}, \"type\": \"choropleth\"}], \"contour\": [{\"colorbar\": {\"outlinewidth\": 0, \"ticks\": \"\"}, \"colorscale\": [[0.0, \"#0d0887\"], [0.1111111111111111, \"#46039f\"], [0.2222222222222222, \"#7201a8\"], [0.3333333333333333, \"#9c179e\"], [0.4444444444444444, \"#bd3786\"], [0.5555555555555556, \"#d8576b\"], [0.6666666666666666, \"#ed7953\"], [0.7777777777777778, \"#fb9f3a\"], [0.8888888888888888, \"#fdca26\"], [1.0, \"#f0f921\"]], \"type\": \"contour\"}], \"contourcarpet\": [{\"colorbar\": {\"outlinewidth\": 0, \"ticks\": \"\"}, \"type\": \"contourcarpet\"}], \"heatmap\": [{\"colorbar\": {\"outlinewidth\": 0, \"ticks\": \"\"}, \"colorscale\": [[0.0, \"#0d0887\"], [0.1111111111111111, \"#46039f\"], [0.2222222222222222, \"#7201a8\"], [0.3333333333333333, \"#9c179e\"], [0.4444444444444444, \"#bd3786\"], [0.5555555555555556, \"#d8576b\"], [0.6666666666666666, \"#ed7953\"], [0.7777777777777778, \"#fb9f3a\"], [0.8888888888888888, \"#fdca26\"], [1.0, \"#f0f921\"]], \"type\": \"heatmap\"}], \"heatmapgl\": [{\"colorbar\": {\"outlinewidth\": 0, \"ticks\": \"\"}, \"colorscale\": [[0.0, \"#0d0887\"], [0.1111111111111111, \"#46039f\"], [0.2222222222222222, \"#7201a8\"], [0.3333333333333333, \"#9c179e\"], [0.4444444444444444, \"#bd3786\"], [0.5555555555555556, \"#d8576b\"], [0.6666666666666666, \"#ed7953\"], [0.7777777777777778, \"#fb9f3a\"], [0.8888888888888888, \"#fdca26\"], [1.0, \"#f0f921\"]], \"type\": \"heatmapgl\"}], \"histogram\": [{\"marker\": {\"colorbar\": {\"outlinewidth\": 0, \"ticks\": \"\"}}, \"type\": \"histogram\"}], \"histogram2d\": [{\"colorbar\": {\"outlinewidth\": 0, \"ticks\": \"\"}, \"colorscale\": [[0.0, \"#0d0887\"], [0.1111111111111111, \"#46039f\"], [0.2222222222222222, \"#7201a8\"], [0.3333333333333333, \"#9c179e\"], [0.4444444444444444, \"#bd3786\"], [0.5555555555555556, \"#d8576b\"], [0.6666666666666666, \"#ed7953\"], [0.7777777777777778, \"#fb9f3a\"], [0.8888888888888888, \"#fdca26\"], [1.0, \"#f0f921\"]], \"type\": \"histogram2d\"}], \"histogram2dcontour\": [{\"colorbar\": {\"outlinewidth\": 0, \"ticks\": \"\"}, \"colorscale\": [[0.0, \"#0d0887\"], [0.1111111111111111, \"#46039f\"], [0.2222222222222222, \"#7201a8\"], [0.3333333333333333, \"#9c179e\"], [0.4444444444444444, \"#bd3786\"], [0.5555555555555556, \"#d8576b\"], [0.6666666666666666, \"#ed7953\"], [0.7777777777777778, \"#fb9f3a\"], [0.8888888888888888, \"#fdca26\"], [1.0, \"#f0f921\"]], \"type\": \"histogram2dcontour\"}], \"mesh3d\": [{\"colorbar\": {\"outlinewidth\": 0, \"ticks\": \"\"}, \"type\": \"mesh3d\"}], \"parcoords\": [{\"line\": {\"colorbar\": {\"outlinewidth\": 0, \"ticks\": \"\"}}, \"type\": \"parcoords\"}], \"pie\": [{\"automargin\": true, \"type\": \"pie\"}], \"scatter\": [{\"marker\": {\"colorbar\": {\"outlinewidth\": 0, \"ticks\": \"\"}}, \"type\": \"scatter\"}], \"scatter3d\": [{\"line\": {\"colorbar\": {\"outlinewidth\": 0, \"ticks\": \"\"}}, \"marker\": {\"colorbar\": {\"outlinewidth\": 0, \"ticks\": \"\"}}, \"type\": \"scatter3d\"}], \"scattercarpet\": [{\"marker\": {\"colorbar\": {\"outlinewidth\": 0, \"ticks\": \"\"}}, \"type\": \"scattercarpet\"}], \"scattergeo\": [{\"marker\": {\"colorbar\": {\"outlinewidth\": 0, \"ticks\": \"\"}}, \"type\": \"scattergeo\"}], \"scattergl\": [{\"marker\": {\"colorbar\": {\"outlinewidth\": 0, \"ticks\": \"\"}}, \"type\": \"scattergl\"}], \"scattermapbox\": [{\"marker\": {\"colorbar\": {\"outlinewidth\": 0, \"ticks\": \"\"}}, \"type\": \"scattermapbox\"}], \"scatterpolar\": [{\"marker\": {\"colorbar\": {\"outlinewidth\": 0, \"ticks\": \"\"}}, \"type\": \"scatterpolar\"}], \"scatterpolargl\": [{\"marker\": {\"colorbar\": {\"outlinewidth\": 0, \"ticks\": \"\"}}, \"type\": \"scatterpolargl\"}], \"scatterternary\": [{\"marker\": {\"colorbar\": {\"outlinewidth\": 0, \"ticks\": \"\"}}, \"type\": \"scatterternary\"}], \"surface\": [{\"colorbar\": {\"outlinewidth\": 0, \"ticks\": \"\"}, \"colorscale\": [[0.0, \"#0d0887\"], [0.1111111111111111, \"#46039f\"], [0.2222222222222222, \"#7201a8\"], [0.3333333333333333, \"#9c179e\"], [0.4444444444444444, \"#bd3786\"], [0.5555555555555556, \"#d8576b\"], [0.6666666666666666, \"#ed7953\"], [0.7777777777777778, \"#fb9f3a\"], [0.8888888888888888, \"#fdca26\"], [1.0, \"#f0f921\"]], \"type\": \"surface\"}], \"table\": [{\"cells\": {\"fill\": {\"color\": \"#EBF0F8\"}, \"line\": {\"color\": \"white\"}}, \"header\": {\"fill\": {\"color\": \"#C8D4E3\"}, \"line\": {\"color\": \"white\"}}, \"type\": \"table\"}]}, \"layout\": {\"annotationdefaults\": {\"arrowcolor\": \"#2a3f5f\", \"arrowhead\": 0, \"arrowwidth\": 1}, \"autotypenumbers\": \"strict\", \"coloraxis\": {\"colorbar\": {\"outlinewidth\": 0, \"ticks\": \"\"}}, \"colorscale\": {\"diverging\": [[0, \"#8e0152\"], [0.1, \"#c51b7d\"], [0.2, \"#de77ae\"], [0.3, \"#f1b6da\"], [0.4, \"#fde0ef\"], [0.5, \"#f7f7f7\"], [0.6, \"#e6f5d0\"], [0.7, \"#b8e186\"], [0.8, \"#7fbc41\"], [0.9, \"#4d9221\"], [1, \"#276419\"]], \"sequential\": [[0.0, \"#0d0887\"], [0.1111111111111111, \"#46039f\"], [0.2222222222222222, \"#7201a8\"], [0.3333333333333333, \"#9c179e\"], [0.4444444444444444, \"#bd3786\"], [0.5555555555555556, \"#d8576b\"], [0.6666666666666666, \"#ed7953\"], [0.7777777777777778, \"#fb9f3a\"], [0.8888888888888888, \"#fdca26\"], [1.0, \"#f0f921\"]], \"sequentialminus\": [[0.0, \"#0d0887\"], [0.1111111111111111, \"#46039f\"], [0.2222222222222222, \"#7201a8\"], [0.3333333333333333, \"#9c179e\"], [0.4444444444444444, \"#bd3786\"], [0.5555555555555556, \"#d8576b\"], [0.6666666666666666, \"#ed7953\"], [0.7777777777777778, \"#fb9f3a\"], [0.8888888888888888, \"#fdca26\"], [1.0, \"#f0f921\"]]}, \"colorway\": [\"#636efa\", \"#EF553B\", \"#00cc96\", \"#ab63fa\", \"#FFA15A\", \"#19d3f3\", \"#FF6692\", \"#B6E880\", \"#FF97FF\", \"#FECB52\"], \"font\": {\"color\": \"#2a3f5f\"}, \"geo\": {\"bgcolor\": \"white\", \"lakecolor\": \"white\", \"landcolor\": \"#E5ECF6\", \"showlakes\": true, \"showland\": true, \"subunitcolor\": \"white\"}, \"hoverlabel\": {\"align\": \"left\"}, \"hovermode\": \"closest\", \"mapbox\": {\"style\": \"light\"}, \"paper_bgcolor\": \"white\", \"plot_bgcolor\": \"#E5ECF6\", \"polar\": {\"angularaxis\": {\"gridcolor\": \"white\", \"linecolor\": \"white\", \"ticks\": \"\"}, \"bgcolor\": \"#E5ECF6\", \"radialaxis\": {\"gridcolor\": \"white\", \"linecolor\": \"white\", \"ticks\": \"\"}}, \"scene\": {\"xaxis\": {\"backgroundcolor\": \"#E5ECF6\", \"gridcolor\": \"white\", \"gridwidth\": 2, \"linecolor\": \"white\", \"showbackground\": true, \"ticks\": \"\", \"zerolinecolor\": \"white\"}, \"yaxis\": {\"backgroundcolor\": \"#E5ECF6\", \"gridcolor\": \"white\", \"gridwidth\": 2, \"linecolor\": \"white\", \"showbackground\": true, \"ticks\": \"\", \"zerolinecolor\": \"white\"}, \"zaxis\": {\"backgroundcolor\": \"#E5ECF6\", \"gridcolor\": \"white\", \"gridwidth\": 2, \"linecolor\": \"white\", \"showbackground\": true, \"ticks\": \"\", \"zerolinecolor\": \"white\"}}, \"shapedefaults\": {\"line\": {\"color\": \"#2a3f5f\"}}, \"ternary\": {\"aaxis\": {\"gridcolor\": \"white\", \"linecolor\": \"white\", \"ticks\": \"\"}, \"baxis\": {\"gridcolor\": \"white\", \"linecolor\": \"white\", \"ticks\": \"\"}, \"bgcolor\": \"#E5ECF6\", \"caxis\": {\"gridcolor\": \"white\", \"linecolor\": \"white\", \"ticks\": \"\"}}, \"title\": {\"x\": 0.05}, \"xaxis\": {\"automargin\": true, \"gridcolor\": \"white\", \"linecolor\": \"white\", \"ticks\": \"\", \"title\": {\"standoff\": 15}, \"zerolinecolor\": \"white\", \"zerolinewidth\": 2}, \"yaxis\": {\"automargin\": true, \"gridcolor\": \"white\", \"linecolor\": \"white\", \"ticks\": \"\", \"title\": {\"standoff\": 15}, \"zerolinecolor\": \"white\", \"zerolinewidth\": 2}}}, \"xaxis\": {\"anchor\": \"y\", \"domain\": [0.0, 1.0], \"title\": {\"text\": \"Happiness Score\"}}, \"xaxis2\": {\"anchor\": \"y2\", \"domain\": [0.0, 1.0], \"matches\": \"x\", \"showgrid\": true, \"showticklabels\": false}, \"yaxis\": {\"anchor\": \"x\", \"domain\": [0.0, 0.8316], \"title\": {\"text\": \"count\"}}, \"yaxis2\": {\"anchor\": \"x2\", \"domain\": [0.8416, 1.0], \"matches\": \"y2\", \"showgrid\": false, \"showline\": false, \"showticklabels\": false, \"ticks\": \"\"}},                        {\"responsive\": true}                    ).then(function(){\n",
       "                            \n",
       "var gd = document.getElementById('9a6cf7aa-1d6f-408a-8b69-2bddc7ad7201');\n",
       "var x = new MutationObserver(function (mutations, observer) {{\n",
       "        var display = window.getComputedStyle(gd).display;\n",
       "        if (!display || display === 'none') {{\n",
       "            console.log([gd, 'removed!']);\n",
       "            Plotly.purge(gd);\n",
       "            observer.disconnect();\n",
       "        }}\n",
       "}});\n",
       "\n",
       "// Listen for the removal of the full notebook cells\n",
       "var notebookContainer = gd.closest('#notebook-container');\n",
       "if (notebookContainer) {{\n",
       "    x.observe(notebookContainer, {childList: true});\n",
       "}}\n",
       "\n",
       "// Listen for the clearing of the current output cell\n",
       "var outputEl = gd.closest('.output');\n",
       "if (outputEl) {{\n",
       "    x.observe(outputEl, {childList: true});\n",
       "}}\n",
       "\n",
       "                        })                };                });            </script>        </div>"
      ]
     },
     "metadata": {},
     "output_type": "display_data"
    }
   ],
   "source": [
    "import plotly.express as px\n",
    "\n",
    "fig = px.histogram(df, x=\"Happiness Score\", marginal=\"box\")\n",
    "fig.show()"
   ]
  },
  {
   "cell_type": "code",
   "execution_count": 89,
   "metadata": {},
   "outputs": [
    {
     "data": {
      "application/vnd.plotly.v1+json": {
       "config": {
        "plotlyServerURL": "https://plot.ly"
       },
       "data": [
        {
         "alignmentgroup": "True",
         "bingroup": "x",
         "hovertemplate": "Standard Error=%{x}<br>count=%{y}<extra></extra>",
         "legendgroup": "",
         "marker": {
          "color": "#636efa"
         },
         "name": "",
         "offsetgroup": "",
         "orientation": "v",
         "showlegend": false,
         "type": "histogram",
         "x": [
          0.032,
          0.035,
          0.036000000000000004,
          0.059000000000000004,
          0.027000000000000003,
          0.035,
          0.036000000000000004,
          0.037000000000000005,
          0.04,
          0.036000000000000004,
          0.040999999999999995,
          0.034,
          0.04,
          0.042,
          0.04,
          0.055999999999999994,
          0.038,
          0.049,
          0.049,
          0.034,
          0.037000000000000005,
          0.068,
          0.044000000000000004,
          0.038,
          0.039,
          0.055999999999999994,
          0.042,
          0.045,
          0.043,
          0.073,
          0.046,
          0.043,
          0.059000000000000004,
          0.040999999999999995,
          0.043,
          0.053,
          0.156,
          0.045,
          0.049,
          0.038,
          0.073,
          0.068,
          0.046,
          0.04,
          0.047,
          0.057,
          0.066,
          0.053,
          0.065,
          0.059000000000000004,
          0.036000000000000004,
          0.061,
          0.047,
          0.047,
          0.083,
          0.04,
          0.055999999999999994,
          0.055,
          0.08199999999999999,
          0.048,
          0.052000000000000005,
          0.042,
          0.075,
          0.05,
          0.046,
          0.057,
          0.046,
          0.046,
          0.053,
          0.042,
          0.092,
          0.054000000000000006,
          0.071,
          0.051,
          0.047,
          0.033,
          0.049,
          0.034,
          0.039,
          0.076,
          0.049,
          0.055999999999999994,
          0.09699999999999999,
          0.028999999999999998,
          0.078,
          0.057999999999999996,
          0.07,
          0.054000000000000006,
          0.07200000000000001,
          0.04,
          0.07400000000000001,
          0.068,
          0.059000000000000004,
          0.051,
          0.067,
          0.102,
          0.036000000000000004,
          0.08900000000000001,
          0.073,
          0.045,
          0.046,
          0.09,
          0.06,
          0.046,
          0.068,
          0.06,
          0.064,
          0.054000000000000006,
          0.053,
          0.052000000000000005,
          0.059000000000000004,
          0.075,
          0.081,
          0.067,
          0.10300000000000001,
          0.052000000000000005,
          0.08199999999999999,
          0.055,
          0.073,
          0.106,
          0.07200000000000001,
          0.057999999999999996,
          0.055,
          0.064,
          0.067,
          0.052000000000000005,
          0.062,
          0.094,
          0.066,
          0.071,
          0.084,
          0.045,
          0.051,
          0.07,
          0.07200000000000001,
          0.077,
          0.069,
          0.077,
          0.026000000000000002,
          0.107,
          0.07,
          0.071,
          0.17300000000000001,
          0.092,
          0.12,
          0.07400000000000001,
          0.068,
          0.057999999999999996,
          0.038
         ],
         "xaxis": "x",
         "yaxis": "y"
        }
       ],
       "layout": {
        "barmode": "relative",
        "legend": {
         "tracegroupgap": 0
        },
        "margin": {
         "t": 60
        },
        "template": {
         "data": {
          "bar": [
           {
            "error_x": {
             "color": "#2a3f5f"
            },
            "error_y": {
             "color": "#2a3f5f"
            },
            "marker": {
             "line": {
              "color": "#E5ECF6",
              "width": 0.5
             }
            },
            "type": "bar"
           }
          ],
          "barpolar": [
           {
            "marker": {
             "line": {
              "color": "#E5ECF6",
              "width": 0.5
             }
            },
            "type": "barpolar"
           }
          ],
          "carpet": [
           {
            "aaxis": {
             "endlinecolor": "#2a3f5f",
             "gridcolor": "white",
             "linecolor": "white",
             "minorgridcolor": "white",
             "startlinecolor": "#2a3f5f"
            },
            "baxis": {
             "endlinecolor": "#2a3f5f",
             "gridcolor": "white",
             "linecolor": "white",
             "minorgridcolor": "white",
             "startlinecolor": "#2a3f5f"
            },
            "type": "carpet"
           }
          ],
          "choropleth": [
           {
            "colorbar": {
             "outlinewidth": 0,
             "ticks": ""
            },
            "type": "choropleth"
           }
          ],
          "contour": [
           {
            "colorbar": {
             "outlinewidth": 0,
             "ticks": ""
            },
            "colorscale": [
             [
              0,
              "#0d0887"
             ],
             [
              0.1111111111111111,
              "#46039f"
             ],
             [
              0.2222222222222222,
              "#7201a8"
             ],
             [
              0.3333333333333333,
              "#9c179e"
             ],
             [
              0.4444444444444444,
              "#bd3786"
             ],
             [
              0.5555555555555556,
              "#d8576b"
             ],
             [
              0.6666666666666666,
              "#ed7953"
             ],
             [
              0.7777777777777778,
              "#fb9f3a"
             ],
             [
              0.8888888888888888,
              "#fdca26"
             ],
             [
              1,
              "#f0f921"
             ]
            ],
            "type": "contour"
           }
          ],
          "contourcarpet": [
           {
            "colorbar": {
             "outlinewidth": 0,
             "ticks": ""
            },
            "type": "contourcarpet"
           }
          ],
          "heatmap": [
           {
            "colorbar": {
             "outlinewidth": 0,
             "ticks": ""
            },
            "colorscale": [
             [
              0,
              "#0d0887"
             ],
             [
              0.1111111111111111,
              "#46039f"
             ],
             [
              0.2222222222222222,
              "#7201a8"
             ],
             [
              0.3333333333333333,
              "#9c179e"
             ],
             [
              0.4444444444444444,
              "#bd3786"
             ],
             [
              0.5555555555555556,
              "#d8576b"
             ],
             [
              0.6666666666666666,
              "#ed7953"
             ],
             [
              0.7777777777777778,
              "#fb9f3a"
             ],
             [
              0.8888888888888888,
              "#fdca26"
             ],
             [
              1,
              "#f0f921"
             ]
            ],
            "type": "heatmap"
           }
          ],
          "heatmapgl": [
           {
            "colorbar": {
             "outlinewidth": 0,
             "ticks": ""
            },
            "colorscale": [
             [
              0,
              "#0d0887"
             ],
             [
              0.1111111111111111,
              "#46039f"
             ],
             [
              0.2222222222222222,
              "#7201a8"
             ],
             [
              0.3333333333333333,
              "#9c179e"
             ],
             [
              0.4444444444444444,
              "#bd3786"
             ],
             [
              0.5555555555555556,
              "#d8576b"
             ],
             [
              0.6666666666666666,
              "#ed7953"
             ],
             [
              0.7777777777777778,
              "#fb9f3a"
             ],
             [
              0.8888888888888888,
              "#fdca26"
             ],
             [
              1,
              "#f0f921"
             ]
            ],
            "type": "heatmapgl"
           }
          ],
          "histogram": [
           {
            "marker": {
             "colorbar": {
              "outlinewidth": 0,
              "ticks": ""
             }
            },
            "type": "histogram"
           }
          ],
          "histogram2d": [
           {
            "colorbar": {
             "outlinewidth": 0,
             "ticks": ""
            },
            "colorscale": [
             [
              0,
              "#0d0887"
             ],
             [
              0.1111111111111111,
              "#46039f"
             ],
             [
              0.2222222222222222,
              "#7201a8"
             ],
             [
              0.3333333333333333,
              "#9c179e"
             ],
             [
              0.4444444444444444,
              "#bd3786"
             ],
             [
              0.5555555555555556,
              "#d8576b"
             ],
             [
              0.6666666666666666,
              "#ed7953"
             ],
             [
              0.7777777777777778,
              "#fb9f3a"
             ],
             [
              0.8888888888888888,
              "#fdca26"
             ],
             [
              1,
              "#f0f921"
             ]
            ],
            "type": "histogram2d"
           }
          ],
          "histogram2dcontour": [
           {
            "colorbar": {
             "outlinewidth": 0,
             "ticks": ""
            },
            "colorscale": [
             [
              0,
              "#0d0887"
             ],
             [
              0.1111111111111111,
              "#46039f"
             ],
             [
              0.2222222222222222,
              "#7201a8"
             ],
             [
              0.3333333333333333,
              "#9c179e"
             ],
             [
              0.4444444444444444,
              "#bd3786"
             ],
             [
              0.5555555555555556,
              "#d8576b"
             ],
             [
              0.6666666666666666,
              "#ed7953"
             ],
             [
              0.7777777777777778,
              "#fb9f3a"
             ],
             [
              0.8888888888888888,
              "#fdca26"
             ],
             [
              1,
              "#f0f921"
             ]
            ],
            "type": "histogram2dcontour"
           }
          ],
          "mesh3d": [
           {
            "colorbar": {
             "outlinewidth": 0,
             "ticks": ""
            },
            "type": "mesh3d"
           }
          ],
          "parcoords": [
           {
            "line": {
             "colorbar": {
              "outlinewidth": 0,
              "ticks": ""
             }
            },
            "type": "parcoords"
           }
          ],
          "pie": [
           {
            "automargin": true,
            "type": "pie"
           }
          ],
          "scatter": [
           {
            "marker": {
             "colorbar": {
              "outlinewidth": 0,
              "ticks": ""
             }
            },
            "type": "scatter"
           }
          ],
          "scatter3d": [
           {
            "line": {
             "colorbar": {
              "outlinewidth": 0,
              "ticks": ""
             }
            },
            "marker": {
             "colorbar": {
              "outlinewidth": 0,
              "ticks": ""
             }
            },
            "type": "scatter3d"
           }
          ],
          "scattercarpet": [
           {
            "marker": {
             "colorbar": {
              "outlinewidth": 0,
              "ticks": ""
             }
            },
            "type": "scattercarpet"
           }
          ],
          "scattergeo": [
           {
            "marker": {
             "colorbar": {
              "outlinewidth": 0,
              "ticks": ""
             }
            },
            "type": "scattergeo"
           }
          ],
          "scattergl": [
           {
            "marker": {
             "colorbar": {
              "outlinewidth": 0,
              "ticks": ""
             }
            },
            "type": "scattergl"
           }
          ],
          "scattermapbox": [
           {
            "marker": {
             "colorbar": {
              "outlinewidth": 0,
              "ticks": ""
             }
            },
            "type": "scattermapbox"
           }
          ],
          "scatterpolar": [
           {
            "marker": {
             "colorbar": {
              "outlinewidth": 0,
              "ticks": ""
             }
            },
            "type": "scatterpolar"
           }
          ],
          "scatterpolargl": [
           {
            "marker": {
             "colorbar": {
              "outlinewidth": 0,
              "ticks": ""
             }
            },
            "type": "scatterpolargl"
           }
          ],
          "scatterternary": [
           {
            "marker": {
             "colorbar": {
              "outlinewidth": 0,
              "ticks": ""
             }
            },
            "type": "scatterternary"
           }
          ],
          "surface": [
           {
            "colorbar": {
             "outlinewidth": 0,
             "ticks": ""
            },
            "colorscale": [
             [
              0,
              "#0d0887"
             ],
             [
              0.1111111111111111,
              "#46039f"
             ],
             [
              0.2222222222222222,
              "#7201a8"
             ],
             [
              0.3333333333333333,
              "#9c179e"
             ],
             [
              0.4444444444444444,
              "#bd3786"
             ],
             [
              0.5555555555555556,
              "#d8576b"
             ],
             [
              0.6666666666666666,
              "#ed7953"
             ],
             [
              0.7777777777777778,
              "#fb9f3a"
             ],
             [
              0.8888888888888888,
              "#fdca26"
             ],
             [
              1,
              "#f0f921"
             ]
            ],
            "type": "surface"
           }
          ],
          "table": [
           {
            "cells": {
             "fill": {
              "color": "#EBF0F8"
             },
             "line": {
              "color": "white"
             }
            },
            "header": {
             "fill": {
              "color": "#C8D4E3"
             },
             "line": {
              "color": "white"
             }
            },
            "type": "table"
           }
          ]
         },
         "layout": {
          "annotationdefaults": {
           "arrowcolor": "#2a3f5f",
           "arrowhead": 0,
           "arrowwidth": 1
          },
          "autotypenumbers": "strict",
          "coloraxis": {
           "colorbar": {
            "outlinewidth": 0,
            "ticks": ""
           }
          },
          "colorscale": {
           "diverging": [
            [
             0,
             "#8e0152"
            ],
            [
             0.1,
             "#c51b7d"
            ],
            [
             0.2,
             "#de77ae"
            ],
            [
             0.3,
             "#f1b6da"
            ],
            [
             0.4,
             "#fde0ef"
            ],
            [
             0.5,
             "#f7f7f7"
            ],
            [
             0.6,
             "#e6f5d0"
            ],
            [
             0.7,
             "#b8e186"
            ],
            [
             0.8,
             "#7fbc41"
            ],
            [
             0.9,
             "#4d9221"
            ],
            [
             1,
             "#276419"
            ]
           ],
           "sequential": [
            [
             0,
             "#0d0887"
            ],
            [
             0.1111111111111111,
             "#46039f"
            ],
            [
             0.2222222222222222,
             "#7201a8"
            ],
            [
             0.3333333333333333,
             "#9c179e"
            ],
            [
             0.4444444444444444,
             "#bd3786"
            ],
            [
             0.5555555555555556,
             "#d8576b"
            ],
            [
             0.6666666666666666,
             "#ed7953"
            ],
            [
             0.7777777777777778,
             "#fb9f3a"
            ],
            [
             0.8888888888888888,
             "#fdca26"
            ],
            [
             1,
             "#f0f921"
            ]
           ],
           "sequentialminus": [
            [
             0,
             "#0d0887"
            ],
            [
             0.1111111111111111,
             "#46039f"
            ],
            [
             0.2222222222222222,
             "#7201a8"
            ],
            [
             0.3333333333333333,
             "#9c179e"
            ],
            [
             0.4444444444444444,
             "#bd3786"
            ],
            [
             0.5555555555555556,
             "#d8576b"
            ],
            [
             0.6666666666666666,
             "#ed7953"
            ],
            [
             0.7777777777777778,
             "#fb9f3a"
            ],
            [
             0.8888888888888888,
             "#fdca26"
            ],
            [
             1,
             "#f0f921"
            ]
           ]
          },
          "colorway": [
           "#636efa",
           "#EF553B",
           "#00cc96",
           "#ab63fa",
           "#FFA15A",
           "#19d3f3",
           "#FF6692",
           "#B6E880",
           "#FF97FF",
           "#FECB52"
          ],
          "font": {
           "color": "#2a3f5f"
          },
          "geo": {
           "bgcolor": "white",
           "lakecolor": "white",
           "landcolor": "#E5ECF6",
           "showlakes": true,
           "showland": true,
           "subunitcolor": "white"
          },
          "hoverlabel": {
           "align": "left"
          },
          "hovermode": "closest",
          "mapbox": {
           "style": "light"
          },
          "paper_bgcolor": "white",
          "plot_bgcolor": "#E5ECF6",
          "polar": {
           "angularaxis": {
            "gridcolor": "white",
            "linecolor": "white",
            "ticks": ""
           },
           "bgcolor": "#E5ECF6",
           "radialaxis": {
            "gridcolor": "white",
            "linecolor": "white",
            "ticks": ""
           }
          },
          "scene": {
           "xaxis": {
            "backgroundcolor": "#E5ECF6",
            "gridcolor": "white",
            "gridwidth": 2,
            "linecolor": "white",
            "showbackground": true,
            "ticks": "",
            "zerolinecolor": "white"
           },
           "yaxis": {
            "backgroundcolor": "#E5ECF6",
            "gridcolor": "white",
            "gridwidth": 2,
            "linecolor": "white",
            "showbackground": true,
            "ticks": "",
            "zerolinecolor": "white"
           },
           "zaxis": {
            "backgroundcolor": "#E5ECF6",
            "gridcolor": "white",
            "gridwidth": 2,
            "linecolor": "white",
            "showbackground": true,
            "ticks": "",
            "zerolinecolor": "white"
           }
          },
          "shapedefaults": {
           "line": {
            "color": "#2a3f5f"
           }
          },
          "ternary": {
           "aaxis": {
            "gridcolor": "white",
            "linecolor": "white",
            "ticks": ""
           },
           "baxis": {
            "gridcolor": "white",
            "linecolor": "white",
            "ticks": ""
           },
           "bgcolor": "#E5ECF6",
           "caxis": {
            "gridcolor": "white",
            "linecolor": "white",
            "ticks": ""
           }
          },
          "title": {
           "x": 0.05
          },
          "xaxis": {
           "automargin": true,
           "gridcolor": "white",
           "linecolor": "white",
           "ticks": "",
           "title": {
            "standoff": 15
           },
           "zerolinecolor": "white",
           "zerolinewidth": 2
          },
          "yaxis": {
           "automargin": true,
           "gridcolor": "white",
           "linecolor": "white",
           "ticks": "",
           "title": {
            "standoff": 15
           },
           "zerolinecolor": "white",
           "zerolinewidth": 2
          }
         }
        },
        "xaxis": {
         "anchor": "y",
         "domain": [
          0,
          1
         ],
         "title": {
          "text": "Standard Error"
         }
        },
        "yaxis": {
         "anchor": "x",
         "domain": [
          0,
          1
         ],
         "title": {
          "text": "count"
         }
        }
       }
      },
      "text/html": [
       "<div>                            <div id=\"caeaad33-7da4-4db5-92a2-82c2bf4b2696\" class=\"plotly-graph-div\" style=\"height:525px; width:100%;\"></div>            <script type=\"text/javascript\">                require([\"plotly\"], function(Plotly) {                    window.PLOTLYENV=window.PLOTLYENV || {};                                    if (document.getElementById(\"caeaad33-7da4-4db5-92a2-82c2bf4b2696\")) {                    Plotly.newPlot(                        \"caeaad33-7da4-4db5-92a2-82c2bf4b2696\",                        [{\"alignmentgroup\": \"True\", \"bingroup\": \"x\", \"hovertemplate\": \"Standard Error=%{x}<br>count=%{y}<extra></extra>\", \"legendgroup\": \"\", \"marker\": {\"color\": \"#636efa\"}, \"name\": \"\", \"offsetgroup\": \"\", \"orientation\": \"v\", \"showlegend\": false, \"type\": \"histogram\", \"x\": [0.032, 0.035, 0.036000000000000004, 0.059000000000000004, 0.027000000000000003, 0.035, 0.036000000000000004, 0.037000000000000005, 0.04, 0.036000000000000004, 0.040999999999999995, 0.034, 0.04, 0.042, 0.04, 0.055999999999999994, 0.038, 0.049, 0.049, 0.034, 0.037000000000000005, 0.068, 0.044000000000000004, 0.038, 0.039, 0.055999999999999994, 0.042, 0.045, 0.043, 0.073, 0.046, 0.043, 0.059000000000000004, 0.040999999999999995, 0.043, 0.053, 0.156, 0.045, 0.049, 0.038, 0.073, 0.068, 0.046, 0.04, 0.047, 0.057, 0.066, 0.053, 0.065, 0.059000000000000004, 0.036000000000000004, 0.061, 0.047, 0.047, 0.083, 0.04, 0.055999999999999994, 0.055, 0.08199999999999999, 0.048, 0.052000000000000005, 0.042, 0.075, 0.05, 0.046, 0.057, 0.046, 0.046, 0.053, 0.042, 0.092, 0.054000000000000006, 0.071, 0.051, 0.047, 0.033, 0.049, 0.034, 0.039, 0.076, 0.049, 0.055999999999999994, 0.09699999999999999, 0.028999999999999998, 0.078, 0.057999999999999996, 0.07, 0.054000000000000006, 0.07200000000000001, 0.04, 0.07400000000000001, 0.068, 0.059000000000000004, 0.051, 0.067, 0.102, 0.036000000000000004, 0.08900000000000001, 0.073, 0.045, 0.046, 0.09, 0.06, 0.046, 0.068, 0.06, 0.064, 0.054000000000000006, 0.053, 0.052000000000000005, 0.059000000000000004, 0.075, 0.081, 0.067, 0.10300000000000001, 0.052000000000000005, 0.08199999999999999, 0.055, 0.073, 0.106, 0.07200000000000001, 0.057999999999999996, 0.055, 0.064, 0.067, 0.052000000000000005, 0.062, 0.094, 0.066, 0.071, 0.084, 0.045, 0.051, 0.07, 0.07200000000000001, 0.077, 0.069, 0.077, 0.026000000000000002, 0.107, 0.07, 0.071, 0.17300000000000001, 0.092, 0.12, 0.07400000000000001, 0.068, 0.057999999999999996, 0.038], \"xaxis\": \"x\", \"yaxis\": \"y\"}],                        {\"barmode\": \"relative\", \"legend\": {\"tracegroupgap\": 0}, \"margin\": {\"t\": 60}, \"template\": {\"data\": {\"bar\": [{\"error_x\": {\"color\": \"#2a3f5f\"}, \"error_y\": {\"color\": \"#2a3f5f\"}, \"marker\": {\"line\": {\"color\": \"#E5ECF6\", \"width\": 0.5}}, \"type\": \"bar\"}], \"barpolar\": [{\"marker\": {\"line\": {\"color\": \"#E5ECF6\", \"width\": 0.5}}, \"type\": \"barpolar\"}], \"carpet\": [{\"aaxis\": {\"endlinecolor\": \"#2a3f5f\", \"gridcolor\": \"white\", \"linecolor\": \"white\", \"minorgridcolor\": \"white\", \"startlinecolor\": \"#2a3f5f\"}, \"baxis\": {\"endlinecolor\": \"#2a3f5f\", \"gridcolor\": \"white\", \"linecolor\": \"white\", \"minorgridcolor\": \"white\", \"startlinecolor\": \"#2a3f5f\"}, \"type\": \"carpet\"}], \"choropleth\": [{\"colorbar\": {\"outlinewidth\": 0, \"ticks\": \"\"}, \"type\": \"choropleth\"}], \"contour\": [{\"colorbar\": {\"outlinewidth\": 0, \"ticks\": \"\"}, \"colorscale\": [[0.0, \"#0d0887\"], [0.1111111111111111, \"#46039f\"], [0.2222222222222222, \"#7201a8\"], [0.3333333333333333, \"#9c179e\"], [0.4444444444444444, \"#bd3786\"], [0.5555555555555556, \"#d8576b\"], [0.6666666666666666, \"#ed7953\"], [0.7777777777777778, \"#fb9f3a\"], [0.8888888888888888, \"#fdca26\"], [1.0, \"#f0f921\"]], \"type\": \"contour\"}], \"contourcarpet\": [{\"colorbar\": {\"outlinewidth\": 0, \"ticks\": \"\"}, \"type\": \"contourcarpet\"}], \"heatmap\": [{\"colorbar\": {\"outlinewidth\": 0, \"ticks\": \"\"}, \"colorscale\": [[0.0, \"#0d0887\"], [0.1111111111111111, \"#46039f\"], [0.2222222222222222, \"#7201a8\"], [0.3333333333333333, \"#9c179e\"], [0.4444444444444444, \"#bd3786\"], [0.5555555555555556, \"#d8576b\"], [0.6666666666666666, \"#ed7953\"], [0.7777777777777778, \"#fb9f3a\"], [0.8888888888888888, \"#fdca26\"], [1.0, \"#f0f921\"]], \"type\": \"heatmap\"}], \"heatmapgl\": [{\"colorbar\": {\"outlinewidth\": 0, \"ticks\": \"\"}, \"colorscale\": [[0.0, \"#0d0887\"], [0.1111111111111111, \"#46039f\"], [0.2222222222222222, \"#7201a8\"], [0.3333333333333333, \"#9c179e\"], [0.4444444444444444, \"#bd3786\"], [0.5555555555555556, \"#d8576b\"], [0.6666666666666666, \"#ed7953\"], [0.7777777777777778, \"#fb9f3a\"], [0.8888888888888888, \"#fdca26\"], [1.0, \"#f0f921\"]], \"type\": \"heatmapgl\"}], \"histogram\": [{\"marker\": {\"colorbar\": {\"outlinewidth\": 0, \"ticks\": \"\"}}, \"type\": \"histogram\"}], \"histogram2d\": [{\"colorbar\": {\"outlinewidth\": 0, \"ticks\": \"\"}, \"colorscale\": [[0.0, \"#0d0887\"], [0.1111111111111111, \"#46039f\"], [0.2222222222222222, \"#7201a8\"], [0.3333333333333333, \"#9c179e\"], [0.4444444444444444, \"#bd3786\"], [0.5555555555555556, \"#d8576b\"], [0.6666666666666666, \"#ed7953\"], [0.7777777777777778, \"#fb9f3a\"], [0.8888888888888888, \"#fdca26\"], [1.0, \"#f0f921\"]], \"type\": \"histogram2d\"}], \"histogram2dcontour\": [{\"colorbar\": {\"outlinewidth\": 0, \"ticks\": \"\"}, \"colorscale\": [[0.0, \"#0d0887\"], [0.1111111111111111, \"#46039f\"], [0.2222222222222222, \"#7201a8\"], [0.3333333333333333, \"#9c179e\"], [0.4444444444444444, \"#bd3786\"], [0.5555555555555556, \"#d8576b\"], [0.6666666666666666, \"#ed7953\"], [0.7777777777777778, \"#fb9f3a\"], [0.8888888888888888, \"#fdca26\"], [1.0, \"#f0f921\"]], \"type\": \"histogram2dcontour\"}], \"mesh3d\": [{\"colorbar\": {\"outlinewidth\": 0, \"ticks\": \"\"}, \"type\": \"mesh3d\"}], \"parcoords\": [{\"line\": {\"colorbar\": {\"outlinewidth\": 0, \"ticks\": \"\"}}, \"type\": \"parcoords\"}], \"pie\": [{\"automargin\": true, \"type\": \"pie\"}], \"scatter\": [{\"marker\": {\"colorbar\": {\"outlinewidth\": 0, \"ticks\": \"\"}}, \"type\": \"scatter\"}], \"scatter3d\": [{\"line\": {\"colorbar\": {\"outlinewidth\": 0, \"ticks\": \"\"}}, \"marker\": {\"colorbar\": {\"outlinewidth\": 0, \"ticks\": \"\"}}, \"type\": \"scatter3d\"}], \"scattercarpet\": [{\"marker\": {\"colorbar\": {\"outlinewidth\": 0, \"ticks\": \"\"}}, \"type\": \"scattercarpet\"}], \"scattergeo\": [{\"marker\": {\"colorbar\": {\"outlinewidth\": 0, \"ticks\": \"\"}}, \"type\": \"scattergeo\"}], \"scattergl\": [{\"marker\": {\"colorbar\": {\"outlinewidth\": 0, \"ticks\": \"\"}}, \"type\": \"scattergl\"}], \"scattermapbox\": [{\"marker\": {\"colorbar\": {\"outlinewidth\": 0, \"ticks\": \"\"}}, \"type\": \"scattermapbox\"}], \"scatterpolar\": [{\"marker\": {\"colorbar\": {\"outlinewidth\": 0, \"ticks\": \"\"}}, \"type\": \"scatterpolar\"}], \"scatterpolargl\": [{\"marker\": {\"colorbar\": {\"outlinewidth\": 0, \"ticks\": \"\"}}, \"type\": \"scatterpolargl\"}], \"scatterternary\": [{\"marker\": {\"colorbar\": {\"outlinewidth\": 0, \"ticks\": \"\"}}, \"type\": \"scatterternary\"}], \"surface\": [{\"colorbar\": {\"outlinewidth\": 0, \"ticks\": \"\"}, \"colorscale\": [[0.0, \"#0d0887\"], [0.1111111111111111, \"#46039f\"], [0.2222222222222222, \"#7201a8\"], [0.3333333333333333, \"#9c179e\"], [0.4444444444444444, \"#bd3786\"], [0.5555555555555556, \"#d8576b\"], [0.6666666666666666, \"#ed7953\"], [0.7777777777777778, \"#fb9f3a\"], [0.8888888888888888, \"#fdca26\"], [1.0, \"#f0f921\"]], \"type\": \"surface\"}], \"table\": [{\"cells\": {\"fill\": {\"color\": \"#EBF0F8\"}, \"line\": {\"color\": \"white\"}}, \"header\": {\"fill\": {\"color\": \"#C8D4E3\"}, \"line\": {\"color\": \"white\"}}, \"type\": \"table\"}]}, \"layout\": {\"annotationdefaults\": {\"arrowcolor\": \"#2a3f5f\", \"arrowhead\": 0, \"arrowwidth\": 1}, \"autotypenumbers\": \"strict\", \"coloraxis\": {\"colorbar\": {\"outlinewidth\": 0, \"ticks\": \"\"}}, \"colorscale\": {\"diverging\": [[0, \"#8e0152\"], [0.1, \"#c51b7d\"], [0.2, \"#de77ae\"], [0.3, \"#f1b6da\"], [0.4, \"#fde0ef\"], [0.5, \"#f7f7f7\"], [0.6, \"#e6f5d0\"], [0.7, \"#b8e186\"], [0.8, \"#7fbc41\"], [0.9, \"#4d9221\"], [1, \"#276419\"]], \"sequential\": [[0.0, \"#0d0887\"], [0.1111111111111111, \"#46039f\"], [0.2222222222222222, \"#7201a8\"], [0.3333333333333333, \"#9c179e\"], [0.4444444444444444, \"#bd3786\"], [0.5555555555555556, \"#d8576b\"], [0.6666666666666666, \"#ed7953\"], [0.7777777777777778, \"#fb9f3a\"], [0.8888888888888888, \"#fdca26\"], [1.0, \"#f0f921\"]], \"sequentialminus\": [[0.0, \"#0d0887\"], [0.1111111111111111, \"#46039f\"], [0.2222222222222222, \"#7201a8\"], [0.3333333333333333, \"#9c179e\"], [0.4444444444444444, \"#bd3786\"], [0.5555555555555556, \"#d8576b\"], [0.6666666666666666, \"#ed7953\"], [0.7777777777777778, \"#fb9f3a\"], [0.8888888888888888, \"#fdca26\"], [1.0, \"#f0f921\"]]}, \"colorway\": [\"#636efa\", \"#EF553B\", \"#00cc96\", \"#ab63fa\", \"#FFA15A\", \"#19d3f3\", \"#FF6692\", \"#B6E880\", \"#FF97FF\", \"#FECB52\"], \"font\": {\"color\": \"#2a3f5f\"}, \"geo\": {\"bgcolor\": \"white\", \"lakecolor\": \"white\", \"landcolor\": \"#E5ECF6\", \"showlakes\": true, \"showland\": true, \"subunitcolor\": \"white\"}, \"hoverlabel\": {\"align\": \"left\"}, \"hovermode\": \"closest\", \"mapbox\": {\"style\": \"light\"}, \"paper_bgcolor\": \"white\", \"plot_bgcolor\": \"#E5ECF6\", \"polar\": {\"angularaxis\": {\"gridcolor\": \"white\", \"linecolor\": \"white\", \"ticks\": \"\"}, \"bgcolor\": \"#E5ECF6\", \"radialaxis\": {\"gridcolor\": \"white\", \"linecolor\": \"white\", \"ticks\": \"\"}}, \"scene\": {\"xaxis\": {\"backgroundcolor\": \"#E5ECF6\", \"gridcolor\": \"white\", \"gridwidth\": 2, \"linecolor\": \"white\", \"showbackground\": true, \"ticks\": \"\", \"zerolinecolor\": \"white\"}, \"yaxis\": {\"backgroundcolor\": \"#E5ECF6\", \"gridcolor\": \"white\", \"gridwidth\": 2, \"linecolor\": \"white\", \"showbackground\": true, \"ticks\": \"\", \"zerolinecolor\": \"white\"}, \"zaxis\": {\"backgroundcolor\": \"#E5ECF6\", \"gridcolor\": \"white\", \"gridwidth\": 2, \"linecolor\": \"white\", \"showbackground\": true, \"ticks\": \"\", \"zerolinecolor\": \"white\"}}, \"shapedefaults\": {\"line\": {\"color\": \"#2a3f5f\"}}, \"ternary\": {\"aaxis\": {\"gridcolor\": \"white\", \"linecolor\": \"white\", \"ticks\": \"\"}, \"baxis\": {\"gridcolor\": \"white\", \"linecolor\": \"white\", \"ticks\": \"\"}, \"bgcolor\": \"#E5ECF6\", \"caxis\": {\"gridcolor\": \"white\", \"linecolor\": \"white\", \"ticks\": \"\"}}, \"title\": {\"x\": 0.05}, \"xaxis\": {\"automargin\": true, \"gridcolor\": \"white\", \"linecolor\": \"white\", \"ticks\": \"\", \"title\": {\"standoff\": 15}, \"zerolinecolor\": \"white\", \"zerolinewidth\": 2}, \"yaxis\": {\"automargin\": true, \"gridcolor\": \"white\", \"linecolor\": \"white\", \"ticks\": \"\", \"title\": {\"standoff\": 15}, \"zerolinecolor\": \"white\", \"zerolinewidth\": 2}}}, \"xaxis\": {\"anchor\": \"y\", \"domain\": [0.0, 1.0], \"title\": {\"text\": \"Standard Error\"}}, \"yaxis\": {\"anchor\": \"x\", \"domain\": [0.0, 1.0], \"title\": {\"text\": \"count\"}}},                        {\"responsive\": true}                    ).then(function(){\n",
       "                            \n",
       "var gd = document.getElementById('caeaad33-7da4-4db5-92a2-82c2bf4b2696');\n",
       "var x = new MutationObserver(function (mutations, observer) {{\n",
       "        var display = window.getComputedStyle(gd).display;\n",
       "        if (!display || display === 'none') {{\n",
       "            console.log([gd, 'removed!']);\n",
       "            Plotly.purge(gd);\n",
       "            observer.disconnect();\n",
       "        }}\n",
       "}});\n",
       "\n",
       "// Listen for the removal of the full notebook cells\n",
       "var notebookContainer = gd.closest('#notebook-container');\n",
       "if (notebookContainer) {{\n",
       "    x.observe(notebookContainer, {childList: true});\n",
       "}}\n",
       "\n",
       "// Listen for the clearing of the current output cell\n",
       "var outputEl = gd.closest('.output');\n",
       "if (outputEl) {{\n",
       "    x.observe(outputEl, {childList: true});\n",
       "}}\n",
       "\n",
       "                        })                };                });            </script>        </div>"
      ]
     },
     "metadata": {},
     "output_type": "display_data"
    }
   ],
   "source": [
    "fig = px.histogram(df, x=\"Standard Error\")\n",
    "fig.show()"
   ]
  },
  {
   "cell_type": "markdown",
   "metadata": {},
   "source": [
    "# Happiness Score and Standard Error of sampling seem to be distributed normally (approx). Also, the sampling error (standard error) seem to be very low and hence reflect that the overall happiness score might not be very different from what has been found (preceived) in surveys"
   ]
  },
  {
   "cell_type": "code",
   "execution_count": 92,
   "metadata": {},
   "outputs": [
    {
     "data": {
      "application/vnd.plotly.v1+json": {
       "config": {
        "plotlyServerURL": "https://plot.ly"
       },
       "data": [
        {
         "hovertemplate": "<b>%{hovertext}</b><br><br>Region=Western Europe<br>Economy (GDP per Capita)=%{x}<br>Happiness Score=%{marker.size}<extra></extra>",
         "hovertext": [
          "Finland",
          "Denmark",
          "Switzerland",
          "Iceland",
          "Netherlands",
          "Norway",
          "Sweden",
          "Luxembourg",
          "Austria",
          "Germany",
          "Ireland",
          "United Kingdom",
          "Belgium",
          "France",
          "Malta",
          "Spain",
          "Italy",
          "Cyprus",
          "Portugal",
          "Greece",
          "North Cyprus"
         ],
         "legendgroup": "Western Europe",
         "marker": {
          "color": "#636efa",
          "size": [
           7.8420000000000005,
           7.62,
           7.571000000000001,
           7.553999999999999,
           7.4639999999999995,
           7.392,
           7.3629999999999995,
           7.324,
           7.268,
           7.155,
           7.085,
           7.064,
           6.834,
           6.69,
           6.602,
           6.4910000000000005,
           6.483,
           6.223,
           5.928999999999999,
           5.723,
           5.5360000000000005
          ],
          "sizemode": "area",
          "sizeref": 0.019605,
          "symbol": "circle"
         },
         "mode": "markers",
         "name": "Western Europe",
         "orientation": "v",
         "showlegend": true,
         "type": "scatter",
         "x": [
          1.446,
          1.5019999999999998,
          1.5659999999999998,
          1.482,
          1.501,
          1.5430000000000001,
          1.4780000000000002,
          1.751,
          1.492,
          1.48,
          1.6440000000000001,
          1.423,
          1.463,
          1.421,
          1.411,
          1.375,
          1.393,
          1.3769999999999998,
          1.3230000000000002,
          1.273,
          1.3769999999999998
         ],
         "xaxis": "x",
         "y": [
          7.8420000000000005,
          7.62,
          7.571000000000001,
          7.553999999999999,
          7.4639999999999995,
          7.392,
          7.3629999999999995,
          7.324,
          7.268,
          7.155,
          7.085,
          7.064,
          6.834,
          6.69,
          6.602,
          6.4910000000000005,
          6.483,
          6.223,
          5.928999999999999,
          5.723,
          5.5360000000000005
         ],
         "yaxis": "y"
        },
        {
         "hovertemplate": "<b>%{hovertext}</b><br><br>Region=North America and ANZ<br>Economy (GDP per Capita)=%{x}<br>Happiness Score=%{marker.size}<extra></extra>",
         "hovertext": [
          "New Zealand",
          "Australia",
          "Canada",
          "United States"
         ],
         "legendgroup": "North America and ANZ",
         "marker": {
          "color": "#EF553B",
          "size": [
           7.277,
           7.183,
           7.103,
           6.9510000000000005
          ],
          "sizemode": "area",
          "sizeref": 0.019605,
          "symbol": "circle"
         },
         "mode": "markers",
         "name": "North America and ANZ",
         "orientation": "v",
         "showlegend": true,
         "type": "scatter",
         "x": [
          1.4,
          1.453,
          1.4469999999999998,
          1.5330000000000001
         ],
         "xaxis": "x",
         "y": [
          7.277,
          7.183,
          7.103,
          6.9510000000000005
         ],
         "yaxis": "y"
        },
        {
         "hovertemplate": "<b>%{hovertext}</b><br><br>Region=Middle East and North Africa<br>Economy (GDP per Capita)=%{x}<br>Happiness Score=%{marker.size}<extra></extra>",
         "hovertext": [
          "Israel",
          "Bahrain",
          "United Arab Emirates",
          "Saudi Arabia",
          "Kuwait",
          "Libya",
          "Turkey",
          "Morocco",
          "Algeria",
          "Iraq",
          "Iran",
          "Tunisia",
          "Lebanon",
          "Palestinian Territories",
          "Jordan",
          "Egypt",
          "Yemen"
         ],
         "legendgroup": "Middle East and North Africa",
         "marker": {
          "color": "#00cc96",
          "size": [
           7.157,
           6.647,
           6.561,
           6.494,
           6.106,
           5.41,
           4.948,
           4.918,
           4.887,
           4.854,
           4.721,
           4.596,
           4.584,
           4.5169999999999995,
           4.395,
           4.283,
           3.658
          ],
          "sizemode": "area",
          "sizeref": 0.019605,
          "symbol": "circle"
         },
         "mode": "markers",
         "name": "Middle East and North Africa",
         "orientation": "v",
         "showlegend": true,
         "type": "scatter",
         "x": [
          1.376,
          1.409,
          1.555,
          1.435,
          1.4609999999999999,
          1.044,
          1.26,
          0.792,
          0.946,
          0.91,
          1.03,
          0.919,
          1.045,
          0.6459999999999999,
          0.89,
          0.9540000000000001,
          0.32899999999999996
         ],
         "xaxis": "x",
         "y": [
          7.157,
          6.647,
          6.561,
          6.494,
          6.106,
          5.41,
          4.948,
          4.918,
          4.887,
          4.854,
          4.721,
          4.596,
          4.584,
          4.5169999999999995,
          4.395,
          4.283,
          3.658
         ],
         "yaxis": "y"
        },
        {
         "hovertemplate": "<b>%{hovertext}</b><br><br>Region=Latin America and Caribbean<br>Economy (GDP per Capita)=%{x}<br>Happiness Score=%{marker.size}<extra></extra>",
         "hovertext": [
          "Costa Rica",
          "Guatemala",
          "Uruguay",
          "Brazil",
          "Mexico",
          "Jamaica",
          "Panama",
          "Chile",
          "El Salvador",
          "Colombia",
          "Nicaragua",
          "Argentina",
          "Honduras",
          "Peru",
          "Ecuador",
          "Bolivia",
          "Paraguay",
          "Dominican Republic",
          "Venezuela",
          "Haiti"
         ],
         "legendgroup": "Latin America and Caribbean",
         "marker": {
          "color": "#ab63fa",
          "size": [
           7.069,
           6.435,
           6.431,
           6.33,
           6.317,
           6.309,
           6.18,
           6.172000000000001,
           6.061,
           6.0120000000000005,
           5.972,
           5.928999999999999,
           5.919,
           5.84,
           5.763999999999999,
           5.716,
           5.653,
           5.545,
           4.8919999999999995,
           3.615
          ],
          "sizemode": "area",
          "sizeref": 0.019605,
          "symbol": "circle"
         },
         "mode": "markers",
         "name": "Latin America and Caribbean",
         "orientation": "v",
         "showlegend": true,
         "type": "scatter",
         "x": [
          1.1340000000000001,
          0.845,
          1.1640000000000001,
          1.028,
          1.126,
          0.8909999999999999,
          1.298,
          1.2,
          0.845,
          1.021,
          0.693,
          1.162,
          0.703,
          0.986,
          0.935,
          0.8420000000000001,
          0.983,
          1.1059999999999999,
          0.852,
          0.294
         ],
         "xaxis": "x",
         "y": [
          7.069,
          6.435,
          6.431,
          6.33,
          6.317,
          6.309,
          6.18,
          6.172000000000001,
          6.061,
          6.0120000000000005,
          5.972,
          5.928999999999999,
          5.919,
          5.84,
          5.763999999999999,
          5.716,
          5.653,
          5.545,
          4.8919999999999995,
          3.615
         ],
         "yaxis": "y"
        },
        {
         "hovertemplate": "<b>%{hovertext}</b><br><br>Region=Central and Eastern Europe<br>Economy (GDP per Capita)=%{x}<br>Happiness Score=%{marker.size}<extra></extra>",
         "hovertext": [
          "Czech Republic",
          "Slovenia",
          "Kosovo",
          "Slovakia",
          "Lithuania",
          "Estonia",
          "Poland",
          "Romania",
          "Serbia",
          "Latvia",
          "Hungary",
          "Croatia",
          "Bosnia and Herzegovina",
          "Montenegro",
          "Bulgaria",
          "Albania",
          "North Macedonia"
         ],
         "legendgroup": "Central and Eastern Europe",
         "marker": {
          "color": "#FFA15A",
          "size": [
           6.965,
           6.461,
           6.372000000000001,
           6.331,
           6.255,
           6.189,
           6.166,
           6.14,
           6.077999999999999,
           6.032,
           5.992000000000001,
           5.882000000000001,
           5.813,
           5.581,
           5.266,
           5.117,
           5.101
          ],
          "sizemode": "area",
          "sizeref": 0.019605,
          "symbol": "circle"
         },
         "mode": "markers",
         "name": "Central and Eastern Europe",
         "orientation": "v",
         "showlegend": true,
         "type": "scatter",
         "x": [
          1.37,
          1.36,
          0.937,
          1.304,
          1.35,
          1.344,
          1.3090000000000002,
          1.275,
          1.101,
          1.285,
          1.301,
          1.251,
          1.032,
          1.155,
          1.181,
          1.008,
          1.068
         ],
         "xaxis": "x",
         "y": [
          6.965,
          6.461,
          6.372000000000001,
          6.331,
          6.255,
          6.189,
          6.166,
          6.14,
          6.077999999999999,
          6.032,
          5.992000000000001,
          5.882000000000001,
          5.813,
          5.581,
          5.266,
          5.117,
          5.101
         ],
         "yaxis": "y"
        },
        {
         "hovertemplate": "<b>%{hovertext}</b><br><br>Region=East Asia<br>Economy (GDP per Capita)=%{x}<br>Happiness Score=%{marker.size}<extra></extra>",
         "hovertext": [
          "Taiwan Province of China",
          "Japan",
          "South Korea",
          "Mongolia",
          "Hong Kong S.A.R. of China",
          "China"
         ],
         "legendgroup": "East Asia",
         "marker": {
          "color": "#19d3f3",
          "size": [
           6.584,
           5.94,
           5.845,
           5.6770000000000005,
           5.477,
           5.3389999999999995
          ],
          "sizemode": "area",
          "sizeref": 0.019605,
          "symbol": "circle"
         },
         "mode": "markers",
         "name": "East Asia",
         "orientation": "v",
         "showlegend": true,
         "type": "scatter",
         "x": [
          1.48,
          1.389,
          1.403,
          0.966,
          1.525,
          1.061
         ],
         "xaxis": "x",
         "y": [
          6.584,
          5.94,
          5.845,
          5.6770000000000005,
          5.477,
          5.3389999999999995
         ],
         "yaxis": "y"
        },
        {
         "hovertemplate": "<b>%{hovertext}</b><br><br>Region=Southeast Asia<br>Economy (GDP per Capita)=%{x}<br>Happiness Score=%{marker.size}<extra></extra>",
         "hovertext": [
          "Singapore",
          "Thailand",
          "Philippines",
          "Vietnam",
          "Malaysia",
          "Indonesia",
          "Laos",
          "Cambodia",
          "Myanmar"
         ],
         "legendgroup": "Southeast Asia",
         "marker": {
          "color": "#FF6692",
          "size": [
           6.377000000000001,
           5.985,
           5.88,
           5.4110000000000005,
           5.3839999999999995,
           5.345,
           5.03,
           4.83,
           4.426
          ],
          "sizemode": "area",
          "sizeref": 0.019605,
          "symbol": "circle"
         },
         "mode": "markers",
         "name": "Southeast Asia",
         "orientation": "v",
         "showlegend": true,
         "type": "scatter",
         "x": [
          1.695,
          1.107,
          0.853,
          0.8170000000000001,
          1.2590000000000001,
          0.9540000000000001,
          0.8079999999999999,
          0.603,
          0.6659999999999999
         ],
         "xaxis": "x",
         "y": [
          6.377000000000001,
          5.985,
          5.88,
          5.4110000000000005,
          5.3839999999999995,
          5.345,
          5.03,
          4.83,
          4.426
         ],
         "yaxis": "y"
        },
        {
         "hovertemplate": "<b>%{hovertext}</b><br><br>Region=Commonwealth of Independent States<br>Economy (GDP per Capita)=%{x}<br>Happiness Score=%{marker.size}<extra></extra>",
         "hovertext": [
          "Uzbekistan",
          "Kazakhstan",
          "Moldova",
          "Kyrgyzstan",
          "Belarus",
          "Russia",
          "Tajikistan",
          "Armenia",
          "Azerbaijan",
          "Turkmenistan",
          "Georgia",
          "Ukraine"
         ],
         "legendgroup": "Commonwealth of Independent States",
         "marker": {
          "color": "#B6E880",
          "size": [
           6.178999999999999,
           6.152,
           5.766,
           5.744,
           5.534,
           5.477,
           5.466,
           5.2829999999999995,
           5.171,
           5.066,
           4.891,
           4.875
          ],
          "sizemode": "area",
          "sizeref": 0.019605,
          "symbol": "circle"
         },
         "mode": "markers",
         "name": "Commonwealth of Independent States",
         "orientation": "v",
         "showlegend": true,
         "type": "scatter",
         "x": [
          0.769,
          1.23,
          0.985,
          0.665,
          1.124,
          1.2409999999999999,
          0.508,
          0.996,
          1.025,
          1.046,
          1.03,
          0.9790000000000001
         ],
         "xaxis": "x",
         "y": [
          6.178999999999999,
          6.152,
          5.766,
          5.744,
          5.534,
          5.477,
          5.466,
          5.2829999999999995,
          5.171,
          5.066,
          4.891,
          4.875
         ],
         "yaxis": "y"
        },
        {
         "hovertemplate": "<b>%{hovertext}</b><br><br>Region=Sub-Saharan Africa<br>Economy (GDP per Capita)=%{x}<br>Happiness Score=%{marker.size}<extra></extra>",
         "hovertext": [
          "Mauritius",
          "Congo (Brazzaville)",
          "Ivory Coast",
          "Cameroon",
          "Senegal",
          "Ghana",
          "Niger",
          "Gambia",
          "Benin",
          "Guinea",
          "South Africa",
          "Gabon",
          "Burkina Faso",
          "Mozambique",
          "Nigeria",
          "Mali",
          "Uganda",
          "Liberia",
          "Kenya",
          "Namibia",
          "Chad",
          "Swaziland",
          "Comoros",
          "Ethiopia",
          "Mauritania",
          "Madagascar",
          "Togo",
          "Zambia",
          "Sierra Leone",
          "Burundi",
          "Tanzania",
          "Malawi",
          "Lesotho",
          "Botswana",
          "Rwanda",
          "Zimbabwe"
         ],
         "legendgroup": "Sub-Saharan Africa",
         "marker": {
          "color": "#FF97FF",
          "size": [
           6.0489999999999995,
           5.3420000000000005,
           5.306,
           5.142,
           5.132000000000001,
           5.088,
           5.074,
           5.051,
           5.045,
           4.984,
           4.956,
           4.852,
           4.834,
           4.794,
           4.7589999999999995,
           4.723,
           4.636,
           4.625,
           4.607,
           4.574,
           4.355,
           4.308,
           4.289,
           4.275,
           4.227,
           4.208,
           4.107,
           4.073,
           3.8489999999999998,
           3.775,
           3.623,
           3.6,
           3.512,
           3.467,
           3.415,
           3.145
          ],
          "sizemode": "area",
          "sizeref": 0.019605,
          "symbol": "circle"
         },
         "mode": "markers",
         "name": "Sub-Saharan Africa",
         "orientation": "v",
         "showlegend": true,
         "type": "scatter",
         "x": [
          1.178,
          0.518,
          0.669,
          0.5429999999999999,
          0.518,
          0.68,
          0.162,
          0.36700000000000005,
          0.507,
          0.42,
          0.9670000000000001,
          1.037,
          0.364,
          0.183,
          0.6629999999999999,
          0.387,
          0.364,
          0.228,
          0.603,
          0.882,
          0.255,
          0.8490000000000001,
          0.488,
          0.37,
          0.6659999999999999,
          0.266,
          0.254,
          0.528,
          0.27899999999999997,
          0,
          0.433,
          0.113,
          0.451,
          1.099,
          0.364,
          0.457
         ],
         "xaxis": "x",
         "y": [
          6.0489999999999995,
          5.3420000000000005,
          5.306,
          5.142,
          5.132000000000001,
          5.088,
          5.074,
          5.051,
          5.045,
          4.984,
          4.956,
          4.852,
          4.834,
          4.794,
          4.7589999999999995,
          4.723,
          4.636,
          4.625,
          4.607,
          4.574,
          4.355,
          4.308,
          4.289,
          4.275,
          4.227,
          4.208,
          4.107,
          4.073,
          3.8489999999999998,
          3.775,
          3.623,
          3.6,
          3.512,
          3.467,
          3.415,
          3.145
         ],
         "yaxis": "y"
        },
        {
         "hovertemplate": "<b>%{hovertext}</b><br><br>Region=South Asia<br>Economy (GDP per Capita)=%{x}<br>Happiness Score=%{marker.size}<extra></extra>",
         "hovertext": [
          "Nepal",
          "Maldives",
          "Bangladesh",
          "Pakistan",
          "Sri Lanka",
          "India",
          "Afghanistan"
         ],
         "legendgroup": "South Asia",
         "marker": {
          "color": "#FECB52",
          "size": [
           5.269,
           5.1979999999999995,
           5.025,
           4.934,
           4.325,
           3.819,
           2.523
          ],
          "sizemode": "area",
          "sizeref": 0.019605,
          "symbol": "circle"
         },
         "mode": "markers",
         "name": "South Asia",
         "orientation": "v",
         "showlegend": true,
         "type": "scatter",
         "x": [
          0.519,
          1.115,
          0.635,
          0.637,
          0.99,
          0.741,
          0.37
         ],
         "xaxis": "x",
         "y": [
          5.269,
          5.1979999999999995,
          5.025,
          4.934,
          4.325,
          3.819,
          2.523
         ],
         "yaxis": "y"
        }
       ],
       "layout": {
        "legend": {
         "itemsizing": "constant",
         "title": {
          "text": "Region"
         },
         "tracegroupgap": 0
        },
        "template": {
         "data": {
          "bar": [
           {
            "error_x": {
             "color": "#2a3f5f"
            },
            "error_y": {
             "color": "#2a3f5f"
            },
            "marker": {
             "line": {
              "color": "#E5ECF6",
              "width": 0.5
             }
            },
            "type": "bar"
           }
          ],
          "barpolar": [
           {
            "marker": {
             "line": {
              "color": "#E5ECF6",
              "width": 0.5
             }
            },
            "type": "barpolar"
           }
          ],
          "carpet": [
           {
            "aaxis": {
             "endlinecolor": "#2a3f5f",
             "gridcolor": "white",
             "linecolor": "white",
             "minorgridcolor": "white",
             "startlinecolor": "#2a3f5f"
            },
            "baxis": {
             "endlinecolor": "#2a3f5f",
             "gridcolor": "white",
             "linecolor": "white",
             "minorgridcolor": "white",
             "startlinecolor": "#2a3f5f"
            },
            "type": "carpet"
           }
          ],
          "choropleth": [
           {
            "colorbar": {
             "outlinewidth": 0,
             "ticks": ""
            },
            "type": "choropleth"
           }
          ],
          "contour": [
           {
            "colorbar": {
             "outlinewidth": 0,
             "ticks": ""
            },
            "colorscale": [
             [
              0,
              "#0d0887"
             ],
             [
              0.1111111111111111,
              "#46039f"
             ],
             [
              0.2222222222222222,
              "#7201a8"
             ],
             [
              0.3333333333333333,
              "#9c179e"
             ],
             [
              0.4444444444444444,
              "#bd3786"
             ],
             [
              0.5555555555555556,
              "#d8576b"
             ],
             [
              0.6666666666666666,
              "#ed7953"
             ],
             [
              0.7777777777777778,
              "#fb9f3a"
             ],
             [
              0.8888888888888888,
              "#fdca26"
             ],
             [
              1,
              "#f0f921"
             ]
            ],
            "type": "contour"
           }
          ],
          "contourcarpet": [
           {
            "colorbar": {
             "outlinewidth": 0,
             "ticks": ""
            },
            "type": "contourcarpet"
           }
          ],
          "heatmap": [
           {
            "colorbar": {
             "outlinewidth": 0,
             "ticks": ""
            },
            "colorscale": [
             [
              0,
              "#0d0887"
             ],
             [
              0.1111111111111111,
              "#46039f"
             ],
             [
              0.2222222222222222,
              "#7201a8"
             ],
             [
              0.3333333333333333,
              "#9c179e"
             ],
             [
              0.4444444444444444,
              "#bd3786"
             ],
             [
              0.5555555555555556,
              "#d8576b"
             ],
             [
              0.6666666666666666,
              "#ed7953"
             ],
             [
              0.7777777777777778,
              "#fb9f3a"
             ],
             [
              0.8888888888888888,
              "#fdca26"
             ],
             [
              1,
              "#f0f921"
             ]
            ],
            "type": "heatmap"
           }
          ],
          "heatmapgl": [
           {
            "colorbar": {
             "outlinewidth": 0,
             "ticks": ""
            },
            "colorscale": [
             [
              0,
              "#0d0887"
             ],
             [
              0.1111111111111111,
              "#46039f"
             ],
             [
              0.2222222222222222,
              "#7201a8"
             ],
             [
              0.3333333333333333,
              "#9c179e"
             ],
             [
              0.4444444444444444,
              "#bd3786"
             ],
             [
              0.5555555555555556,
              "#d8576b"
             ],
             [
              0.6666666666666666,
              "#ed7953"
             ],
             [
              0.7777777777777778,
              "#fb9f3a"
             ],
             [
              0.8888888888888888,
              "#fdca26"
             ],
             [
              1,
              "#f0f921"
             ]
            ],
            "type": "heatmapgl"
           }
          ],
          "histogram": [
           {
            "marker": {
             "colorbar": {
              "outlinewidth": 0,
              "ticks": ""
             }
            },
            "type": "histogram"
           }
          ],
          "histogram2d": [
           {
            "colorbar": {
             "outlinewidth": 0,
             "ticks": ""
            },
            "colorscale": [
             [
              0,
              "#0d0887"
             ],
             [
              0.1111111111111111,
              "#46039f"
             ],
             [
              0.2222222222222222,
              "#7201a8"
             ],
             [
              0.3333333333333333,
              "#9c179e"
             ],
             [
              0.4444444444444444,
              "#bd3786"
             ],
             [
              0.5555555555555556,
              "#d8576b"
             ],
             [
              0.6666666666666666,
              "#ed7953"
             ],
             [
              0.7777777777777778,
              "#fb9f3a"
             ],
             [
              0.8888888888888888,
              "#fdca26"
             ],
             [
              1,
              "#f0f921"
             ]
            ],
            "type": "histogram2d"
           }
          ],
          "histogram2dcontour": [
           {
            "colorbar": {
             "outlinewidth": 0,
             "ticks": ""
            },
            "colorscale": [
             [
              0,
              "#0d0887"
             ],
             [
              0.1111111111111111,
              "#46039f"
             ],
             [
              0.2222222222222222,
              "#7201a8"
             ],
             [
              0.3333333333333333,
              "#9c179e"
             ],
             [
              0.4444444444444444,
              "#bd3786"
             ],
             [
              0.5555555555555556,
              "#d8576b"
             ],
             [
              0.6666666666666666,
              "#ed7953"
             ],
             [
              0.7777777777777778,
              "#fb9f3a"
             ],
             [
              0.8888888888888888,
              "#fdca26"
             ],
             [
              1,
              "#f0f921"
             ]
            ],
            "type": "histogram2dcontour"
           }
          ],
          "mesh3d": [
           {
            "colorbar": {
             "outlinewidth": 0,
             "ticks": ""
            },
            "type": "mesh3d"
           }
          ],
          "parcoords": [
           {
            "line": {
             "colorbar": {
              "outlinewidth": 0,
              "ticks": ""
             }
            },
            "type": "parcoords"
           }
          ],
          "pie": [
           {
            "automargin": true,
            "type": "pie"
           }
          ],
          "scatter": [
           {
            "marker": {
             "colorbar": {
              "outlinewidth": 0,
              "ticks": ""
             }
            },
            "type": "scatter"
           }
          ],
          "scatter3d": [
           {
            "line": {
             "colorbar": {
              "outlinewidth": 0,
              "ticks": ""
             }
            },
            "marker": {
             "colorbar": {
              "outlinewidth": 0,
              "ticks": ""
             }
            },
            "type": "scatter3d"
           }
          ],
          "scattercarpet": [
           {
            "marker": {
             "colorbar": {
              "outlinewidth": 0,
              "ticks": ""
             }
            },
            "type": "scattercarpet"
           }
          ],
          "scattergeo": [
           {
            "marker": {
             "colorbar": {
              "outlinewidth": 0,
              "ticks": ""
             }
            },
            "type": "scattergeo"
           }
          ],
          "scattergl": [
           {
            "marker": {
             "colorbar": {
              "outlinewidth": 0,
              "ticks": ""
             }
            },
            "type": "scattergl"
           }
          ],
          "scattermapbox": [
           {
            "marker": {
             "colorbar": {
              "outlinewidth": 0,
              "ticks": ""
             }
            },
            "type": "scattermapbox"
           }
          ],
          "scatterpolar": [
           {
            "marker": {
             "colorbar": {
              "outlinewidth": 0,
              "ticks": ""
             }
            },
            "type": "scatterpolar"
           }
          ],
          "scatterpolargl": [
           {
            "marker": {
             "colorbar": {
              "outlinewidth": 0,
              "ticks": ""
             }
            },
            "type": "scatterpolargl"
           }
          ],
          "scatterternary": [
           {
            "marker": {
             "colorbar": {
              "outlinewidth": 0,
              "ticks": ""
             }
            },
            "type": "scatterternary"
           }
          ],
          "surface": [
           {
            "colorbar": {
             "outlinewidth": 0,
             "ticks": ""
            },
            "colorscale": [
             [
              0,
              "#0d0887"
             ],
             [
              0.1111111111111111,
              "#46039f"
             ],
             [
              0.2222222222222222,
              "#7201a8"
             ],
             [
              0.3333333333333333,
              "#9c179e"
             ],
             [
              0.4444444444444444,
              "#bd3786"
             ],
             [
              0.5555555555555556,
              "#d8576b"
             ],
             [
              0.6666666666666666,
              "#ed7953"
             ],
             [
              0.7777777777777778,
              "#fb9f3a"
             ],
             [
              0.8888888888888888,
              "#fdca26"
             ],
             [
              1,
              "#f0f921"
             ]
            ],
            "type": "surface"
           }
          ],
          "table": [
           {
            "cells": {
             "fill": {
              "color": "#EBF0F8"
             },
             "line": {
              "color": "white"
             }
            },
            "header": {
             "fill": {
              "color": "#C8D4E3"
             },
             "line": {
              "color": "white"
             }
            },
            "type": "table"
           }
          ]
         },
         "layout": {
          "annotationdefaults": {
           "arrowcolor": "#2a3f5f",
           "arrowhead": 0,
           "arrowwidth": 1
          },
          "autotypenumbers": "strict",
          "coloraxis": {
           "colorbar": {
            "outlinewidth": 0,
            "ticks": ""
           }
          },
          "colorscale": {
           "diverging": [
            [
             0,
             "#8e0152"
            ],
            [
             0.1,
             "#c51b7d"
            ],
            [
             0.2,
             "#de77ae"
            ],
            [
             0.3,
             "#f1b6da"
            ],
            [
             0.4,
             "#fde0ef"
            ],
            [
             0.5,
             "#f7f7f7"
            ],
            [
             0.6,
             "#e6f5d0"
            ],
            [
             0.7,
             "#b8e186"
            ],
            [
             0.8,
             "#7fbc41"
            ],
            [
             0.9,
             "#4d9221"
            ],
            [
             1,
             "#276419"
            ]
           ],
           "sequential": [
            [
             0,
             "#0d0887"
            ],
            [
             0.1111111111111111,
             "#46039f"
            ],
            [
             0.2222222222222222,
             "#7201a8"
            ],
            [
             0.3333333333333333,
             "#9c179e"
            ],
            [
             0.4444444444444444,
             "#bd3786"
            ],
            [
             0.5555555555555556,
             "#d8576b"
            ],
            [
             0.6666666666666666,
             "#ed7953"
            ],
            [
             0.7777777777777778,
             "#fb9f3a"
            ],
            [
             0.8888888888888888,
             "#fdca26"
            ],
            [
             1,
             "#f0f921"
            ]
           ],
           "sequentialminus": [
            [
             0,
             "#0d0887"
            ],
            [
             0.1111111111111111,
             "#46039f"
            ],
            [
             0.2222222222222222,
             "#7201a8"
            ],
            [
             0.3333333333333333,
             "#9c179e"
            ],
            [
             0.4444444444444444,
             "#bd3786"
            ],
            [
             0.5555555555555556,
             "#d8576b"
            ],
            [
             0.6666666666666666,
             "#ed7953"
            ],
            [
             0.7777777777777778,
             "#fb9f3a"
            ],
            [
             0.8888888888888888,
             "#fdca26"
            ],
            [
             1,
             "#f0f921"
            ]
           ]
          },
          "colorway": [
           "#636efa",
           "#EF553B",
           "#00cc96",
           "#ab63fa",
           "#FFA15A",
           "#19d3f3",
           "#FF6692",
           "#B6E880",
           "#FF97FF",
           "#FECB52"
          ],
          "font": {
           "color": "#2a3f5f"
          },
          "geo": {
           "bgcolor": "white",
           "lakecolor": "white",
           "landcolor": "#E5ECF6",
           "showlakes": true,
           "showland": true,
           "subunitcolor": "white"
          },
          "hoverlabel": {
           "align": "left"
          },
          "hovermode": "closest",
          "mapbox": {
           "style": "light"
          },
          "paper_bgcolor": "white",
          "plot_bgcolor": "#E5ECF6",
          "polar": {
           "angularaxis": {
            "gridcolor": "white",
            "linecolor": "white",
            "ticks": ""
           },
           "bgcolor": "#E5ECF6",
           "radialaxis": {
            "gridcolor": "white",
            "linecolor": "white",
            "ticks": ""
           }
          },
          "scene": {
           "xaxis": {
            "backgroundcolor": "#E5ECF6",
            "gridcolor": "white",
            "gridwidth": 2,
            "linecolor": "white",
            "showbackground": true,
            "ticks": "",
            "zerolinecolor": "white"
           },
           "yaxis": {
            "backgroundcolor": "#E5ECF6",
            "gridcolor": "white",
            "gridwidth": 2,
            "linecolor": "white",
            "showbackground": true,
            "ticks": "",
            "zerolinecolor": "white"
           },
           "zaxis": {
            "backgroundcolor": "#E5ECF6",
            "gridcolor": "white",
            "gridwidth": 2,
            "linecolor": "white",
            "showbackground": true,
            "ticks": "",
            "zerolinecolor": "white"
           }
          },
          "shapedefaults": {
           "line": {
            "color": "#2a3f5f"
           }
          },
          "ternary": {
           "aaxis": {
            "gridcolor": "white",
            "linecolor": "white",
            "ticks": ""
           },
           "baxis": {
            "gridcolor": "white",
            "linecolor": "white",
            "ticks": ""
           },
           "bgcolor": "#E5ECF6",
           "caxis": {
            "gridcolor": "white",
            "linecolor": "white",
            "ticks": ""
           }
          },
          "title": {
           "x": 0.05
          },
          "xaxis": {
           "automargin": true,
           "gridcolor": "white",
           "linecolor": "white",
           "ticks": "",
           "title": {
            "standoff": 15
           },
           "zerolinecolor": "white",
           "zerolinewidth": 2
          },
          "yaxis": {
           "automargin": true,
           "gridcolor": "white",
           "linecolor": "white",
           "ticks": "",
           "title": {
            "standoff": 15
           },
           "zerolinecolor": "white",
           "zerolinewidth": 2
          }
         }
        },
        "title": {
         "text": "Relationship between GDP per capita & Happiness Score of countries"
        },
        "xaxis": {
         "anchor": "y",
         "domain": [
          0,
          1
         ],
         "title": {
          "text": "Economy (GDP per Capita)"
         }
        },
        "yaxis": {
         "anchor": "x",
         "domain": [
          0,
          1
         ],
         "title": {
          "text": "Happiness Score"
         }
        }
       }
      },
      "text/html": [
       "<div>                            <div id=\"b129c774-d95a-4ca5-b393-f159aa871259\" class=\"plotly-graph-div\" style=\"height:525px; width:100%;\"></div>            <script type=\"text/javascript\">                require([\"plotly\"], function(Plotly) {                    window.PLOTLYENV=window.PLOTLYENV || {};                                    if (document.getElementById(\"b129c774-d95a-4ca5-b393-f159aa871259\")) {                    Plotly.newPlot(                        \"b129c774-d95a-4ca5-b393-f159aa871259\",                        [{\"hovertemplate\": \"<b>%{hovertext}</b><br><br>Region=Western Europe<br>Economy (GDP per Capita)=%{x}<br>Happiness Score=%{marker.size}<extra></extra>\", \"hovertext\": [\"Finland\", \"Denmark\", \"Switzerland\", \"Iceland\", \"Netherlands\", \"Norway\", \"Sweden\", \"Luxembourg\", \"Austria\", \"Germany\", \"Ireland\", \"United Kingdom\", \"Belgium\", \"France\", \"Malta\", \"Spain\", \"Italy\", \"Cyprus\", \"Portugal\", \"Greece\", \"North Cyprus\"], \"legendgroup\": \"Western Europe\", \"marker\": {\"color\": \"#636efa\", \"size\": [7.8420000000000005, 7.62, 7.571000000000001, 7.553999999999999, 7.4639999999999995, 7.392, 7.3629999999999995, 7.324, 7.268, 7.155, 7.085, 7.064, 6.834, 6.69, 6.602, 6.4910000000000005, 6.483, 6.223, 5.928999999999999, 5.723, 5.5360000000000005], \"sizemode\": \"area\", \"sizeref\": 0.019605, \"symbol\": \"circle\"}, \"mode\": \"markers\", \"name\": \"Western Europe\", \"orientation\": \"v\", \"showlegend\": true, \"type\": \"scatter\", \"x\": [1.446, 1.5019999999999998, 1.5659999999999998, 1.482, 1.501, 1.5430000000000001, 1.4780000000000002, 1.751, 1.492, 1.48, 1.6440000000000001, 1.423, 1.463, 1.421, 1.411, 1.375, 1.393, 1.3769999999999998, 1.3230000000000002, 1.273, 1.3769999999999998], \"xaxis\": \"x\", \"y\": [7.8420000000000005, 7.62, 7.571000000000001, 7.553999999999999, 7.4639999999999995, 7.392, 7.3629999999999995, 7.324, 7.268, 7.155, 7.085, 7.064, 6.834, 6.69, 6.602, 6.4910000000000005, 6.483, 6.223, 5.928999999999999, 5.723, 5.5360000000000005], \"yaxis\": \"y\"}, {\"hovertemplate\": \"<b>%{hovertext}</b><br><br>Region=North America and ANZ<br>Economy (GDP per Capita)=%{x}<br>Happiness Score=%{marker.size}<extra></extra>\", \"hovertext\": [\"New Zealand\", \"Australia\", \"Canada\", \"United States\"], \"legendgroup\": \"North America and ANZ\", \"marker\": {\"color\": \"#EF553B\", \"size\": [7.277, 7.183, 7.103, 6.9510000000000005], \"sizemode\": \"area\", \"sizeref\": 0.019605, \"symbol\": \"circle\"}, \"mode\": \"markers\", \"name\": \"North America and ANZ\", \"orientation\": \"v\", \"showlegend\": true, \"type\": \"scatter\", \"x\": [1.4, 1.453, 1.4469999999999998, 1.5330000000000001], \"xaxis\": \"x\", \"y\": [7.277, 7.183, 7.103, 6.9510000000000005], \"yaxis\": \"y\"}, {\"hovertemplate\": \"<b>%{hovertext}</b><br><br>Region=Middle East and North Africa<br>Economy (GDP per Capita)=%{x}<br>Happiness Score=%{marker.size}<extra></extra>\", \"hovertext\": [\"Israel\", \"Bahrain\", \"United Arab Emirates\", \"Saudi Arabia\", \"Kuwait\", \"Libya\", \"Turkey\", \"Morocco\", \"Algeria\", \"Iraq\", \"Iran\", \"Tunisia\", \"Lebanon\", \"Palestinian Territories\", \"Jordan\", \"Egypt\", \"Yemen\"], \"legendgroup\": \"Middle East and North Africa\", \"marker\": {\"color\": \"#00cc96\", \"size\": [7.157, 6.647, 6.561, 6.494, 6.106, 5.41, 4.948, 4.918, 4.887, 4.854, 4.721, 4.596, 4.584, 4.5169999999999995, 4.395, 4.283, 3.658], \"sizemode\": \"area\", \"sizeref\": 0.019605, \"symbol\": \"circle\"}, \"mode\": \"markers\", \"name\": \"Middle East and North Africa\", \"orientation\": \"v\", \"showlegend\": true, \"type\": \"scatter\", \"x\": [1.376, 1.409, 1.555, 1.435, 1.4609999999999999, 1.044, 1.26, 0.792, 0.946, 0.91, 1.03, 0.919, 1.045, 0.6459999999999999, 0.89, 0.9540000000000001, 0.32899999999999996], \"xaxis\": \"x\", \"y\": [7.157, 6.647, 6.561, 6.494, 6.106, 5.41, 4.948, 4.918, 4.887, 4.854, 4.721, 4.596, 4.584, 4.5169999999999995, 4.395, 4.283, 3.658], \"yaxis\": \"y\"}, {\"hovertemplate\": \"<b>%{hovertext}</b><br><br>Region=Latin America and Caribbean<br>Economy (GDP per Capita)=%{x}<br>Happiness Score=%{marker.size}<extra></extra>\", \"hovertext\": [\"Costa Rica\", \"Guatemala\", \"Uruguay\", \"Brazil\", \"Mexico\", \"Jamaica\", \"Panama\", \"Chile\", \"El Salvador\", \"Colombia\", \"Nicaragua\", \"Argentina\", \"Honduras\", \"Peru\", \"Ecuador\", \"Bolivia\", \"Paraguay\", \"Dominican Republic\", \"Venezuela\", \"Haiti\"], \"legendgroup\": \"Latin America and Caribbean\", \"marker\": {\"color\": \"#ab63fa\", \"size\": [7.069, 6.435, 6.431, 6.33, 6.317, 6.309, 6.18, 6.172000000000001, 6.061, 6.0120000000000005, 5.972, 5.928999999999999, 5.919, 5.84, 5.763999999999999, 5.716, 5.653, 5.545, 4.8919999999999995, 3.615], \"sizemode\": \"area\", \"sizeref\": 0.019605, \"symbol\": \"circle\"}, \"mode\": \"markers\", \"name\": \"Latin America and Caribbean\", \"orientation\": \"v\", \"showlegend\": true, \"type\": \"scatter\", \"x\": [1.1340000000000001, 0.845, 1.1640000000000001, 1.028, 1.126, 0.8909999999999999, 1.298, 1.2, 0.845, 1.021, 0.693, 1.162, 0.703, 0.986, 0.935, 0.8420000000000001, 0.983, 1.1059999999999999, 0.852, 0.294], \"xaxis\": \"x\", \"y\": [7.069, 6.435, 6.431, 6.33, 6.317, 6.309, 6.18, 6.172000000000001, 6.061, 6.0120000000000005, 5.972, 5.928999999999999, 5.919, 5.84, 5.763999999999999, 5.716, 5.653, 5.545, 4.8919999999999995, 3.615], \"yaxis\": \"y\"}, {\"hovertemplate\": \"<b>%{hovertext}</b><br><br>Region=Central and Eastern Europe<br>Economy (GDP per Capita)=%{x}<br>Happiness Score=%{marker.size}<extra></extra>\", \"hovertext\": [\"Czech Republic\", \"Slovenia\", \"Kosovo\", \"Slovakia\", \"Lithuania\", \"Estonia\", \"Poland\", \"Romania\", \"Serbia\", \"Latvia\", \"Hungary\", \"Croatia\", \"Bosnia and Herzegovina\", \"Montenegro\", \"Bulgaria\", \"Albania\", \"North Macedonia\"], \"legendgroup\": \"Central and Eastern Europe\", \"marker\": {\"color\": \"#FFA15A\", \"size\": [6.965, 6.461, 6.372000000000001, 6.331, 6.255, 6.189, 6.166, 6.14, 6.077999999999999, 6.032, 5.992000000000001, 5.882000000000001, 5.813, 5.581, 5.266, 5.117, 5.101], \"sizemode\": \"area\", \"sizeref\": 0.019605, \"symbol\": \"circle\"}, \"mode\": \"markers\", \"name\": \"Central and Eastern Europe\", \"orientation\": \"v\", \"showlegend\": true, \"type\": \"scatter\", \"x\": [1.37, 1.36, 0.937, 1.304, 1.35, 1.344, 1.3090000000000002, 1.275, 1.101, 1.285, 1.301, 1.251, 1.032, 1.155, 1.181, 1.008, 1.068], \"xaxis\": \"x\", \"y\": [6.965, 6.461, 6.372000000000001, 6.331, 6.255, 6.189, 6.166, 6.14, 6.077999999999999, 6.032, 5.992000000000001, 5.882000000000001, 5.813, 5.581, 5.266, 5.117, 5.101], \"yaxis\": \"y\"}, {\"hovertemplate\": \"<b>%{hovertext}</b><br><br>Region=East Asia<br>Economy (GDP per Capita)=%{x}<br>Happiness Score=%{marker.size}<extra></extra>\", \"hovertext\": [\"Taiwan Province of China\", \"Japan\", \"South Korea\", \"Mongolia\", \"Hong Kong S.A.R. of China\", \"China\"], \"legendgroup\": \"East Asia\", \"marker\": {\"color\": \"#19d3f3\", \"size\": [6.584, 5.94, 5.845, 5.6770000000000005, 5.477, 5.3389999999999995], \"sizemode\": \"area\", \"sizeref\": 0.019605, \"symbol\": \"circle\"}, \"mode\": \"markers\", \"name\": \"East Asia\", \"orientation\": \"v\", \"showlegend\": true, \"type\": \"scatter\", \"x\": [1.48, 1.389, 1.403, 0.966, 1.525, 1.061], \"xaxis\": \"x\", \"y\": [6.584, 5.94, 5.845, 5.6770000000000005, 5.477, 5.3389999999999995], \"yaxis\": \"y\"}, {\"hovertemplate\": \"<b>%{hovertext}</b><br><br>Region=Southeast Asia<br>Economy (GDP per Capita)=%{x}<br>Happiness Score=%{marker.size}<extra></extra>\", \"hovertext\": [\"Singapore\", \"Thailand\", \"Philippines\", \"Vietnam\", \"Malaysia\", \"Indonesia\", \"Laos\", \"Cambodia\", \"Myanmar\"], \"legendgroup\": \"Southeast Asia\", \"marker\": {\"color\": \"#FF6692\", \"size\": [6.377000000000001, 5.985, 5.88, 5.4110000000000005, 5.3839999999999995, 5.345, 5.03, 4.83, 4.426], \"sizemode\": \"area\", \"sizeref\": 0.019605, \"symbol\": \"circle\"}, \"mode\": \"markers\", \"name\": \"Southeast Asia\", \"orientation\": \"v\", \"showlegend\": true, \"type\": \"scatter\", \"x\": [1.695, 1.107, 0.853, 0.8170000000000001, 1.2590000000000001, 0.9540000000000001, 0.8079999999999999, 0.603, 0.6659999999999999], \"xaxis\": \"x\", \"y\": [6.377000000000001, 5.985, 5.88, 5.4110000000000005, 5.3839999999999995, 5.345, 5.03, 4.83, 4.426], \"yaxis\": \"y\"}, {\"hovertemplate\": \"<b>%{hovertext}</b><br><br>Region=Commonwealth of Independent States<br>Economy (GDP per Capita)=%{x}<br>Happiness Score=%{marker.size}<extra></extra>\", \"hovertext\": [\"Uzbekistan\", \"Kazakhstan\", \"Moldova\", \"Kyrgyzstan\", \"Belarus\", \"Russia\", \"Tajikistan\", \"Armenia\", \"Azerbaijan\", \"Turkmenistan\", \"Georgia\", \"Ukraine\"], \"legendgroup\": \"Commonwealth of Independent States\", \"marker\": {\"color\": \"#B6E880\", \"size\": [6.178999999999999, 6.152, 5.766, 5.744, 5.534, 5.477, 5.466, 5.2829999999999995, 5.171, 5.066, 4.891, 4.875], \"sizemode\": \"area\", \"sizeref\": 0.019605, \"symbol\": \"circle\"}, \"mode\": \"markers\", \"name\": \"Commonwealth of Independent States\", \"orientation\": \"v\", \"showlegend\": true, \"type\": \"scatter\", \"x\": [0.769, 1.23, 0.985, 0.665, 1.124, 1.2409999999999999, 0.508, 0.996, 1.025, 1.046, 1.03, 0.9790000000000001], \"xaxis\": \"x\", \"y\": [6.178999999999999, 6.152, 5.766, 5.744, 5.534, 5.477, 5.466, 5.2829999999999995, 5.171, 5.066, 4.891, 4.875], \"yaxis\": \"y\"}, {\"hovertemplate\": \"<b>%{hovertext}</b><br><br>Region=Sub-Saharan Africa<br>Economy (GDP per Capita)=%{x}<br>Happiness Score=%{marker.size}<extra></extra>\", \"hovertext\": [\"Mauritius\", \"Congo (Brazzaville)\", \"Ivory Coast\", \"Cameroon\", \"Senegal\", \"Ghana\", \"Niger\", \"Gambia\", \"Benin\", \"Guinea\", \"South Africa\", \"Gabon\", \"Burkina Faso\", \"Mozambique\", \"Nigeria\", \"Mali\", \"Uganda\", \"Liberia\", \"Kenya\", \"Namibia\", \"Chad\", \"Swaziland\", \"Comoros\", \"Ethiopia\", \"Mauritania\", \"Madagascar\", \"Togo\", \"Zambia\", \"Sierra Leone\", \"Burundi\", \"Tanzania\", \"Malawi\", \"Lesotho\", \"Botswana\", \"Rwanda\", \"Zimbabwe\"], \"legendgroup\": \"Sub-Saharan Africa\", \"marker\": {\"color\": \"#FF97FF\", \"size\": [6.0489999999999995, 5.3420000000000005, 5.306, 5.142, 5.132000000000001, 5.088, 5.074, 5.051, 5.045, 4.984, 4.956, 4.852, 4.834, 4.794, 4.7589999999999995, 4.723, 4.636, 4.625, 4.607, 4.574, 4.355, 4.308, 4.289, 4.275, 4.227, 4.208, 4.107, 4.073, 3.8489999999999998, 3.775, 3.623, 3.6, 3.512, 3.467, 3.415, 3.145], \"sizemode\": \"area\", \"sizeref\": 0.019605, \"symbol\": \"circle\"}, \"mode\": \"markers\", \"name\": \"Sub-Saharan Africa\", \"orientation\": \"v\", \"showlegend\": true, \"type\": \"scatter\", \"x\": [1.178, 0.518, 0.669, 0.5429999999999999, 0.518, 0.68, 0.162, 0.36700000000000005, 0.507, 0.42, 0.9670000000000001, 1.037, 0.364, 0.183, 0.6629999999999999, 0.387, 0.364, 0.228, 0.603, 0.882, 0.255, 0.8490000000000001, 0.488, 0.37, 0.6659999999999999, 0.266, 0.254, 0.528, 0.27899999999999997, 0.0, 0.433, 0.113, 0.451, 1.099, 0.364, 0.457], \"xaxis\": \"x\", \"y\": [6.0489999999999995, 5.3420000000000005, 5.306, 5.142, 5.132000000000001, 5.088, 5.074, 5.051, 5.045, 4.984, 4.956, 4.852, 4.834, 4.794, 4.7589999999999995, 4.723, 4.636, 4.625, 4.607, 4.574, 4.355, 4.308, 4.289, 4.275, 4.227, 4.208, 4.107, 4.073, 3.8489999999999998, 3.775, 3.623, 3.6, 3.512, 3.467, 3.415, 3.145], \"yaxis\": \"y\"}, {\"hovertemplate\": \"<b>%{hovertext}</b><br><br>Region=South Asia<br>Economy (GDP per Capita)=%{x}<br>Happiness Score=%{marker.size}<extra></extra>\", \"hovertext\": [\"Nepal\", \"Maldives\", \"Bangladesh\", \"Pakistan\", \"Sri Lanka\", \"India\", \"Afghanistan\"], \"legendgroup\": \"South Asia\", \"marker\": {\"color\": \"#FECB52\", \"size\": [5.269, 5.1979999999999995, 5.025, 4.934, 4.325, 3.819, 2.523], \"sizemode\": \"area\", \"sizeref\": 0.019605, \"symbol\": \"circle\"}, \"mode\": \"markers\", \"name\": \"South Asia\", \"orientation\": \"v\", \"showlegend\": true, \"type\": \"scatter\", \"x\": [0.519, 1.115, 0.635, 0.637, 0.99, 0.741, 0.37], \"xaxis\": \"x\", \"y\": [5.269, 5.1979999999999995, 5.025, 4.934, 4.325, 3.819, 2.523], \"yaxis\": \"y\"}],                        {\"legend\": {\"itemsizing\": \"constant\", \"title\": {\"text\": \"Region\"}, \"tracegroupgap\": 0}, \"template\": {\"data\": {\"bar\": [{\"error_x\": {\"color\": \"#2a3f5f\"}, \"error_y\": {\"color\": \"#2a3f5f\"}, \"marker\": {\"line\": {\"color\": \"#E5ECF6\", \"width\": 0.5}}, \"type\": \"bar\"}], \"barpolar\": [{\"marker\": {\"line\": {\"color\": \"#E5ECF6\", \"width\": 0.5}}, \"type\": \"barpolar\"}], \"carpet\": [{\"aaxis\": {\"endlinecolor\": \"#2a3f5f\", \"gridcolor\": \"white\", \"linecolor\": \"white\", \"minorgridcolor\": \"white\", \"startlinecolor\": \"#2a3f5f\"}, \"baxis\": {\"endlinecolor\": \"#2a3f5f\", \"gridcolor\": \"white\", \"linecolor\": \"white\", \"minorgridcolor\": \"white\", \"startlinecolor\": \"#2a3f5f\"}, \"type\": \"carpet\"}], \"choropleth\": [{\"colorbar\": {\"outlinewidth\": 0, \"ticks\": \"\"}, \"type\": \"choropleth\"}], \"contour\": [{\"colorbar\": {\"outlinewidth\": 0, \"ticks\": \"\"}, \"colorscale\": [[0.0, \"#0d0887\"], [0.1111111111111111, \"#46039f\"], [0.2222222222222222, \"#7201a8\"], [0.3333333333333333, \"#9c179e\"], [0.4444444444444444, \"#bd3786\"], [0.5555555555555556, \"#d8576b\"], [0.6666666666666666, \"#ed7953\"], [0.7777777777777778, \"#fb9f3a\"], [0.8888888888888888, \"#fdca26\"], [1.0, \"#f0f921\"]], \"type\": \"contour\"}], \"contourcarpet\": [{\"colorbar\": {\"outlinewidth\": 0, \"ticks\": \"\"}, \"type\": \"contourcarpet\"}], \"heatmap\": [{\"colorbar\": {\"outlinewidth\": 0, \"ticks\": \"\"}, \"colorscale\": [[0.0, \"#0d0887\"], [0.1111111111111111, \"#46039f\"], [0.2222222222222222, \"#7201a8\"], [0.3333333333333333, \"#9c179e\"], [0.4444444444444444, \"#bd3786\"], [0.5555555555555556, \"#d8576b\"], [0.6666666666666666, \"#ed7953\"], [0.7777777777777778, \"#fb9f3a\"], [0.8888888888888888, \"#fdca26\"], [1.0, \"#f0f921\"]], \"type\": \"heatmap\"}], \"heatmapgl\": [{\"colorbar\": {\"outlinewidth\": 0, \"ticks\": \"\"}, \"colorscale\": [[0.0, \"#0d0887\"], [0.1111111111111111, \"#46039f\"], [0.2222222222222222, \"#7201a8\"], [0.3333333333333333, \"#9c179e\"], [0.4444444444444444, \"#bd3786\"], [0.5555555555555556, \"#d8576b\"], [0.6666666666666666, \"#ed7953\"], [0.7777777777777778, \"#fb9f3a\"], [0.8888888888888888, \"#fdca26\"], [1.0, \"#f0f921\"]], \"type\": \"heatmapgl\"}], \"histogram\": [{\"marker\": {\"colorbar\": {\"outlinewidth\": 0, \"ticks\": \"\"}}, \"type\": \"histogram\"}], \"histogram2d\": [{\"colorbar\": {\"outlinewidth\": 0, \"ticks\": \"\"}, \"colorscale\": [[0.0, \"#0d0887\"], [0.1111111111111111, \"#46039f\"], [0.2222222222222222, \"#7201a8\"], [0.3333333333333333, \"#9c179e\"], [0.4444444444444444, \"#bd3786\"], [0.5555555555555556, \"#d8576b\"], [0.6666666666666666, \"#ed7953\"], [0.7777777777777778, \"#fb9f3a\"], [0.8888888888888888, \"#fdca26\"], [1.0, \"#f0f921\"]], \"type\": \"histogram2d\"}], \"histogram2dcontour\": [{\"colorbar\": {\"outlinewidth\": 0, \"ticks\": \"\"}, \"colorscale\": [[0.0, \"#0d0887\"], [0.1111111111111111, \"#46039f\"], [0.2222222222222222, \"#7201a8\"], [0.3333333333333333, \"#9c179e\"], [0.4444444444444444, \"#bd3786\"], [0.5555555555555556, \"#d8576b\"], [0.6666666666666666, \"#ed7953\"], [0.7777777777777778, \"#fb9f3a\"], [0.8888888888888888, \"#fdca26\"], [1.0, \"#f0f921\"]], \"type\": \"histogram2dcontour\"}], \"mesh3d\": [{\"colorbar\": {\"outlinewidth\": 0, \"ticks\": \"\"}, \"type\": \"mesh3d\"}], \"parcoords\": [{\"line\": {\"colorbar\": {\"outlinewidth\": 0, \"ticks\": \"\"}}, \"type\": \"parcoords\"}], \"pie\": [{\"automargin\": true, \"type\": \"pie\"}], \"scatter\": [{\"marker\": {\"colorbar\": {\"outlinewidth\": 0, \"ticks\": \"\"}}, \"type\": \"scatter\"}], \"scatter3d\": [{\"line\": {\"colorbar\": {\"outlinewidth\": 0, \"ticks\": \"\"}}, \"marker\": {\"colorbar\": {\"outlinewidth\": 0, \"ticks\": \"\"}}, \"type\": \"scatter3d\"}], \"scattercarpet\": [{\"marker\": {\"colorbar\": {\"outlinewidth\": 0, \"ticks\": \"\"}}, \"type\": \"scattercarpet\"}], \"scattergeo\": [{\"marker\": {\"colorbar\": {\"outlinewidth\": 0, \"ticks\": \"\"}}, \"type\": \"scattergeo\"}], \"scattergl\": [{\"marker\": {\"colorbar\": {\"outlinewidth\": 0, \"ticks\": \"\"}}, \"type\": \"scattergl\"}], \"scattermapbox\": [{\"marker\": {\"colorbar\": {\"outlinewidth\": 0, \"ticks\": \"\"}}, \"type\": \"scattermapbox\"}], \"scatterpolar\": [{\"marker\": {\"colorbar\": {\"outlinewidth\": 0, \"ticks\": \"\"}}, \"type\": \"scatterpolar\"}], \"scatterpolargl\": [{\"marker\": {\"colorbar\": {\"outlinewidth\": 0, \"ticks\": \"\"}}, \"type\": \"scatterpolargl\"}], \"scatterternary\": [{\"marker\": {\"colorbar\": {\"outlinewidth\": 0, \"ticks\": \"\"}}, \"type\": \"scatterternary\"}], \"surface\": [{\"colorbar\": {\"outlinewidth\": 0, \"ticks\": \"\"}, \"colorscale\": [[0.0, \"#0d0887\"], [0.1111111111111111, \"#46039f\"], [0.2222222222222222, \"#7201a8\"], [0.3333333333333333, \"#9c179e\"], [0.4444444444444444, \"#bd3786\"], [0.5555555555555556, \"#d8576b\"], [0.6666666666666666, \"#ed7953\"], [0.7777777777777778, \"#fb9f3a\"], [0.8888888888888888, \"#fdca26\"], [1.0, \"#f0f921\"]], \"type\": \"surface\"}], \"table\": [{\"cells\": {\"fill\": {\"color\": \"#EBF0F8\"}, \"line\": {\"color\": \"white\"}}, \"header\": {\"fill\": {\"color\": \"#C8D4E3\"}, \"line\": {\"color\": \"white\"}}, \"type\": \"table\"}]}, \"layout\": {\"annotationdefaults\": {\"arrowcolor\": \"#2a3f5f\", \"arrowhead\": 0, \"arrowwidth\": 1}, \"autotypenumbers\": \"strict\", \"coloraxis\": {\"colorbar\": {\"outlinewidth\": 0, \"ticks\": \"\"}}, \"colorscale\": {\"diverging\": [[0, \"#8e0152\"], [0.1, \"#c51b7d\"], [0.2, \"#de77ae\"], [0.3, \"#f1b6da\"], [0.4, \"#fde0ef\"], [0.5, \"#f7f7f7\"], [0.6, \"#e6f5d0\"], [0.7, \"#b8e186\"], [0.8, \"#7fbc41\"], [0.9, \"#4d9221\"], [1, \"#276419\"]], \"sequential\": [[0.0, \"#0d0887\"], [0.1111111111111111, \"#46039f\"], [0.2222222222222222, \"#7201a8\"], [0.3333333333333333, \"#9c179e\"], [0.4444444444444444, \"#bd3786\"], [0.5555555555555556, \"#d8576b\"], [0.6666666666666666, \"#ed7953\"], [0.7777777777777778, \"#fb9f3a\"], [0.8888888888888888, \"#fdca26\"], [1.0, \"#f0f921\"]], \"sequentialminus\": [[0.0, \"#0d0887\"], [0.1111111111111111, \"#46039f\"], [0.2222222222222222, \"#7201a8\"], [0.3333333333333333, \"#9c179e\"], [0.4444444444444444, \"#bd3786\"], [0.5555555555555556, \"#d8576b\"], [0.6666666666666666, \"#ed7953\"], [0.7777777777777778, \"#fb9f3a\"], [0.8888888888888888, \"#fdca26\"], [1.0, \"#f0f921\"]]}, \"colorway\": [\"#636efa\", \"#EF553B\", \"#00cc96\", \"#ab63fa\", \"#FFA15A\", \"#19d3f3\", \"#FF6692\", \"#B6E880\", \"#FF97FF\", \"#FECB52\"], \"font\": {\"color\": \"#2a3f5f\"}, \"geo\": {\"bgcolor\": \"white\", \"lakecolor\": \"white\", \"landcolor\": \"#E5ECF6\", \"showlakes\": true, \"showland\": true, \"subunitcolor\": \"white\"}, \"hoverlabel\": {\"align\": \"left\"}, \"hovermode\": \"closest\", \"mapbox\": {\"style\": \"light\"}, \"paper_bgcolor\": \"white\", \"plot_bgcolor\": \"#E5ECF6\", \"polar\": {\"angularaxis\": {\"gridcolor\": \"white\", \"linecolor\": \"white\", \"ticks\": \"\"}, \"bgcolor\": \"#E5ECF6\", \"radialaxis\": {\"gridcolor\": \"white\", \"linecolor\": \"white\", \"ticks\": \"\"}}, \"scene\": {\"xaxis\": {\"backgroundcolor\": \"#E5ECF6\", \"gridcolor\": \"white\", \"gridwidth\": 2, \"linecolor\": \"white\", \"showbackground\": true, \"ticks\": \"\", \"zerolinecolor\": \"white\"}, \"yaxis\": {\"backgroundcolor\": \"#E5ECF6\", \"gridcolor\": \"white\", \"gridwidth\": 2, \"linecolor\": \"white\", \"showbackground\": true, \"ticks\": \"\", \"zerolinecolor\": \"white\"}, \"zaxis\": {\"backgroundcolor\": \"#E5ECF6\", \"gridcolor\": \"white\", \"gridwidth\": 2, \"linecolor\": \"white\", \"showbackground\": true, \"ticks\": \"\", \"zerolinecolor\": \"white\"}}, \"shapedefaults\": {\"line\": {\"color\": \"#2a3f5f\"}}, \"ternary\": {\"aaxis\": {\"gridcolor\": \"white\", \"linecolor\": \"white\", \"ticks\": \"\"}, \"baxis\": {\"gridcolor\": \"white\", \"linecolor\": \"white\", \"ticks\": \"\"}, \"bgcolor\": \"#E5ECF6\", \"caxis\": {\"gridcolor\": \"white\", \"linecolor\": \"white\", \"ticks\": \"\"}}, \"title\": {\"x\": 0.05}, \"xaxis\": {\"automargin\": true, \"gridcolor\": \"white\", \"linecolor\": \"white\", \"ticks\": \"\", \"title\": {\"standoff\": 15}, \"zerolinecolor\": \"white\", \"zerolinewidth\": 2}, \"yaxis\": {\"automargin\": true, \"gridcolor\": \"white\", \"linecolor\": \"white\", \"ticks\": \"\", \"title\": {\"standoff\": 15}, \"zerolinecolor\": \"white\", \"zerolinewidth\": 2}}}, \"title\": {\"text\": \"Relationship between GDP per capita & Happiness Score of countries\"}, \"xaxis\": {\"anchor\": \"y\", \"domain\": [0.0, 1.0], \"title\": {\"text\": \"Economy (GDP per Capita)\"}}, \"yaxis\": {\"anchor\": \"x\", \"domain\": [0.0, 1.0], \"title\": {\"text\": \"Happiness Score\"}}},                        {\"responsive\": true}                    ).then(function(){\n",
       "                            \n",
       "var gd = document.getElementById('b129c774-d95a-4ca5-b393-f159aa871259');\n",
       "var x = new MutationObserver(function (mutations, observer) {{\n",
       "        var display = window.getComputedStyle(gd).display;\n",
       "        if (!display || display === 'none') {{\n",
       "            console.log([gd, 'removed!']);\n",
       "            Plotly.purge(gd);\n",
       "            observer.disconnect();\n",
       "        }}\n",
       "}});\n",
       "\n",
       "// Listen for the removal of the full notebook cells\n",
       "var notebookContainer = gd.closest('#notebook-container');\n",
       "if (notebookContainer) {{\n",
       "    x.observe(notebookContainer, {childList: true});\n",
       "}}\n",
       "\n",
       "// Listen for the clearing of the current output cell\n",
       "var outputEl = gd.closest('.output');\n",
       "if (outputEl) {{\n",
       "    x.observe(outputEl, {childList: true});\n",
       "}}\n",
       "\n",
       "                        })                };                });            </script>        </div>"
      ]
     },
     "metadata": {},
     "output_type": "display_data"
    }
   ],
   "source": [
    "fig = px.scatter(data_frame=df,x='Economy (GDP per Capita)',y= 'Happiness Score', \n",
    "                 title=\"Relationship between GDP per capita & Happiness Score of countries\", \n",
    "                labels={\n",
    "                     \"Economy (GDP per Capita)\": \"Economy (GDP per Capita)\",\n",
    "                     \"Happiness Score\": \"Happiness Score\" } , size='Happiness Score', color =  'Region', hover_name='Country' ,\n",
    "                 \n",
    "                 )\n",
    "fig.show()"
   ]
  },
  {
   "cell_type": "code",
   "execution_count": 93,
   "metadata": {},
   "outputs": [
    {
     "data": {
      "application/vnd.plotly.v1+json": {
       "config": {
        "plotlyServerURL": "https://plot.ly"
       },
       "data": [
        {
         "hovertemplate": "<b>%{hovertext}</b><br><br>Region=Western Europe<br>Social support=%{x}<br>Happiness Score=%{marker.size}<extra></extra>",
         "hovertext": [
          "Finland",
          "Denmark",
          "Switzerland",
          "Iceland",
          "Netherlands",
          "Norway",
          "Sweden",
          "Luxembourg",
          "Austria",
          "Germany",
          "Ireland",
          "United Kingdom",
          "Belgium",
          "France",
          "Malta",
          "Spain",
          "Italy",
          "Cyprus",
          "Portugal",
          "Greece",
          "North Cyprus"
         ],
         "legendgroup": "Western Europe",
         "marker": {
          "color": "#636efa",
          "size": [
           7.8420000000000005,
           7.62,
           7.571000000000001,
           7.553999999999999,
           7.4639999999999995,
           7.392,
           7.3629999999999995,
           7.324,
           7.268,
           7.155,
           7.085,
           7.064,
           6.834,
           6.69,
           6.602,
           6.4910000000000005,
           6.483,
           6.223,
           5.928999999999999,
           5.723,
           5.5360000000000005
          ],
          "sizemode": "area",
          "sizeref": 0.019605,
          "symbol": "circle"
         },
         "mode": "markers",
         "name": "Western Europe",
         "orientation": "v",
         "showlegend": true,
         "type": "scatter",
         "x": [
          1.1059999999999999,
          1.1079999999999999,
          1.079,
          1.172,
          1.079,
          1.1079999999999999,
          1.062,
          1.003,
          1.062,
          0.993,
          1.092,
          1.062,
          0.998,
          1.081,
          1.055,
          1.057,
          0.94,
          0.765,
          0.9390000000000001,
          0.8109999999999999,
          0.8059999999999999
         ],
         "xaxis": "x",
         "y": [
          7.8420000000000005,
          7.62,
          7.571000000000001,
          7.553999999999999,
          7.4639999999999995,
          7.392,
          7.3629999999999995,
          7.324,
          7.268,
          7.155,
          7.085,
          7.064,
          6.834,
          6.69,
          6.602,
          6.4910000000000005,
          6.483,
          6.223,
          5.928999999999999,
          5.723,
          5.5360000000000005
         ],
         "yaxis": "y"
        },
        {
         "hovertemplate": "<b>%{hovertext}</b><br><br>Region=North America and ANZ<br>Social support=%{x}<br>Happiness Score=%{marker.size}<extra></extra>",
         "hovertext": [
          "New Zealand",
          "Australia",
          "Canada",
          "United States"
         ],
         "legendgroup": "North America and ANZ",
         "marker": {
          "color": "#EF553B",
          "size": [
           7.277,
           7.183,
           7.103,
           6.9510000000000005
          ],
          "sizemode": "area",
          "sizeref": 0.019605,
          "symbol": "circle"
         },
         "mode": "markers",
         "name": "North America and ANZ",
         "orientation": "v",
         "showlegend": true,
         "type": "scatter",
         "x": [
          1.094,
          1.0759999999999998,
          1.044,
          1.03
         ],
         "xaxis": "x",
         "y": [
          7.277,
          7.183,
          7.103,
          6.9510000000000005
         ],
         "yaxis": "y"
        },
        {
         "hovertemplate": "<b>%{hovertext}</b><br><br>Region=Middle East and North Africa<br>Social support=%{x}<br>Happiness Score=%{marker.size}<extra></extra>",
         "hovertext": [
          "Israel",
          "Bahrain",
          "United Arab Emirates",
          "Saudi Arabia",
          "Kuwait",
          "Libya",
          "Turkey",
          "Morocco",
          "Algeria",
          "Iraq",
          "Iran",
          "Tunisia",
          "Lebanon",
          "Palestinian Territories",
          "Jordan",
          "Egypt",
          "Yemen"
         ],
         "legendgroup": "Middle East and North Africa",
         "marker": {
          "color": "#00cc96",
          "size": [
           7.157,
           6.647,
           6.561,
           6.494,
           6.106,
           5.41,
           4.948,
           4.918,
           4.887,
           4.854,
           4.721,
           4.596,
           4.584,
           4.5169999999999995,
           4.395,
           4.283,
           3.658
          ],
          "sizemode": "area",
          "sizeref": 0.019605,
          "symbol": "circle"
         },
         "mode": "markers",
         "name": "Middle East and North Africa",
         "orientation": "v",
         "showlegend": true,
         "type": "scatter",
         "x": [
          1.074,
          0.899,
          0.86,
          0.9640000000000001,
          0.857,
          0.821,
          0.809,
          0.21899999999999997,
          0.765,
          0.638,
          0.557,
          0.515,
          0.868,
          0.8190000000000001,
          0.685,
          0.647,
          0.831
         ],
         "xaxis": "x",
         "y": [
          7.157,
          6.647,
          6.561,
          6.494,
          6.106,
          5.41,
          4.948,
          4.918,
          4.887,
          4.854,
          4.721,
          4.596,
          4.584,
          4.5169999999999995,
          4.395,
          4.283,
          3.658
         ],
         "yaxis": "y"
        },
        {
         "hovertemplate": "<b>%{hovertext}</b><br><br>Region=Latin America and Caribbean<br>Social support=%{x}<br>Happiness Score=%{marker.size}<extra></extra>",
         "hovertext": [
          "Costa Rica",
          "Guatemala",
          "Uruguay",
          "Brazil",
          "Mexico",
          "Jamaica",
          "Panama",
          "Chile",
          "El Salvador",
          "Colombia",
          "Nicaragua",
          "Argentina",
          "Honduras",
          "Peru",
          "Ecuador",
          "Bolivia",
          "Paraguay",
          "Dominican Republic",
          "Venezuela",
          "Haiti"
         ],
         "legendgroup": "Latin America and Caribbean",
         "marker": {
          "color": "#ab63fa",
          "size": [
           7.069,
           6.435,
           6.431,
           6.33,
           6.317,
           6.309,
           6.18,
           6.172000000000001,
           6.061,
           6.0120000000000005,
           5.972,
           5.928999999999999,
           5.919,
           5.84,
           5.763999999999999,
           5.716,
           5.653,
           5.545,
           4.8919999999999995,
           3.615
          ],
          "sizemode": "area",
          "sizeref": 0.019605,
          "symbol": "circle"
         },
         "mode": "markers",
         "name": "Latin America and Caribbean",
         "orientation": "v",
         "showlegend": true,
         "type": "scatter",
         "x": [
          0.966,
          0.79,
          1.042,
          0.9440000000000001,
          0.83,
          0.932,
          0.976,
          0.946,
          0.675,
          0.866,
          0.904,
          0.98,
          0.787,
          0.833,
          0.8059999999999999,
          0.782,
          0.97,
          0.879,
          0.897,
          0.17300000000000001
         ],
         "xaxis": "x",
         "y": [
          7.069,
          6.435,
          6.431,
          6.33,
          6.317,
          6.309,
          6.18,
          6.172000000000001,
          6.061,
          6.0120000000000005,
          5.972,
          5.928999999999999,
          5.919,
          5.84,
          5.763999999999999,
          5.716,
          5.653,
          5.545,
          4.8919999999999995,
          3.615
         ],
         "yaxis": "y"
        },
        {
         "hovertemplate": "<b>%{hovertext}</b><br><br>Region=Central and Eastern Europe<br>Social support=%{x}<br>Happiness Score=%{marker.size}<extra></extra>",
         "hovertext": [
          "Czech Republic",
          "Slovenia",
          "Kosovo",
          "Slovakia",
          "Lithuania",
          "Estonia",
          "Poland",
          "Romania",
          "Serbia",
          "Latvia",
          "Hungary",
          "Croatia",
          "Bosnia and Herzegovina",
          "Montenegro",
          "Bulgaria",
          "Albania",
          "North Macedonia"
         ],
         "legendgroup": "Central and Eastern Europe",
         "marker": {
          "color": "#FFA15A",
          "size": [
           6.965,
           6.461,
           6.372000000000001,
           6.331,
           6.255,
           6.189,
           6.166,
           6.14,
           6.077999999999999,
           6.032,
           5.992000000000001,
           5.882000000000001,
           5.813,
           5.581,
           5.266,
           5.117,
           5.101
          ],
          "sizemode": "area",
          "sizeref": 0.019605,
          "symbol": "circle"
         },
         "mode": "markers",
         "name": "Central and Eastern Europe",
         "orientation": "v",
         "showlegend": true,
         "type": "scatter",
         "x": [
          1.09,
          1.093,
          0.807,
          1.0659999999999998,
          1.065,
          1.079,
          0.982,
          0.8320000000000001,
          0.924,
          1.047,
          1.083,
          1.0390000000000001,
          0.919,
          0.8909999999999999,
          1.055,
          0.529,
          0.772
         ],
         "xaxis": "x",
         "y": [
          6.965,
          6.461,
          6.372000000000001,
          6.331,
          6.255,
          6.189,
          6.166,
          6.14,
          6.077999999999999,
          6.032,
          5.992000000000001,
          5.882000000000001,
          5.813,
          5.581,
          5.266,
          5.117,
          5.101
         ],
         "yaxis": "y"
        },
        {
         "hovertemplate": "<b>%{hovertext}</b><br><br>Region=East Asia<br>Social support=%{x}<br>Happiness Score=%{marker.size}<extra></extra>",
         "hovertext": [
          "Taiwan Province of China",
          "Japan",
          "South Korea",
          "Mongolia",
          "Hong Kong S.A.R. of China",
          "China"
         ],
         "legendgroup": "East Asia",
         "marker": {
          "color": "#19d3f3",
          "size": [
           6.584,
           5.94,
           5.845,
           5.6770000000000005,
           5.477,
           5.3389999999999995
          ],
          "sizemode": "area",
          "sizeref": 0.019605,
          "symbol": "circle"
         },
         "mode": "markers",
         "name": "East Asia",
         "orientation": "v",
         "showlegend": true,
         "type": "scatter",
         "x": [
          0.982,
          0.9490000000000001,
          0.758,
          1.065,
          0.841,
          0.785
         ],
         "xaxis": "x",
         "y": [
          6.584,
          5.94,
          5.845,
          5.6770000000000005,
          5.477,
          5.3389999999999995
         ],
         "yaxis": "y"
        },
        {
         "hovertemplate": "<b>%{hovertext}</b><br><br>Region=Southeast Asia<br>Social support=%{x}<br>Happiness Score=%{marker.size}<extra></extra>",
         "hovertext": [
          "Singapore",
          "Thailand",
          "Philippines",
          "Vietnam",
          "Malaysia",
          "Indonesia",
          "Laos",
          "Cambodia",
          "Myanmar"
         ],
         "legendgroup": "Southeast Asia",
         "marker": {
          "color": "#FF6692",
          "size": [
           6.377000000000001,
           5.985,
           5.88,
           5.4110000000000005,
           5.3839999999999995,
           5.345,
           5.03,
           4.83,
           4.426
          ],
          "sizemode": "area",
          "sizeref": 0.019605,
          "symbol": "circle"
         },
         "mode": "markers",
         "name": "Southeast Asia",
         "orientation": "v",
         "showlegend": true,
         "type": "scatter",
         "x": [
          1.0190000000000001,
          0.9570000000000001,
          0.828,
          0.873,
          0.797,
          0.7859999999999999,
          0.598,
          0.68,
          0.713
         ],
         "xaxis": "x",
         "y": [
          6.377000000000001,
          5.985,
          5.88,
          5.4110000000000005,
          5.3839999999999995,
          5.345,
          5.03,
          4.83,
          4.426
         ],
         "yaxis": "y"
        },
        {
         "hovertemplate": "<b>%{hovertext}</b><br><br>Region=Commonwealth of Independent States<br>Social support=%{x}<br>Happiness Score=%{marker.size}<extra></extra>",
         "hovertext": [
          "Uzbekistan",
          "Kazakhstan",
          "Moldova",
          "Kyrgyzstan",
          "Belarus",
          "Russia",
          "Tajikistan",
          "Armenia",
          "Azerbaijan",
          "Turkmenistan",
          "Georgia",
          "Ukraine"
         ],
         "legendgroup": "Commonwealth of Independent States",
         "marker": {
          "color": "#B6E880",
          "size": [
           6.178999999999999,
           6.152,
           5.766,
           5.744,
           5.534,
           5.477,
           5.466,
           5.2829999999999995,
           5.171,
           5.066,
           4.891,
           4.875
          ],
          "sizemode": "area",
          "sizeref": 0.019605,
          "symbol": "circle"
         },
         "mode": "markers",
         "name": "Commonwealth of Independent States",
         "orientation": "v",
         "showlegend": true,
         "type": "scatter",
         "x": [
          1.0270000000000001,
          1.103,
          0.888,
          0.971,
          1.0070000000000001,
          0.992,
          0.895,
          0.758,
          0.841,
          1.172,
          0.47,
          0.958
         ],
         "xaxis": "x",
         "y": [
          6.178999999999999,
          6.152,
          5.766,
          5.744,
          5.534,
          5.477,
          5.466,
          5.2829999999999995,
          5.171,
          5.066,
          4.891,
          4.875
         ],
         "yaxis": "y"
        },
        {
         "hovertemplate": "<b>%{hovertext}</b><br><br>Region=Sub-Saharan Africa<br>Social support=%{x}<br>Happiness Score=%{marker.size}<extra></extra>",
         "hovertext": [
          "Mauritius",
          "Congo (Brazzaville)",
          "Ivory Coast",
          "Cameroon",
          "Senegal",
          "Ghana",
          "Niger",
          "Gambia",
          "Benin",
          "Guinea",
          "South Africa",
          "Gabon",
          "Burkina Faso",
          "Mozambique",
          "Nigeria",
          "Mali",
          "Uganda",
          "Liberia",
          "Kenya",
          "Namibia",
          "Chad",
          "Swaziland",
          "Comoros",
          "Ethiopia",
          "Mauritania",
          "Madagascar",
          "Togo",
          "Zambia",
          "Sierra Leone",
          "Burundi",
          "Tanzania",
          "Malawi",
          "Lesotho",
          "Botswana",
          "Rwanda",
          "Zimbabwe"
         ],
         "legendgroup": "Sub-Saharan Africa",
         "marker": {
          "color": "#FF97FF",
          "size": [
           6.0489999999999995,
           5.3420000000000005,
           5.306,
           5.142,
           5.132000000000001,
           5.088,
           5.074,
           5.051,
           5.045,
           4.984,
           4.956,
           4.852,
           4.834,
           4.794,
           4.7589999999999995,
           4.723,
           4.636,
           4.625,
           4.607,
           4.574,
           4.355,
           4.308,
           4.289,
           4.275,
           4.227,
           4.208,
           4.107,
           4.073,
           3.8489999999999998,
           3.775,
           3.623,
           3.6,
           3.512,
           3.467,
           3.415,
           3.145
          ],
          "sizemode": "area",
          "sizeref": 0.019605,
          "symbol": "circle"
         },
         "mode": "markers",
         "name": "Sub-Saharan Africa",
         "orientation": "v",
         "showlegend": true,
         "type": "scatter",
         "x": [
          0.996,
          0.392,
          0.409,
          0.556,
          0.5579999999999999,
          0.595,
          0.402,
          0.511,
          0.057999999999999996,
          0.39899999999999997,
          0.895,
          0.7070000000000001,
          0.47200000000000003,
          0.634,
          0.625,
          0.59,
          0.718,
          0.58,
          0.508,
          0.8009999999999999,
          0.353,
          0.693,
          0.36700000000000005,
          0.679,
          0.7490000000000001,
          0.503,
          0.239,
          0.552,
          0.377,
          0.062,
          0.54,
          0.168,
          0.731,
          0.7240000000000001,
          0.20199999999999999,
          0.649
         ],
         "xaxis": "x",
         "y": [
          6.0489999999999995,
          5.3420000000000005,
          5.306,
          5.142,
          5.132000000000001,
          5.088,
          5.074,
          5.051,
          5.045,
          4.984,
          4.956,
          4.852,
          4.834,
          4.794,
          4.7589999999999995,
          4.723,
          4.636,
          4.625,
          4.607,
          4.574,
          4.355,
          4.308,
          4.289,
          4.275,
          4.227,
          4.208,
          4.107,
          4.073,
          3.8489999999999998,
          3.775,
          3.623,
          3.6,
          3.512,
          3.467,
          3.415,
          3.145
         ],
         "yaxis": "y"
        },
        {
         "hovertemplate": "<b>%{hovertext}</b><br><br>Region=South Asia<br>Social support=%{x}<br>Happiness Score=%{marker.size}<extra></extra>",
         "hovertext": [
          "Nepal",
          "Maldives",
          "Bangladesh",
          "Pakistan",
          "Sri Lanka",
          "India",
          "Afghanistan"
         ],
         "legendgroup": "South Asia",
         "marker": {
          "color": "#FECB52",
          "size": [
           5.269,
           5.1979999999999995,
           5.025,
           4.934,
           4.325,
           3.819,
           2.523
          ],
          "sizemode": "area",
          "sizeref": 0.019605,
          "symbol": "circle"
         },
         "mode": "markers",
         "name": "South Asia",
         "orientation": "v",
         "showlegend": true,
         "type": "scatter",
         "x": [
          0.7020000000000001,
          1.015,
          0.52,
          0.423,
          0.82,
          0.316,
          0
         ],
         "xaxis": "x",
         "y": [
          5.269,
          5.1979999999999995,
          5.025,
          4.934,
          4.325,
          3.819,
          2.523
         ],
         "yaxis": "y"
        }
       ],
       "layout": {
        "legend": {
         "itemsizing": "constant",
         "title": {
          "text": "Region"
         },
         "tracegroupgap": 0
        },
        "template": {
         "data": {
          "bar": [
           {
            "error_x": {
             "color": "#2a3f5f"
            },
            "error_y": {
             "color": "#2a3f5f"
            },
            "marker": {
             "line": {
              "color": "#E5ECF6",
              "width": 0.5
             }
            },
            "type": "bar"
           }
          ],
          "barpolar": [
           {
            "marker": {
             "line": {
              "color": "#E5ECF6",
              "width": 0.5
             }
            },
            "type": "barpolar"
           }
          ],
          "carpet": [
           {
            "aaxis": {
             "endlinecolor": "#2a3f5f",
             "gridcolor": "white",
             "linecolor": "white",
             "minorgridcolor": "white",
             "startlinecolor": "#2a3f5f"
            },
            "baxis": {
             "endlinecolor": "#2a3f5f",
             "gridcolor": "white",
             "linecolor": "white",
             "minorgridcolor": "white",
             "startlinecolor": "#2a3f5f"
            },
            "type": "carpet"
           }
          ],
          "choropleth": [
           {
            "colorbar": {
             "outlinewidth": 0,
             "ticks": ""
            },
            "type": "choropleth"
           }
          ],
          "contour": [
           {
            "colorbar": {
             "outlinewidth": 0,
             "ticks": ""
            },
            "colorscale": [
             [
              0,
              "#0d0887"
             ],
             [
              0.1111111111111111,
              "#46039f"
             ],
             [
              0.2222222222222222,
              "#7201a8"
             ],
             [
              0.3333333333333333,
              "#9c179e"
             ],
             [
              0.4444444444444444,
              "#bd3786"
             ],
             [
              0.5555555555555556,
              "#d8576b"
             ],
             [
              0.6666666666666666,
              "#ed7953"
             ],
             [
              0.7777777777777778,
              "#fb9f3a"
             ],
             [
              0.8888888888888888,
              "#fdca26"
             ],
             [
              1,
              "#f0f921"
             ]
            ],
            "type": "contour"
           }
          ],
          "contourcarpet": [
           {
            "colorbar": {
             "outlinewidth": 0,
             "ticks": ""
            },
            "type": "contourcarpet"
           }
          ],
          "heatmap": [
           {
            "colorbar": {
             "outlinewidth": 0,
             "ticks": ""
            },
            "colorscale": [
             [
              0,
              "#0d0887"
             ],
             [
              0.1111111111111111,
              "#46039f"
             ],
             [
              0.2222222222222222,
              "#7201a8"
             ],
             [
              0.3333333333333333,
              "#9c179e"
             ],
             [
              0.4444444444444444,
              "#bd3786"
             ],
             [
              0.5555555555555556,
              "#d8576b"
             ],
             [
              0.6666666666666666,
              "#ed7953"
             ],
             [
              0.7777777777777778,
              "#fb9f3a"
             ],
             [
              0.8888888888888888,
              "#fdca26"
             ],
             [
              1,
              "#f0f921"
             ]
            ],
            "type": "heatmap"
           }
          ],
          "heatmapgl": [
           {
            "colorbar": {
             "outlinewidth": 0,
             "ticks": ""
            },
            "colorscale": [
             [
              0,
              "#0d0887"
             ],
             [
              0.1111111111111111,
              "#46039f"
             ],
             [
              0.2222222222222222,
              "#7201a8"
             ],
             [
              0.3333333333333333,
              "#9c179e"
             ],
             [
              0.4444444444444444,
              "#bd3786"
             ],
             [
              0.5555555555555556,
              "#d8576b"
             ],
             [
              0.6666666666666666,
              "#ed7953"
             ],
             [
              0.7777777777777778,
              "#fb9f3a"
             ],
             [
              0.8888888888888888,
              "#fdca26"
             ],
             [
              1,
              "#f0f921"
             ]
            ],
            "type": "heatmapgl"
           }
          ],
          "histogram": [
           {
            "marker": {
             "colorbar": {
              "outlinewidth": 0,
              "ticks": ""
             }
            },
            "type": "histogram"
           }
          ],
          "histogram2d": [
           {
            "colorbar": {
             "outlinewidth": 0,
             "ticks": ""
            },
            "colorscale": [
             [
              0,
              "#0d0887"
             ],
             [
              0.1111111111111111,
              "#46039f"
             ],
             [
              0.2222222222222222,
              "#7201a8"
             ],
             [
              0.3333333333333333,
              "#9c179e"
             ],
             [
              0.4444444444444444,
              "#bd3786"
             ],
             [
              0.5555555555555556,
              "#d8576b"
             ],
             [
              0.6666666666666666,
              "#ed7953"
             ],
             [
              0.7777777777777778,
              "#fb9f3a"
             ],
             [
              0.8888888888888888,
              "#fdca26"
             ],
             [
              1,
              "#f0f921"
             ]
            ],
            "type": "histogram2d"
           }
          ],
          "histogram2dcontour": [
           {
            "colorbar": {
             "outlinewidth": 0,
             "ticks": ""
            },
            "colorscale": [
             [
              0,
              "#0d0887"
             ],
             [
              0.1111111111111111,
              "#46039f"
             ],
             [
              0.2222222222222222,
              "#7201a8"
             ],
             [
              0.3333333333333333,
              "#9c179e"
             ],
             [
              0.4444444444444444,
              "#bd3786"
             ],
             [
              0.5555555555555556,
              "#d8576b"
             ],
             [
              0.6666666666666666,
              "#ed7953"
             ],
             [
              0.7777777777777778,
              "#fb9f3a"
             ],
             [
              0.8888888888888888,
              "#fdca26"
             ],
             [
              1,
              "#f0f921"
             ]
            ],
            "type": "histogram2dcontour"
           }
          ],
          "mesh3d": [
           {
            "colorbar": {
             "outlinewidth": 0,
             "ticks": ""
            },
            "type": "mesh3d"
           }
          ],
          "parcoords": [
           {
            "line": {
             "colorbar": {
              "outlinewidth": 0,
              "ticks": ""
             }
            },
            "type": "parcoords"
           }
          ],
          "pie": [
           {
            "automargin": true,
            "type": "pie"
           }
          ],
          "scatter": [
           {
            "marker": {
             "colorbar": {
              "outlinewidth": 0,
              "ticks": ""
             }
            },
            "type": "scatter"
           }
          ],
          "scatter3d": [
           {
            "line": {
             "colorbar": {
              "outlinewidth": 0,
              "ticks": ""
             }
            },
            "marker": {
             "colorbar": {
              "outlinewidth": 0,
              "ticks": ""
             }
            },
            "type": "scatter3d"
           }
          ],
          "scattercarpet": [
           {
            "marker": {
             "colorbar": {
              "outlinewidth": 0,
              "ticks": ""
             }
            },
            "type": "scattercarpet"
           }
          ],
          "scattergeo": [
           {
            "marker": {
             "colorbar": {
              "outlinewidth": 0,
              "ticks": ""
             }
            },
            "type": "scattergeo"
           }
          ],
          "scattergl": [
           {
            "marker": {
             "colorbar": {
              "outlinewidth": 0,
              "ticks": ""
             }
            },
            "type": "scattergl"
           }
          ],
          "scattermapbox": [
           {
            "marker": {
             "colorbar": {
              "outlinewidth": 0,
              "ticks": ""
             }
            },
            "type": "scattermapbox"
           }
          ],
          "scatterpolar": [
           {
            "marker": {
             "colorbar": {
              "outlinewidth": 0,
              "ticks": ""
             }
            },
            "type": "scatterpolar"
           }
          ],
          "scatterpolargl": [
           {
            "marker": {
             "colorbar": {
              "outlinewidth": 0,
              "ticks": ""
             }
            },
            "type": "scatterpolargl"
           }
          ],
          "scatterternary": [
           {
            "marker": {
             "colorbar": {
              "outlinewidth": 0,
              "ticks": ""
             }
            },
            "type": "scatterternary"
           }
          ],
          "surface": [
           {
            "colorbar": {
             "outlinewidth": 0,
             "ticks": ""
            },
            "colorscale": [
             [
              0,
              "#0d0887"
             ],
             [
              0.1111111111111111,
              "#46039f"
             ],
             [
              0.2222222222222222,
              "#7201a8"
             ],
             [
              0.3333333333333333,
              "#9c179e"
             ],
             [
              0.4444444444444444,
              "#bd3786"
             ],
             [
              0.5555555555555556,
              "#d8576b"
             ],
             [
              0.6666666666666666,
              "#ed7953"
             ],
             [
              0.7777777777777778,
              "#fb9f3a"
             ],
             [
              0.8888888888888888,
              "#fdca26"
             ],
             [
              1,
              "#f0f921"
             ]
            ],
            "type": "surface"
           }
          ],
          "table": [
           {
            "cells": {
             "fill": {
              "color": "#EBF0F8"
             },
             "line": {
              "color": "white"
             }
            },
            "header": {
             "fill": {
              "color": "#C8D4E3"
             },
             "line": {
              "color": "white"
             }
            },
            "type": "table"
           }
          ]
         },
         "layout": {
          "annotationdefaults": {
           "arrowcolor": "#2a3f5f",
           "arrowhead": 0,
           "arrowwidth": 1
          },
          "autotypenumbers": "strict",
          "coloraxis": {
           "colorbar": {
            "outlinewidth": 0,
            "ticks": ""
           }
          },
          "colorscale": {
           "diverging": [
            [
             0,
             "#8e0152"
            ],
            [
             0.1,
             "#c51b7d"
            ],
            [
             0.2,
             "#de77ae"
            ],
            [
             0.3,
             "#f1b6da"
            ],
            [
             0.4,
             "#fde0ef"
            ],
            [
             0.5,
             "#f7f7f7"
            ],
            [
             0.6,
             "#e6f5d0"
            ],
            [
             0.7,
             "#b8e186"
            ],
            [
             0.8,
             "#7fbc41"
            ],
            [
             0.9,
             "#4d9221"
            ],
            [
             1,
             "#276419"
            ]
           ],
           "sequential": [
            [
             0,
             "#0d0887"
            ],
            [
             0.1111111111111111,
             "#46039f"
            ],
            [
             0.2222222222222222,
             "#7201a8"
            ],
            [
             0.3333333333333333,
             "#9c179e"
            ],
            [
             0.4444444444444444,
             "#bd3786"
            ],
            [
             0.5555555555555556,
             "#d8576b"
            ],
            [
             0.6666666666666666,
             "#ed7953"
            ],
            [
             0.7777777777777778,
             "#fb9f3a"
            ],
            [
             0.8888888888888888,
             "#fdca26"
            ],
            [
             1,
             "#f0f921"
            ]
           ],
           "sequentialminus": [
            [
             0,
             "#0d0887"
            ],
            [
             0.1111111111111111,
             "#46039f"
            ],
            [
             0.2222222222222222,
             "#7201a8"
            ],
            [
             0.3333333333333333,
             "#9c179e"
            ],
            [
             0.4444444444444444,
             "#bd3786"
            ],
            [
             0.5555555555555556,
             "#d8576b"
            ],
            [
             0.6666666666666666,
             "#ed7953"
            ],
            [
             0.7777777777777778,
             "#fb9f3a"
            ],
            [
             0.8888888888888888,
             "#fdca26"
            ],
            [
             1,
             "#f0f921"
            ]
           ]
          },
          "colorway": [
           "#636efa",
           "#EF553B",
           "#00cc96",
           "#ab63fa",
           "#FFA15A",
           "#19d3f3",
           "#FF6692",
           "#B6E880",
           "#FF97FF",
           "#FECB52"
          ],
          "font": {
           "color": "#2a3f5f"
          },
          "geo": {
           "bgcolor": "white",
           "lakecolor": "white",
           "landcolor": "#E5ECF6",
           "showlakes": true,
           "showland": true,
           "subunitcolor": "white"
          },
          "hoverlabel": {
           "align": "left"
          },
          "hovermode": "closest",
          "mapbox": {
           "style": "light"
          },
          "paper_bgcolor": "white",
          "plot_bgcolor": "#E5ECF6",
          "polar": {
           "angularaxis": {
            "gridcolor": "white",
            "linecolor": "white",
            "ticks": ""
           },
           "bgcolor": "#E5ECF6",
           "radialaxis": {
            "gridcolor": "white",
            "linecolor": "white",
            "ticks": ""
           }
          },
          "scene": {
           "xaxis": {
            "backgroundcolor": "#E5ECF6",
            "gridcolor": "white",
            "gridwidth": 2,
            "linecolor": "white",
            "showbackground": true,
            "ticks": "",
            "zerolinecolor": "white"
           },
           "yaxis": {
            "backgroundcolor": "#E5ECF6",
            "gridcolor": "white",
            "gridwidth": 2,
            "linecolor": "white",
            "showbackground": true,
            "ticks": "",
            "zerolinecolor": "white"
           },
           "zaxis": {
            "backgroundcolor": "#E5ECF6",
            "gridcolor": "white",
            "gridwidth": 2,
            "linecolor": "white",
            "showbackground": true,
            "ticks": "",
            "zerolinecolor": "white"
           }
          },
          "shapedefaults": {
           "line": {
            "color": "#2a3f5f"
           }
          },
          "ternary": {
           "aaxis": {
            "gridcolor": "white",
            "linecolor": "white",
            "ticks": ""
           },
           "baxis": {
            "gridcolor": "white",
            "linecolor": "white",
            "ticks": ""
           },
           "bgcolor": "#E5ECF6",
           "caxis": {
            "gridcolor": "white",
            "linecolor": "white",
            "ticks": ""
           }
          },
          "title": {
           "x": 0.05
          },
          "xaxis": {
           "automargin": true,
           "gridcolor": "white",
           "linecolor": "white",
           "ticks": "",
           "title": {
            "standoff": 15
           },
           "zerolinecolor": "white",
           "zerolinewidth": 2
          },
          "yaxis": {
           "automargin": true,
           "gridcolor": "white",
           "linecolor": "white",
           "ticks": "",
           "title": {
            "standoff": 15
           },
           "zerolinecolor": "white",
           "zerolinewidth": 2
          }
         }
        },
        "title": {
         "text": "Relationship between Social support & Happiness Score of countries"
        },
        "xaxis": {
         "anchor": "y",
         "domain": [
          0,
          1
         ],
         "title": {
          "text": "Social support"
         }
        },
        "yaxis": {
         "anchor": "x",
         "domain": [
          0,
          1
         ],
         "title": {
          "text": "Happiness Score"
         }
        }
       }
      },
      "text/html": [
       "<div>                            <div id=\"7fdff6a9-c72e-4098-a04a-d9132dccb77b\" class=\"plotly-graph-div\" style=\"height:525px; width:100%;\"></div>            <script type=\"text/javascript\">                require([\"plotly\"], function(Plotly) {                    window.PLOTLYENV=window.PLOTLYENV || {};                                    if (document.getElementById(\"7fdff6a9-c72e-4098-a04a-d9132dccb77b\")) {                    Plotly.newPlot(                        \"7fdff6a9-c72e-4098-a04a-d9132dccb77b\",                        [{\"hovertemplate\": \"<b>%{hovertext}</b><br><br>Region=Western Europe<br>Social support=%{x}<br>Happiness Score=%{marker.size}<extra></extra>\", \"hovertext\": [\"Finland\", \"Denmark\", \"Switzerland\", \"Iceland\", \"Netherlands\", \"Norway\", \"Sweden\", \"Luxembourg\", \"Austria\", \"Germany\", \"Ireland\", \"United Kingdom\", \"Belgium\", \"France\", \"Malta\", \"Spain\", \"Italy\", \"Cyprus\", \"Portugal\", \"Greece\", \"North Cyprus\"], \"legendgroup\": \"Western Europe\", \"marker\": {\"color\": \"#636efa\", \"size\": [7.8420000000000005, 7.62, 7.571000000000001, 7.553999999999999, 7.4639999999999995, 7.392, 7.3629999999999995, 7.324, 7.268, 7.155, 7.085, 7.064, 6.834, 6.69, 6.602, 6.4910000000000005, 6.483, 6.223, 5.928999999999999, 5.723, 5.5360000000000005], \"sizemode\": \"area\", \"sizeref\": 0.019605, \"symbol\": \"circle\"}, \"mode\": \"markers\", \"name\": \"Western Europe\", \"orientation\": \"v\", \"showlegend\": true, \"type\": \"scatter\", \"x\": [1.1059999999999999, 1.1079999999999999, 1.079, 1.172, 1.079, 1.1079999999999999, 1.062, 1.003, 1.062, 0.993, 1.092, 1.062, 0.998, 1.081, 1.055, 1.057, 0.94, 0.765, 0.9390000000000001, 0.8109999999999999, 0.8059999999999999], \"xaxis\": \"x\", \"y\": [7.8420000000000005, 7.62, 7.571000000000001, 7.553999999999999, 7.4639999999999995, 7.392, 7.3629999999999995, 7.324, 7.268, 7.155, 7.085, 7.064, 6.834, 6.69, 6.602, 6.4910000000000005, 6.483, 6.223, 5.928999999999999, 5.723, 5.5360000000000005], \"yaxis\": \"y\"}, {\"hovertemplate\": \"<b>%{hovertext}</b><br><br>Region=North America and ANZ<br>Social support=%{x}<br>Happiness Score=%{marker.size}<extra></extra>\", \"hovertext\": [\"New Zealand\", \"Australia\", \"Canada\", \"United States\"], \"legendgroup\": \"North America and ANZ\", \"marker\": {\"color\": \"#EF553B\", \"size\": [7.277, 7.183, 7.103, 6.9510000000000005], \"sizemode\": \"area\", \"sizeref\": 0.019605, \"symbol\": \"circle\"}, \"mode\": \"markers\", \"name\": \"North America and ANZ\", \"orientation\": \"v\", \"showlegend\": true, \"type\": \"scatter\", \"x\": [1.094, 1.0759999999999998, 1.044, 1.03], \"xaxis\": \"x\", \"y\": [7.277, 7.183, 7.103, 6.9510000000000005], \"yaxis\": \"y\"}, {\"hovertemplate\": \"<b>%{hovertext}</b><br><br>Region=Middle East and North Africa<br>Social support=%{x}<br>Happiness Score=%{marker.size}<extra></extra>\", \"hovertext\": [\"Israel\", \"Bahrain\", \"United Arab Emirates\", \"Saudi Arabia\", \"Kuwait\", \"Libya\", \"Turkey\", \"Morocco\", \"Algeria\", \"Iraq\", \"Iran\", \"Tunisia\", \"Lebanon\", \"Palestinian Territories\", \"Jordan\", \"Egypt\", \"Yemen\"], \"legendgroup\": \"Middle East and North Africa\", \"marker\": {\"color\": \"#00cc96\", \"size\": [7.157, 6.647, 6.561, 6.494, 6.106, 5.41, 4.948, 4.918, 4.887, 4.854, 4.721, 4.596, 4.584, 4.5169999999999995, 4.395, 4.283, 3.658], \"sizemode\": \"area\", \"sizeref\": 0.019605, \"symbol\": \"circle\"}, \"mode\": \"markers\", \"name\": \"Middle East and North Africa\", \"orientation\": \"v\", \"showlegend\": true, \"type\": \"scatter\", \"x\": [1.074, 0.899, 0.86, 0.9640000000000001, 0.857, 0.821, 0.809, 0.21899999999999997, 0.765, 0.638, 0.557, 0.515, 0.868, 0.8190000000000001, 0.685, 0.647, 0.831], \"xaxis\": \"x\", \"y\": [7.157, 6.647, 6.561, 6.494, 6.106, 5.41, 4.948, 4.918, 4.887, 4.854, 4.721, 4.596, 4.584, 4.5169999999999995, 4.395, 4.283, 3.658], \"yaxis\": \"y\"}, {\"hovertemplate\": \"<b>%{hovertext}</b><br><br>Region=Latin America and Caribbean<br>Social support=%{x}<br>Happiness Score=%{marker.size}<extra></extra>\", \"hovertext\": [\"Costa Rica\", \"Guatemala\", \"Uruguay\", \"Brazil\", \"Mexico\", \"Jamaica\", \"Panama\", \"Chile\", \"El Salvador\", \"Colombia\", \"Nicaragua\", \"Argentina\", \"Honduras\", \"Peru\", \"Ecuador\", \"Bolivia\", \"Paraguay\", \"Dominican Republic\", \"Venezuela\", \"Haiti\"], \"legendgroup\": \"Latin America and Caribbean\", \"marker\": {\"color\": \"#ab63fa\", \"size\": [7.069, 6.435, 6.431, 6.33, 6.317, 6.309, 6.18, 6.172000000000001, 6.061, 6.0120000000000005, 5.972, 5.928999999999999, 5.919, 5.84, 5.763999999999999, 5.716, 5.653, 5.545, 4.8919999999999995, 3.615], \"sizemode\": \"area\", \"sizeref\": 0.019605, \"symbol\": \"circle\"}, \"mode\": \"markers\", \"name\": \"Latin America and Caribbean\", \"orientation\": \"v\", \"showlegend\": true, \"type\": \"scatter\", \"x\": [0.966, 0.79, 1.042, 0.9440000000000001, 0.83, 0.932, 0.976, 0.946, 0.675, 0.866, 0.904, 0.98, 0.787, 0.833, 0.8059999999999999, 0.782, 0.97, 0.879, 0.897, 0.17300000000000001], \"xaxis\": \"x\", \"y\": [7.069, 6.435, 6.431, 6.33, 6.317, 6.309, 6.18, 6.172000000000001, 6.061, 6.0120000000000005, 5.972, 5.928999999999999, 5.919, 5.84, 5.763999999999999, 5.716, 5.653, 5.545, 4.8919999999999995, 3.615], \"yaxis\": \"y\"}, {\"hovertemplate\": \"<b>%{hovertext}</b><br><br>Region=Central and Eastern Europe<br>Social support=%{x}<br>Happiness Score=%{marker.size}<extra></extra>\", \"hovertext\": [\"Czech Republic\", \"Slovenia\", \"Kosovo\", \"Slovakia\", \"Lithuania\", \"Estonia\", \"Poland\", \"Romania\", \"Serbia\", \"Latvia\", \"Hungary\", \"Croatia\", \"Bosnia and Herzegovina\", \"Montenegro\", \"Bulgaria\", \"Albania\", \"North Macedonia\"], \"legendgroup\": \"Central and Eastern Europe\", \"marker\": {\"color\": \"#FFA15A\", \"size\": [6.965, 6.461, 6.372000000000001, 6.331, 6.255, 6.189, 6.166, 6.14, 6.077999999999999, 6.032, 5.992000000000001, 5.882000000000001, 5.813, 5.581, 5.266, 5.117, 5.101], \"sizemode\": \"area\", \"sizeref\": 0.019605, \"symbol\": \"circle\"}, \"mode\": \"markers\", \"name\": \"Central and Eastern Europe\", \"orientation\": \"v\", \"showlegend\": true, \"type\": \"scatter\", \"x\": [1.09, 1.093, 0.807, 1.0659999999999998, 1.065, 1.079, 0.982, 0.8320000000000001, 0.924, 1.047, 1.083, 1.0390000000000001, 0.919, 0.8909999999999999, 1.055, 0.529, 0.772], \"xaxis\": \"x\", \"y\": [6.965, 6.461, 6.372000000000001, 6.331, 6.255, 6.189, 6.166, 6.14, 6.077999999999999, 6.032, 5.992000000000001, 5.882000000000001, 5.813, 5.581, 5.266, 5.117, 5.101], \"yaxis\": \"y\"}, {\"hovertemplate\": \"<b>%{hovertext}</b><br><br>Region=East Asia<br>Social support=%{x}<br>Happiness Score=%{marker.size}<extra></extra>\", \"hovertext\": [\"Taiwan Province of China\", \"Japan\", \"South Korea\", \"Mongolia\", \"Hong Kong S.A.R. of China\", \"China\"], \"legendgroup\": \"East Asia\", \"marker\": {\"color\": \"#19d3f3\", \"size\": [6.584, 5.94, 5.845, 5.6770000000000005, 5.477, 5.3389999999999995], \"sizemode\": \"area\", \"sizeref\": 0.019605, \"symbol\": \"circle\"}, \"mode\": \"markers\", \"name\": \"East Asia\", \"orientation\": \"v\", \"showlegend\": true, \"type\": \"scatter\", \"x\": [0.982, 0.9490000000000001, 0.758, 1.065, 0.841, 0.785], \"xaxis\": \"x\", \"y\": [6.584, 5.94, 5.845, 5.6770000000000005, 5.477, 5.3389999999999995], \"yaxis\": \"y\"}, {\"hovertemplate\": \"<b>%{hovertext}</b><br><br>Region=Southeast Asia<br>Social support=%{x}<br>Happiness Score=%{marker.size}<extra></extra>\", \"hovertext\": [\"Singapore\", \"Thailand\", \"Philippines\", \"Vietnam\", \"Malaysia\", \"Indonesia\", \"Laos\", \"Cambodia\", \"Myanmar\"], \"legendgroup\": \"Southeast Asia\", \"marker\": {\"color\": \"#FF6692\", \"size\": [6.377000000000001, 5.985, 5.88, 5.4110000000000005, 5.3839999999999995, 5.345, 5.03, 4.83, 4.426], \"sizemode\": \"area\", \"sizeref\": 0.019605, \"symbol\": \"circle\"}, \"mode\": \"markers\", \"name\": \"Southeast Asia\", \"orientation\": \"v\", \"showlegend\": true, \"type\": \"scatter\", \"x\": [1.0190000000000001, 0.9570000000000001, 0.828, 0.873, 0.797, 0.7859999999999999, 0.598, 0.68, 0.713], \"xaxis\": \"x\", \"y\": [6.377000000000001, 5.985, 5.88, 5.4110000000000005, 5.3839999999999995, 5.345, 5.03, 4.83, 4.426], \"yaxis\": \"y\"}, {\"hovertemplate\": \"<b>%{hovertext}</b><br><br>Region=Commonwealth of Independent States<br>Social support=%{x}<br>Happiness Score=%{marker.size}<extra></extra>\", \"hovertext\": [\"Uzbekistan\", \"Kazakhstan\", \"Moldova\", \"Kyrgyzstan\", \"Belarus\", \"Russia\", \"Tajikistan\", \"Armenia\", \"Azerbaijan\", \"Turkmenistan\", \"Georgia\", \"Ukraine\"], \"legendgroup\": \"Commonwealth of Independent States\", \"marker\": {\"color\": \"#B6E880\", \"size\": [6.178999999999999, 6.152, 5.766, 5.744, 5.534, 5.477, 5.466, 5.2829999999999995, 5.171, 5.066, 4.891, 4.875], \"sizemode\": \"area\", \"sizeref\": 0.019605, \"symbol\": \"circle\"}, \"mode\": \"markers\", \"name\": \"Commonwealth of Independent States\", \"orientation\": \"v\", \"showlegend\": true, \"type\": \"scatter\", \"x\": [1.0270000000000001, 1.103, 0.888, 0.971, 1.0070000000000001, 0.992, 0.895, 0.758, 0.841, 1.172, 0.47, 0.958], \"xaxis\": \"x\", \"y\": [6.178999999999999, 6.152, 5.766, 5.744, 5.534, 5.477, 5.466, 5.2829999999999995, 5.171, 5.066, 4.891, 4.875], \"yaxis\": \"y\"}, {\"hovertemplate\": \"<b>%{hovertext}</b><br><br>Region=Sub-Saharan Africa<br>Social support=%{x}<br>Happiness Score=%{marker.size}<extra></extra>\", \"hovertext\": [\"Mauritius\", \"Congo (Brazzaville)\", \"Ivory Coast\", \"Cameroon\", \"Senegal\", \"Ghana\", \"Niger\", \"Gambia\", \"Benin\", \"Guinea\", \"South Africa\", \"Gabon\", \"Burkina Faso\", \"Mozambique\", \"Nigeria\", \"Mali\", \"Uganda\", \"Liberia\", \"Kenya\", \"Namibia\", \"Chad\", \"Swaziland\", \"Comoros\", \"Ethiopia\", \"Mauritania\", \"Madagascar\", \"Togo\", \"Zambia\", \"Sierra Leone\", \"Burundi\", \"Tanzania\", \"Malawi\", \"Lesotho\", \"Botswana\", \"Rwanda\", \"Zimbabwe\"], \"legendgroup\": \"Sub-Saharan Africa\", \"marker\": {\"color\": \"#FF97FF\", \"size\": [6.0489999999999995, 5.3420000000000005, 5.306, 5.142, 5.132000000000001, 5.088, 5.074, 5.051, 5.045, 4.984, 4.956, 4.852, 4.834, 4.794, 4.7589999999999995, 4.723, 4.636, 4.625, 4.607, 4.574, 4.355, 4.308, 4.289, 4.275, 4.227, 4.208, 4.107, 4.073, 3.8489999999999998, 3.775, 3.623, 3.6, 3.512, 3.467, 3.415, 3.145], \"sizemode\": \"area\", \"sizeref\": 0.019605, \"symbol\": \"circle\"}, \"mode\": \"markers\", \"name\": \"Sub-Saharan Africa\", \"orientation\": \"v\", \"showlegend\": true, \"type\": \"scatter\", \"x\": [0.996, 0.392, 0.409, 0.556, 0.5579999999999999, 0.595, 0.402, 0.511, 0.057999999999999996, 0.39899999999999997, 0.895, 0.7070000000000001, 0.47200000000000003, 0.634, 0.625, 0.59, 0.718, 0.58, 0.508, 0.8009999999999999, 0.353, 0.693, 0.36700000000000005, 0.679, 0.7490000000000001, 0.503, 0.239, 0.552, 0.377, 0.062, 0.54, 0.168, 0.731, 0.7240000000000001, 0.20199999999999999, 0.649], \"xaxis\": \"x\", \"y\": [6.0489999999999995, 5.3420000000000005, 5.306, 5.142, 5.132000000000001, 5.088, 5.074, 5.051, 5.045, 4.984, 4.956, 4.852, 4.834, 4.794, 4.7589999999999995, 4.723, 4.636, 4.625, 4.607, 4.574, 4.355, 4.308, 4.289, 4.275, 4.227, 4.208, 4.107, 4.073, 3.8489999999999998, 3.775, 3.623, 3.6, 3.512, 3.467, 3.415, 3.145], \"yaxis\": \"y\"}, {\"hovertemplate\": \"<b>%{hovertext}</b><br><br>Region=South Asia<br>Social support=%{x}<br>Happiness Score=%{marker.size}<extra></extra>\", \"hovertext\": [\"Nepal\", \"Maldives\", \"Bangladesh\", \"Pakistan\", \"Sri Lanka\", \"India\", \"Afghanistan\"], \"legendgroup\": \"South Asia\", \"marker\": {\"color\": \"#FECB52\", \"size\": [5.269, 5.1979999999999995, 5.025, 4.934, 4.325, 3.819, 2.523], \"sizemode\": \"area\", \"sizeref\": 0.019605, \"symbol\": \"circle\"}, \"mode\": \"markers\", \"name\": \"South Asia\", \"orientation\": \"v\", \"showlegend\": true, \"type\": \"scatter\", \"x\": [0.7020000000000001, 1.015, 0.52, 0.423, 0.82, 0.316, 0.0], \"xaxis\": \"x\", \"y\": [5.269, 5.1979999999999995, 5.025, 4.934, 4.325, 3.819, 2.523], \"yaxis\": \"y\"}],                        {\"legend\": {\"itemsizing\": \"constant\", \"title\": {\"text\": \"Region\"}, \"tracegroupgap\": 0}, \"template\": {\"data\": {\"bar\": [{\"error_x\": {\"color\": \"#2a3f5f\"}, \"error_y\": {\"color\": \"#2a3f5f\"}, \"marker\": {\"line\": {\"color\": \"#E5ECF6\", \"width\": 0.5}}, \"type\": \"bar\"}], \"barpolar\": [{\"marker\": {\"line\": {\"color\": \"#E5ECF6\", \"width\": 0.5}}, \"type\": \"barpolar\"}], \"carpet\": [{\"aaxis\": {\"endlinecolor\": \"#2a3f5f\", \"gridcolor\": \"white\", \"linecolor\": \"white\", \"minorgridcolor\": \"white\", \"startlinecolor\": \"#2a3f5f\"}, \"baxis\": {\"endlinecolor\": \"#2a3f5f\", \"gridcolor\": \"white\", \"linecolor\": \"white\", \"minorgridcolor\": \"white\", \"startlinecolor\": \"#2a3f5f\"}, \"type\": \"carpet\"}], \"choropleth\": [{\"colorbar\": {\"outlinewidth\": 0, \"ticks\": \"\"}, \"type\": \"choropleth\"}], \"contour\": [{\"colorbar\": {\"outlinewidth\": 0, \"ticks\": \"\"}, \"colorscale\": [[0.0, \"#0d0887\"], [0.1111111111111111, \"#46039f\"], [0.2222222222222222, \"#7201a8\"], [0.3333333333333333, \"#9c179e\"], [0.4444444444444444, \"#bd3786\"], [0.5555555555555556, \"#d8576b\"], [0.6666666666666666, \"#ed7953\"], [0.7777777777777778, \"#fb9f3a\"], [0.8888888888888888, \"#fdca26\"], [1.0, \"#f0f921\"]], \"type\": \"contour\"}], \"contourcarpet\": [{\"colorbar\": {\"outlinewidth\": 0, \"ticks\": \"\"}, \"type\": \"contourcarpet\"}], \"heatmap\": [{\"colorbar\": {\"outlinewidth\": 0, \"ticks\": \"\"}, \"colorscale\": [[0.0, \"#0d0887\"], [0.1111111111111111, \"#46039f\"], [0.2222222222222222, \"#7201a8\"], [0.3333333333333333, \"#9c179e\"], [0.4444444444444444, \"#bd3786\"], [0.5555555555555556, \"#d8576b\"], [0.6666666666666666, \"#ed7953\"], [0.7777777777777778, \"#fb9f3a\"], [0.8888888888888888, \"#fdca26\"], [1.0, \"#f0f921\"]], \"type\": \"heatmap\"}], \"heatmapgl\": [{\"colorbar\": {\"outlinewidth\": 0, \"ticks\": \"\"}, \"colorscale\": [[0.0, \"#0d0887\"], [0.1111111111111111, \"#46039f\"], [0.2222222222222222, \"#7201a8\"], [0.3333333333333333, \"#9c179e\"], [0.4444444444444444, \"#bd3786\"], [0.5555555555555556, \"#d8576b\"], [0.6666666666666666, \"#ed7953\"], [0.7777777777777778, \"#fb9f3a\"], [0.8888888888888888, \"#fdca26\"], [1.0, \"#f0f921\"]], \"type\": \"heatmapgl\"}], \"histogram\": [{\"marker\": {\"colorbar\": {\"outlinewidth\": 0, \"ticks\": \"\"}}, \"type\": \"histogram\"}], \"histogram2d\": [{\"colorbar\": {\"outlinewidth\": 0, \"ticks\": \"\"}, \"colorscale\": [[0.0, \"#0d0887\"], [0.1111111111111111, \"#46039f\"], [0.2222222222222222, \"#7201a8\"], [0.3333333333333333, \"#9c179e\"], [0.4444444444444444, \"#bd3786\"], [0.5555555555555556, \"#d8576b\"], [0.6666666666666666, \"#ed7953\"], [0.7777777777777778, \"#fb9f3a\"], [0.8888888888888888, \"#fdca26\"], [1.0, \"#f0f921\"]], \"type\": \"histogram2d\"}], \"histogram2dcontour\": [{\"colorbar\": {\"outlinewidth\": 0, \"ticks\": \"\"}, \"colorscale\": [[0.0, \"#0d0887\"], [0.1111111111111111, \"#46039f\"], [0.2222222222222222, \"#7201a8\"], [0.3333333333333333, \"#9c179e\"], [0.4444444444444444, \"#bd3786\"], [0.5555555555555556, \"#d8576b\"], [0.6666666666666666, \"#ed7953\"], [0.7777777777777778, \"#fb9f3a\"], [0.8888888888888888, \"#fdca26\"], [1.0, \"#f0f921\"]], \"type\": \"histogram2dcontour\"}], \"mesh3d\": [{\"colorbar\": {\"outlinewidth\": 0, \"ticks\": \"\"}, \"type\": \"mesh3d\"}], \"parcoords\": [{\"line\": {\"colorbar\": {\"outlinewidth\": 0, \"ticks\": \"\"}}, \"type\": \"parcoords\"}], \"pie\": [{\"automargin\": true, \"type\": \"pie\"}], \"scatter\": [{\"marker\": {\"colorbar\": {\"outlinewidth\": 0, \"ticks\": \"\"}}, \"type\": \"scatter\"}], \"scatter3d\": [{\"line\": {\"colorbar\": {\"outlinewidth\": 0, \"ticks\": \"\"}}, \"marker\": {\"colorbar\": {\"outlinewidth\": 0, \"ticks\": \"\"}}, \"type\": \"scatter3d\"}], \"scattercarpet\": [{\"marker\": {\"colorbar\": {\"outlinewidth\": 0, \"ticks\": \"\"}}, \"type\": \"scattercarpet\"}], \"scattergeo\": [{\"marker\": {\"colorbar\": {\"outlinewidth\": 0, \"ticks\": \"\"}}, \"type\": \"scattergeo\"}], \"scattergl\": [{\"marker\": {\"colorbar\": {\"outlinewidth\": 0, \"ticks\": \"\"}}, \"type\": \"scattergl\"}], \"scattermapbox\": [{\"marker\": {\"colorbar\": {\"outlinewidth\": 0, \"ticks\": \"\"}}, \"type\": \"scattermapbox\"}], \"scatterpolar\": [{\"marker\": {\"colorbar\": {\"outlinewidth\": 0, \"ticks\": \"\"}}, \"type\": \"scatterpolar\"}], \"scatterpolargl\": [{\"marker\": {\"colorbar\": {\"outlinewidth\": 0, \"ticks\": \"\"}}, \"type\": \"scatterpolargl\"}], \"scatterternary\": [{\"marker\": {\"colorbar\": {\"outlinewidth\": 0, \"ticks\": \"\"}}, \"type\": \"scatterternary\"}], \"surface\": [{\"colorbar\": {\"outlinewidth\": 0, \"ticks\": \"\"}, \"colorscale\": [[0.0, \"#0d0887\"], [0.1111111111111111, \"#46039f\"], [0.2222222222222222, \"#7201a8\"], [0.3333333333333333, \"#9c179e\"], [0.4444444444444444, \"#bd3786\"], [0.5555555555555556, \"#d8576b\"], [0.6666666666666666, \"#ed7953\"], [0.7777777777777778, \"#fb9f3a\"], [0.8888888888888888, \"#fdca26\"], [1.0, \"#f0f921\"]], \"type\": \"surface\"}], \"table\": [{\"cells\": {\"fill\": {\"color\": \"#EBF0F8\"}, \"line\": {\"color\": \"white\"}}, \"header\": {\"fill\": {\"color\": \"#C8D4E3\"}, \"line\": {\"color\": \"white\"}}, \"type\": \"table\"}]}, \"layout\": {\"annotationdefaults\": {\"arrowcolor\": \"#2a3f5f\", \"arrowhead\": 0, \"arrowwidth\": 1}, \"autotypenumbers\": \"strict\", \"coloraxis\": {\"colorbar\": {\"outlinewidth\": 0, \"ticks\": \"\"}}, \"colorscale\": {\"diverging\": [[0, \"#8e0152\"], [0.1, \"#c51b7d\"], [0.2, \"#de77ae\"], [0.3, \"#f1b6da\"], [0.4, \"#fde0ef\"], [0.5, \"#f7f7f7\"], [0.6, \"#e6f5d0\"], [0.7, \"#b8e186\"], [0.8, \"#7fbc41\"], [0.9, \"#4d9221\"], [1, \"#276419\"]], \"sequential\": [[0.0, \"#0d0887\"], [0.1111111111111111, \"#46039f\"], [0.2222222222222222, \"#7201a8\"], [0.3333333333333333, \"#9c179e\"], [0.4444444444444444, \"#bd3786\"], [0.5555555555555556, \"#d8576b\"], [0.6666666666666666, \"#ed7953\"], [0.7777777777777778, \"#fb9f3a\"], [0.8888888888888888, \"#fdca26\"], [1.0, \"#f0f921\"]], \"sequentialminus\": [[0.0, \"#0d0887\"], [0.1111111111111111, \"#46039f\"], [0.2222222222222222, \"#7201a8\"], [0.3333333333333333, \"#9c179e\"], [0.4444444444444444, \"#bd3786\"], [0.5555555555555556, \"#d8576b\"], [0.6666666666666666, \"#ed7953\"], [0.7777777777777778, \"#fb9f3a\"], [0.8888888888888888, \"#fdca26\"], [1.0, \"#f0f921\"]]}, \"colorway\": [\"#636efa\", \"#EF553B\", \"#00cc96\", \"#ab63fa\", \"#FFA15A\", \"#19d3f3\", \"#FF6692\", \"#B6E880\", \"#FF97FF\", \"#FECB52\"], \"font\": {\"color\": \"#2a3f5f\"}, \"geo\": {\"bgcolor\": \"white\", \"lakecolor\": \"white\", \"landcolor\": \"#E5ECF6\", \"showlakes\": true, \"showland\": true, \"subunitcolor\": \"white\"}, \"hoverlabel\": {\"align\": \"left\"}, \"hovermode\": \"closest\", \"mapbox\": {\"style\": \"light\"}, \"paper_bgcolor\": \"white\", \"plot_bgcolor\": \"#E5ECF6\", \"polar\": {\"angularaxis\": {\"gridcolor\": \"white\", \"linecolor\": \"white\", \"ticks\": \"\"}, \"bgcolor\": \"#E5ECF6\", \"radialaxis\": {\"gridcolor\": \"white\", \"linecolor\": \"white\", \"ticks\": \"\"}}, \"scene\": {\"xaxis\": {\"backgroundcolor\": \"#E5ECF6\", \"gridcolor\": \"white\", \"gridwidth\": 2, \"linecolor\": \"white\", \"showbackground\": true, \"ticks\": \"\", \"zerolinecolor\": \"white\"}, \"yaxis\": {\"backgroundcolor\": \"#E5ECF6\", \"gridcolor\": \"white\", \"gridwidth\": 2, \"linecolor\": \"white\", \"showbackground\": true, \"ticks\": \"\", \"zerolinecolor\": \"white\"}, \"zaxis\": {\"backgroundcolor\": \"#E5ECF6\", \"gridcolor\": \"white\", \"gridwidth\": 2, \"linecolor\": \"white\", \"showbackground\": true, \"ticks\": \"\", \"zerolinecolor\": \"white\"}}, \"shapedefaults\": {\"line\": {\"color\": \"#2a3f5f\"}}, \"ternary\": {\"aaxis\": {\"gridcolor\": \"white\", \"linecolor\": \"white\", \"ticks\": \"\"}, \"baxis\": {\"gridcolor\": \"white\", \"linecolor\": \"white\", \"ticks\": \"\"}, \"bgcolor\": \"#E5ECF6\", \"caxis\": {\"gridcolor\": \"white\", \"linecolor\": \"white\", \"ticks\": \"\"}}, \"title\": {\"x\": 0.05}, \"xaxis\": {\"automargin\": true, \"gridcolor\": \"white\", \"linecolor\": \"white\", \"ticks\": \"\", \"title\": {\"standoff\": 15}, \"zerolinecolor\": \"white\", \"zerolinewidth\": 2}, \"yaxis\": {\"automargin\": true, \"gridcolor\": \"white\", \"linecolor\": \"white\", \"ticks\": \"\", \"title\": {\"standoff\": 15}, \"zerolinecolor\": \"white\", \"zerolinewidth\": 2}}}, \"title\": {\"text\": \"Relationship between Social support & Happiness Score of countries\"}, \"xaxis\": {\"anchor\": \"y\", \"domain\": [0.0, 1.0], \"title\": {\"text\": \"Social support\"}}, \"yaxis\": {\"anchor\": \"x\", \"domain\": [0.0, 1.0], \"title\": {\"text\": \"Happiness Score\"}}},                        {\"responsive\": true}                    ).then(function(){\n",
       "                            \n",
       "var gd = document.getElementById('7fdff6a9-c72e-4098-a04a-d9132dccb77b');\n",
       "var x = new MutationObserver(function (mutations, observer) {{\n",
       "        var display = window.getComputedStyle(gd).display;\n",
       "        if (!display || display === 'none') {{\n",
       "            console.log([gd, 'removed!']);\n",
       "            Plotly.purge(gd);\n",
       "            observer.disconnect();\n",
       "        }}\n",
       "}});\n",
       "\n",
       "// Listen for the removal of the full notebook cells\n",
       "var notebookContainer = gd.closest('#notebook-container');\n",
       "if (notebookContainer) {{\n",
       "    x.observe(notebookContainer, {childList: true});\n",
       "}}\n",
       "\n",
       "// Listen for the clearing of the current output cell\n",
       "var outputEl = gd.closest('.output');\n",
       "if (outputEl) {{\n",
       "    x.observe(outputEl, {childList: true});\n",
       "}}\n",
       "\n",
       "                        })                };                });            </script>        </div>"
      ]
     },
     "metadata": {},
     "output_type": "display_data"
    }
   ],
   "source": [
    "fig = px.scatter(data_frame=df,x='Social support',y= 'Happiness Score', \n",
    "                 title=\"Relationship between Social support & Happiness Score of countries\", \n",
    "                labels={\n",
    "                     \"Social support\": \"Social support\",\n",
    "                     \"Happiness Score\": \"Happiness Score\" } , size='Happiness Score', color =  'Region', hover_name='Country'       \n",
    "                 )\n",
    "fig.show()"
   ]
  },
  {
   "cell_type": "code",
   "execution_count": 94,
   "metadata": {},
   "outputs": [
    {
     "data": {
      "application/vnd.plotly.v1+json": {
       "config": {
        "plotlyServerURL": "https://plot.ly"
       },
       "data": [
        {
         "hovertemplate": "<b>%{hovertext}</b><br><br>Region=Western Europe<br>Health (Life Expectancy)=%{x}<br>Happiness Score=%{marker.size}<extra></extra>",
         "hovertext": [
          "Finland",
          "Denmark",
          "Switzerland",
          "Iceland",
          "Netherlands",
          "Norway",
          "Sweden",
          "Luxembourg",
          "Austria",
          "Germany",
          "Ireland",
          "United Kingdom",
          "Belgium",
          "France",
          "Malta",
          "Spain",
          "Italy",
          "Cyprus",
          "Portugal",
          "Greece",
          "North Cyprus"
         ],
         "legendgroup": "Western Europe",
         "marker": {
          "color": "#636efa",
          "size": [
           7.8420000000000005,
           7.62,
           7.571000000000001,
           7.553999999999999,
           7.4639999999999995,
           7.392,
           7.3629999999999995,
           7.324,
           7.268,
           7.155,
           7.085,
           7.064,
           6.834,
           6.69,
           6.602,
           6.4910000000000005,
           6.483,
           6.223,
           5.928999999999999,
           5.723,
           5.5360000000000005
          ],
          "sizemode": "area",
          "sizeref": 0.019605,
          "symbol": "circle"
         },
         "mode": "markers",
         "name": "Western Europe",
         "orientation": "v",
         "showlegend": true,
         "type": "scatter",
         "x": [
          0.741,
          0.763,
          0.816,
          0.772,
          0.753,
          0.782,
          0.763,
          0.76,
          0.782,
          0.757,
          0.753,
          0.757,
          0.747,
          0.804,
          0.747,
          0.826,
          0.7979999999999999,
          0.8009999999999999,
          0.76,
          0.76,
          0.8009999999999999
         ],
         "xaxis": "x",
         "y": [
          7.8420000000000005,
          7.62,
          7.571000000000001,
          7.553999999999999,
          7.4639999999999995,
          7.392,
          7.3629999999999995,
          7.324,
          7.268,
          7.155,
          7.085,
          7.064,
          6.834,
          6.69,
          6.602,
          6.4910000000000005,
          6.483,
          6.223,
          5.928999999999999,
          5.723,
          5.5360000000000005
         ],
         "yaxis": "y"
        },
        {
         "hovertemplate": "<b>%{hovertext}</b><br><br>Region=North America and ANZ<br>Health (Life Expectancy)=%{x}<br>Happiness Score=%{marker.size}<extra></extra>",
         "hovertext": [
          "New Zealand",
          "Australia",
          "Canada",
          "United States"
         ],
         "legendgroup": "North America and ANZ",
         "marker": {
          "color": "#EF553B",
          "size": [
           7.277,
           7.183,
           7.103,
           6.9510000000000005
          ],
          "sizemode": "area",
          "sizeref": 0.019605,
          "symbol": "circle"
         },
         "mode": "markers",
         "name": "North America and ANZ",
         "orientation": "v",
         "showlegend": true,
         "type": "scatter",
         "x": [
          0.785,
          0.8009999999999999,
          0.7979999999999999,
          0.621
         ],
         "xaxis": "x",
         "y": [
          7.277,
          7.183,
          7.103,
          6.9510000000000005
         ],
         "yaxis": "y"
        },
        {
         "hovertemplate": "<b>%{hovertext}</b><br><br>Region=Middle East and North Africa<br>Health (Life Expectancy)=%{x}<br>Happiness Score=%{marker.size}<extra></extra>",
         "hovertext": [
          "Israel",
          "Bahrain",
          "United Arab Emirates",
          "Saudi Arabia",
          "Kuwait",
          "Libya",
          "Turkey",
          "Morocco",
          "Algeria",
          "Iraq",
          "Iran",
          "Tunisia",
          "Lebanon",
          "Palestinian Territories",
          "Jordan",
          "Egypt",
          "Yemen"
         ],
         "legendgroup": "Middle East and North Africa",
         "marker": {
          "color": "#00cc96",
          "size": [
           7.157,
           6.647,
           6.561,
           6.494,
           6.106,
           5.41,
           4.948,
           4.918,
           4.887,
           4.854,
           4.721,
           4.596,
           4.584,
           4.5169999999999995,
           4.395,
           4.283,
           3.658
          ],
          "sizemode": "area",
          "sizeref": 0.019605,
          "symbol": "circle"
         },
         "mode": "markers",
         "name": "Middle East and North Africa",
         "orientation": "v",
         "showlegend": true,
         "type": "scatter",
         "x": [
          0.7879999999999999,
          0.662,
          0.594,
          0.5710000000000001,
          0.58,
          0.435,
          0.59,
          0.5579999999999999,
          0.552,
          0.381,
          0.561,
          0.59,
          0.595,
          0.434,
          0.583,
          0.426,
          0.272
         ],
         "xaxis": "x",
         "y": [
          7.157,
          6.647,
          6.561,
          6.494,
          6.106,
          5.41,
          4.948,
          4.918,
          4.887,
          4.854,
          4.721,
          4.596,
          4.584,
          4.5169999999999995,
          4.395,
          4.283,
          3.658
         ],
         "yaxis": "y"
        },
        {
         "hovertemplate": "<b>%{hovertext}</b><br><br>Region=Latin America and Caribbean<br>Health (Life Expectancy)=%{x}<br>Happiness Score=%{marker.size}<extra></extra>",
         "hovertext": [
          "Costa Rica",
          "Guatemala",
          "Uruguay",
          "Brazil",
          "Mexico",
          "Jamaica",
          "Panama",
          "Chile",
          "El Salvador",
          "Colombia",
          "Nicaragua",
          "Argentina",
          "Honduras",
          "Peru",
          "Ecuador",
          "Bolivia",
          "Paraguay",
          "Dominican Republic",
          "Venezuela",
          "Haiti"
         ],
         "legendgroup": "Latin America and Caribbean",
         "marker": {
          "color": "#ab63fa",
          "size": [
           7.069,
           6.435,
           6.431,
           6.33,
           6.317,
           6.309,
           6.18,
           6.172000000000001,
           6.061,
           6.0120000000000005,
           5.972,
           5.928999999999999,
           5.919,
           5.84,
           5.763999999999999,
           5.716,
           5.653,
           5.545,
           4.8919999999999995,
           3.615
          ],
          "sizemode": "area",
          "sizeref": 0.019605,
          "symbol": "circle"
         },
         "mode": "markers",
         "name": "Latin America and Caribbean",
         "orientation": "v",
         "showlegend": true,
         "type": "scatter",
         "x": [
          0.722,
          0.519,
          0.649,
          0.5710000000000001,
          0.634,
          0.599,
          0.667,
          0.6779999999999999,
          0.565,
          0.615,
          0.604,
          0.6459999999999999,
          0.593,
          0.623,
          0.64,
          0.486,
          0.5489999999999999,
          0.555,
          0.574,
          0.22699999999999998
         ],
         "xaxis": "x",
         "y": [
          7.069,
          6.435,
          6.431,
          6.33,
          6.317,
          6.309,
          6.18,
          6.172000000000001,
          6.061,
          6.0120000000000005,
          5.972,
          5.928999999999999,
          5.919,
          5.84,
          5.763999999999999,
          5.716,
          5.653,
          5.545,
          4.8919999999999995,
          3.615
         ],
         "yaxis": "y"
        },
        {
         "hovertemplate": "<b>%{hovertext}</b><br><br>Region=Central and Eastern Europe<br>Health (Life Expectancy)=%{x}<br>Happiness Score=%{marker.size}<extra></extra>",
         "hovertext": [
          "Czech Republic",
          "Slovenia",
          "Kosovo",
          "Slovakia",
          "Lithuania",
          "Estonia",
          "Poland",
          "Romania",
          "Serbia",
          "Latvia",
          "Hungary",
          "Croatia",
          "Bosnia and Herzegovina",
          "Montenegro",
          "Bulgaria",
          "Albania",
          "North Macedonia"
         ],
         "legendgroup": "Central and Eastern Europe",
         "marker": {
          "color": "#FFA15A",
          "size": [
           6.965,
           6.461,
           6.372000000000001,
           6.331,
           6.255,
           6.189,
           6.166,
           6.14,
           6.077999999999999,
           6.032,
           5.992000000000001,
           5.882000000000001,
           5.813,
           5.581,
           5.266,
           5.117,
           5.101
          ],
          "sizemode": "area",
          "sizeref": 0.019605,
          "symbol": "circle"
         },
         "mode": "markers",
         "name": "Central and Eastern Europe",
         "orientation": "v",
         "showlegend": true,
         "type": "scatter",
         "x": [
          0.703,
          0.722,
          0.483,
          0.653,
          0.612,
          0.64,
          0.6679999999999999,
          0.595,
          0.634,
          0.5870000000000001,
          0.615,
          0.703,
          0.618,
          0.637,
          0.583,
          0.6459999999999999,
          0.535
         ],
         "xaxis": "x",
         "y": [
          6.965,
          6.461,
          6.372000000000001,
          6.331,
          6.255,
          6.189,
          6.166,
          6.14,
          6.077999999999999,
          6.032,
          5.992000000000001,
          5.882000000000001,
          5.813,
          5.581,
          5.266,
          5.117,
          5.101
         ],
         "yaxis": "y"
        },
        {
         "hovertemplate": "<b>%{hovertext}</b><br><br>Region=East Asia<br>Health (Life Expectancy)=%{x}<br>Happiness Score=%{marker.size}<extra></extra>",
         "hovertext": [
          "Taiwan Province of China",
          "Japan",
          "South Korea",
          "Mongolia",
          "Hong Kong S.A.R. of China",
          "China"
         ],
         "legendgroup": "East Asia",
         "marker": {
          "color": "#19d3f3",
          "size": [
           6.584,
           5.94,
           5.845,
           5.6770000000000005,
           5.477,
           5.3389999999999995
          ],
          "sizemode": "area",
          "sizeref": 0.019605,
          "symbol": "circle"
         },
         "mode": "markers",
         "name": "East Asia",
         "orientation": "v",
         "showlegend": true,
         "type": "scatter",
         "x": [
          0.665,
          0.838,
          0.8009999999999999,
          0.442,
          0.893,
          0.665
         ],
         "xaxis": "x",
         "y": [
          6.584,
          5.94,
          5.845,
          5.6770000000000005,
          5.477,
          5.3389999999999995
         ],
         "yaxis": "y"
        },
        {
         "hovertemplate": "<b>%{hovertext}</b><br><br>Region=Southeast Asia<br>Health (Life Expectancy)=%{x}<br>Happiness Score=%{marker.size}<extra></extra>",
         "hovertext": [
          "Singapore",
          "Thailand",
          "Philippines",
          "Vietnam",
          "Malaysia",
          "Indonesia",
          "Laos",
          "Cambodia",
          "Myanmar"
         ],
         "legendgroup": "Southeast Asia",
         "marker": {
          "color": "#FF6692",
          "size": [
           6.377000000000001,
           5.985,
           5.88,
           5.4110000000000005,
           5.3839999999999995,
           5.345,
           5.03,
           4.83,
           4.426
          ],
          "sizemode": "area",
          "sizeref": 0.019605,
          "symbol": "circle"
         },
         "mode": "markers",
         "name": "Southeast Asia",
         "orientation": "v",
         "showlegend": true,
         "type": "scatter",
         "x": [
          0.897,
          0.596,
          0.426,
          0.616,
          0.5870000000000001,
          0.433,
          0.33,
          0.426,
          0.341
         ],
         "xaxis": "x",
         "y": [
          6.377000000000001,
          5.985,
          5.88,
          5.4110000000000005,
          5.3839999999999995,
          5.345,
          5.03,
          4.83,
          4.426
         ],
         "yaxis": "y"
        },
        {
         "hovertemplate": "<b>%{hovertext}</b><br><br>Region=Commonwealth of Independent States<br>Health (Life Expectancy)=%{x}<br>Happiness Score=%{marker.size}<extra></extra>",
         "hovertext": [
          "Uzbekistan",
          "Kazakhstan",
          "Moldova",
          "Kyrgyzstan",
          "Belarus",
          "Russia",
          "Tajikistan",
          "Armenia",
          "Azerbaijan",
          "Turkmenistan",
          "Georgia",
          "Ukraine"
         ],
         "legendgroup": "Commonwealth of Independent States",
         "marker": {
          "color": "#B6E880",
          "size": [
           6.178999999999999,
           6.152,
           5.766,
           5.744,
           5.534,
           5.477,
           5.466,
           5.2829999999999995,
           5.171,
           5.066,
           4.891,
           4.875
          ],
          "sizemode": "area",
          "sizeref": 0.019605,
          "symbol": "circle"
         },
         "mode": "markers",
         "name": "Commonwealth of Independent States",
         "orientation": "v",
         "showlegend": true,
         "type": "scatter",
         "x": [
          0.528,
          0.527,
          0.542,
          0.501,
          0.56,
          0.511,
          0.498,
          0.585,
          0.541,
          0.439,
          0.498,
          0.517
         ],
         "xaxis": "x",
         "y": [
          6.178999999999999,
          6.152,
          5.766,
          5.744,
          5.534,
          5.477,
          5.466,
          5.2829999999999995,
          5.171,
          5.066,
          4.891,
          4.875
         ],
         "yaxis": "y"
        },
        {
         "hovertemplate": "<b>%{hovertext}</b><br><br>Region=Sub-Saharan Africa<br>Health (Life Expectancy)=%{x}<br>Happiness Score=%{marker.size}<extra></extra>",
         "hovertext": [
          "Mauritius",
          "Congo (Brazzaville)",
          "Ivory Coast",
          "Cameroon",
          "Senegal",
          "Ghana",
          "Niger",
          "Gambia",
          "Benin",
          "Guinea",
          "South Africa",
          "Gabon",
          "Burkina Faso",
          "Mozambique",
          "Nigeria",
          "Mali",
          "Uganda",
          "Liberia",
          "Kenya",
          "Namibia",
          "Chad",
          "Swaziland",
          "Comoros",
          "Ethiopia",
          "Mauritania",
          "Madagascar",
          "Togo",
          "Zambia",
          "Sierra Leone",
          "Burundi",
          "Tanzania",
          "Malawi",
          "Lesotho",
          "Botswana",
          "Rwanda",
          "Zimbabwe"
         ],
         "legendgroup": "Sub-Saharan Africa",
         "marker": {
          "color": "#FF97FF",
          "size": [
           6.0489999999999995,
           5.3420000000000005,
           5.306,
           5.142,
           5.132000000000001,
           5.088,
           5.074,
           5.051,
           5.045,
           4.984,
           4.956,
           4.852,
           4.834,
           4.794,
           4.7589999999999995,
           4.723,
           4.636,
           4.625,
           4.607,
           4.574,
           4.355,
           4.308,
           4.289,
           4.275,
           4.227,
           4.208,
           4.107,
           4.073,
           3.8489999999999998,
           3.775,
           3.623,
           3.6,
           3.512,
           3.467,
           3.415,
           3.145
          ],
          "sizemode": "area",
          "sizeref": 0.019605,
          "symbol": "circle"
         },
         "mode": "markers",
         "name": "Sub-Saharan Africa",
         "orientation": "v",
         "showlegend": true,
         "type": "scatter",
         "x": [
          0.574,
          0.307,
          0.052000000000000005,
          0.159,
          0.35700000000000004,
          0.287,
          0.16699999999999998,
          0.21,
          0.196,
          0.20600000000000002,
          0.265,
          0.36200000000000004,
          0.179,
          0.196,
          0.051,
          0.11,
          0.24,
          0.253,
          0.385,
          0.262,
          0,
          0.07400000000000001,
          0.27899999999999997,
          0.331,
          0.273,
          0.341,
          0.203,
          0.231,
          0.1,
          0.155,
          0.3,
          0.298,
          0.006999999999999999,
          0.34,
          0.40700000000000003,
          0.243
         ],
         "xaxis": "x",
         "y": [
          6.0489999999999995,
          5.3420000000000005,
          5.306,
          5.142,
          5.132000000000001,
          5.088,
          5.074,
          5.051,
          5.045,
          4.984,
          4.956,
          4.852,
          4.834,
          4.794,
          4.7589999999999995,
          4.723,
          4.636,
          4.625,
          4.607,
          4.574,
          4.355,
          4.308,
          4.289,
          4.275,
          4.227,
          4.208,
          4.107,
          4.073,
          3.8489999999999998,
          3.775,
          3.623,
          3.6,
          3.512,
          3.467,
          3.415,
          3.145
         ],
         "yaxis": "y"
        },
        {
         "hovertemplate": "<b>%{hovertext}</b><br><br>Region=South Asia<br>Health (Life Expectancy)=%{x}<br>Happiness Score=%{marker.size}<extra></extra>",
         "hovertext": [
          "Nepal",
          "Maldives",
          "Bangladesh",
          "Pakistan",
          "Sri Lanka",
          "India",
          "Afghanistan"
         ],
         "legendgroup": "South Asia",
         "marker": {
          "color": "#FECB52",
          "size": [
           5.269,
           5.1979999999999995,
           5.025,
           4.934,
           4.325,
           3.819,
           2.523
          ],
          "sizemode": "area",
          "sizeref": 0.019605,
          "symbol": "circle"
         },
         "mode": "markers",
         "name": "South Asia",
         "orientation": "v",
         "showlegend": true,
         "type": "scatter",
         "x": [
          0.496,
          0.6970000000000001,
          0.514,
          0.322,
          0.593,
          0.38299999999999995,
          0.126
         ],
         "xaxis": "x",
         "y": [
          5.269,
          5.1979999999999995,
          5.025,
          4.934,
          4.325,
          3.819,
          2.523
         ],
         "yaxis": "y"
        }
       ],
       "layout": {
        "legend": {
         "itemsizing": "constant",
         "title": {
          "text": "Region"
         },
         "tracegroupgap": 0
        },
        "template": {
         "data": {
          "bar": [
           {
            "error_x": {
             "color": "#2a3f5f"
            },
            "error_y": {
             "color": "#2a3f5f"
            },
            "marker": {
             "line": {
              "color": "#E5ECF6",
              "width": 0.5
             }
            },
            "type": "bar"
           }
          ],
          "barpolar": [
           {
            "marker": {
             "line": {
              "color": "#E5ECF6",
              "width": 0.5
             }
            },
            "type": "barpolar"
           }
          ],
          "carpet": [
           {
            "aaxis": {
             "endlinecolor": "#2a3f5f",
             "gridcolor": "white",
             "linecolor": "white",
             "minorgridcolor": "white",
             "startlinecolor": "#2a3f5f"
            },
            "baxis": {
             "endlinecolor": "#2a3f5f",
             "gridcolor": "white",
             "linecolor": "white",
             "minorgridcolor": "white",
             "startlinecolor": "#2a3f5f"
            },
            "type": "carpet"
           }
          ],
          "choropleth": [
           {
            "colorbar": {
             "outlinewidth": 0,
             "ticks": ""
            },
            "type": "choropleth"
           }
          ],
          "contour": [
           {
            "colorbar": {
             "outlinewidth": 0,
             "ticks": ""
            },
            "colorscale": [
             [
              0,
              "#0d0887"
             ],
             [
              0.1111111111111111,
              "#46039f"
             ],
             [
              0.2222222222222222,
              "#7201a8"
             ],
             [
              0.3333333333333333,
              "#9c179e"
             ],
             [
              0.4444444444444444,
              "#bd3786"
             ],
             [
              0.5555555555555556,
              "#d8576b"
             ],
             [
              0.6666666666666666,
              "#ed7953"
             ],
             [
              0.7777777777777778,
              "#fb9f3a"
             ],
             [
              0.8888888888888888,
              "#fdca26"
             ],
             [
              1,
              "#f0f921"
             ]
            ],
            "type": "contour"
           }
          ],
          "contourcarpet": [
           {
            "colorbar": {
             "outlinewidth": 0,
             "ticks": ""
            },
            "type": "contourcarpet"
           }
          ],
          "heatmap": [
           {
            "colorbar": {
             "outlinewidth": 0,
             "ticks": ""
            },
            "colorscale": [
             [
              0,
              "#0d0887"
             ],
             [
              0.1111111111111111,
              "#46039f"
             ],
             [
              0.2222222222222222,
              "#7201a8"
             ],
             [
              0.3333333333333333,
              "#9c179e"
             ],
             [
              0.4444444444444444,
              "#bd3786"
             ],
             [
              0.5555555555555556,
              "#d8576b"
             ],
             [
              0.6666666666666666,
              "#ed7953"
             ],
             [
              0.7777777777777778,
              "#fb9f3a"
             ],
             [
              0.8888888888888888,
              "#fdca26"
             ],
             [
              1,
              "#f0f921"
             ]
            ],
            "type": "heatmap"
           }
          ],
          "heatmapgl": [
           {
            "colorbar": {
             "outlinewidth": 0,
             "ticks": ""
            },
            "colorscale": [
             [
              0,
              "#0d0887"
             ],
             [
              0.1111111111111111,
              "#46039f"
             ],
             [
              0.2222222222222222,
              "#7201a8"
             ],
             [
              0.3333333333333333,
              "#9c179e"
             ],
             [
              0.4444444444444444,
              "#bd3786"
             ],
             [
              0.5555555555555556,
              "#d8576b"
             ],
             [
              0.6666666666666666,
              "#ed7953"
             ],
             [
              0.7777777777777778,
              "#fb9f3a"
             ],
             [
              0.8888888888888888,
              "#fdca26"
             ],
             [
              1,
              "#f0f921"
             ]
            ],
            "type": "heatmapgl"
           }
          ],
          "histogram": [
           {
            "marker": {
             "colorbar": {
              "outlinewidth": 0,
              "ticks": ""
             }
            },
            "type": "histogram"
           }
          ],
          "histogram2d": [
           {
            "colorbar": {
             "outlinewidth": 0,
             "ticks": ""
            },
            "colorscale": [
             [
              0,
              "#0d0887"
             ],
             [
              0.1111111111111111,
              "#46039f"
             ],
             [
              0.2222222222222222,
              "#7201a8"
             ],
             [
              0.3333333333333333,
              "#9c179e"
             ],
             [
              0.4444444444444444,
              "#bd3786"
             ],
             [
              0.5555555555555556,
              "#d8576b"
             ],
             [
              0.6666666666666666,
              "#ed7953"
             ],
             [
              0.7777777777777778,
              "#fb9f3a"
             ],
             [
              0.8888888888888888,
              "#fdca26"
             ],
             [
              1,
              "#f0f921"
             ]
            ],
            "type": "histogram2d"
           }
          ],
          "histogram2dcontour": [
           {
            "colorbar": {
             "outlinewidth": 0,
             "ticks": ""
            },
            "colorscale": [
             [
              0,
              "#0d0887"
             ],
             [
              0.1111111111111111,
              "#46039f"
             ],
             [
              0.2222222222222222,
              "#7201a8"
             ],
             [
              0.3333333333333333,
              "#9c179e"
             ],
             [
              0.4444444444444444,
              "#bd3786"
             ],
             [
              0.5555555555555556,
              "#d8576b"
             ],
             [
              0.6666666666666666,
              "#ed7953"
             ],
             [
              0.7777777777777778,
              "#fb9f3a"
             ],
             [
              0.8888888888888888,
              "#fdca26"
             ],
             [
              1,
              "#f0f921"
             ]
            ],
            "type": "histogram2dcontour"
           }
          ],
          "mesh3d": [
           {
            "colorbar": {
             "outlinewidth": 0,
             "ticks": ""
            },
            "type": "mesh3d"
           }
          ],
          "parcoords": [
           {
            "line": {
             "colorbar": {
              "outlinewidth": 0,
              "ticks": ""
             }
            },
            "type": "parcoords"
           }
          ],
          "pie": [
           {
            "automargin": true,
            "type": "pie"
           }
          ],
          "scatter": [
           {
            "marker": {
             "colorbar": {
              "outlinewidth": 0,
              "ticks": ""
             }
            },
            "type": "scatter"
           }
          ],
          "scatter3d": [
           {
            "line": {
             "colorbar": {
              "outlinewidth": 0,
              "ticks": ""
             }
            },
            "marker": {
             "colorbar": {
              "outlinewidth": 0,
              "ticks": ""
             }
            },
            "type": "scatter3d"
           }
          ],
          "scattercarpet": [
           {
            "marker": {
             "colorbar": {
              "outlinewidth": 0,
              "ticks": ""
             }
            },
            "type": "scattercarpet"
           }
          ],
          "scattergeo": [
           {
            "marker": {
             "colorbar": {
              "outlinewidth": 0,
              "ticks": ""
             }
            },
            "type": "scattergeo"
           }
          ],
          "scattergl": [
           {
            "marker": {
             "colorbar": {
              "outlinewidth": 0,
              "ticks": ""
             }
            },
            "type": "scattergl"
           }
          ],
          "scattermapbox": [
           {
            "marker": {
             "colorbar": {
              "outlinewidth": 0,
              "ticks": ""
             }
            },
            "type": "scattermapbox"
           }
          ],
          "scatterpolar": [
           {
            "marker": {
             "colorbar": {
              "outlinewidth": 0,
              "ticks": ""
             }
            },
            "type": "scatterpolar"
           }
          ],
          "scatterpolargl": [
           {
            "marker": {
             "colorbar": {
              "outlinewidth": 0,
              "ticks": ""
             }
            },
            "type": "scatterpolargl"
           }
          ],
          "scatterternary": [
           {
            "marker": {
             "colorbar": {
              "outlinewidth": 0,
              "ticks": ""
             }
            },
            "type": "scatterternary"
           }
          ],
          "surface": [
           {
            "colorbar": {
             "outlinewidth": 0,
             "ticks": ""
            },
            "colorscale": [
             [
              0,
              "#0d0887"
             ],
             [
              0.1111111111111111,
              "#46039f"
             ],
             [
              0.2222222222222222,
              "#7201a8"
             ],
             [
              0.3333333333333333,
              "#9c179e"
             ],
             [
              0.4444444444444444,
              "#bd3786"
             ],
             [
              0.5555555555555556,
              "#d8576b"
             ],
             [
              0.6666666666666666,
              "#ed7953"
             ],
             [
              0.7777777777777778,
              "#fb9f3a"
             ],
             [
              0.8888888888888888,
              "#fdca26"
             ],
             [
              1,
              "#f0f921"
             ]
            ],
            "type": "surface"
           }
          ],
          "table": [
           {
            "cells": {
             "fill": {
              "color": "#EBF0F8"
             },
             "line": {
              "color": "white"
             }
            },
            "header": {
             "fill": {
              "color": "#C8D4E3"
             },
             "line": {
              "color": "white"
             }
            },
            "type": "table"
           }
          ]
         },
         "layout": {
          "annotationdefaults": {
           "arrowcolor": "#2a3f5f",
           "arrowhead": 0,
           "arrowwidth": 1
          },
          "autotypenumbers": "strict",
          "coloraxis": {
           "colorbar": {
            "outlinewidth": 0,
            "ticks": ""
           }
          },
          "colorscale": {
           "diverging": [
            [
             0,
             "#8e0152"
            ],
            [
             0.1,
             "#c51b7d"
            ],
            [
             0.2,
             "#de77ae"
            ],
            [
             0.3,
             "#f1b6da"
            ],
            [
             0.4,
             "#fde0ef"
            ],
            [
             0.5,
             "#f7f7f7"
            ],
            [
             0.6,
             "#e6f5d0"
            ],
            [
             0.7,
             "#b8e186"
            ],
            [
             0.8,
             "#7fbc41"
            ],
            [
             0.9,
             "#4d9221"
            ],
            [
             1,
             "#276419"
            ]
           ],
           "sequential": [
            [
             0,
             "#0d0887"
            ],
            [
             0.1111111111111111,
             "#46039f"
            ],
            [
             0.2222222222222222,
             "#7201a8"
            ],
            [
             0.3333333333333333,
             "#9c179e"
            ],
            [
             0.4444444444444444,
             "#bd3786"
            ],
            [
             0.5555555555555556,
             "#d8576b"
            ],
            [
             0.6666666666666666,
             "#ed7953"
            ],
            [
             0.7777777777777778,
             "#fb9f3a"
            ],
            [
             0.8888888888888888,
             "#fdca26"
            ],
            [
             1,
             "#f0f921"
            ]
           ],
           "sequentialminus": [
            [
             0,
             "#0d0887"
            ],
            [
             0.1111111111111111,
             "#46039f"
            ],
            [
             0.2222222222222222,
             "#7201a8"
            ],
            [
             0.3333333333333333,
             "#9c179e"
            ],
            [
             0.4444444444444444,
             "#bd3786"
            ],
            [
             0.5555555555555556,
             "#d8576b"
            ],
            [
             0.6666666666666666,
             "#ed7953"
            ],
            [
             0.7777777777777778,
             "#fb9f3a"
            ],
            [
             0.8888888888888888,
             "#fdca26"
            ],
            [
             1,
             "#f0f921"
            ]
           ]
          },
          "colorway": [
           "#636efa",
           "#EF553B",
           "#00cc96",
           "#ab63fa",
           "#FFA15A",
           "#19d3f3",
           "#FF6692",
           "#B6E880",
           "#FF97FF",
           "#FECB52"
          ],
          "font": {
           "color": "#2a3f5f"
          },
          "geo": {
           "bgcolor": "white",
           "lakecolor": "white",
           "landcolor": "#E5ECF6",
           "showlakes": true,
           "showland": true,
           "subunitcolor": "white"
          },
          "hoverlabel": {
           "align": "left"
          },
          "hovermode": "closest",
          "mapbox": {
           "style": "light"
          },
          "paper_bgcolor": "white",
          "plot_bgcolor": "#E5ECF6",
          "polar": {
           "angularaxis": {
            "gridcolor": "white",
            "linecolor": "white",
            "ticks": ""
           },
           "bgcolor": "#E5ECF6",
           "radialaxis": {
            "gridcolor": "white",
            "linecolor": "white",
            "ticks": ""
           }
          },
          "scene": {
           "xaxis": {
            "backgroundcolor": "#E5ECF6",
            "gridcolor": "white",
            "gridwidth": 2,
            "linecolor": "white",
            "showbackground": true,
            "ticks": "",
            "zerolinecolor": "white"
           },
           "yaxis": {
            "backgroundcolor": "#E5ECF6",
            "gridcolor": "white",
            "gridwidth": 2,
            "linecolor": "white",
            "showbackground": true,
            "ticks": "",
            "zerolinecolor": "white"
           },
           "zaxis": {
            "backgroundcolor": "#E5ECF6",
            "gridcolor": "white",
            "gridwidth": 2,
            "linecolor": "white",
            "showbackground": true,
            "ticks": "",
            "zerolinecolor": "white"
           }
          },
          "shapedefaults": {
           "line": {
            "color": "#2a3f5f"
           }
          },
          "ternary": {
           "aaxis": {
            "gridcolor": "white",
            "linecolor": "white",
            "ticks": ""
           },
           "baxis": {
            "gridcolor": "white",
            "linecolor": "white",
            "ticks": ""
           },
           "bgcolor": "#E5ECF6",
           "caxis": {
            "gridcolor": "white",
            "linecolor": "white",
            "ticks": ""
           }
          },
          "title": {
           "x": 0.05
          },
          "xaxis": {
           "automargin": true,
           "gridcolor": "white",
           "linecolor": "white",
           "ticks": "",
           "title": {
            "standoff": 15
           },
           "zerolinecolor": "white",
           "zerolinewidth": 2
          },
          "yaxis": {
           "automargin": true,
           "gridcolor": "white",
           "linecolor": "white",
           "ticks": "",
           "title": {
            "standoff": 15
           },
           "zerolinecolor": "white",
           "zerolinewidth": 2
          }
         }
        },
        "title": {
         "text": "Relationship between Health (Life Expectancy) & Happiness Score of countries"
        },
        "xaxis": {
         "anchor": "y",
         "domain": [
          0,
          1
         ],
         "title": {
          "text": "Health (Life Expectancy)"
         }
        },
        "yaxis": {
         "anchor": "x",
         "domain": [
          0,
          1
         ],
         "title": {
          "text": "Happiness Score"
         }
        }
       }
      },
      "text/html": [
       "<div>                            <div id=\"8c497d6e-bfb0-452b-a6e7-ddbc15192ff6\" class=\"plotly-graph-div\" style=\"height:525px; width:100%;\"></div>            <script type=\"text/javascript\">                require([\"plotly\"], function(Plotly) {                    window.PLOTLYENV=window.PLOTLYENV || {};                                    if (document.getElementById(\"8c497d6e-bfb0-452b-a6e7-ddbc15192ff6\")) {                    Plotly.newPlot(                        \"8c497d6e-bfb0-452b-a6e7-ddbc15192ff6\",                        [{\"hovertemplate\": \"<b>%{hovertext}</b><br><br>Region=Western Europe<br>Health (Life Expectancy)=%{x}<br>Happiness Score=%{marker.size}<extra></extra>\", \"hovertext\": [\"Finland\", \"Denmark\", \"Switzerland\", \"Iceland\", \"Netherlands\", \"Norway\", \"Sweden\", \"Luxembourg\", \"Austria\", \"Germany\", \"Ireland\", \"United Kingdom\", \"Belgium\", \"France\", \"Malta\", \"Spain\", \"Italy\", \"Cyprus\", \"Portugal\", \"Greece\", \"North Cyprus\"], \"legendgroup\": \"Western Europe\", \"marker\": {\"color\": \"#636efa\", \"size\": [7.8420000000000005, 7.62, 7.571000000000001, 7.553999999999999, 7.4639999999999995, 7.392, 7.3629999999999995, 7.324, 7.268, 7.155, 7.085, 7.064, 6.834, 6.69, 6.602, 6.4910000000000005, 6.483, 6.223, 5.928999999999999, 5.723, 5.5360000000000005], \"sizemode\": \"area\", \"sizeref\": 0.019605, \"symbol\": \"circle\"}, \"mode\": \"markers\", \"name\": \"Western Europe\", \"orientation\": \"v\", \"showlegend\": true, \"type\": \"scatter\", \"x\": [0.741, 0.763, 0.816, 0.772, 0.753, 0.782, 0.763, 0.76, 0.782, 0.757, 0.753, 0.757, 0.747, 0.804, 0.747, 0.826, 0.7979999999999999, 0.8009999999999999, 0.76, 0.76, 0.8009999999999999], \"xaxis\": \"x\", \"y\": [7.8420000000000005, 7.62, 7.571000000000001, 7.553999999999999, 7.4639999999999995, 7.392, 7.3629999999999995, 7.324, 7.268, 7.155, 7.085, 7.064, 6.834, 6.69, 6.602, 6.4910000000000005, 6.483, 6.223, 5.928999999999999, 5.723, 5.5360000000000005], \"yaxis\": \"y\"}, {\"hovertemplate\": \"<b>%{hovertext}</b><br><br>Region=North America and ANZ<br>Health (Life Expectancy)=%{x}<br>Happiness Score=%{marker.size}<extra></extra>\", \"hovertext\": [\"New Zealand\", \"Australia\", \"Canada\", \"United States\"], \"legendgroup\": \"North America and ANZ\", \"marker\": {\"color\": \"#EF553B\", \"size\": [7.277, 7.183, 7.103, 6.9510000000000005], \"sizemode\": \"area\", \"sizeref\": 0.019605, \"symbol\": \"circle\"}, \"mode\": \"markers\", \"name\": \"North America and ANZ\", \"orientation\": \"v\", \"showlegend\": true, \"type\": \"scatter\", \"x\": [0.785, 0.8009999999999999, 0.7979999999999999, 0.621], \"xaxis\": \"x\", \"y\": [7.277, 7.183, 7.103, 6.9510000000000005], \"yaxis\": \"y\"}, {\"hovertemplate\": \"<b>%{hovertext}</b><br><br>Region=Middle East and North Africa<br>Health (Life Expectancy)=%{x}<br>Happiness Score=%{marker.size}<extra></extra>\", \"hovertext\": [\"Israel\", \"Bahrain\", \"United Arab Emirates\", \"Saudi Arabia\", \"Kuwait\", \"Libya\", \"Turkey\", \"Morocco\", \"Algeria\", \"Iraq\", \"Iran\", \"Tunisia\", \"Lebanon\", \"Palestinian Territories\", \"Jordan\", \"Egypt\", \"Yemen\"], \"legendgroup\": \"Middle East and North Africa\", \"marker\": {\"color\": \"#00cc96\", \"size\": [7.157, 6.647, 6.561, 6.494, 6.106, 5.41, 4.948, 4.918, 4.887, 4.854, 4.721, 4.596, 4.584, 4.5169999999999995, 4.395, 4.283, 3.658], \"sizemode\": \"area\", \"sizeref\": 0.019605, \"symbol\": \"circle\"}, \"mode\": \"markers\", \"name\": \"Middle East and North Africa\", \"orientation\": \"v\", \"showlegend\": true, \"type\": \"scatter\", \"x\": [0.7879999999999999, 0.662, 0.594, 0.5710000000000001, 0.58, 0.435, 0.59, 0.5579999999999999, 0.552, 0.381, 0.561, 0.59, 0.595, 0.434, 0.583, 0.426, 0.272], \"xaxis\": \"x\", \"y\": [7.157, 6.647, 6.561, 6.494, 6.106, 5.41, 4.948, 4.918, 4.887, 4.854, 4.721, 4.596, 4.584, 4.5169999999999995, 4.395, 4.283, 3.658], \"yaxis\": \"y\"}, {\"hovertemplate\": \"<b>%{hovertext}</b><br><br>Region=Latin America and Caribbean<br>Health (Life Expectancy)=%{x}<br>Happiness Score=%{marker.size}<extra></extra>\", \"hovertext\": [\"Costa Rica\", \"Guatemala\", \"Uruguay\", \"Brazil\", \"Mexico\", \"Jamaica\", \"Panama\", \"Chile\", \"El Salvador\", \"Colombia\", \"Nicaragua\", \"Argentina\", \"Honduras\", \"Peru\", \"Ecuador\", \"Bolivia\", \"Paraguay\", \"Dominican Republic\", \"Venezuela\", \"Haiti\"], \"legendgroup\": \"Latin America and Caribbean\", \"marker\": {\"color\": \"#ab63fa\", \"size\": [7.069, 6.435, 6.431, 6.33, 6.317, 6.309, 6.18, 6.172000000000001, 6.061, 6.0120000000000005, 5.972, 5.928999999999999, 5.919, 5.84, 5.763999999999999, 5.716, 5.653, 5.545, 4.8919999999999995, 3.615], \"sizemode\": \"area\", \"sizeref\": 0.019605, \"symbol\": \"circle\"}, \"mode\": \"markers\", \"name\": \"Latin America and Caribbean\", \"orientation\": \"v\", \"showlegend\": true, \"type\": \"scatter\", \"x\": [0.722, 0.519, 0.649, 0.5710000000000001, 0.634, 0.599, 0.667, 0.6779999999999999, 0.565, 0.615, 0.604, 0.6459999999999999, 0.593, 0.623, 0.64, 0.486, 0.5489999999999999, 0.555, 0.574, 0.22699999999999998], \"xaxis\": \"x\", \"y\": [7.069, 6.435, 6.431, 6.33, 6.317, 6.309, 6.18, 6.172000000000001, 6.061, 6.0120000000000005, 5.972, 5.928999999999999, 5.919, 5.84, 5.763999999999999, 5.716, 5.653, 5.545, 4.8919999999999995, 3.615], \"yaxis\": \"y\"}, {\"hovertemplate\": \"<b>%{hovertext}</b><br><br>Region=Central and Eastern Europe<br>Health (Life Expectancy)=%{x}<br>Happiness Score=%{marker.size}<extra></extra>\", \"hovertext\": [\"Czech Republic\", \"Slovenia\", \"Kosovo\", \"Slovakia\", \"Lithuania\", \"Estonia\", \"Poland\", \"Romania\", \"Serbia\", \"Latvia\", \"Hungary\", \"Croatia\", \"Bosnia and Herzegovina\", \"Montenegro\", \"Bulgaria\", \"Albania\", \"North Macedonia\"], \"legendgroup\": \"Central and Eastern Europe\", \"marker\": {\"color\": \"#FFA15A\", \"size\": [6.965, 6.461, 6.372000000000001, 6.331, 6.255, 6.189, 6.166, 6.14, 6.077999999999999, 6.032, 5.992000000000001, 5.882000000000001, 5.813, 5.581, 5.266, 5.117, 5.101], \"sizemode\": \"area\", \"sizeref\": 0.019605, \"symbol\": \"circle\"}, \"mode\": \"markers\", \"name\": \"Central and Eastern Europe\", \"orientation\": \"v\", \"showlegend\": true, \"type\": \"scatter\", \"x\": [0.703, 0.722, 0.483, 0.653, 0.612, 0.64, 0.6679999999999999, 0.595, 0.634, 0.5870000000000001, 0.615, 0.703, 0.618, 0.637, 0.583, 0.6459999999999999, 0.535], \"xaxis\": \"x\", \"y\": [6.965, 6.461, 6.372000000000001, 6.331, 6.255, 6.189, 6.166, 6.14, 6.077999999999999, 6.032, 5.992000000000001, 5.882000000000001, 5.813, 5.581, 5.266, 5.117, 5.101], \"yaxis\": \"y\"}, {\"hovertemplate\": \"<b>%{hovertext}</b><br><br>Region=East Asia<br>Health (Life Expectancy)=%{x}<br>Happiness Score=%{marker.size}<extra></extra>\", \"hovertext\": [\"Taiwan Province of China\", \"Japan\", \"South Korea\", \"Mongolia\", \"Hong Kong S.A.R. of China\", \"China\"], \"legendgroup\": \"East Asia\", \"marker\": {\"color\": \"#19d3f3\", \"size\": [6.584, 5.94, 5.845, 5.6770000000000005, 5.477, 5.3389999999999995], \"sizemode\": \"area\", \"sizeref\": 0.019605, \"symbol\": \"circle\"}, \"mode\": \"markers\", \"name\": \"East Asia\", \"orientation\": \"v\", \"showlegend\": true, \"type\": \"scatter\", \"x\": [0.665, 0.838, 0.8009999999999999, 0.442, 0.893, 0.665], \"xaxis\": \"x\", \"y\": [6.584, 5.94, 5.845, 5.6770000000000005, 5.477, 5.3389999999999995], \"yaxis\": \"y\"}, {\"hovertemplate\": \"<b>%{hovertext}</b><br><br>Region=Southeast Asia<br>Health (Life Expectancy)=%{x}<br>Happiness Score=%{marker.size}<extra></extra>\", \"hovertext\": [\"Singapore\", \"Thailand\", \"Philippines\", \"Vietnam\", \"Malaysia\", \"Indonesia\", \"Laos\", \"Cambodia\", \"Myanmar\"], \"legendgroup\": \"Southeast Asia\", \"marker\": {\"color\": \"#FF6692\", \"size\": [6.377000000000001, 5.985, 5.88, 5.4110000000000005, 5.3839999999999995, 5.345, 5.03, 4.83, 4.426], \"sizemode\": \"area\", \"sizeref\": 0.019605, \"symbol\": \"circle\"}, \"mode\": \"markers\", \"name\": \"Southeast Asia\", \"orientation\": \"v\", \"showlegend\": true, \"type\": \"scatter\", \"x\": [0.897, 0.596, 0.426, 0.616, 0.5870000000000001, 0.433, 0.33, 0.426, 0.341], \"xaxis\": \"x\", \"y\": [6.377000000000001, 5.985, 5.88, 5.4110000000000005, 5.3839999999999995, 5.345, 5.03, 4.83, 4.426], \"yaxis\": \"y\"}, {\"hovertemplate\": \"<b>%{hovertext}</b><br><br>Region=Commonwealth of Independent States<br>Health (Life Expectancy)=%{x}<br>Happiness Score=%{marker.size}<extra></extra>\", \"hovertext\": [\"Uzbekistan\", \"Kazakhstan\", \"Moldova\", \"Kyrgyzstan\", \"Belarus\", \"Russia\", \"Tajikistan\", \"Armenia\", \"Azerbaijan\", \"Turkmenistan\", \"Georgia\", \"Ukraine\"], \"legendgroup\": \"Commonwealth of Independent States\", \"marker\": {\"color\": \"#B6E880\", \"size\": [6.178999999999999, 6.152, 5.766, 5.744, 5.534, 5.477, 5.466, 5.2829999999999995, 5.171, 5.066, 4.891, 4.875], \"sizemode\": \"area\", \"sizeref\": 0.019605, \"symbol\": \"circle\"}, \"mode\": \"markers\", \"name\": \"Commonwealth of Independent States\", \"orientation\": \"v\", \"showlegend\": true, \"type\": \"scatter\", \"x\": [0.528, 0.527, 0.542, 0.501, 0.56, 0.511, 0.498, 0.585, 0.541, 0.439, 0.498, 0.517], \"xaxis\": \"x\", \"y\": [6.178999999999999, 6.152, 5.766, 5.744, 5.534, 5.477, 5.466, 5.2829999999999995, 5.171, 5.066, 4.891, 4.875], \"yaxis\": \"y\"}, {\"hovertemplate\": \"<b>%{hovertext}</b><br><br>Region=Sub-Saharan Africa<br>Health (Life Expectancy)=%{x}<br>Happiness Score=%{marker.size}<extra></extra>\", \"hovertext\": [\"Mauritius\", \"Congo (Brazzaville)\", \"Ivory Coast\", \"Cameroon\", \"Senegal\", \"Ghana\", \"Niger\", \"Gambia\", \"Benin\", \"Guinea\", \"South Africa\", \"Gabon\", \"Burkina Faso\", \"Mozambique\", \"Nigeria\", \"Mali\", \"Uganda\", \"Liberia\", \"Kenya\", \"Namibia\", \"Chad\", \"Swaziland\", \"Comoros\", \"Ethiopia\", \"Mauritania\", \"Madagascar\", \"Togo\", \"Zambia\", \"Sierra Leone\", \"Burundi\", \"Tanzania\", \"Malawi\", \"Lesotho\", \"Botswana\", \"Rwanda\", \"Zimbabwe\"], \"legendgroup\": \"Sub-Saharan Africa\", \"marker\": {\"color\": \"#FF97FF\", \"size\": [6.0489999999999995, 5.3420000000000005, 5.306, 5.142, 5.132000000000001, 5.088, 5.074, 5.051, 5.045, 4.984, 4.956, 4.852, 4.834, 4.794, 4.7589999999999995, 4.723, 4.636, 4.625, 4.607, 4.574, 4.355, 4.308, 4.289, 4.275, 4.227, 4.208, 4.107, 4.073, 3.8489999999999998, 3.775, 3.623, 3.6, 3.512, 3.467, 3.415, 3.145], \"sizemode\": \"area\", \"sizeref\": 0.019605, \"symbol\": \"circle\"}, \"mode\": \"markers\", \"name\": \"Sub-Saharan Africa\", \"orientation\": \"v\", \"showlegend\": true, \"type\": \"scatter\", \"x\": [0.574, 0.307, 0.052000000000000005, 0.159, 0.35700000000000004, 0.287, 0.16699999999999998, 0.21, 0.196, 0.20600000000000002, 0.265, 0.36200000000000004, 0.179, 0.196, 0.051, 0.11, 0.24, 0.253, 0.385, 0.262, 0.0, 0.07400000000000001, 0.27899999999999997, 0.331, 0.273, 0.341, 0.203, 0.231, 0.1, 0.155, 0.3, 0.298, 0.006999999999999999, 0.34, 0.40700000000000003, 0.243], \"xaxis\": \"x\", \"y\": [6.0489999999999995, 5.3420000000000005, 5.306, 5.142, 5.132000000000001, 5.088, 5.074, 5.051, 5.045, 4.984, 4.956, 4.852, 4.834, 4.794, 4.7589999999999995, 4.723, 4.636, 4.625, 4.607, 4.574, 4.355, 4.308, 4.289, 4.275, 4.227, 4.208, 4.107, 4.073, 3.8489999999999998, 3.775, 3.623, 3.6, 3.512, 3.467, 3.415, 3.145], \"yaxis\": \"y\"}, {\"hovertemplate\": \"<b>%{hovertext}</b><br><br>Region=South Asia<br>Health (Life Expectancy)=%{x}<br>Happiness Score=%{marker.size}<extra></extra>\", \"hovertext\": [\"Nepal\", \"Maldives\", \"Bangladesh\", \"Pakistan\", \"Sri Lanka\", \"India\", \"Afghanistan\"], \"legendgroup\": \"South Asia\", \"marker\": {\"color\": \"#FECB52\", \"size\": [5.269, 5.1979999999999995, 5.025, 4.934, 4.325, 3.819, 2.523], \"sizemode\": \"area\", \"sizeref\": 0.019605, \"symbol\": \"circle\"}, \"mode\": \"markers\", \"name\": \"South Asia\", \"orientation\": \"v\", \"showlegend\": true, \"type\": \"scatter\", \"x\": [0.496, 0.6970000000000001, 0.514, 0.322, 0.593, 0.38299999999999995, 0.126], \"xaxis\": \"x\", \"y\": [5.269, 5.1979999999999995, 5.025, 4.934, 4.325, 3.819, 2.523], \"yaxis\": \"y\"}],                        {\"legend\": {\"itemsizing\": \"constant\", \"title\": {\"text\": \"Region\"}, \"tracegroupgap\": 0}, \"template\": {\"data\": {\"bar\": [{\"error_x\": {\"color\": \"#2a3f5f\"}, \"error_y\": {\"color\": \"#2a3f5f\"}, \"marker\": {\"line\": {\"color\": \"#E5ECF6\", \"width\": 0.5}}, \"type\": \"bar\"}], \"barpolar\": [{\"marker\": {\"line\": {\"color\": \"#E5ECF6\", \"width\": 0.5}}, \"type\": \"barpolar\"}], \"carpet\": [{\"aaxis\": {\"endlinecolor\": \"#2a3f5f\", \"gridcolor\": \"white\", \"linecolor\": \"white\", \"minorgridcolor\": \"white\", \"startlinecolor\": \"#2a3f5f\"}, \"baxis\": {\"endlinecolor\": \"#2a3f5f\", \"gridcolor\": \"white\", \"linecolor\": \"white\", \"minorgridcolor\": \"white\", \"startlinecolor\": \"#2a3f5f\"}, \"type\": \"carpet\"}], \"choropleth\": [{\"colorbar\": {\"outlinewidth\": 0, \"ticks\": \"\"}, \"type\": \"choropleth\"}], \"contour\": [{\"colorbar\": {\"outlinewidth\": 0, \"ticks\": \"\"}, \"colorscale\": [[0.0, \"#0d0887\"], [0.1111111111111111, \"#46039f\"], [0.2222222222222222, \"#7201a8\"], [0.3333333333333333, \"#9c179e\"], [0.4444444444444444, \"#bd3786\"], [0.5555555555555556, \"#d8576b\"], [0.6666666666666666, \"#ed7953\"], [0.7777777777777778, \"#fb9f3a\"], [0.8888888888888888, \"#fdca26\"], [1.0, \"#f0f921\"]], \"type\": \"contour\"}], \"contourcarpet\": [{\"colorbar\": {\"outlinewidth\": 0, \"ticks\": \"\"}, \"type\": \"contourcarpet\"}], \"heatmap\": [{\"colorbar\": {\"outlinewidth\": 0, \"ticks\": \"\"}, \"colorscale\": [[0.0, \"#0d0887\"], [0.1111111111111111, \"#46039f\"], [0.2222222222222222, \"#7201a8\"], [0.3333333333333333, \"#9c179e\"], [0.4444444444444444, \"#bd3786\"], [0.5555555555555556, \"#d8576b\"], [0.6666666666666666, \"#ed7953\"], [0.7777777777777778, \"#fb9f3a\"], [0.8888888888888888, \"#fdca26\"], [1.0, \"#f0f921\"]], \"type\": \"heatmap\"}], \"heatmapgl\": [{\"colorbar\": {\"outlinewidth\": 0, \"ticks\": \"\"}, \"colorscale\": [[0.0, \"#0d0887\"], [0.1111111111111111, \"#46039f\"], [0.2222222222222222, \"#7201a8\"], [0.3333333333333333, \"#9c179e\"], [0.4444444444444444, \"#bd3786\"], [0.5555555555555556, \"#d8576b\"], [0.6666666666666666, \"#ed7953\"], [0.7777777777777778, \"#fb9f3a\"], [0.8888888888888888, \"#fdca26\"], [1.0, \"#f0f921\"]], \"type\": \"heatmapgl\"}], \"histogram\": [{\"marker\": {\"colorbar\": {\"outlinewidth\": 0, \"ticks\": \"\"}}, \"type\": \"histogram\"}], \"histogram2d\": [{\"colorbar\": {\"outlinewidth\": 0, \"ticks\": \"\"}, \"colorscale\": [[0.0, \"#0d0887\"], [0.1111111111111111, \"#46039f\"], [0.2222222222222222, \"#7201a8\"], [0.3333333333333333, \"#9c179e\"], [0.4444444444444444, \"#bd3786\"], [0.5555555555555556, \"#d8576b\"], [0.6666666666666666, \"#ed7953\"], [0.7777777777777778, \"#fb9f3a\"], [0.8888888888888888, \"#fdca26\"], [1.0, \"#f0f921\"]], \"type\": \"histogram2d\"}], \"histogram2dcontour\": [{\"colorbar\": {\"outlinewidth\": 0, \"ticks\": \"\"}, \"colorscale\": [[0.0, \"#0d0887\"], [0.1111111111111111, \"#46039f\"], [0.2222222222222222, \"#7201a8\"], [0.3333333333333333, \"#9c179e\"], [0.4444444444444444, \"#bd3786\"], [0.5555555555555556, \"#d8576b\"], [0.6666666666666666, \"#ed7953\"], [0.7777777777777778, \"#fb9f3a\"], [0.8888888888888888, \"#fdca26\"], [1.0, \"#f0f921\"]], \"type\": \"histogram2dcontour\"}], \"mesh3d\": [{\"colorbar\": {\"outlinewidth\": 0, \"ticks\": \"\"}, \"type\": \"mesh3d\"}], \"parcoords\": [{\"line\": {\"colorbar\": {\"outlinewidth\": 0, \"ticks\": \"\"}}, \"type\": \"parcoords\"}], \"pie\": [{\"automargin\": true, \"type\": \"pie\"}], \"scatter\": [{\"marker\": {\"colorbar\": {\"outlinewidth\": 0, \"ticks\": \"\"}}, \"type\": \"scatter\"}], \"scatter3d\": [{\"line\": {\"colorbar\": {\"outlinewidth\": 0, \"ticks\": \"\"}}, \"marker\": {\"colorbar\": {\"outlinewidth\": 0, \"ticks\": \"\"}}, \"type\": \"scatter3d\"}], \"scattercarpet\": [{\"marker\": {\"colorbar\": {\"outlinewidth\": 0, \"ticks\": \"\"}}, \"type\": \"scattercarpet\"}], \"scattergeo\": [{\"marker\": {\"colorbar\": {\"outlinewidth\": 0, \"ticks\": \"\"}}, \"type\": \"scattergeo\"}], \"scattergl\": [{\"marker\": {\"colorbar\": {\"outlinewidth\": 0, \"ticks\": \"\"}}, \"type\": \"scattergl\"}], \"scattermapbox\": [{\"marker\": {\"colorbar\": {\"outlinewidth\": 0, \"ticks\": \"\"}}, \"type\": \"scattermapbox\"}], \"scatterpolar\": [{\"marker\": {\"colorbar\": {\"outlinewidth\": 0, \"ticks\": \"\"}}, \"type\": \"scatterpolar\"}], \"scatterpolargl\": [{\"marker\": {\"colorbar\": {\"outlinewidth\": 0, \"ticks\": \"\"}}, \"type\": \"scatterpolargl\"}], \"scatterternary\": [{\"marker\": {\"colorbar\": {\"outlinewidth\": 0, \"ticks\": \"\"}}, \"type\": \"scatterternary\"}], \"surface\": [{\"colorbar\": {\"outlinewidth\": 0, \"ticks\": \"\"}, \"colorscale\": [[0.0, \"#0d0887\"], [0.1111111111111111, \"#46039f\"], [0.2222222222222222, \"#7201a8\"], [0.3333333333333333, \"#9c179e\"], [0.4444444444444444, \"#bd3786\"], [0.5555555555555556, \"#d8576b\"], [0.6666666666666666, \"#ed7953\"], [0.7777777777777778, \"#fb9f3a\"], [0.8888888888888888, \"#fdca26\"], [1.0, \"#f0f921\"]], \"type\": \"surface\"}], \"table\": [{\"cells\": {\"fill\": {\"color\": \"#EBF0F8\"}, \"line\": {\"color\": \"white\"}}, \"header\": {\"fill\": {\"color\": \"#C8D4E3\"}, \"line\": {\"color\": \"white\"}}, \"type\": \"table\"}]}, \"layout\": {\"annotationdefaults\": {\"arrowcolor\": \"#2a3f5f\", \"arrowhead\": 0, \"arrowwidth\": 1}, \"autotypenumbers\": \"strict\", \"coloraxis\": {\"colorbar\": {\"outlinewidth\": 0, \"ticks\": \"\"}}, \"colorscale\": {\"diverging\": [[0, \"#8e0152\"], [0.1, \"#c51b7d\"], [0.2, \"#de77ae\"], [0.3, \"#f1b6da\"], [0.4, \"#fde0ef\"], [0.5, \"#f7f7f7\"], [0.6, \"#e6f5d0\"], [0.7, \"#b8e186\"], [0.8, \"#7fbc41\"], [0.9, \"#4d9221\"], [1, \"#276419\"]], \"sequential\": [[0.0, \"#0d0887\"], [0.1111111111111111, \"#46039f\"], [0.2222222222222222, \"#7201a8\"], [0.3333333333333333, \"#9c179e\"], [0.4444444444444444, \"#bd3786\"], [0.5555555555555556, \"#d8576b\"], [0.6666666666666666, \"#ed7953\"], [0.7777777777777778, \"#fb9f3a\"], [0.8888888888888888, \"#fdca26\"], [1.0, \"#f0f921\"]], \"sequentialminus\": [[0.0, \"#0d0887\"], [0.1111111111111111, \"#46039f\"], [0.2222222222222222, \"#7201a8\"], [0.3333333333333333, \"#9c179e\"], [0.4444444444444444, \"#bd3786\"], [0.5555555555555556, \"#d8576b\"], [0.6666666666666666, \"#ed7953\"], [0.7777777777777778, \"#fb9f3a\"], [0.8888888888888888, \"#fdca26\"], [1.0, \"#f0f921\"]]}, \"colorway\": [\"#636efa\", \"#EF553B\", \"#00cc96\", \"#ab63fa\", \"#FFA15A\", \"#19d3f3\", \"#FF6692\", \"#B6E880\", \"#FF97FF\", \"#FECB52\"], \"font\": {\"color\": \"#2a3f5f\"}, \"geo\": {\"bgcolor\": \"white\", \"lakecolor\": \"white\", \"landcolor\": \"#E5ECF6\", \"showlakes\": true, \"showland\": true, \"subunitcolor\": \"white\"}, \"hoverlabel\": {\"align\": \"left\"}, \"hovermode\": \"closest\", \"mapbox\": {\"style\": \"light\"}, \"paper_bgcolor\": \"white\", \"plot_bgcolor\": \"#E5ECF6\", \"polar\": {\"angularaxis\": {\"gridcolor\": \"white\", \"linecolor\": \"white\", \"ticks\": \"\"}, \"bgcolor\": \"#E5ECF6\", \"radialaxis\": {\"gridcolor\": \"white\", \"linecolor\": \"white\", \"ticks\": \"\"}}, \"scene\": {\"xaxis\": {\"backgroundcolor\": \"#E5ECF6\", \"gridcolor\": \"white\", \"gridwidth\": 2, \"linecolor\": \"white\", \"showbackground\": true, \"ticks\": \"\", \"zerolinecolor\": \"white\"}, \"yaxis\": {\"backgroundcolor\": \"#E5ECF6\", \"gridcolor\": \"white\", \"gridwidth\": 2, \"linecolor\": \"white\", \"showbackground\": true, \"ticks\": \"\", \"zerolinecolor\": \"white\"}, \"zaxis\": {\"backgroundcolor\": \"#E5ECF6\", \"gridcolor\": \"white\", \"gridwidth\": 2, \"linecolor\": \"white\", \"showbackground\": true, \"ticks\": \"\", \"zerolinecolor\": \"white\"}}, \"shapedefaults\": {\"line\": {\"color\": \"#2a3f5f\"}}, \"ternary\": {\"aaxis\": {\"gridcolor\": \"white\", \"linecolor\": \"white\", \"ticks\": \"\"}, \"baxis\": {\"gridcolor\": \"white\", \"linecolor\": \"white\", \"ticks\": \"\"}, \"bgcolor\": \"#E5ECF6\", \"caxis\": {\"gridcolor\": \"white\", \"linecolor\": \"white\", \"ticks\": \"\"}}, \"title\": {\"x\": 0.05}, \"xaxis\": {\"automargin\": true, \"gridcolor\": \"white\", \"linecolor\": \"white\", \"ticks\": \"\", \"title\": {\"standoff\": 15}, \"zerolinecolor\": \"white\", \"zerolinewidth\": 2}, \"yaxis\": {\"automargin\": true, \"gridcolor\": \"white\", \"linecolor\": \"white\", \"ticks\": \"\", \"title\": {\"standoff\": 15}, \"zerolinecolor\": \"white\", \"zerolinewidth\": 2}}}, \"title\": {\"text\": \"Relationship between Health (Life Expectancy) & Happiness Score of countries\"}, \"xaxis\": {\"anchor\": \"y\", \"domain\": [0.0, 1.0], \"title\": {\"text\": \"Health (Life Expectancy)\"}}, \"yaxis\": {\"anchor\": \"x\", \"domain\": [0.0, 1.0], \"title\": {\"text\": \"Happiness Score\"}}},                        {\"responsive\": true}                    ).then(function(){\n",
       "                            \n",
       "var gd = document.getElementById('8c497d6e-bfb0-452b-a6e7-ddbc15192ff6');\n",
       "var x = new MutationObserver(function (mutations, observer) {{\n",
       "        var display = window.getComputedStyle(gd).display;\n",
       "        if (!display || display === 'none') {{\n",
       "            console.log([gd, 'removed!']);\n",
       "            Plotly.purge(gd);\n",
       "            observer.disconnect();\n",
       "        }}\n",
       "}});\n",
       "\n",
       "// Listen for the removal of the full notebook cells\n",
       "var notebookContainer = gd.closest('#notebook-container');\n",
       "if (notebookContainer) {{\n",
       "    x.observe(notebookContainer, {childList: true});\n",
       "}}\n",
       "\n",
       "// Listen for the clearing of the current output cell\n",
       "var outputEl = gd.closest('.output');\n",
       "if (outputEl) {{\n",
       "    x.observe(outputEl, {childList: true});\n",
       "}}\n",
       "\n",
       "                        })                };                });            </script>        </div>"
      ]
     },
     "metadata": {},
     "output_type": "display_data"
    }
   ],
   "source": [
    "fig = px.scatter(data_frame=df,x='Health (Life Expectancy)',y= 'Happiness Score', \n",
    "                 title=\"Relationship between Health (Life Expectancy) & Happiness Score of countries\", \n",
    "                labels={\n",
    "                     \"Health (Life Expectancy)\": \"Health (Life Expectancy)\",\n",
    "                     \"Happiness Score\": \"Happiness Score\" } , size='Happiness Score', color =  'Region', hover_name='Country'       \n",
    "                 )\n",
    "fig.show()"
   ]
  },
  {
   "cell_type": "code",
   "execution_count": 95,
   "metadata": {},
   "outputs": [
    {
     "data": {
      "application/vnd.plotly.v1+json": {
       "config": {
        "plotlyServerURL": "https://plot.ly"
       },
       "data": [
        {
         "hovertemplate": "<b>%{hovertext}</b><br><br>Region=Western Europe<br>Generosity=%{x}<br>Happiness Score=%{marker.size}<extra></extra>",
         "hovertext": [
          "Finland",
          "Denmark",
          "Switzerland",
          "Iceland",
          "Netherlands",
          "Norway",
          "Sweden",
          "Luxembourg",
          "Austria",
          "Germany",
          "Ireland",
          "United Kingdom",
          "Belgium",
          "France",
          "Malta",
          "Spain",
          "Italy",
          "Cyprus",
          "Portugal",
          "Greece",
          "North Cyprus"
         ],
         "legendgroup": "Western Europe",
         "marker": {
          "color": "#636efa",
          "size": [
           7.8420000000000005,
           7.62,
           7.571000000000001,
           7.553999999999999,
           7.4639999999999995,
           7.392,
           7.3629999999999995,
           7.324,
           7.268,
           7.155,
           7.085,
           7.064,
           6.834,
           6.69,
           6.602,
           6.4910000000000005,
           6.483,
           6.223,
           5.928999999999999,
           5.723,
           5.5360000000000005
          ],
          "sizemode": "area",
          "sizeref": 0.019605,
          "symbol": "circle"
         },
         "mode": "markers",
         "name": "Western Europe",
         "orientation": "v",
         "showlegend": true,
         "type": "scatter",
         "x": [
          0.124,
          0.20800000000000002,
          0.204,
          0.293,
          0.302,
          0.249,
          0.244,
          0.166,
          0.215,
          0.195,
          0.23800000000000002,
          0.34,
          0.08800000000000001,
          0.092,
          0.275,
          0.135,
          0.133,
          0.17800000000000002,
          0.028999999999999998,
          0,
          0.196
         ],
         "xaxis": "x",
         "y": [
          7.8420000000000005,
          7.62,
          7.571000000000001,
          7.553999999999999,
          7.4639999999999995,
          7.392,
          7.3629999999999995,
          7.324,
          7.268,
          7.155,
          7.085,
          7.064,
          6.834,
          6.69,
          6.602,
          6.4910000000000005,
          6.483,
          6.223,
          5.928999999999999,
          5.723,
          5.5360000000000005
         ],
         "yaxis": "y"
        },
        {
         "hovertemplate": "<b>%{hovertext}</b><br><br>Region=North America and ANZ<br>Generosity=%{x}<br>Happiness Score=%{marker.size}<extra></extra>",
         "hovertext": [
          "New Zealand",
          "Australia",
          "Canada",
          "United States"
         ],
         "legendgroup": "North America and ANZ",
         "marker": {
          "color": "#EF553B",
          "size": [
           7.277,
           7.183,
           7.103,
           6.9510000000000005
          ],
          "sizemode": "area",
          "sizeref": 0.019605,
          "symbol": "circle"
         },
         "mode": "markers",
         "name": "North America and ANZ",
         "orientation": "v",
         "showlegend": true,
         "type": "scatter",
         "x": [
          0.276,
          0.29100000000000004,
          0.24600000000000002,
          0.252
         ],
         "xaxis": "x",
         "y": [
          7.277,
          7.183,
          7.103,
          6.9510000000000005
         ],
         "yaxis": "y"
        },
        {
         "hovertemplate": "<b>%{hovertext}</b><br><br>Region=Middle East and North Africa<br>Generosity=%{x}<br>Happiness Score=%{marker.size}<extra></extra>",
         "hovertext": [
          "Israel",
          "Bahrain",
          "United Arab Emirates",
          "Saudi Arabia",
          "Kuwait",
          "Libya",
          "Turkey",
          "Morocco",
          "Algeria",
          "Iraq",
          "Iran",
          "Tunisia",
          "Lebanon",
          "Palestinian Territories",
          "Jordan",
          "Egypt",
          "Yemen"
         ],
         "legendgroup": "Middle East and North Africa",
         "marker": {
          "color": "#00cc96",
          "size": [
           7.157,
           6.647,
           6.561,
           6.494,
           6.106,
           5.41,
           4.948,
           4.918,
           4.887,
           4.854,
           4.721,
           4.596,
           4.584,
           4.5169999999999995,
           4.395,
           4.283,
           3.658
          ],
          "sizemode": "area",
          "sizeref": 0.019605,
          "symbol": "circle"
         },
         "mode": "markers",
         "name": "Middle East and North Africa",
         "orientation": "v",
         "showlegend": true,
         "type": "scatter",
         "x": [
          0.20800000000000002,
          0.24600000000000002,
          0.23600000000000002,
          0.09,
          0.12,
          0.131,
          0.09699999999999999,
          0.034,
          0.14400000000000002,
          0.153,
          0.33,
          0.057,
          0.14,
          0.08199999999999999,
          0.079,
          0.069,
          0.092
         ],
         "xaxis": "x",
         "y": [
          7.157,
          6.647,
          6.561,
          6.494,
          6.106,
          5.41,
          4.948,
          4.918,
          4.887,
          4.854,
          4.721,
          4.596,
          4.584,
          4.5169999999999995,
          4.395,
          4.283,
          3.658
         ],
         "yaxis": "y"
        },
        {
         "hovertemplate": "<b>%{hovertext}</b><br><br>Region=Latin America and Caribbean<br>Generosity=%{x}<br>Happiness Score=%{marker.size}<extra></extra>",
         "hovertext": [
          "Costa Rica",
          "Guatemala",
          "Uruguay",
          "Brazil",
          "Mexico",
          "Jamaica",
          "Panama",
          "Chile",
          "El Salvador",
          "Colombia",
          "Nicaragua",
          "Argentina",
          "Honduras",
          "Peru",
          "Ecuador",
          "Bolivia",
          "Paraguay",
          "Dominican Republic",
          "Venezuela",
          "Haiti"
         ],
         "legendgroup": "Latin America and Caribbean",
         "marker": {
          "color": "#ab63fa",
          "size": [
           7.069,
           6.435,
           6.431,
           6.33,
           6.317,
           6.309,
           6.18,
           6.172000000000001,
           6.061,
           6.0120000000000005,
           5.972,
           5.928999999999999,
           5.919,
           5.84,
           5.763999999999999,
           5.716,
           5.653,
           5.545,
           4.8919999999999995,
           3.615
          ],
          "sizemode": "area",
          "sizeref": 0.019605,
          "symbol": "circle"
         },
         "mode": "markers",
         "name": "Latin America and Caribbean",
         "orientation": "v",
         "showlegend": true,
         "type": "scatter",
         "x": [
          0.105,
          0.163,
          0.128,
          0.142,
          0.092,
          0.099,
          0.079,
          0.159,
          0.11599999999999999,
          0.1,
          0.201,
          0.069,
          0.24100000000000002,
          0.087,
          0.107,
          0.138,
          0.20600000000000002,
          0.10099999999999999,
          0.078,
          0.46299999999999997
         ],
         "xaxis": "x",
         "y": [
          7.069,
          6.435,
          6.431,
          6.33,
          6.317,
          6.309,
          6.18,
          6.172000000000001,
          6.061,
          6.0120000000000005,
          5.972,
          5.928999999999999,
          5.919,
          5.84,
          5.763999999999999,
          5.716,
          5.653,
          5.545,
          4.8919999999999995,
          3.615
         ],
         "yaxis": "y"
        },
        {
         "hovertemplate": "<b>%{hovertext}</b><br><br>Region=Central and Eastern Europe<br>Generosity=%{x}<br>Happiness Score=%{marker.size}<extra></extra>",
         "hovertext": [
          "Czech Republic",
          "Slovenia",
          "Kosovo",
          "Slovakia",
          "Lithuania",
          "Estonia",
          "Poland",
          "Romania",
          "Serbia",
          "Latvia",
          "Hungary",
          "Croatia",
          "Bosnia and Herzegovina",
          "Montenegro",
          "Bulgaria",
          "Albania",
          "North Macedonia"
         ],
         "legendgroup": "Central and Eastern Europe",
         "marker": {
          "color": "#FFA15A",
          "size": [
           6.965,
           6.461,
           6.372000000000001,
           6.331,
           6.255,
           6.189,
           6.166,
           6.14,
           6.077999999999999,
           6.032,
           5.992000000000001,
           5.882000000000001,
           5.813,
           5.581,
           5.266,
           5.117,
           5.101
          ],
          "sizemode": "area",
          "sizeref": 0.019605,
          "symbol": "circle"
         },
         "mode": "markers",
         "name": "Central and Eastern Europe",
         "orientation": "v",
         "showlegend": true,
         "type": "scatter",
         "x": [
          0.052000000000000005,
          0.122,
          0.35600000000000004,
          0.107,
          0.055999999999999994,
          0.11900000000000001,
          0.08,
          0.045,
          0.18899999999999997,
          0.08199999999999999,
          0.067,
          0.111,
          0.261,
          0.166,
          0.125,
          0.168,
          0.212
         ],
         "xaxis": "x",
         "y": [
          6.965,
          6.461,
          6.372000000000001,
          6.331,
          6.255,
          6.189,
          6.166,
          6.14,
          6.077999999999999,
          6.032,
          5.992000000000001,
          5.882000000000001,
          5.813,
          5.581,
          5.266,
          5.117,
          5.101
         ],
         "yaxis": "y"
        },
        {
         "hovertemplate": "<b>%{hovertext}</b><br><br>Region=East Asia<br>Generosity=%{x}<br>Happiness Score=%{marker.size}<extra></extra>",
         "hovertext": [
          "Taiwan Province of China",
          "Japan",
          "South Korea",
          "Mongolia",
          "Hong Kong S.A.R. of China",
          "China"
         ],
         "legendgroup": "East Asia",
         "marker": {
          "color": "#19d3f3",
          "size": [
           6.584,
           5.94,
           5.845,
           5.6770000000000005,
           5.477,
           5.3389999999999995
          ],
          "sizemode": "area",
          "sizeref": 0.019605,
          "symbol": "circle"
         },
         "mode": "markers",
         "name": "East Asia",
         "orientation": "v",
         "showlegend": true,
         "type": "scatter",
         "x": [
          0.142,
          0.02,
          0.134,
          0.263,
          0.23199999999999998,
          0.09300000000000001
         ],
         "xaxis": "x",
         "y": [
          6.584,
          5.94,
          5.845,
          5.6770000000000005,
          5.477,
          5.3389999999999995
         ],
         "yaxis": "y"
        },
        {
         "hovertemplate": "<b>%{hovertext}</b><br><br>Region=Southeast Asia<br>Generosity=%{x}<br>Happiness Score=%{marker.size}<extra></extra>",
         "hovertext": [
          "Singapore",
          "Thailand",
          "Philippines",
          "Vietnam",
          "Malaysia",
          "Indonesia",
          "Laos",
          "Cambodia",
          "Myanmar"
         ],
         "legendgroup": "Southeast Asia",
         "marker": {
          "color": "#FF6692",
          "size": [
           6.377000000000001,
           5.985,
           5.88,
           5.4110000000000005,
           5.3839999999999995,
           5.345,
           5.03,
           4.83,
           4.426
          ],
          "sizemode": "area",
          "sizeref": 0.019605,
          "symbol": "circle"
         },
         "mode": "markers",
         "name": "Southeast Asia",
         "orientation": "v",
         "showlegend": true,
         "type": "scatter",
         "x": [
          0.17600000000000002,
          0.375,
          0.125,
          0.124,
          0.27,
          0.541,
          0.268,
          0.21,
          0.52
         ],
         "xaxis": "x",
         "y": [
          6.377000000000001,
          5.985,
          5.88,
          5.4110000000000005,
          5.3839999999999995,
          5.345,
          5.03,
          4.83,
          4.426
         ],
         "yaxis": "y"
        },
        {
         "hovertemplate": "<b>%{hovertext}</b><br><br>Region=Commonwealth of Independent States<br>Generosity=%{x}<br>Happiness Score=%{marker.size}<extra></extra>",
         "hovertext": [
          "Uzbekistan",
          "Kazakhstan",
          "Moldova",
          "Kyrgyzstan",
          "Belarus",
          "Russia",
          "Tajikistan",
          "Armenia",
          "Azerbaijan",
          "Turkmenistan",
          "Georgia",
          "Ukraine"
         ],
         "legendgroup": "Commonwealth of Independent States",
         "marker": {
          "color": "#B6E880",
          "size": [
           6.178999999999999,
           6.152,
           5.766,
           5.744,
           5.534,
           5.477,
           5.466,
           5.2829999999999995,
           5.171,
           5.066,
           4.891,
           4.875
          ],
          "sizemode": "area",
          "sizeref": 0.019605,
          "symbol": "circle"
         },
         "mode": "markers",
         "name": "Commonwealth of Independent States",
         "orientation": "v",
         "showlegend": true,
         "type": "scatter",
         "x": [
          0.391,
          0.14300000000000002,
          0.13699999999999998,
          0.266,
          0.07,
          0.115,
          0.152,
          0.079,
          0.043,
          0.366,
          0.032,
          0.18100000000000002
         ],
         "xaxis": "x",
         "y": [
          6.178999999999999,
          6.152,
          5.766,
          5.744,
          5.534,
          5.477,
          5.466,
          5.2829999999999995,
          5.171,
          5.066,
          4.891,
          4.875
         ],
         "yaxis": "y"
        },
        {
         "hovertemplate": "<b>%{hovertext}</b><br><br>Region=Sub-Saharan Africa<br>Generosity=%{x}<br>Happiness Score=%{marker.size}<extra></extra>",
         "hovertext": [
          "Mauritius",
          "Congo (Brazzaville)",
          "Ivory Coast",
          "Cameroon",
          "Senegal",
          "Ghana",
          "Niger",
          "Gambia",
          "Benin",
          "Guinea",
          "South Africa",
          "Gabon",
          "Burkina Faso",
          "Mozambique",
          "Nigeria",
          "Mali",
          "Uganda",
          "Liberia",
          "Kenya",
          "Namibia",
          "Chad",
          "Swaziland",
          "Comoros",
          "Ethiopia",
          "Mauritania",
          "Madagascar",
          "Togo",
          "Zambia",
          "Sierra Leone",
          "Burundi",
          "Tanzania",
          "Malawi",
          "Lesotho",
          "Botswana",
          "Rwanda",
          "Zimbabwe"
         ],
         "legendgroup": "Sub-Saharan Africa",
         "marker": {
          "color": "#FF97FF",
          "size": [
           6.0489999999999995,
           5.3420000000000005,
           5.306,
           5.142,
           5.132000000000001,
           5.088,
           5.074,
           5.051,
           5.045,
           4.984,
           4.956,
           4.852,
           4.834,
           4.794,
           4.7589999999999995,
           4.723,
           4.636,
           4.625,
           4.607,
           4.574,
           4.355,
           4.308,
           4.289,
           4.275,
           4.227,
           4.208,
           4.107,
           4.073,
           3.8489999999999998,
           3.775,
           3.623,
           3.6,
           3.512,
           3.467,
           3.415,
           3.145
          ],
          "sizemode": "area",
          "sizeref": 0.019605,
          "symbol": "circle"
         },
         "mode": "markers",
         "name": "Sub-Saharan Africa",
         "orientation": "v",
         "showlegend": true,
         "type": "scatter",
         "x": [
          0.153,
          0.14400000000000002,
          0.177,
          0.205,
          0.158,
          0.268,
          0.2,
          0.465,
          0.166,
          0.25,
          0.14400000000000002,
          0.057999999999999996,
          0.182,
          0.228,
          0.212,
          0.16399999999999998,
          0.267,
          0.221,
          0.375,
          0.091,
          0.215,
          0.067,
          0.24100000000000002,
          0.24100000000000002,
          0.11900000000000001,
          0.185,
          0.209,
          0.22699999999999998,
          0.243,
          0.172,
          0.307,
          0.213,
          0.10300000000000001,
          0.027000000000000003,
          0.22699999999999998,
          0.157
         ],
         "xaxis": "x",
         "y": [
          6.0489999999999995,
          5.3420000000000005,
          5.306,
          5.142,
          5.132000000000001,
          5.088,
          5.074,
          5.051,
          5.045,
          4.984,
          4.956,
          4.852,
          4.834,
          4.794,
          4.7589999999999995,
          4.723,
          4.636,
          4.625,
          4.607,
          4.574,
          4.355,
          4.308,
          4.289,
          4.275,
          4.227,
          4.208,
          4.107,
          4.073,
          3.8489999999999998,
          3.775,
          3.623,
          3.6,
          3.512,
          3.467,
          3.415,
          3.145
         ],
         "yaxis": "y"
        },
        {
         "hovertemplate": "<b>%{hovertext}</b><br><br>Region=South Asia<br>Generosity=%{x}<br>Happiness Score=%{marker.size}<extra></extra>",
         "hovertext": [
          "Nepal",
          "Maldives",
          "Bangladesh",
          "Pakistan",
          "Sri Lanka",
          "India",
          "Afghanistan"
         ],
         "legendgroup": "South Asia",
         "marker": {
          "color": "#FECB52",
          "size": [
           5.269,
           5.1979999999999995,
           5.025,
           4.934,
           4.325,
           3.819,
           2.523
          ],
          "sizemode": "area",
          "sizeref": 0.019605,
          "symbol": "circle"
         },
         "mode": "markers",
         "name": "South Asia",
         "orientation": "v",
         "showlegend": true,
         "type": "scatter",
         "x": [
          0.287,
          0.204,
          0.161,
          0.252,
          0.239,
          0.24600000000000002,
          0.122
         ],
         "xaxis": "x",
         "y": [
          5.269,
          5.1979999999999995,
          5.025,
          4.934,
          4.325,
          3.819,
          2.523
         ],
         "yaxis": "y"
        }
       ],
       "layout": {
        "legend": {
         "itemsizing": "constant",
         "title": {
          "text": "Region"
         },
         "tracegroupgap": 0
        },
        "template": {
         "data": {
          "bar": [
           {
            "error_x": {
             "color": "#2a3f5f"
            },
            "error_y": {
             "color": "#2a3f5f"
            },
            "marker": {
             "line": {
              "color": "#E5ECF6",
              "width": 0.5
             }
            },
            "type": "bar"
           }
          ],
          "barpolar": [
           {
            "marker": {
             "line": {
              "color": "#E5ECF6",
              "width": 0.5
             }
            },
            "type": "barpolar"
           }
          ],
          "carpet": [
           {
            "aaxis": {
             "endlinecolor": "#2a3f5f",
             "gridcolor": "white",
             "linecolor": "white",
             "minorgridcolor": "white",
             "startlinecolor": "#2a3f5f"
            },
            "baxis": {
             "endlinecolor": "#2a3f5f",
             "gridcolor": "white",
             "linecolor": "white",
             "minorgridcolor": "white",
             "startlinecolor": "#2a3f5f"
            },
            "type": "carpet"
           }
          ],
          "choropleth": [
           {
            "colorbar": {
             "outlinewidth": 0,
             "ticks": ""
            },
            "type": "choropleth"
           }
          ],
          "contour": [
           {
            "colorbar": {
             "outlinewidth": 0,
             "ticks": ""
            },
            "colorscale": [
             [
              0,
              "#0d0887"
             ],
             [
              0.1111111111111111,
              "#46039f"
             ],
             [
              0.2222222222222222,
              "#7201a8"
             ],
             [
              0.3333333333333333,
              "#9c179e"
             ],
             [
              0.4444444444444444,
              "#bd3786"
             ],
             [
              0.5555555555555556,
              "#d8576b"
             ],
             [
              0.6666666666666666,
              "#ed7953"
             ],
             [
              0.7777777777777778,
              "#fb9f3a"
             ],
             [
              0.8888888888888888,
              "#fdca26"
             ],
             [
              1,
              "#f0f921"
             ]
            ],
            "type": "contour"
           }
          ],
          "contourcarpet": [
           {
            "colorbar": {
             "outlinewidth": 0,
             "ticks": ""
            },
            "type": "contourcarpet"
           }
          ],
          "heatmap": [
           {
            "colorbar": {
             "outlinewidth": 0,
             "ticks": ""
            },
            "colorscale": [
             [
              0,
              "#0d0887"
             ],
             [
              0.1111111111111111,
              "#46039f"
             ],
             [
              0.2222222222222222,
              "#7201a8"
             ],
             [
              0.3333333333333333,
              "#9c179e"
             ],
             [
              0.4444444444444444,
              "#bd3786"
             ],
             [
              0.5555555555555556,
              "#d8576b"
             ],
             [
              0.6666666666666666,
              "#ed7953"
             ],
             [
              0.7777777777777778,
              "#fb9f3a"
             ],
             [
              0.8888888888888888,
              "#fdca26"
             ],
             [
              1,
              "#f0f921"
             ]
            ],
            "type": "heatmap"
           }
          ],
          "heatmapgl": [
           {
            "colorbar": {
             "outlinewidth": 0,
             "ticks": ""
            },
            "colorscale": [
             [
              0,
              "#0d0887"
             ],
             [
              0.1111111111111111,
              "#46039f"
             ],
             [
              0.2222222222222222,
              "#7201a8"
             ],
             [
              0.3333333333333333,
              "#9c179e"
             ],
             [
              0.4444444444444444,
              "#bd3786"
             ],
             [
              0.5555555555555556,
              "#d8576b"
             ],
             [
              0.6666666666666666,
              "#ed7953"
             ],
             [
              0.7777777777777778,
              "#fb9f3a"
             ],
             [
              0.8888888888888888,
              "#fdca26"
             ],
             [
              1,
              "#f0f921"
             ]
            ],
            "type": "heatmapgl"
           }
          ],
          "histogram": [
           {
            "marker": {
             "colorbar": {
              "outlinewidth": 0,
              "ticks": ""
             }
            },
            "type": "histogram"
           }
          ],
          "histogram2d": [
           {
            "colorbar": {
             "outlinewidth": 0,
             "ticks": ""
            },
            "colorscale": [
             [
              0,
              "#0d0887"
             ],
             [
              0.1111111111111111,
              "#46039f"
             ],
             [
              0.2222222222222222,
              "#7201a8"
             ],
             [
              0.3333333333333333,
              "#9c179e"
             ],
             [
              0.4444444444444444,
              "#bd3786"
             ],
             [
              0.5555555555555556,
              "#d8576b"
             ],
             [
              0.6666666666666666,
              "#ed7953"
             ],
             [
              0.7777777777777778,
              "#fb9f3a"
             ],
             [
              0.8888888888888888,
              "#fdca26"
             ],
             [
              1,
              "#f0f921"
             ]
            ],
            "type": "histogram2d"
           }
          ],
          "histogram2dcontour": [
           {
            "colorbar": {
             "outlinewidth": 0,
             "ticks": ""
            },
            "colorscale": [
             [
              0,
              "#0d0887"
             ],
             [
              0.1111111111111111,
              "#46039f"
             ],
             [
              0.2222222222222222,
              "#7201a8"
             ],
             [
              0.3333333333333333,
              "#9c179e"
             ],
             [
              0.4444444444444444,
              "#bd3786"
             ],
             [
              0.5555555555555556,
              "#d8576b"
             ],
             [
              0.6666666666666666,
              "#ed7953"
             ],
             [
              0.7777777777777778,
              "#fb9f3a"
             ],
             [
              0.8888888888888888,
              "#fdca26"
             ],
             [
              1,
              "#f0f921"
             ]
            ],
            "type": "histogram2dcontour"
           }
          ],
          "mesh3d": [
           {
            "colorbar": {
             "outlinewidth": 0,
             "ticks": ""
            },
            "type": "mesh3d"
           }
          ],
          "parcoords": [
           {
            "line": {
             "colorbar": {
              "outlinewidth": 0,
              "ticks": ""
             }
            },
            "type": "parcoords"
           }
          ],
          "pie": [
           {
            "automargin": true,
            "type": "pie"
           }
          ],
          "scatter": [
           {
            "marker": {
             "colorbar": {
              "outlinewidth": 0,
              "ticks": ""
             }
            },
            "type": "scatter"
           }
          ],
          "scatter3d": [
           {
            "line": {
             "colorbar": {
              "outlinewidth": 0,
              "ticks": ""
             }
            },
            "marker": {
             "colorbar": {
              "outlinewidth": 0,
              "ticks": ""
             }
            },
            "type": "scatter3d"
           }
          ],
          "scattercarpet": [
           {
            "marker": {
             "colorbar": {
              "outlinewidth": 0,
              "ticks": ""
             }
            },
            "type": "scattercarpet"
           }
          ],
          "scattergeo": [
           {
            "marker": {
             "colorbar": {
              "outlinewidth": 0,
              "ticks": ""
             }
            },
            "type": "scattergeo"
           }
          ],
          "scattergl": [
           {
            "marker": {
             "colorbar": {
              "outlinewidth": 0,
              "ticks": ""
             }
            },
            "type": "scattergl"
           }
          ],
          "scattermapbox": [
           {
            "marker": {
             "colorbar": {
              "outlinewidth": 0,
              "ticks": ""
             }
            },
            "type": "scattermapbox"
           }
          ],
          "scatterpolar": [
           {
            "marker": {
             "colorbar": {
              "outlinewidth": 0,
              "ticks": ""
             }
            },
            "type": "scatterpolar"
           }
          ],
          "scatterpolargl": [
           {
            "marker": {
             "colorbar": {
              "outlinewidth": 0,
              "ticks": ""
             }
            },
            "type": "scatterpolargl"
           }
          ],
          "scatterternary": [
           {
            "marker": {
             "colorbar": {
              "outlinewidth": 0,
              "ticks": ""
             }
            },
            "type": "scatterternary"
           }
          ],
          "surface": [
           {
            "colorbar": {
             "outlinewidth": 0,
             "ticks": ""
            },
            "colorscale": [
             [
              0,
              "#0d0887"
             ],
             [
              0.1111111111111111,
              "#46039f"
             ],
             [
              0.2222222222222222,
              "#7201a8"
             ],
             [
              0.3333333333333333,
              "#9c179e"
             ],
             [
              0.4444444444444444,
              "#bd3786"
             ],
             [
              0.5555555555555556,
              "#d8576b"
             ],
             [
              0.6666666666666666,
              "#ed7953"
             ],
             [
              0.7777777777777778,
              "#fb9f3a"
             ],
             [
              0.8888888888888888,
              "#fdca26"
             ],
             [
              1,
              "#f0f921"
             ]
            ],
            "type": "surface"
           }
          ],
          "table": [
           {
            "cells": {
             "fill": {
              "color": "#EBF0F8"
             },
             "line": {
              "color": "white"
             }
            },
            "header": {
             "fill": {
              "color": "#C8D4E3"
             },
             "line": {
              "color": "white"
             }
            },
            "type": "table"
           }
          ]
         },
         "layout": {
          "annotationdefaults": {
           "arrowcolor": "#2a3f5f",
           "arrowhead": 0,
           "arrowwidth": 1
          },
          "autotypenumbers": "strict",
          "coloraxis": {
           "colorbar": {
            "outlinewidth": 0,
            "ticks": ""
           }
          },
          "colorscale": {
           "diverging": [
            [
             0,
             "#8e0152"
            ],
            [
             0.1,
             "#c51b7d"
            ],
            [
             0.2,
             "#de77ae"
            ],
            [
             0.3,
             "#f1b6da"
            ],
            [
             0.4,
             "#fde0ef"
            ],
            [
             0.5,
             "#f7f7f7"
            ],
            [
             0.6,
             "#e6f5d0"
            ],
            [
             0.7,
             "#b8e186"
            ],
            [
             0.8,
             "#7fbc41"
            ],
            [
             0.9,
             "#4d9221"
            ],
            [
             1,
             "#276419"
            ]
           ],
           "sequential": [
            [
             0,
             "#0d0887"
            ],
            [
             0.1111111111111111,
             "#46039f"
            ],
            [
             0.2222222222222222,
             "#7201a8"
            ],
            [
             0.3333333333333333,
             "#9c179e"
            ],
            [
             0.4444444444444444,
             "#bd3786"
            ],
            [
             0.5555555555555556,
             "#d8576b"
            ],
            [
             0.6666666666666666,
             "#ed7953"
            ],
            [
             0.7777777777777778,
             "#fb9f3a"
            ],
            [
             0.8888888888888888,
             "#fdca26"
            ],
            [
             1,
             "#f0f921"
            ]
           ],
           "sequentialminus": [
            [
             0,
             "#0d0887"
            ],
            [
             0.1111111111111111,
             "#46039f"
            ],
            [
             0.2222222222222222,
             "#7201a8"
            ],
            [
             0.3333333333333333,
             "#9c179e"
            ],
            [
             0.4444444444444444,
             "#bd3786"
            ],
            [
             0.5555555555555556,
             "#d8576b"
            ],
            [
             0.6666666666666666,
             "#ed7953"
            ],
            [
             0.7777777777777778,
             "#fb9f3a"
            ],
            [
             0.8888888888888888,
             "#fdca26"
            ],
            [
             1,
             "#f0f921"
            ]
           ]
          },
          "colorway": [
           "#636efa",
           "#EF553B",
           "#00cc96",
           "#ab63fa",
           "#FFA15A",
           "#19d3f3",
           "#FF6692",
           "#B6E880",
           "#FF97FF",
           "#FECB52"
          ],
          "font": {
           "color": "#2a3f5f"
          },
          "geo": {
           "bgcolor": "white",
           "lakecolor": "white",
           "landcolor": "#E5ECF6",
           "showlakes": true,
           "showland": true,
           "subunitcolor": "white"
          },
          "hoverlabel": {
           "align": "left"
          },
          "hovermode": "closest",
          "mapbox": {
           "style": "light"
          },
          "paper_bgcolor": "white",
          "plot_bgcolor": "#E5ECF6",
          "polar": {
           "angularaxis": {
            "gridcolor": "white",
            "linecolor": "white",
            "ticks": ""
           },
           "bgcolor": "#E5ECF6",
           "radialaxis": {
            "gridcolor": "white",
            "linecolor": "white",
            "ticks": ""
           }
          },
          "scene": {
           "xaxis": {
            "backgroundcolor": "#E5ECF6",
            "gridcolor": "white",
            "gridwidth": 2,
            "linecolor": "white",
            "showbackground": true,
            "ticks": "",
            "zerolinecolor": "white"
           },
           "yaxis": {
            "backgroundcolor": "#E5ECF6",
            "gridcolor": "white",
            "gridwidth": 2,
            "linecolor": "white",
            "showbackground": true,
            "ticks": "",
            "zerolinecolor": "white"
           },
           "zaxis": {
            "backgroundcolor": "#E5ECF6",
            "gridcolor": "white",
            "gridwidth": 2,
            "linecolor": "white",
            "showbackground": true,
            "ticks": "",
            "zerolinecolor": "white"
           }
          },
          "shapedefaults": {
           "line": {
            "color": "#2a3f5f"
           }
          },
          "ternary": {
           "aaxis": {
            "gridcolor": "white",
            "linecolor": "white",
            "ticks": ""
           },
           "baxis": {
            "gridcolor": "white",
            "linecolor": "white",
            "ticks": ""
           },
           "bgcolor": "#E5ECF6",
           "caxis": {
            "gridcolor": "white",
            "linecolor": "white",
            "ticks": ""
           }
          },
          "title": {
           "x": 0.05
          },
          "xaxis": {
           "automargin": true,
           "gridcolor": "white",
           "linecolor": "white",
           "ticks": "",
           "title": {
            "standoff": 15
           },
           "zerolinecolor": "white",
           "zerolinewidth": 2
          },
          "yaxis": {
           "automargin": true,
           "gridcolor": "white",
           "linecolor": "white",
           "ticks": "",
           "title": {
            "standoff": 15
           },
           "zerolinecolor": "white",
           "zerolinewidth": 2
          }
         }
        },
        "title": {
         "text": "Relationship between Generosity & Happiness Score of countries"
        },
        "xaxis": {
         "anchor": "y",
         "domain": [
          0,
          1
         ],
         "title": {
          "text": "Generosity"
         }
        },
        "yaxis": {
         "anchor": "x",
         "domain": [
          0,
          1
         ],
         "title": {
          "text": "Happiness Score"
         }
        }
       }
      },
      "text/html": [
       "<div>                            <div id=\"c796ee48-fea5-4aed-99d2-a575811c4fe0\" class=\"plotly-graph-div\" style=\"height:525px; width:100%;\"></div>            <script type=\"text/javascript\">                require([\"plotly\"], function(Plotly) {                    window.PLOTLYENV=window.PLOTLYENV || {};                                    if (document.getElementById(\"c796ee48-fea5-4aed-99d2-a575811c4fe0\")) {                    Plotly.newPlot(                        \"c796ee48-fea5-4aed-99d2-a575811c4fe0\",                        [{\"hovertemplate\": \"<b>%{hovertext}</b><br><br>Region=Western Europe<br>Generosity=%{x}<br>Happiness Score=%{marker.size}<extra></extra>\", \"hovertext\": [\"Finland\", \"Denmark\", \"Switzerland\", \"Iceland\", \"Netherlands\", \"Norway\", \"Sweden\", \"Luxembourg\", \"Austria\", \"Germany\", \"Ireland\", \"United Kingdom\", \"Belgium\", \"France\", \"Malta\", \"Spain\", \"Italy\", \"Cyprus\", \"Portugal\", \"Greece\", \"North Cyprus\"], \"legendgroup\": \"Western Europe\", \"marker\": {\"color\": \"#636efa\", \"size\": [7.8420000000000005, 7.62, 7.571000000000001, 7.553999999999999, 7.4639999999999995, 7.392, 7.3629999999999995, 7.324, 7.268, 7.155, 7.085, 7.064, 6.834, 6.69, 6.602, 6.4910000000000005, 6.483, 6.223, 5.928999999999999, 5.723, 5.5360000000000005], \"sizemode\": \"area\", \"sizeref\": 0.019605, \"symbol\": \"circle\"}, \"mode\": \"markers\", \"name\": \"Western Europe\", \"orientation\": \"v\", \"showlegend\": true, \"type\": \"scatter\", \"x\": [0.124, 0.20800000000000002, 0.204, 0.293, 0.302, 0.249, 0.244, 0.166, 0.215, 0.195, 0.23800000000000002, 0.34, 0.08800000000000001, 0.092, 0.275, 0.135, 0.133, 0.17800000000000002, 0.028999999999999998, 0.0, 0.196], \"xaxis\": \"x\", \"y\": [7.8420000000000005, 7.62, 7.571000000000001, 7.553999999999999, 7.4639999999999995, 7.392, 7.3629999999999995, 7.324, 7.268, 7.155, 7.085, 7.064, 6.834, 6.69, 6.602, 6.4910000000000005, 6.483, 6.223, 5.928999999999999, 5.723, 5.5360000000000005], \"yaxis\": \"y\"}, {\"hovertemplate\": \"<b>%{hovertext}</b><br><br>Region=North America and ANZ<br>Generosity=%{x}<br>Happiness Score=%{marker.size}<extra></extra>\", \"hovertext\": [\"New Zealand\", \"Australia\", \"Canada\", \"United States\"], \"legendgroup\": \"North America and ANZ\", \"marker\": {\"color\": \"#EF553B\", \"size\": [7.277, 7.183, 7.103, 6.9510000000000005], \"sizemode\": \"area\", \"sizeref\": 0.019605, \"symbol\": \"circle\"}, \"mode\": \"markers\", \"name\": \"North America and ANZ\", \"orientation\": \"v\", \"showlegend\": true, \"type\": \"scatter\", \"x\": [0.276, 0.29100000000000004, 0.24600000000000002, 0.252], \"xaxis\": \"x\", \"y\": [7.277, 7.183, 7.103, 6.9510000000000005], \"yaxis\": \"y\"}, {\"hovertemplate\": \"<b>%{hovertext}</b><br><br>Region=Middle East and North Africa<br>Generosity=%{x}<br>Happiness Score=%{marker.size}<extra></extra>\", \"hovertext\": [\"Israel\", \"Bahrain\", \"United Arab Emirates\", \"Saudi Arabia\", \"Kuwait\", \"Libya\", \"Turkey\", \"Morocco\", \"Algeria\", \"Iraq\", \"Iran\", \"Tunisia\", \"Lebanon\", \"Palestinian Territories\", \"Jordan\", \"Egypt\", \"Yemen\"], \"legendgroup\": \"Middle East and North Africa\", \"marker\": {\"color\": \"#00cc96\", \"size\": [7.157, 6.647, 6.561, 6.494, 6.106, 5.41, 4.948, 4.918, 4.887, 4.854, 4.721, 4.596, 4.584, 4.5169999999999995, 4.395, 4.283, 3.658], \"sizemode\": \"area\", \"sizeref\": 0.019605, \"symbol\": \"circle\"}, \"mode\": \"markers\", \"name\": \"Middle East and North Africa\", \"orientation\": \"v\", \"showlegend\": true, \"type\": \"scatter\", \"x\": [0.20800000000000002, 0.24600000000000002, 0.23600000000000002, 0.09, 0.12, 0.131, 0.09699999999999999, 0.034, 0.14400000000000002, 0.153, 0.33, 0.057, 0.14, 0.08199999999999999, 0.079, 0.069, 0.092], \"xaxis\": \"x\", \"y\": [7.157, 6.647, 6.561, 6.494, 6.106, 5.41, 4.948, 4.918, 4.887, 4.854, 4.721, 4.596, 4.584, 4.5169999999999995, 4.395, 4.283, 3.658], \"yaxis\": \"y\"}, {\"hovertemplate\": \"<b>%{hovertext}</b><br><br>Region=Latin America and Caribbean<br>Generosity=%{x}<br>Happiness Score=%{marker.size}<extra></extra>\", \"hovertext\": [\"Costa Rica\", \"Guatemala\", \"Uruguay\", \"Brazil\", \"Mexico\", \"Jamaica\", \"Panama\", \"Chile\", \"El Salvador\", \"Colombia\", \"Nicaragua\", \"Argentina\", \"Honduras\", \"Peru\", \"Ecuador\", \"Bolivia\", \"Paraguay\", \"Dominican Republic\", \"Venezuela\", \"Haiti\"], \"legendgroup\": \"Latin America and Caribbean\", \"marker\": {\"color\": \"#ab63fa\", \"size\": [7.069, 6.435, 6.431, 6.33, 6.317, 6.309, 6.18, 6.172000000000001, 6.061, 6.0120000000000005, 5.972, 5.928999999999999, 5.919, 5.84, 5.763999999999999, 5.716, 5.653, 5.545, 4.8919999999999995, 3.615], \"sizemode\": \"area\", \"sizeref\": 0.019605, \"symbol\": \"circle\"}, \"mode\": \"markers\", \"name\": \"Latin America and Caribbean\", \"orientation\": \"v\", \"showlegend\": true, \"type\": \"scatter\", \"x\": [0.105, 0.163, 0.128, 0.142, 0.092, 0.099, 0.079, 0.159, 0.11599999999999999, 0.1, 0.201, 0.069, 0.24100000000000002, 0.087, 0.107, 0.138, 0.20600000000000002, 0.10099999999999999, 0.078, 0.46299999999999997], \"xaxis\": \"x\", \"y\": [7.069, 6.435, 6.431, 6.33, 6.317, 6.309, 6.18, 6.172000000000001, 6.061, 6.0120000000000005, 5.972, 5.928999999999999, 5.919, 5.84, 5.763999999999999, 5.716, 5.653, 5.545, 4.8919999999999995, 3.615], \"yaxis\": \"y\"}, {\"hovertemplate\": \"<b>%{hovertext}</b><br><br>Region=Central and Eastern Europe<br>Generosity=%{x}<br>Happiness Score=%{marker.size}<extra></extra>\", \"hovertext\": [\"Czech Republic\", \"Slovenia\", \"Kosovo\", \"Slovakia\", \"Lithuania\", \"Estonia\", \"Poland\", \"Romania\", \"Serbia\", \"Latvia\", \"Hungary\", \"Croatia\", \"Bosnia and Herzegovina\", \"Montenegro\", \"Bulgaria\", \"Albania\", \"North Macedonia\"], \"legendgroup\": \"Central and Eastern Europe\", \"marker\": {\"color\": \"#FFA15A\", \"size\": [6.965, 6.461, 6.372000000000001, 6.331, 6.255, 6.189, 6.166, 6.14, 6.077999999999999, 6.032, 5.992000000000001, 5.882000000000001, 5.813, 5.581, 5.266, 5.117, 5.101], \"sizemode\": \"area\", \"sizeref\": 0.019605, \"symbol\": \"circle\"}, \"mode\": \"markers\", \"name\": \"Central and Eastern Europe\", \"orientation\": \"v\", \"showlegend\": true, \"type\": \"scatter\", \"x\": [0.052000000000000005, 0.122, 0.35600000000000004, 0.107, 0.055999999999999994, 0.11900000000000001, 0.08, 0.045, 0.18899999999999997, 0.08199999999999999, 0.067, 0.111, 0.261, 0.166, 0.125, 0.168, 0.212], \"xaxis\": \"x\", \"y\": [6.965, 6.461, 6.372000000000001, 6.331, 6.255, 6.189, 6.166, 6.14, 6.077999999999999, 6.032, 5.992000000000001, 5.882000000000001, 5.813, 5.581, 5.266, 5.117, 5.101], \"yaxis\": \"y\"}, {\"hovertemplate\": \"<b>%{hovertext}</b><br><br>Region=East Asia<br>Generosity=%{x}<br>Happiness Score=%{marker.size}<extra></extra>\", \"hovertext\": [\"Taiwan Province of China\", \"Japan\", \"South Korea\", \"Mongolia\", \"Hong Kong S.A.R. of China\", \"China\"], \"legendgroup\": \"East Asia\", \"marker\": {\"color\": \"#19d3f3\", \"size\": [6.584, 5.94, 5.845, 5.6770000000000005, 5.477, 5.3389999999999995], \"sizemode\": \"area\", \"sizeref\": 0.019605, \"symbol\": \"circle\"}, \"mode\": \"markers\", \"name\": \"East Asia\", \"orientation\": \"v\", \"showlegend\": true, \"type\": \"scatter\", \"x\": [0.142, 0.02, 0.134, 0.263, 0.23199999999999998, 0.09300000000000001], \"xaxis\": \"x\", \"y\": [6.584, 5.94, 5.845, 5.6770000000000005, 5.477, 5.3389999999999995], \"yaxis\": \"y\"}, {\"hovertemplate\": \"<b>%{hovertext}</b><br><br>Region=Southeast Asia<br>Generosity=%{x}<br>Happiness Score=%{marker.size}<extra></extra>\", \"hovertext\": [\"Singapore\", \"Thailand\", \"Philippines\", \"Vietnam\", \"Malaysia\", \"Indonesia\", \"Laos\", \"Cambodia\", \"Myanmar\"], \"legendgroup\": \"Southeast Asia\", \"marker\": {\"color\": \"#FF6692\", \"size\": [6.377000000000001, 5.985, 5.88, 5.4110000000000005, 5.3839999999999995, 5.345, 5.03, 4.83, 4.426], \"sizemode\": \"area\", \"sizeref\": 0.019605, \"symbol\": \"circle\"}, \"mode\": \"markers\", \"name\": \"Southeast Asia\", \"orientation\": \"v\", \"showlegend\": true, \"type\": \"scatter\", \"x\": [0.17600000000000002, 0.375, 0.125, 0.124, 0.27, 0.541, 0.268, 0.21, 0.52], \"xaxis\": \"x\", \"y\": [6.377000000000001, 5.985, 5.88, 5.4110000000000005, 5.3839999999999995, 5.345, 5.03, 4.83, 4.426], \"yaxis\": \"y\"}, {\"hovertemplate\": \"<b>%{hovertext}</b><br><br>Region=Commonwealth of Independent States<br>Generosity=%{x}<br>Happiness Score=%{marker.size}<extra></extra>\", \"hovertext\": [\"Uzbekistan\", \"Kazakhstan\", \"Moldova\", \"Kyrgyzstan\", \"Belarus\", \"Russia\", \"Tajikistan\", \"Armenia\", \"Azerbaijan\", \"Turkmenistan\", \"Georgia\", \"Ukraine\"], \"legendgroup\": \"Commonwealth of Independent States\", \"marker\": {\"color\": \"#B6E880\", \"size\": [6.178999999999999, 6.152, 5.766, 5.744, 5.534, 5.477, 5.466, 5.2829999999999995, 5.171, 5.066, 4.891, 4.875], \"sizemode\": \"area\", \"sizeref\": 0.019605, \"symbol\": \"circle\"}, \"mode\": \"markers\", \"name\": \"Commonwealth of Independent States\", \"orientation\": \"v\", \"showlegend\": true, \"type\": \"scatter\", \"x\": [0.391, 0.14300000000000002, 0.13699999999999998, 0.266, 0.07, 0.115, 0.152, 0.079, 0.043, 0.366, 0.032, 0.18100000000000002], \"xaxis\": \"x\", \"y\": [6.178999999999999, 6.152, 5.766, 5.744, 5.534, 5.477, 5.466, 5.2829999999999995, 5.171, 5.066, 4.891, 4.875], \"yaxis\": \"y\"}, {\"hovertemplate\": \"<b>%{hovertext}</b><br><br>Region=Sub-Saharan Africa<br>Generosity=%{x}<br>Happiness Score=%{marker.size}<extra></extra>\", \"hovertext\": [\"Mauritius\", \"Congo (Brazzaville)\", \"Ivory Coast\", \"Cameroon\", \"Senegal\", \"Ghana\", \"Niger\", \"Gambia\", \"Benin\", \"Guinea\", \"South Africa\", \"Gabon\", \"Burkina Faso\", \"Mozambique\", \"Nigeria\", \"Mali\", \"Uganda\", \"Liberia\", \"Kenya\", \"Namibia\", \"Chad\", \"Swaziland\", \"Comoros\", \"Ethiopia\", \"Mauritania\", \"Madagascar\", \"Togo\", \"Zambia\", \"Sierra Leone\", \"Burundi\", \"Tanzania\", \"Malawi\", \"Lesotho\", \"Botswana\", \"Rwanda\", \"Zimbabwe\"], \"legendgroup\": \"Sub-Saharan Africa\", \"marker\": {\"color\": \"#FF97FF\", \"size\": [6.0489999999999995, 5.3420000000000005, 5.306, 5.142, 5.132000000000001, 5.088, 5.074, 5.051, 5.045, 4.984, 4.956, 4.852, 4.834, 4.794, 4.7589999999999995, 4.723, 4.636, 4.625, 4.607, 4.574, 4.355, 4.308, 4.289, 4.275, 4.227, 4.208, 4.107, 4.073, 3.8489999999999998, 3.775, 3.623, 3.6, 3.512, 3.467, 3.415, 3.145], \"sizemode\": \"area\", \"sizeref\": 0.019605, \"symbol\": \"circle\"}, \"mode\": \"markers\", \"name\": \"Sub-Saharan Africa\", \"orientation\": \"v\", \"showlegend\": true, \"type\": \"scatter\", \"x\": [0.153, 0.14400000000000002, 0.177, 0.205, 0.158, 0.268, 0.2, 0.465, 0.166, 0.25, 0.14400000000000002, 0.057999999999999996, 0.182, 0.228, 0.212, 0.16399999999999998, 0.267, 0.221, 0.375, 0.091, 0.215, 0.067, 0.24100000000000002, 0.24100000000000002, 0.11900000000000001, 0.185, 0.209, 0.22699999999999998, 0.243, 0.172, 0.307, 0.213, 0.10300000000000001, 0.027000000000000003, 0.22699999999999998, 0.157], \"xaxis\": \"x\", \"y\": [6.0489999999999995, 5.3420000000000005, 5.306, 5.142, 5.132000000000001, 5.088, 5.074, 5.051, 5.045, 4.984, 4.956, 4.852, 4.834, 4.794, 4.7589999999999995, 4.723, 4.636, 4.625, 4.607, 4.574, 4.355, 4.308, 4.289, 4.275, 4.227, 4.208, 4.107, 4.073, 3.8489999999999998, 3.775, 3.623, 3.6, 3.512, 3.467, 3.415, 3.145], \"yaxis\": \"y\"}, {\"hovertemplate\": \"<b>%{hovertext}</b><br><br>Region=South Asia<br>Generosity=%{x}<br>Happiness Score=%{marker.size}<extra></extra>\", \"hovertext\": [\"Nepal\", \"Maldives\", \"Bangladesh\", \"Pakistan\", \"Sri Lanka\", \"India\", \"Afghanistan\"], \"legendgroup\": \"South Asia\", \"marker\": {\"color\": \"#FECB52\", \"size\": [5.269, 5.1979999999999995, 5.025, 4.934, 4.325, 3.819, 2.523], \"sizemode\": \"area\", \"sizeref\": 0.019605, \"symbol\": \"circle\"}, \"mode\": \"markers\", \"name\": \"South Asia\", \"orientation\": \"v\", \"showlegend\": true, \"type\": \"scatter\", \"x\": [0.287, 0.204, 0.161, 0.252, 0.239, 0.24600000000000002, 0.122], \"xaxis\": \"x\", \"y\": [5.269, 5.1979999999999995, 5.025, 4.934, 4.325, 3.819, 2.523], \"yaxis\": \"y\"}],                        {\"legend\": {\"itemsizing\": \"constant\", \"title\": {\"text\": \"Region\"}, \"tracegroupgap\": 0}, \"template\": {\"data\": {\"bar\": [{\"error_x\": {\"color\": \"#2a3f5f\"}, \"error_y\": {\"color\": \"#2a3f5f\"}, \"marker\": {\"line\": {\"color\": \"#E5ECF6\", \"width\": 0.5}}, \"type\": \"bar\"}], \"barpolar\": [{\"marker\": {\"line\": {\"color\": \"#E5ECF6\", \"width\": 0.5}}, \"type\": \"barpolar\"}], \"carpet\": [{\"aaxis\": {\"endlinecolor\": \"#2a3f5f\", \"gridcolor\": \"white\", \"linecolor\": \"white\", \"minorgridcolor\": \"white\", \"startlinecolor\": \"#2a3f5f\"}, \"baxis\": {\"endlinecolor\": \"#2a3f5f\", \"gridcolor\": \"white\", \"linecolor\": \"white\", \"minorgridcolor\": \"white\", \"startlinecolor\": \"#2a3f5f\"}, \"type\": \"carpet\"}], \"choropleth\": [{\"colorbar\": {\"outlinewidth\": 0, \"ticks\": \"\"}, \"type\": \"choropleth\"}], \"contour\": [{\"colorbar\": {\"outlinewidth\": 0, \"ticks\": \"\"}, \"colorscale\": [[0.0, \"#0d0887\"], [0.1111111111111111, \"#46039f\"], [0.2222222222222222, \"#7201a8\"], [0.3333333333333333, \"#9c179e\"], [0.4444444444444444, \"#bd3786\"], [0.5555555555555556, \"#d8576b\"], [0.6666666666666666, \"#ed7953\"], [0.7777777777777778, \"#fb9f3a\"], [0.8888888888888888, \"#fdca26\"], [1.0, \"#f0f921\"]], \"type\": \"contour\"}], \"contourcarpet\": [{\"colorbar\": {\"outlinewidth\": 0, \"ticks\": \"\"}, \"type\": \"contourcarpet\"}], \"heatmap\": [{\"colorbar\": {\"outlinewidth\": 0, \"ticks\": \"\"}, \"colorscale\": [[0.0, \"#0d0887\"], [0.1111111111111111, \"#46039f\"], [0.2222222222222222, \"#7201a8\"], [0.3333333333333333, \"#9c179e\"], [0.4444444444444444, \"#bd3786\"], [0.5555555555555556, \"#d8576b\"], [0.6666666666666666, \"#ed7953\"], [0.7777777777777778, \"#fb9f3a\"], [0.8888888888888888, \"#fdca26\"], [1.0, \"#f0f921\"]], \"type\": \"heatmap\"}], \"heatmapgl\": [{\"colorbar\": {\"outlinewidth\": 0, \"ticks\": \"\"}, \"colorscale\": [[0.0, \"#0d0887\"], [0.1111111111111111, \"#46039f\"], [0.2222222222222222, \"#7201a8\"], [0.3333333333333333, \"#9c179e\"], [0.4444444444444444, \"#bd3786\"], [0.5555555555555556, \"#d8576b\"], [0.6666666666666666, \"#ed7953\"], [0.7777777777777778, \"#fb9f3a\"], [0.8888888888888888, \"#fdca26\"], [1.0, \"#f0f921\"]], \"type\": \"heatmapgl\"}], \"histogram\": [{\"marker\": {\"colorbar\": {\"outlinewidth\": 0, \"ticks\": \"\"}}, \"type\": \"histogram\"}], \"histogram2d\": [{\"colorbar\": {\"outlinewidth\": 0, \"ticks\": \"\"}, \"colorscale\": [[0.0, \"#0d0887\"], [0.1111111111111111, \"#46039f\"], [0.2222222222222222, \"#7201a8\"], [0.3333333333333333, \"#9c179e\"], [0.4444444444444444, \"#bd3786\"], [0.5555555555555556, \"#d8576b\"], [0.6666666666666666, \"#ed7953\"], [0.7777777777777778, \"#fb9f3a\"], [0.8888888888888888, \"#fdca26\"], [1.0, \"#f0f921\"]], \"type\": \"histogram2d\"}], \"histogram2dcontour\": [{\"colorbar\": {\"outlinewidth\": 0, \"ticks\": \"\"}, \"colorscale\": [[0.0, \"#0d0887\"], [0.1111111111111111, \"#46039f\"], [0.2222222222222222, \"#7201a8\"], [0.3333333333333333, \"#9c179e\"], [0.4444444444444444, \"#bd3786\"], [0.5555555555555556, \"#d8576b\"], [0.6666666666666666, \"#ed7953\"], [0.7777777777777778, \"#fb9f3a\"], [0.8888888888888888, \"#fdca26\"], [1.0, \"#f0f921\"]], \"type\": \"histogram2dcontour\"}], \"mesh3d\": [{\"colorbar\": {\"outlinewidth\": 0, \"ticks\": \"\"}, \"type\": \"mesh3d\"}], \"parcoords\": [{\"line\": {\"colorbar\": {\"outlinewidth\": 0, \"ticks\": \"\"}}, \"type\": \"parcoords\"}], \"pie\": [{\"automargin\": true, \"type\": \"pie\"}], \"scatter\": [{\"marker\": {\"colorbar\": {\"outlinewidth\": 0, \"ticks\": \"\"}}, \"type\": \"scatter\"}], \"scatter3d\": [{\"line\": {\"colorbar\": {\"outlinewidth\": 0, \"ticks\": \"\"}}, \"marker\": {\"colorbar\": {\"outlinewidth\": 0, \"ticks\": \"\"}}, \"type\": \"scatter3d\"}], \"scattercarpet\": [{\"marker\": {\"colorbar\": {\"outlinewidth\": 0, \"ticks\": \"\"}}, \"type\": \"scattercarpet\"}], \"scattergeo\": [{\"marker\": {\"colorbar\": {\"outlinewidth\": 0, \"ticks\": \"\"}}, \"type\": \"scattergeo\"}], \"scattergl\": [{\"marker\": {\"colorbar\": {\"outlinewidth\": 0, \"ticks\": \"\"}}, \"type\": \"scattergl\"}], \"scattermapbox\": [{\"marker\": {\"colorbar\": {\"outlinewidth\": 0, \"ticks\": \"\"}}, \"type\": \"scattermapbox\"}], \"scatterpolar\": [{\"marker\": {\"colorbar\": {\"outlinewidth\": 0, \"ticks\": \"\"}}, \"type\": \"scatterpolar\"}], \"scatterpolargl\": [{\"marker\": {\"colorbar\": {\"outlinewidth\": 0, \"ticks\": \"\"}}, \"type\": \"scatterpolargl\"}], \"scatterternary\": [{\"marker\": {\"colorbar\": {\"outlinewidth\": 0, \"ticks\": \"\"}}, \"type\": \"scatterternary\"}], \"surface\": [{\"colorbar\": {\"outlinewidth\": 0, \"ticks\": \"\"}, \"colorscale\": [[0.0, \"#0d0887\"], [0.1111111111111111, \"#46039f\"], [0.2222222222222222, \"#7201a8\"], [0.3333333333333333, \"#9c179e\"], [0.4444444444444444, \"#bd3786\"], [0.5555555555555556, \"#d8576b\"], [0.6666666666666666, \"#ed7953\"], [0.7777777777777778, \"#fb9f3a\"], [0.8888888888888888, \"#fdca26\"], [1.0, \"#f0f921\"]], \"type\": \"surface\"}], \"table\": [{\"cells\": {\"fill\": {\"color\": \"#EBF0F8\"}, \"line\": {\"color\": \"white\"}}, \"header\": {\"fill\": {\"color\": \"#C8D4E3\"}, \"line\": {\"color\": \"white\"}}, \"type\": \"table\"}]}, \"layout\": {\"annotationdefaults\": {\"arrowcolor\": \"#2a3f5f\", \"arrowhead\": 0, \"arrowwidth\": 1}, \"autotypenumbers\": \"strict\", \"coloraxis\": {\"colorbar\": {\"outlinewidth\": 0, \"ticks\": \"\"}}, \"colorscale\": {\"diverging\": [[0, \"#8e0152\"], [0.1, \"#c51b7d\"], [0.2, \"#de77ae\"], [0.3, \"#f1b6da\"], [0.4, \"#fde0ef\"], [0.5, \"#f7f7f7\"], [0.6, \"#e6f5d0\"], [0.7, \"#b8e186\"], [0.8, \"#7fbc41\"], [0.9, \"#4d9221\"], [1, \"#276419\"]], \"sequential\": [[0.0, \"#0d0887\"], [0.1111111111111111, \"#46039f\"], [0.2222222222222222, \"#7201a8\"], [0.3333333333333333, \"#9c179e\"], [0.4444444444444444, \"#bd3786\"], [0.5555555555555556, \"#d8576b\"], [0.6666666666666666, \"#ed7953\"], [0.7777777777777778, \"#fb9f3a\"], [0.8888888888888888, \"#fdca26\"], [1.0, \"#f0f921\"]], \"sequentialminus\": [[0.0, \"#0d0887\"], [0.1111111111111111, \"#46039f\"], [0.2222222222222222, \"#7201a8\"], [0.3333333333333333, \"#9c179e\"], [0.4444444444444444, \"#bd3786\"], [0.5555555555555556, \"#d8576b\"], [0.6666666666666666, \"#ed7953\"], [0.7777777777777778, \"#fb9f3a\"], [0.8888888888888888, \"#fdca26\"], [1.0, \"#f0f921\"]]}, \"colorway\": [\"#636efa\", \"#EF553B\", \"#00cc96\", \"#ab63fa\", \"#FFA15A\", \"#19d3f3\", \"#FF6692\", \"#B6E880\", \"#FF97FF\", \"#FECB52\"], \"font\": {\"color\": \"#2a3f5f\"}, \"geo\": {\"bgcolor\": \"white\", \"lakecolor\": \"white\", \"landcolor\": \"#E5ECF6\", \"showlakes\": true, \"showland\": true, \"subunitcolor\": \"white\"}, \"hoverlabel\": {\"align\": \"left\"}, \"hovermode\": \"closest\", \"mapbox\": {\"style\": \"light\"}, \"paper_bgcolor\": \"white\", \"plot_bgcolor\": \"#E5ECF6\", \"polar\": {\"angularaxis\": {\"gridcolor\": \"white\", \"linecolor\": \"white\", \"ticks\": \"\"}, \"bgcolor\": \"#E5ECF6\", \"radialaxis\": {\"gridcolor\": \"white\", \"linecolor\": \"white\", \"ticks\": \"\"}}, \"scene\": {\"xaxis\": {\"backgroundcolor\": \"#E5ECF6\", \"gridcolor\": \"white\", \"gridwidth\": 2, \"linecolor\": \"white\", \"showbackground\": true, \"ticks\": \"\", \"zerolinecolor\": \"white\"}, \"yaxis\": {\"backgroundcolor\": \"#E5ECF6\", \"gridcolor\": \"white\", \"gridwidth\": 2, \"linecolor\": \"white\", \"showbackground\": true, \"ticks\": \"\", \"zerolinecolor\": \"white\"}, \"zaxis\": {\"backgroundcolor\": \"#E5ECF6\", \"gridcolor\": \"white\", \"gridwidth\": 2, \"linecolor\": \"white\", \"showbackground\": true, \"ticks\": \"\", \"zerolinecolor\": \"white\"}}, \"shapedefaults\": {\"line\": {\"color\": \"#2a3f5f\"}}, \"ternary\": {\"aaxis\": {\"gridcolor\": \"white\", \"linecolor\": \"white\", \"ticks\": \"\"}, \"baxis\": {\"gridcolor\": \"white\", \"linecolor\": \"white\", \"ticks\": \"\"}, \"bgcolor\": \"#E5ECF6\", \"caxis\": {\"gridcolor\": \"white\", \"linecolor\": \"white\", \"ticks\": \"\"}}, \"title\": {\"x\": 0.05}, \"xaxis\": {\"automargin\": true, \"gridcolor\": \"white\", \"linecolor\": \"white\", \"ticks\": \"\", \"title\": {\"standoff\": 15}, \"zerolinecolor\": \"white\", \"zerolinewidth\": 2}, \"yaxis\": {\"automargin\": true, \"gridcolor\": \"white\", \"linecolor\": \"white\", \"ticks\": \"\", \"title\": {\"standoff\": 15}, \"zerolinecolor\": \"white\", \"zerolinewidth\": 2}}}, \"title\": {\"text\": \"Relationship between Generosity & Happiness Score of countries\"}, \"xaxis\": {\"anchor\": \"y\", \"domain\": [0.0, 1.0], \"title\": {\"text\": \"Generosity\"}}, \"yaxis\": {\"anchor\": \"x\", \"domain\": [0.0, 1.0], \"title\": {\"text\": \"Happiness Score\"}}},                        {\"responsive\": true}                    ).then(function(){\n",
       "                            \n",
       "var gd = document.getElementById('c796ee48-fea5-4aed-99d2-a575811c4fe0');\n",
       "var x = new MutationObserver(function (mutations, observer) {{\n",
       "        var display = window.getComputedStyle(gd).display;\n",
       "        if (!display || display === 'none') {{\n",
       "            console.log([gd, 'removed!']);\n",
       "            Plotly.purge(gd);\n",
       "            observer.disconnect();\n",
       "        }}\n",
       "}});\n",
       "\n",
       "// Listen for the removal of the full notebook cells\n",
       "var notebookContainer = gd.closest('#notebook-container');\n",
       "if (notebookContainer) {{\n",
       "    x.observe(notebookContainer, {childList: true});\n",
       "}}\n",
       "\n",
       "// Listen for the clearing of the current output cell\n",
       "var outputEl = gd.closest('.output');\n",
       "if (outputEl) {{\n",
       "    x.observe(outputEl, {childList: true});\n",
       "}}\n",
       "\n",
       "                        })                };                });            </script>        </div>"
      ]
     },
     "metadata": {},
     "output_type": "display_data"
    }
   ],
   "source": [
    "fig = px.scatter(data_frame=df,x='Generosity',y= 'Happiness Score', \n",
    "                 title=\"Relationship between Generosity & Happiness Score of countries\", \n",
    "                labels={\n",
    "                     \"Generosity\": \"Generosity\",\n",
    "                     \"Happiness Score\": \"Happiness Score\" } , size='Happiness Score', color =  'Region', hover_name='Country'       \n",
    "                 )\n",
    "fig.show()"
   ]
  },
  {
   "cell_type": "code",
   "execution_count": 96,
   "metadata": {},
   "outputs": [
    {
     "data": {
      "application/vnd.plotly.v1+json": {
       "config": {
        "plotlyServerURL": "https://plot.ly"
       },
       "data": [
        {
         "hovertemplate": "<b>%{hovertext}</b><br><br>Region=Western Europe<br>Perceptions of corruption=%{x}<br>Happiness Score=%{marker.size}<extra></extra>",
         "hovertext": [
          "Finland",
          "Denmark",
          "Switzerland",
          "Iceland",
          "Netherlands",
          "Norway",
          "Sweden",
          "Luxembourg",
          "Austria",
          "Germany",
          "Ireland",
          "United Kingdom",
          "Belgium",
          "France",
          "Malta",
          "Spain",
          "Italy",
          "Cyprus",
          "Portugal",
          "Greece",
          "North Cyprus"
         ],
         "legendgroup": "Western Europe",
         "marker": {
          "color": "#636efa",
          "size": [
           7.8420000000000005,
           7.62,
           7.571000000000001,
           7.553999999999999,
           7.4639999999999995,
           7.392,
           7.3629999999999995,
           7.324,
           7.268,
           7.155,
           7.085,
           7.064,
           6.834,
           6.69,
           6.602,
           6.4910000000000005,
           6.483,
           6.223,
           5.928999999999999,
           5.723,
           5.5360000000000005
          ],
          "sizemode": "area",
          "sizeref": 0.019605,
          "symbol": "circle"
         },
         "mode": "markers",
         "name": "Western Europe",
         "orientation": "v",
         "showlegend": true,
         "type": "scatter",
         "x": [
          0.48100000000000004,
          0.485,
          0.413,
          0.17,
          0.384,
          0.42700000000000005,
          0.44799999999999995,
          0.353,
          0.292,
          0.306,
          0.36700000000000005,
          0.306,
          0.187,
          0.235,
          0.183,
          0.124,
          0.047,
          0.061,
          0.033,
          0.07400000000000001,
          0.2
         ],
         "xaxis": "x",
         "y": [
          7.8420000000000005,
          7.62,
          7.571000000000001,
          7.553999999999999,
          7.4639999999999995,
          7.392,
          7.3629999999999995,
          7.324,
          7.268,
          7.155,
          7.085,
          7.064,
          6.834,
          6.69,
          6.602,
          6.4910000000000005,
          6.483,
          6.223,
          5.928999999999999,
          5.723,
          5.5360000000000005
         ],
         "yaxis": "y"
        },
        {
         "hovertemplate": "<b>%{hovertext}</b><br><br>Region=North America and ANZ<br>Perceptions of corruption=%{x}<br>Happiness Score=%{marker.size}<extra></extra>",
         "hovertext": [
          "New Zealand",
          "Australia",
          "Canada",
          "United States"
         ],
         "legendgroup": "North America and ANZ",
         "marker": {
          "color": "#EF553B",
          "size": [
           7.277,
           7.183,
           7.103,
           6.9510000000000005
          ],
          "sizemode": "area",
          "sizeref": 0.019605,
          "symbol": "circle"
         },
         "mode": "markers",
         "name": "North America and ANZ",
         "orientation": "v",
         "showlegend": true,
         "type": "scatter",
         "x": [
          0.445,
          0.317,
          0.335,
          0.154
         ],
         "xaxis": "x",
         "y": [
          7.277,
          7.183,
          7.103,
          6.9510000000000005
         ],
         "yaxis": "y"
        },
        {
         "hovertemplate": "<b>%{hovertext}</b><br><br>Region=Middle East and North Africa<br>Perceptions of corruption=%{x}<br>Happiness Score=%{marker.size}<extra></extra>",
         "hovertext": [
          "Israel",
          "Bahrain",
          "United Arab Emirates",
          "Saudi Arabia",
          "Kuwait",
          "Libya",
          "Turkey",
          "Morocco",
          "Algeria",
          "Iraq",
          "Iran",
          "Tunisia",
          "Lebanon",
          "Palestinian Territories",
          "Jordan",
          "Egypt",
          "Yemen"
         ],
         "legendgroup": "Middle East and North Africa",
         "marker": {
          "color": "#00cc96",
          "size": [
           7.157,
           6.647,
           6.561,
           6.494,
           6.106,
           5.41,
           4.948,
           4.918,
           4.887,
           4.854,
           4.721,
           4.596,
           4.584,
           4.5169999999999995,
           4.395,
           4.283,
           3.658
          ],
          "sizemode": "area",
          "sizeref": 0.019605,
          "symbol": "circle"
         },
         "mode": "markers",
         "name": "Middle East and North Africa",
         "orientation": "v",
         "showlegend": true,
         "type": "scatter",
         "x": [
          0.11900000000000001,
          0.139,
          0.223,
          0.163,
          0.13,
          0.174,
          0.10400000000000001,
          0.08800000000000001,
          0.12,
          0.040999999999999995,
          0.14400000000000002,
          0.044000000000000004,
          0.026000000000000002,
          0.075,
          0.15,
          0.092,
          0.08900000000000001
         ],
         "xaxis": "x",
         "y": [
          7.157,
          6.647,
          6.561,
          6.494,
          6.106,
          5.41,
          4.948,
          4.918,
          4.887,
          4.854,
          4.721,
          4.596,
          4.584,
          4.5169999999999995,
          4.395,
          4.283,
          3.658
         ],
         "yaxis": "y"
        },
        {
         "hovertemplate": "<b>%{hovertext}</b><br><br>Region=Latin America and Caribbean<br>Perceptions of corruption=%{x}<br>Happiness Score=%{marker.size}<extra></extra>",
         "hovertext": [
          "Costa Rica",
          "Guatemala",
          "Uruguay",
          "Brazil",
          "Mexico",
          "Jamaica",
          "Panama",
          "Chile",
          "El Salvador",
          "Colombia",
          "Nicaragua",
          "Argentina",
          "Honduras",
          "Peru",
          "Ecuador",
          "Bolivia",
          "Paraguay",
          "Dominican Republic",
          "Venezuela",
          "Haiti"
         ],
         "legendgroup": "Latin America and Caribbean",
         "marker": {
          "color": "#ab63fa",
          "size": [
           7.069,
           6.435,
           6.431,
           6.33,
           6.317,
           6.309,
           6.18,
           6.172000000000001,
           6.061,
           6.0120000000000005,
           5.972,
           5.928999999999999,
           5.919,
           5.84,
           5.763999999999999,
           5.716,
           5.653,
           5.545,
           4.8919999999999995,
           3.615
          ],
          "sizemode": "area",
          "sizeref": 0.019605,
          "symbol": "circle"
         },
         "mode": "markers",
         "name": "Latin America and Caribbean",
         "orientation": "v",
         "showlegend": true,
         "type": "scatter",
         "x": [
          0.083,
          0.105,
          0.223,
          0.11699999999999999,
          0.08900000000000001,
          0.035,
          0.053,
          0.07,
          0.16,
          0.063,
          0.17600000000000002,
          0.067,
          0.083,
          0.031,
          0.062,
          0.064,
          0.037000000000000005,
          0.14400000000000002,
          0.07200000000000001,
          0.139
         ],
         "xaxis": "x",
         "y": [
          7.069,
          6.435,
          6.431,
          6.33,
          6.317,
          6.309,
          6.18,
          6.172000000000001,
          6.061,
          6.0120000000000005,
          5.972,
          5.928999999999999,
          5.919,
          5.84,
          5.763999999999999,
          5.716,
          5.653,
          5.545,
          4.8919999999999995,
          3.615
         ],
         "yaxis": "y"
        },
        {
         "hovertemplate": "<b>%{hovertext}</b><br><br>Region=Central and Eastern Europe<br>Perceptions of corruption=%{x}<br>Happiness Score=%{marker.size}<extra></extra>",
         "hovertext": [
          "Czech Republic",
          "Slovenia",
          "Kosovo",
          "Slovakia",
          "Lithuania",
          "Estonia",
          "Poland",
          "Romania",
          "Serbia",
          "Latvia",
          "Hungary",
          "Croatia",
          "Bosnia and Herzegovina",
          "Montenegro",
          "Bulgaria",
          "Albania",
          "North Macedonia"
         ],
         "legendgroup": "Central and Eastern Europe",
         "marker": {
          "color": "#FFA15A",
          "size": [
           6.965,
           6.461,
           6.372000000000001,
           6.331,
           6.255,
           6.189,
           6.166,
           6.14,
           6.077999999999999,
           6.032,
           5.992000000000001,
           5.882000000000001,
           5.813,
           5.581,
           5.266,
           5.117,
           5.101
          ],
          "sizemode": "area",
          "sizeref": 0.019605,
          "symbol": "circle"
         },
         "mode": "markers",
         "name": "Central and Eastern Europe",
         "orientation": "v",
         "showlegend": true,
         "type": "scatter",
         "x": [
          0.046,
          0.085,
          0.013999999999999999,
          0.018000000000000002,
          0.073,
          0.263,
          0.13,
          0.001,
          0.066,
          0.08900000000000001,
          0.04,
          0,
          0.005,
          0.081,
          0.005,
          0.024,
          0.022000000000000002
         ],
         "xaxis": "x",
         "y": [
          6.965,
          6.461,
          6.372000000000001,
          6.331,
          6.255,
          6.189,
          6.166,
          6.14,
          6.077999999999999,
          6.032,
          5.992000000000001,
          5.882000000000001,
          5.813,
          5.581,
          5.266,
          5.117,
          5.101
         ],
         "yaxis": "y"
        },
        {
         "hovertemplate": "<b>%{hovertext}</b><br><br>Region=East Asia<br>Perceptions of corruption=%{x}<br>Happiness Score=%{marker.size}<extra></extra>",
         "hovertext": [
          "Taiwan Province of China",
          "Japan",
          "South Korea",
          "Mongolia",
          "Hong Kong S.A.R. of China",
          "China"
         ],
         "legendgroup": "East Asia",
         "marker": {
          "color": "#19d3f3",
          "size": [
           6.584,
           5.94,
           5.845,
           5.6770000000000005,
           5.477,
           5.3389999999999995
          ],
          "sizemode": "area",
          "sizeref": 0.019605,
          "symbol": "circle"
         },
         "mode": "markers",
         "name": "East Asia",
         "orientation": "v",
         "showlegend": true,
         "type": "scatter",
         "x": [
          0.139,
          0.192,
          0.135,
          0.053,
          0.342,
          0.11699999999999999
         ],
         "xaxis": "x",
         "y": [
          6.584,
          5.94,
          5.845,
          5.6770000000000005,
          5.477,
          5.3389999999999995
         ],
         "yaxis": "y"
        },
        {
         "hovertemplate": "<b>%{hovertext}</b><br><br>Region=Southeast Asia<br>Perceptions of corruption=%{x}<br>Happiness Score=%{marker.size}<extra></extra>",
         "hovertext": [
          "Singapore",
          "Thailand",
          "Philippines",
          "Vietnam",
          "Malaysia",
          "Indonesia",
          "Laos",
          "Cambodia",
          "Myanmar"
         ],
         "legendgroup": "Southeast Asia",
         "marker": {
          "color": "#FF6692",
          "size": [
           6.377000000000001,
           5.985,
           5.88,
           5.4110000000000005,
           5.3839999999999995,
           5.345,
           5.03,
           4.83,
           4.426
          ],
          "sizemode": "area",
          "sizeref": 0.019605,
          "symbol": "circle"
         },
         "mode": "markers",
         "name": "Southeast Asia",
         "orientation": "v",
         "showlegend": true,
         "type": "scatter",
         "x": [
          0.547,
          0.027999999999999997,
          0.126,
          0.091,
          0.064,
          0.046,
          0.179,
          0.061,
          0.17800000000000002
         ],
         "xaxis": "x",
         "y": [
          6.377000000000001,
          5.985,
          5.88,
          5.4110000000000005,
          5.3839999999999995,
          5.345,
          5.03,
          4.83,
          4.426
         ],
         "yaxis": "y"
        },
        {
         "hovertemplate": "<b>%{hovertext}</b><br><br>Region=Commonwealth of Independent States<br>Perceptions of corruption=%{x}<br>Happiness Score=%{marker.size}<extra></extra>",
         "hovertext": [
          "Uzbekistan",
          "Kazakhstan",
          "Moldova",
          "Kyrgyzstan",
          "Belarus",
          "Russia",
          "Tajikistan",
          "Armenia",
          "Azerbaijan",
          "Turkmenistan",
          "Georgia",
          "Ukraine"
         ],
         "legendgroup": "Commonwealth of Independent States",
         "marker": {
          "color": "#B6E880",
          "size": [
           6.178999999999999,
           6.152,
           5.766,
           5.744,
           5.534,
           5.477,
           5.466,
           5.2829999999999995,
           5.171,
           5.066,
           4.891,
           4.875
          ],
          "sizemode": "area",
          "sizeref": 0.019605,
          "symbol": "circle"
         },
         "mode": "markers",
         "name": "Commonwealth of Independent States",
         "orientation": "v",
         "showlegend": true,
         "type": "scatter",
         "x": [
          0.271,
          0.132,
          0.013000000000000001,
          0.02,
          0.19899999999999998,
          0.06,
          0.247,
          0.198,
          0.276,
          0.033,
          0.18100000000000002,
          0.01
         ],
         "xaxis": "x",
         "y": [
          6.178999999999999,
          6.152,
          5.766,
          5.744,
          5.534,
          5.477,
          5.466,
          5.2829999999999995,
          5.171,
          5.066,
          4.891,
          4.875
         ],
         "yaxis": "y"
        },
        {
         "hovertemplate": "<b>%{hovertext}</b><br><br>Region=Sub-Saharan Africa<br>Perceptions of corruption=%{x}<br>Happiness Score=%{marker.size}<extra></extra>",
         "hovertext": [
          "Mauritius",
          "Congo (Brazzaville)",
          "Ivory Coast",
          "Cameroon",
          "Senegal",
          "Ghana",
          "Niger",
          "Gambia",
          "Benin",
          "Guinea",
          "South Africa",
          "Gabon",
          "Burkina Faso",
          "Mozambique",
          "Nigeria",
          "Mali",
          "Uganda",
          "Liberia",
          "Kenya",
          "Namibia",
          "Chad",
          "Swaziland",
          "Comoros",
          "Ethiopia",
          "Mauritania",
          "Madagascar",
          "Togo",
          "Zambia",
          "Sierra Leone",
          "Burundi",
          "Tanzania",
          "Malawi",
          "Lesotho",
          "Botswana",
          "Rwanda",
          "Zimbabwe"
         ],
         "legendgroup": "Sub-Saharan Africa",
         "marker": {
          "color": "#FF97FF",
          "size": [
           6.0489999999999995,
           5.3420000000000005,
           5.306,
           5.142,
           5.132000000000001,
           5.088,
           5.074,
           5.051,
           5.045,
           4.984,
           4.956,
           4.852,
           4.834,
           4.794,
           4.7589999999999995,
           4.723,
           4.636,
           4.625,
           4.607,
           4.574,
           4.355,
           4.308,
           4.289,
           4.275,
           4.227,
           4.208,
           4.107,
           4.073,
           3.8489999999999998,
           3.775,
           3.623,
           3.6,
           3.512,
           3.467,
           3.415,
           3.145
          ],
          "sizemode": "area",
          "sizeref": 0.019605,
          "symbol": "circle"
         },
         "mode": "markers",
         "name": "Sub-Saharan Africa",
         "orientation": "v",
         "showlegend": true,
         "type": "scatter",
         "x": [
          0.096,
          0.124,
          0.092,
          0.057999999999999996,
          0.08800000000000001,
          0.057999999999999996,
          0.157,
          0.12300000000000001,
          0.17800000000000002,
          0.111,
          0.051,
          0.064,
          0.122,
          0.163,
          0.039,
          0.07200000000000001,
          0.054000000000000006,
          0.057,
          0.073,
          0.059000000000000004,
          0.084,
          0.147,
          0.10099999999999999,
          0.114,
          0.133,
          0.087,
          0.107,
          0.07400000000000001,
          0.047,
          0.212,
          0.231,
          0.134,
          0.015,
          0.08800000000000001,
          0.493,
          0.075
         ],
         "xaxis": "x",
         "y": [
          6.0489999999999995,
          5.3420000000000005,
          5.306,
          5.142,
          5.132000000000001,
          5.088,
          5.074,
          5.051,
          5.045,
          4.984,
          4.956,
          4.852,
          4.834,
          4.794,
          4.7589999999999995,
          4.723,
          4.636,
          4.625,
          4.607,
          4.574,
          4.355,
          4.308,
          4.289,
          4.275,
          4.227,
          4.208,
          4.107,
          4.073,
          3.8489999999999998,
          3.775,
          3.623,
          3.6,
          3.512,
          3.467,
          3.415,
          3.145
         ],
         "yaxis": "y"
        },
        {
         "hovertemplate": "<b>%{hovertext}</b><br><br>Region=South Asia<br>Perceptions of corruption=%{x}<br>Happiness Score=%{marker.size}<extra></extra>",
         "hovertext": [
          "Nepal",
          "Maldives",
          "Bangladesh",
          "Pakistan",
          "Sri Lanka",
          "India",
          "Afghanistan"
         ],
         "legendgroup": "South Asia",
         "marker": {
          "color": "#FECB52",
          "size": [
           5.269,
           5.1979999999999995,
           5.025,
           4.934,
           4.325,
           3.819,
           2.523
          ],
          "sizemode": "area",
          "sizeref": 0.019605,
          "symbol": "circle"
         },
         "mode": "markers",
         "name": "South Asia",
         "orientation": "v",
         "showlegend": true,
         "type": "scatter",
         "x": [
          0.135,
          0.073,
          0.16399999999999998,
          0.09699999999999999,
          0.049,
          0.106,
          0.01
         ],
         "xaxis": "x",
         "y": [
          5.269,
          5.1979999999999995,
          5.025,
          4.934,
          4.325,
          3.819,
          2.523
         ],
         "yaxis": "y"
        }
       ],
       "layout": {
        "legend": {
         "itemsizing": "constant",
         "title": {
          "text": "Region"
         },
         "tracegroupgap": 0
        },
        "template": {
         "data": {
          "bar": [
           {
            "error_x": {
             "color": "#2a3f5f"
            },
            "error_y": {
             "color": "#2a3f5f"
            },
            "marker": {
             "line": {
              "color": "#E5ECF6",
              "width": 0.5
             }
            },
            "type": "bar"
           }
          ],
          "barpolar": [
           {
            "marker": {
             "line": {
              "color": "#E5ECF6",
              "width": 0.5
             }
            },
            "type": "barpolar"
           }
          ],
          "carpet": [
           {
            "aaxis": {
             "endlinecolor": "#2a3f5f",
             "gridcolor": "white",
             "linecolor": "white",
             "minorgridcolor": "white",
             "startlinecolor": "#2a3f5f"
            },
            "baxis": {
             "endlinecolor": "#2a3f5f",
             "gridcolor": "white",
             "linecolor": "white",
             "minorgridcolor": "white",
             "startlinecolor": "#2a3f5f"
            },
            "type": "carpet"
           }
          ],
          "choropleth": [
           {
            "colorbar": {
             "outlinewidth": 0,
             "ticks": ""
            },
            "type": "choropleth"
           }
          ],
          "contour": [
           {
            "colorbar": {
             "outlinewidth": 0,
             "ticks": ""
            },
            "colorscale": [
             [
              0,
              "#0d0887"
             ],
             [
              0.1111111111111111,
              "#46039f"
             ],
             [
              0.2222222222222222,
              "#7201a8"
             ],
             [
              0.3333333333333333,
              "#9c179e"
             ],
             [
              0.4444444444444444,
              "#bd3786"
             ],
             [
              0.5555555555555556,
              "#d8576b"
             ],
             [
              0.6666666666666666,
              "#ed7953"
             ],
             [
              0.7777777777777778,
              "#fb9f3a"
             ],
             [
              0.8888888888888888,
              "#fdca26"
             ],
             [
              1,
              "#f0f921"
             ]
            ],
            "type": "contour"
           }
          ],
          "contourcarpet": [
           {
            "colorbar": {
             "outlinewidth": 0,
             "ticks": ""
            },
            "type": "contourcarpet"
           }
          ],
          "heatmap": [
           {
            "colorbar": {
             "outlinewidth": 0,
             "ticks": ""
            },
            "colorscale": [
             [
              0,
              "#0d0887"
             ],
             [
              0.1111111111111111,
              "#46039f"
             ],
             [
              0.2222222222222222,
              "#7201a8"
             ],
             [
              0.3333333333333333,
              "#9c179e"
             ],
             [
              0.4444444444444444,
              "#bd3786"
             ],
             [
              0.5555555555555556,
              "#d8576b"
             ],
             [
              0.6666666666666666,
              "#ed7953"
             ],
             [
              0.7777777777777778,
              "#fb9f3a"
             ],
             [
              0.8888888888888888,
              "#fdca26"
             ],
             [
              1,
              "#f0f921"
             ]
            ],
            "type": "heatmap"
           }
          ],
          "heatmapgl": [
           {
            "colorbar": {
             "outlinewidth": 0,
             "ticks": ""
            },
            "colorscale": [
             [
              0,
              "#0d0887"
             ],
             [
              0.1111111111111111,
              "#46039f"
             ],
             [
              0.2222222222222222,
              "#7201a8"
             ],
             [
              0.3333333333333333,
              "#9c179e"
             ],
             [
              0.4444444444444444,
              "#bd3786"
             ],
             [
              0.5555555555555556,
              "#d8576b"
             ],
             [
              0.6666666666666666,
              "#ed7953"
             ],
             [
              0.7777777777777778,
              "#fb9f3a"
             ],
             [
              0.8888888888888888,
              "#fdca26"
             ],
             [
              1,
              "#f0f921"
             ]
            ],
            "type": "heatmapgl"
           }
          ],
          "histogram": [
           {
            "marker": {
             "colorbar": {
              "outlinewidth": 0,
              "ticks": ""
             }
            },
            "type": "histogram"
           }
          ],
          "histogram2d": [
           {
            "colorbar": {
             "outlinewidth": 0,
             "ticks": ""
            },
            "colorscale": [
             [
              0,
              "#0d0887"
             ],
             [
              0.1111111111111111,
              "#46039f"
             ],
             [
              0.2222222222222222,
              "#7201a8"
             ],
             [
              0.3333333333333333,
              "#9c179e"
             ],
             [
              0.4444444444444444,
              "#bd3786"
             ],
             [
              0.5555555555555556,
              "#d8576b"
             ],
             [
              0.6666666666666666,
              "#ed7953"
             ],
             [
              0.7777777777777778,
              "#fb9f3a"
             ],
             [
              0.8888888888888888,
              "#fdca26"
             ],
             [
              1,
              "#f0f921"
             ]
            ],
            "type": "histogram2d"
           }
          ],
          "histogram2dcontour": [
           {
            "colorbar": {
             "outlinewidth": 0,
             "ticks": ""
            },
            "colorscale": [
             [
              0,
              "#0d0887"
             ],
             [
              0.1111111111111111,
              "#46039f"
             ],
             [
              0.2222222222222222,
              "#7201a8"
             ],
             [
              0.3333333333333333,
              "#9c179e"
             ],
             [
              0.4444444444444444,
              "#bd3786"
             ],
             [
              0.5555555555555556,
              "#d8576b"
             ],
             [
              0.6666666666666666,
              "#ed7953"
             ],
             [
              0.7777777777777778,
              "#fb9f3a"
             ],
             [
              0.8888888888888888,
              "#fdca26"
             ],
             [
              1,
              "#f0f921"
             ]
            ],
            "type": "histogram2dcontour"
           }
          ],
          "mesh3d": [
           {
            "colorbar": {
             "outlinewidth": 0,
             "ticks": ""
            },
            "type": "mesh3d"
           }
          ],
          "parcoords": [
           {
            "line": {
             "colorbar": {
              "outlinewidth": 0,
              "ticks": ""
             }
            },
            "type": "parcoords"
           }
          ],
          "pie": [
           {
            "automargin": true,
            "type": "pie"
           }
          ],
          "scatter": [
           {
            "marker": {
             "colorbar": {
              "outlinewidth": 0,
              "ticks": ""
             }
            },
            "type": "scatter"
           }
          ],
          "scatter3d": [
           {
            "line": {
             "colorbar": {
              "outlinewidth": 0,
              "ticks": ""
             }
            },
            "marker": {
             "colorbar": {
              "outlinewidth": 0,
              "ticks": ""
             }
            },
            "type": "scatter3d"
           }
          ],
          "scattercarpet": [
           {
            "marker": {
             "colorbar": {
              "outlinewidth": 0,
              "ticks": ""
             }
            },
            "type": "scattercarpet"
           }
          ],
          "scattergeo": [
           {
            "marker": {
             "colorbar": {
              "outlinewidth": 0,
              "ticks": ""
             }
            },
            "type": "scattergeo"
           }
          ],
          "scattergl": [
           {
            "marker": {
             "colorbar": {
              "outlinewidth": 0,
              "ticks": ""
             }
            },
            "type": "scattergl"
           }
          ],
          "scattermapbox": [
           {
            "marker": {
             "colorbar": {
              "outlinewidth": 0,
              "ticks": ""
             }
            },
            "type": "scattermapbox"
           }
          ],
          "scatterpolar": [
           {
            "marker": {
             "colorbar": {
              "outlinewidth": 0,
              "ticks": ""
             }
            },
            "type": "scatterpolar"
           }
          ],
          "scatterpolargl": [
           {
            "marker": {
             "colorbar": {
              "outlinewidth": 0,
              "ticks": ""
             }
            },
            "type": "scatterpolargl"
           }
          ],
          "scatterternary": [
           {
            "marker": {
             "colorbar": {
              "outlinewidth": 0,
              "ticks": ""
             }
            },
            "type": "scatterternary"
           }
          ],
          "surface": [
           {
            "colorbar": {
             "outlinewidth": 0,
             "ticks": ""
            },
            "colorscale": [
             [
              0,
              "#0d0887"
             ],
             [
              0.1111111111111111,
              "#46039f"
             ],
             [
              0.2222222222222222,
              "#7201a8"
             ],
             [
              0.3333333333333333,
              "#9c179e"
             ],
             [
              0.4444444444444444,
              "#bd3786"
             ],
             [
              0.5555555555555556,
              "#d8576b"
             ],
             [
              0.6666666666666666,
              "#ed7953"
             ],
             [
              0.7777777777777778,
              "#fb9f3a"
             ],
             [
              0.8888888888888888,
              "#fdca26"
             ],
             [
              1,
              "#f0f921"
             ]
            ],
            "type": "surface"
           }
          ],
          "table": [
           {
            "cells": {
             "fill": {
              "color": "#EBF0F8"
             },
             "line": {
              "color": "white"
             }
            },
            "header": {
             "fill": {
              "color": "#C8D4E3"
             },
             "line": {
              "color": "white"
             }
            },
            "type": "table"
           }
          ]
         },
         "layout": {
          "annotationdefaults": {
           "arrowcolor": "#2a3f5f",
           "arrowhead": 0,
           "arrowwidth": 1
          },
          "autotypenumbers": "strict",
          "coloraxis": {
           "colorbar": {
            "outlinewidth": 0,
            "ticks": ""
           }
          },
          "colorscale": {
           "diverging": [
            [
             0,
             "#8e0152"
            ],
            [
             0.1,
             "#c51b7d"
            ],
            [
             0.2,
             "#de77ae"
            ],
            [
             0.3,
             "#f1b6da"
            ],
            [
             0.4,
             "#fde0ef"
            ],
            [
             0.5,
             "#f7f7f7"
            ],
            [
             0.6,
             "#e6f5d0"
            ],
            [
             0.7,
             "#b8e186"
            ],
            [
             0.8,
             "#7fbc41"
            ],
            [
             0.9,
             "#4d9221"
            ],
            [
             1,
             "#276419"
            ]
           ],
           "sequential": [
            [
             0,
             "#0d0887"
            ],
            [
             0.1111111111111111,
             "#46039f"
            ],
            [
             0.2222222222222222,
             "#7201a8"
            ],
            [
             0.3333333333333333,
             "#9c179e"
            ],
            [
             0.4444444444444444,
             "#bd3786"
            ],
            [
             0.5555555555555556,
             "#d8576b"
            ],
            [
             0.6666666666666666,
             "#ed7953"
            ],
            [
             0.7777777777777778,
             "#fb9f3a"
            ],
            [
             0.8888888888888888,
             "#fdca26"
            ],
            [
             1,
             "#f0f921"
            ]
           ],
           "sequentialminus": [
            [
             0,
             "#0d0887"
            ],
            [
             0.1111111111111111,
             "#46039f"
            ],
            [
             0.2222222222222222,
             "#7201a8"
            ],
            [
             0.3333333333333333,
             "#9c179e"
            ],
            [
             0.4444444444444444,
             "#bd3786"
            ],
            [
             0.5555555555555556,
             "#d8576b"
            ],
            [
             0.6666666666666666,
             "#ed7953"
            ],
            [
             0.7777777777777778,
             "#fb9f3a"
            ],
            [
             0.8888888888888888,
             "#fdca26"
            ],
            [
             1,
             "#f0f921"
            ]
           ]
          },
          "colorway": [
           "#636efa",
           "#EF553B",
           "#00cc96",
           "#ab63fa",
           "#FFA15A",
           "#19d3f3",
           "#FF6692",
           "#B6E880",
           "#FF97FF",
           "#FECB52"
          ],
          "font": {
           "color": "#2a3f5f"
          },
          "geo": {
           "bgcolor": "white",
           "lakecolor": "white",
           "landcolor": "#E5ECF6",
           "showlakes": true,
           "showland": true,
           "subunitcolor": "white"
          },
          "hoverlabel": {
           "align": "left"
          },
          "hovermode": "closest",
          "mapbox": {
           "style": "light"
          },
          "paper_bgcolor": "white",
          "plot_bgcolor": "#E5ECF6",
          "polar": {
           "angularaxis": {
            "gridcolor": "white",
            "linecolor": "white",
            "ticks": ""
           },
           "bgcolor": "#E5ECF6",
           "radialaxis": {
            "gridcolor": "white",
            "linecolor": "white",
            "ticks": ""
           }
          },
          "scene": {
           "xaxis": {
            "backgroundcolor": "#E5ECF6",
            "gridcolor": "white",
            "gridwidth": 2,
            "linecolor": "white",
            "showbackground": true,
            "ticks": "",
            "zerolinecolor": "white"
           },
           "yaxis": {
            "backgroundcolor": "#E5ECF6",
            "gridcolor": "white",
            "gridwidth": 2,
            "linecolor": "white",
            "showbackground": true,
            "ticks": "",
            "zerolinecolor": "white"
           },
           "zaxis": {
            "backgroundcolor": "#E5ECF6",
            "gridcolor": "white",
            "gridwidth": 2,
            "linecolor": "white",
            "showbackground": true,
            "ticks": "",
            "zerolinecolor": "white"
           }
          },
          "shapedefaults": {
           "line": {
            "color": "#2a3f5f"
           }
          },
          "ternary": {
           "aaxis": {
            "gridcolor": "white",
            "linecolor": "white",
            "ticks": ""
           },
           "baxis": {
            "gridcolor": "white",
            "linecolor": "white",
            "ticks": ""
           },
           "bgcolor": "#E5ECF6",
           "caxis": {
            "gridcolor": "white",
            "linecolor": "white",
            "ticks": ""
           }
          },
          "title": {
           "x": 0.05
          },
          "xaxis": {
           "automargin": true,
           "gridcolor": "white",
           "linecolor": "white",
           "ticks": "",
           "title": {
            "standoff": 15
           },
           "zerolinecolor": "white",
           "zerolinewidth": 2
          },
          "yaxis": {
           "automargin": true,
           "gridcolor": "white",
           "linecolor": "white",
           "ticks": "",
           "title": {
            "standoff": 15
           },
           "zerolinecolor": "white",
           "zerolinewidth": 2
          }
         }
        },
        "title": {
         "text": "Relationship between Perceptions of corruption & Happiness Score of countries"
        },
        "xaxis": {
         "anchor": "y",
         "domain": [
          0,
          1
         ],
         "title": {
          "text": "Perceptions of corruption"
         }
        },
        "yaxis": {
         "anchor": "x",
         "domain": [
          0,
          1
         ],
         "title": {
          "text": "Happiness Score"
         }
        }
       }
      },
      "text/html": [
       "<div>                            <div id=\"7473db2d-221b-4e97-acea-6d175fef46ec\" class=\"plotly-graph-div\" style=\"height:525px; width:100%;\"></div>            <script type=\"text/javascript\">                require([\"plotly\"], function(Plotly) {                    window.PLOTLYENV=window.PLOTLYENV || {};                                    if (document.getElementById(\"7473db2d-221b-4e97-acea-6d175fef46ec\")) {                    Plotly.newPlot(                        \"7473db2d-221b-4e97-acea-6d175fef46ec\",                        [{\"hovertemplate\": \"<b>%{hovertext}</b><br><br>Region=Western Europe<br>Perceptions of corruption=%{x}<br>Happiness Score=%{marker.size}<extra></extra>\", \"hovertext\": [\"Finland\", \"Denmark\", \"Switzerland\", \"Iceland\", \"Netherlands\", \"Norway\", \"Sweden\", \"Luxembourg\", \"Austria\", \"Germany\", \"Ireland\", \"United Kingdom\", \"Belgium\", \"France\", \"Malta\", \"Spain\", \"Italy\", \"Cyprus\", \"Portugal\", \"Greece\", \"North Cyprus\"], \"legendgroup\": \"Western Europe\", \"marker\": {\"color\": \"#636efa\", \"size\": [7.8420000000000005, 7.62, 7.571000000000001, 7.553999999999999, 7.4639999999999995, 7.392, 7.3629999999999995, 7.324, 7.268, 7.155, 7.085, 7.064, 6.834, 6.69, 6.602, 6.4910000000000005, 6.483, 6.223, 5.928999999999999, 5.723, 5.5360000000000005], \"sizemode\": \"area\", \"sizeref\": 0.019605, \"symbol\": \"circle\"}, \"mode\": \"markers\", \"name\": \"Western Europe\", \"orientation\": \"v\", \"showlegend\": true, \"type\": \"scatter\", \"x\": [0.48100000000000004, 0.485, 0.413, 0.17, 0.384, 0.42700000000000005, 0.44799999999999995, 0.353, 0.292, 0.306, 0.36700000000000005, 0.306, 0.187, 0.235, 0.183, 0.124, 0.047, 0.061, 0.033, 0.07400000000000001, 0.2], \"xaxis\": \"x\", \"y\": [7.8420000000000005, 7.62, 7.571000000000001, 7.553999999999999, 7.4639999999999995, 7.392, 7.3629999999999995, 7.324, 7.268, 7.155, 7.085, 7.064, 6.834, 6.69, 6.602, 6.4910000000000005, 6.483, 6.223, 5.928999999999999, 5.723, 5.5360000000000005], \"yaxis\": \"y\"}, {\"hovertemplate\": \"<b>%{hovertext}</b><br><br>Region=North America and ANZ<br>Perceptions of corruption=%{x}<br>Happiness Score=%{marker.size}<extra></extra>\", \"hovertext\": [\"New Zealand\", \"Australia\", \"Canada\", \"United States\"], \"legendgroup\": \"North America and ANZ\", \"marker\": {\"color\": \"#EF553B\", \"size\": [7.277, 7.183, 7.103, 6.9510000000000005], \"sizemode\": \"area\", \"sizeref\": 0.019605, \"symbol\": \"circle\"}, \"mode\": \"markers\", \"name\": \"North America and ANZ\", \"orientation\": \"v\", \"showlegend\": true, \"type\": \"scatter\", \"x\": [0.445, 0.317, 0.335, 0.154], \"xaxis\": \"x\", \"y\": [7.277, 7.183, 7.103, 6.9510000000000005], \"yaxis\": \"y\"}, {\"hovertemplate\": \"<b>%{hovertext}</b><br><br>Region=Middle East and North Africa<br>Perceptions of corruption=%{x}<br>Happiness Score=%{marker.size}<extra></extra>\", \"hovertext\": [\"Israel\", \"Bahrain\", \"United Arab Emirates\", \"Saudi Arabia\", \"Kuwait\", \"Libya\", \"Turkey\", \"Morocco\", \"Algeria\", \"Iraq\", \"Iran\", \"Tunisia\", \"Lebanon\", \"Palestinian Territories\", \"Jordan\", \"Egypt\", \"Yemen\"], \"legendgroup\": \"Middle East and North Africa\", \"marker\": {\"color\": \"#00cc96\", \"size\": [7.157, 6.647, 6.561, 6.494, 6.106, 5.41, 4.948, 4.918, 4.887, 4.854, 4.721, 4.596, 4.584, 4.5169999999999995, 4.395, 4.283, 3.658], \"sizemode\": \"area\", \"sizeref\": 0.019605, \"symbol\": \"circle\"}, \"mode\": \"markers\", \"name\": \"Middle East and North Africa\", \"orientation\": \"v\", \"showlegend\": true, \"type\": \"scatter\", \"x\": [0.11900000000000001, 0.139, 0.223, 0.163, 0.13, 0.174, 0.10400000000000001, 0.08800000000000001, 0.12, 0.040999999999999995, 0.14400000000000002, 0.044000000000000004, 0.026000000000000002, 0.075, 0.15, 0.092, 0.08900000000000001], \"xaxis\": \"x\", \"y\": [7.157, 6.647, 6.561, 6.494, 6.106, 5.41, 4.948, 4.918, 4.887, 4.854, 4.721, 4.596, 4.584, 4.5169999999999995, 4.395, 4.283, 3.658], \"yaxis\": \"y\"}, {\"hovertemplate\": \"<b>%{hovertext}</b><br><br>Region=Latin America and Caribbean<br>Perceptions of corruption=%{x}<br>Happiness Score=%{marker.size}<extra></extra>\", \"hovertext\": [\"Costa Rica\", \"Guatemala\", \"Uruguay\", \"Brazil\", \"Mexico\", \"Jamaica\", \"Panama\", \"Chile\", \"El Salvador\", \"Colombia\", \"Nicaragua\", \"Argentina\", \"Honduras\", \"Peru\", \"Ecuador\", \"Bolivia\", \"Paraguay\", \"Dominican Republic\", \"Venezuela\", \"Haiti\"], \"legendgroup\": \"Latin America and Caribbean\", \"marker\": {\"color\": \"#ab63fa\", \"size\": [7.069, 6.435, 6.431, 6.33, 6.317, 6.309, 6.18, 6.172000000000001, 6.061, 6.0120000000000005, 5.972, 5.928999999999999, 5.919, 5.84, 5.763999999999999, 5.716, 5.653, 5.545, 4.8919999999999995, 3.615], \"sizemode\": \"area\", \"sizeref\": 0.019605, \"symbol\": \"circle\"}, \"mode\": \"markers\", \"name\": \"Latin America and Caribbean\", \"orientation\": \"v\", \"showlegend\": true, \"type\": \"scatter\", \"x\": [0.083, 0.105, 0.223, 0.11699999999999999, 0.08900000000000001, 0.035, 0.053, 0.07, 0.16, 0.063, 0.17600000000000002, 0.067, 0.083, 0.031, 0.062, 0.064, 0.037000000000000005, 0.14400000000000002, 0.07200000000000001, 0.139], \"xaxis\": \"x\", \"y\": [7.069, 6.435, 6.431, 6.33, 6.317, 6.309, 6.18, 6.172000000000001, 6.061, 6.0120000000000005, 5.972, 5.928999999999999, 5.919, 5.84, 5.763999999999999, 5.716, 5.653, 5.545, 4.8919999999999995, 3.615], \"yaxis\": \"y\"}, {\"hovertemplate\": \"<b>%{hovertext}</b><br><br>Region=Central and Eastern Europe<br>Perceptions of corruption=%{x}<br>Happiness Score=%{marker.size}<extra></extra>\", \"hovertext\": [\"Czech Republic\", \"Slovenia\", \"Kosovo\", \"Slovakia\", \"Lithuania\", \"Estonia\", \"Poland\", \"Romania\", \"Serbia\", \"Latvia\", \"Hungary\", \"Croatia\", \"Bosnia and Herzegovina\", \"Montenegro\", \"Bulgaria\", \"Albania\", \"North Macedonia\"], \"legendgroup\": \"Central and Eastern Europe\", \"marker\": {\"color\": \"#FFA15A\", \"size\": [6.965, 6.461, 6.372000000000001, 6.331, 6.255, 6.189, 6.166, 6.14, 6.077999999999999, 6.032, 5.992000000000001, 5.882000000000001, 5.813, 5.581, 5.266, 5.117, 5.101], \"sizemode\": \"area\", \"sizeref\": 0.019605, \"symbol\": \"circle\"}, \"mode\": \"markers\", \"name\": \"Central and Eastern Europe\", \"orientation\": \"v\", \"showlegend\": true, \"type\": \"scatter\", \"x\": [0.046, 0.085, 0.013999999999999999, 0.018000000000000002, 0.073, 0.263, 0.13, 0.001, 0.066, 0.08900000000000001, 0.04, 0.0, 0.005, 0.081, 0.005, 0.024, 0.022000000000000002], \"xaxis\": \"x\", \"y\": [6.965, 6.461, 6.372000000000001, 6.331, 6.255, 6.189, 6.166, 6.14, 6.077999999999999, 6.032, 5.992000000000001, 5.882000000000001, 5.813, 5.581, 5.266, 5.117, 5.101], \"yaxis\": \"y\"}, {\"hovertemplate\": \"<b>%{hovertext}</b><br><br>Region=East Asia<br>Perceptions of corruption=%{x}<br>Happiness Score=%{marker.size}<extra></extra>\", \"hovertext\": [\"Taiwan Province of China\", \"Japan\", \"South Korea\", \"Mongolia\", \"Hong Kong S.A.R. of China\", \"China\"], \"legendgroup\": \"East Asia\", \"marker\": {\"color\": \"#19d3f3\", \"size\": [6.584, 5.94, 5.845, 5.6770000000000005, 5.477, 5.3389999999999995], \"sizemode\": \"area\", \"sizeref\": 0.019605, \"symbol\": \"circle\"}, \"mode\": \"markers\", \"name\": \"East Asia\", \"orientation\": \"v\", \"showlegend\": true, \"type\": \"scatter\", \"x\": [0.139, 0.192, 0.135, 0.053, 0.342, 0.11699999999999999], \"xaxis\": \"x\", \"y\": [6.584, 5.94, 5.845, 5.6770000000000005, 5.477, 5.3389999999999995], \"yaxis\": \"y\"}, {\"hovertemplate\": \"<b>%{hovertext}</b><br><br>Region=Southeast Asia<br>Perceptions of corruption=%{x}<br>Happiness Score=%{marker.size}<extra></extra>\", \"hovertext\": [\"Singapore\", \"Thailand\", \"Philippines\", \"Vietnam\", \"Malaysia\", \"Indonesia\", \"Laos\", \"Cambodia\", \"Myanmar\"], \"legendgroup\": \"Southeast Asia\", \"marker\": {\"color\": \"#FF6692\", \"size\": [6.377000000000001, 5.985, 5.88, 5.4110000000000005, 5.3839999999999995, 5.345, 5.03, 4.83, 4.426], \"sizemode\": \"area\", \"sizeref\": 0.019605, \"symbol\": \"circle\"}, \"mode\": \"markers\", \"name\": \"Southeast Asia\", \"orientation\": \"v\", \"showlegend\": true, \"type\": \"scatter\", \"x\": [0.547, 0.027999999999999997, 0.126, 0.091, 0.064, 0.046, 0.179, 0.061, 0.17800000000000002], \"xaxis\": \"x\", \"y\": [6.377000000000001, 5.985, 5.88, 5.4110000000000005, 5.3839999999999995, 5.345, 5.03, 4.83, 4.426], \"yaxis\": \"y\"}, {\"hovertemplate\": \"<b>%{hovertext}</b><br><br>Region=Commonwealth of Independent States<br>Perceptions of corruption=%{x}<br>Happiness Score=%{marker.size}<extra></extra>\", \"hovertext\": [\"Uzbekistan\", \"Kazakhstan\", \"Moldova\", \"Kyrgyzstan\", \"Belarus\", \"Russia\", \"Tajikistan\", \"Armenia\", \"Azerbaijan\", \"Turkmenistan\", \"Georgia\", \"Ukraine\"], \"legendgroup\": \"Commonwealth of Independent States\", \"marker\": {\"color\": \"#B6E880\", \"size\": [6.178999999999999, 6.152, 5.766, 5.744, 5.534, 5.477, 5.466, 5.2829999999999995, 5.171, 5.066, 4.891, 4.875], \"sizemode\": \"area\", \"sizeref\": 0.019605, \"symbol\": \"circle\"}, \"mode\": \"markers\", \"name\": \"Commonwealth of Independent States\", \"orientation\": \"v\", \"showlegend\": true, \"type\": \"scatter\", \"x\": [0.271, 0.132, 0.013000000000000001, 0.02, 0.19899999999999998, 0.06, 0.247, 0.198, 0.276, 0.033, 0.18100000000000002, 0.01], \"xaxis\": \"x\", \"y\": [6.178999999999999, 6.152, 5.766, 5.744, 5.534, 5.477, 5.466, 5.2829999999999995, 5.171, 5.066, 4.891, 4.875], \"yaxis\": \"y\"}, {\"hovertemplate\": \"<b>%{hovertext}</b><br><br>Region=Sub-Saharan Africa<br>Perceptions of corruption=%{x}<br>Happiness Score=%{marker.size}<extra></extra>\", \"hovertext\": [\"Mauritius\", \"Congo (Brazzaville)\", \"Ivory Coast\", \"Cameroon\", \"Senegal\", \"Ghana\", \"Niger\", \"Gambia\", \"Benin\", \"Guinea\", \"South Africa\", \"Gabon\", \"Burkina Faso\", \"Mozambique\", \"Nigeria\", \"Mali\", \"Uganda\", \"Liberia\", \"Kenya\", \"Namibia\", \"Chad\", \"Swaziland\", \"Comoros\", \"Ethiopia\", \"Mauritania\", \"Madagascar\", \"Togo\", \"Zambia\", \"Sierra Leone\", \"Burundi\", \"Tanzania\", \"Malawi\", \"Lesotho\", \"Botswana\", \"Rwanda\", \"Zimbabwe\"], \"legendgroup\": \"Sub-Saharan Africa\", \"marker\": {\"color\": \"#FF97FF\", \"size\": [6.0489999999999995, 5.3420000000000005, 5.306, 5.142, 5.132000000000001, 5.088, 5.074, 5.051, 5.045, 4.984, 4.956, 4.852, 4.834, 4.794, 4.7589999999999995, 4.723, 4.636, 4.625, 4.607, 4.574, 4.355, 4.308, 4.289, 4.275, 4.227, 4.208, 4.107, 4.073, 3.8489999999999998, 3.775, 3.623, 3.6, 3.512, 3.467, 3.415, 3.145], \"sizemode\": \"area\", \"sizeref\": 0.019605, \"symbol\": \"circle\"}, \"mode\": \"markers\", \"name\": \"Sub-Saharan Africa\", \"orientation\": \"v\", \"showlegend\": true, \"type\": \"scatter\", \"x\": [0.096, 0.124, 0.092, 0.057999999999999996, 0.08800000000000001, 0.057999999999999996, 0.157, 0.12300000000000001, 0.17800000000000002, 0.111, 0.051, 0.064, 0.122, 0.163, 0.039, 0.07200000000000001, 0.054000000000000006, 0.057, 0.073, 0.059000000000000004, 0.084, 0.147, 0.10099999999999999, 0.114, 0.133, 0.087, 0.107, 0.07400000000000001, 0.047, 0.212, 0.231, 0.134, 0.015, 0.08800000000000001, 0.493, 0.075], \"xaxis\": \"x\", \"y\": [6.0489999999999995, 5.3420000000000005, 5.306, 5.142, 5.132000000000001, 5.088, 5.074, 5.051, 5.045, 4.984, 4.956, 4.852, 4.834, 4.794, 4.7589999999999995, 4.723, 4.636, 4.625, 4.607, 4.574, 4.355, 4.308, 4.289, 4.275, 4.227, 4.208, 4.107, 4.073, 3.8489999999999998, 3.775, 3.623, 3.6, 3.512, 3.467, 3.415, 3.145], \"yaxis\": \"y\"}, {\"hovertemplate\": \"<b>%{hovertext}</b><br><br>Region=South Asia<br>Perceptions of corruption=%{x}<br>Happiness Score=%{marker.size}<extra></extra>\", \"hovertext\": [\"Nepal\", \"Maldives\", \"Bangladesh\", \"Pakistan\", \"Sri Lanka\", \"India\", \"Afghanistan\"], \"legendgroup\": \"South Asia\", \"marker\": {\"color\": \"#FECB52\", \"size\": [5.269, 5.1979999999999995, 5.025, 4.934, 4.325, 3.819, 2.523], \"sizemode\": \"area\", \"sizeref\": 0.019605, \"symbol\": \"circle\"}, \"mode\": \"markers\", \"name\": \"South Asia\", \"orientation\": \"v\", \"showlegend\": true, \"type\": \"scatter\", \"x\": [0.135, 0.073, 0.16399999999999998, 0.09699999999999999, 0.049, 0.106, 0.01], \"xaxis\": \"x\", \"y\": [5.269, 5.1979999999999995, 5.025, 4.934, 4.325, 3.819, 2.523], \"yaxis\": \"y\"}],                        {\"legend\": {\"itemsizing\": \"constant\", \"title\": {\"text\": \"Region\"}, \"tracegroupgap\": 0}, \"template\": {\"data\": {\"bar\": [{\"error_x\": {\"color\": \"#2a3f5f\"}, \"error_y\": {\"color\": \"#2a3f5f\"}, \"marker\": {\"line\": {\"color\": \"#E5ECF6\", \"width\": 0.5}}, \"type\": \"bar\"}], \"barpolar\": [{\"marker\": {\"line\": {\"color\": \"#E5ECF6\", \"width\": 0.5}}, \"type\": \"barpolar\"}], \"carpet\": [{\"aaxis\": {\"endlinecolor\": \"#2a3f5f\", \"gridcolor\": \"white\", \"linecolor\": \"white\", \"minorgridcolor\": \"white\", \"startlinecolor\": \"#2a3f5f\"}, \"baxis\": {\"endlinecolor\": \"#2a3f5f\", \"gridcolor\": \"white\", \"linecolor\": \"white\", \"minorgridcolor\": \"white\", \"startlinecolor\": \"#2a3f5f\"}, \"type\": \"carpet\"}], \"choropleth\": [{\"colorbar\": {\"outlinewidth\": 0, \"ticks\": \"\"}, \"type\": \"choropleth\"}], \"contour\": [{\"colorbar\": {\"outlinewidth\": 0, \"ticks\": \"\"}, \"colorscale\": [[0.0, \"#0d0887\"], [0.1111111111111111, \"#46039f\"], [0.2222222222222222, \"#7201a8\"], [0.3333333333333333, \"#9c179e\"], [0.4444444444444444, \"#bd3786\"], [0.5555555555555556, \"#d8576b\"], [0.6666666666666666, \"#ed7953\"], [0.7777777777777778, \"#fb9f3a\"], [0.8888888888888888, \"#fdca26\"], [1.0, \"#f0f921\"]], \"type\": \"contour\"}], \"contourcarpet\": [{\"colorbar\": {\"outlinewidth\": 0, \"ticks\": \"\"}, \"type\": \"contourcarpet\"}], \"heatmap\": [{\"colorbar\": {\"outlinewidth\": 0, \"ticks\": \"\"}, \"colorscale\": [[0.0, \"#0d0887\"], [0.1111111111111111, \"#46039f\"], [0.2222222222222222, \"#7201a8\"], [0.3333333333333333, \"#9c179e\"], [0.4444444444444444, \"#bd3786\"], [0.5555555555555556, \"#d8576b\"], [0.6666666666666666, \"#ed7953\"], [0.7777777777777778, \"#fb9f3a\"], [0.8888888888888888, \"#fdca26\"], [1.0, \"#f0f921\"]], \"type\": \"heatmap\"}], \"heatmapgl\": [{\"colorbar\": {\"outlinewidth\": 0, \"ticks\": \"\"}, \"colorscale\": [[0.0, \"#0d0887\"], [0.1111111111111111, \"#46039f\"], [0.2222222222222222, \"#7201a8\"], [0.3333333333333333, \"#9c179e\"], [0.4444444444444444, \"#bd3786\"], [0.5555555555555556, \"#d8576b\"], [0.6666666666666666, \"#ed7953\"], [0.7777777777777778, \"#fb9f3a\"], [0.8888888888888888, \"#fdca26\"], [1.0, \"#f0f921\"]], \"type\": \"heatmapgl\"}], \"histogram\": [{\"marker\": {\"colorbar\": {\"outlinewidth\": 0, \"ticks\": \"\"}}, \"type\": \"histogram\"}], \"histogram2d\": [{\"colorbar\": {\"outlinewidth\": 0, \"ticks\": \"\"}, \"colorscale\": [[0.0, \"#0d0887\"], [0.1111111111111111, \"#46039f\"], [0.2222222222222222, \"#7201a8\"], [0.3333333333333333, \"#9c179e\"], [0.4444444444444444, \"#bd3786\"], [0.5555555555555556, \"#d8576b\"], [0.6666666666666666, \"#ed7953\"], [0.7777777777777778, \"#fb9f3a\"], [0.8888888888888888, \"#fdca26\"], [1.0, \"#f0f921\"]], \"type\": \"histogram2d\"}], \"histogram2dcontour\": [{\"colorbar\": {\"outlinewidth\": 0, \"ticks\": \"\"}, \"colorscale\": [[0.0, \"#0d0887\"], [0.1111111111111111, \"#46039f\"], [0.2222222222222222, \"#7201a8\"], [0.3333333333333333, \"#9c179e\"], [0.4444444444444444, \"#bd3786\"], [0.5555555555555556, \"#d8576b\"], [0.6666666666666666, \"#ed7953\"], [0.7777777777777778, \"#fb9f3a\"], [0.8888888888888888, \"#fdca26\"], [1.0, \"#f0f921\"]], \"type\": \"histogram2dcontour\"}], \"mesh3d\": [{\"colorbar\": {\"outlinewidth\": 0, \"ticks\": \"\"}, \"type\": \"mesh3d\"}], \"parcoords\": [{\"line\": {\"colorbar\": {\"outlinewidth\": 0, \"ticks\": \"\"}}, \"type\": \"parcoords\"}], \"pie\": [{\"automargin\": true, \"type\": \"pie\"}], \"scatter\": [{\"marker\": {\"colorbar\": {\"outlinewidth\": 0, \"ticks\": \"\"}}, \"type\": \"scatter\"}], \"scatter3d\": [{\"line\": {\"colorbar\": {\"outlinewidth\": 0, \"ticks\": \"\"}}, \"marker\": {\"colorbar\": {\"outlinewidth\": 0, \"ticks\": \"\"}}, \"type\": \"scatter3d\"}], \"scattercarpet\": [{\"marker\": {\"colorbar\": {\"outlinewidth\": 0, \"ticks\": \"\"}}, \"type\": \"scattercarpet\"}], \"scattergeo\": [{\"marker\": {\"colorbar\": {\"outlinewidth\": 0, \"ticks\": \"\"}}, \"type\": \"scattergeo\"}], \"scattergl\": [{\"marker\": {\"colorbar\": {\"outlinewidth\": 0, \"ticks\": \"\"}}, \"type\": \"scattergl\"}], \"scattermapbox\": [{\"marker\": {\"colorbar\": {\"outlinewidth\": 0, \"ticks\": \"\"}}, \"type\": \"scattermapbox\"}], \"scatterpolar\": [{\"marker\": {\"colorbar\": {\"outlinewidth\": 0, \"ticks\": \"\"}}, \"type\": \"scatterpolar\"}], \"scatterpolargl\": [{\"marker\": {\"colorbar\": {\"outlinewidth\": 0, \"ticks\": \"\"}}, \"type\": \"scatterpolargl\"}], \"scatterternary\": [{\"marker\": {\"colorbar\": {\"outlinewidth\": 0, \"ticks\": \"\"}}, \"type\": \"scatterternary\"}], \"surface\": [{\"colorbar\": {\"outlinewidth\": 0, \"ticks\": \"\"}, \"colorscale\": [[0.0, \"#0d0887\"], [0.1111111111111111, \"#46039f\"], [0.2222222222222222, \"#7201a8\"], [0.3333333333333333, \"#9c179e\"], [0.4444444444444444, \"#bd3786\"], [0.5555555555555556, \"#d8576b\"], [0.6666666666666666, \"#ed7953\"], [0.7777777777777778, \"#fb9f3a\"], [0.8888888888888888, \"#fdca26\"], [1.0, \"#f0f921\"]], \"type\": \"surface\"}], \"table\": [{\"cells\": {\"fill\": {\"color\": \"#EBF0F8\"}, \"line\": {\"color\": \"white\"}}, \"header\": {\"fill\": {\"color\": \"#C8D4E3\"}, \"line\": {\"color\": \"white\"}}, \"type\": \"table\"}]}, \"layout\": {\"annotationdefaults\": {\"arrowcolor\": \"#2a3f5f\", \"arrowhead\": 0, \"arrowwidth\": 1}, \"autotypenumbers\": \"strict\", \"coloraxis\": {\"colorbar\": {\"outlinewidth\": 0, \"ticks\": \"\"}}, \"colorscale\": {\"diverging\": [[0, \"#8e0152\"], [0.1, \"#c51b7d\"], [0.2, \"#de77ae\"], [0.3, \"#f1b6da\"], [0.4, \"#fde0ef\"], [0.5, \"#f7f7f7\"], [0.6, \"#e6f5d0\"], [0.7, \"#b8e186\"], [0.8, \"#7fbc41\"], [0.9, \"#4d9221\"], [1, \"#276419\"]], \"sequential\": [[0.0, \"#0d0887\"], [0.1111111111111111, \"#46039f\"], [0.2222222222222222, \"#7201a8\"], [0.3333333333333333, \"#9c179e\"], [0.4444444444444444, \"#bd3786\"], [0.5555555555555556, \"#d8576b\"], [0.6666666666666666, \"#ed7953\"], [0.7777777777777778, \"#fb9f3a\"], [0.8888888888888888, \"#fdca26\"], [1.0, \"#f0f921\"]], \"sequentialminus\": [[0.0, \"#0d0887\"], [0.1111111111111111, \"#46039f\"], [0.2222222222222222, \"#7201a8\"], [0.3333333333333333, \"#9c179e\"], [0.4444444444444444, \"#bd3786\"], [0.5555555555555556, \"#d8576b\"], [0.6666666666666666, \"#ed7953\"], [0.7777777777777778, \"#fb9f3a\"], [0.8888888888888888, \"#fdca26\"], [1.0, \"#f0f921\"]]}, \"colorway\": [\"#636efa\", \"#EF553B\", \"#00cc96\", \"#ab63fa\", \"#FFA15A\", \"#19d3f3\", \"#FF6692\", \"#B6E880\", \"#FF97FF\", \"#FECB52\"], \"font\": {\"color\": \"#2a3f5f\"}, \"geo\": {\"bgcolor\": \"white\", \"lakecolor\": \"white\", \"landcolor\": \"#E5ECF6\", \"showlakes\": true, \"showland\": true, \"subunitcolor\": \"white\"}, \"hoverlabel\": {\"align\": \"left\"}, \"hovermode\": \"closest\", \"mapbox\": {\"style\": \"light\"}, \"paper_bgcolor\": \"white\", \"plot_bgcolor\": \"#E5ECF6\", \"polar\": {\"angularaxis\": {\"gridcolor\": \"white\", \"linecolor\": \"white\", \"ticks\": \"\"}, \"bgcolor\": \"#E5ECF6\", \"radialaxis\": {\"gridcolor\": \"white\", \"linecolor\": \"white\", \"ticks\": \"\"}}, \"scene\": {\"xaxis\": {\"backgroundcolor\": \"#E5ECF6\", \"gridcolor\": \"white\", \"gridwidth\": 2, \"linecolor\": \"white\", \"showbackground\": true, \"ticks\": \"\", \"zerolinecolor\": \"white\"}, \"yaxis\": {\"backgroundcolor\": \"#E5ECF6\", \"gridcolor\": \"white\", \"gridwidth\": 2, \"linecolor\": \"white\", \"showbackground\": true, \"ticks\": \"\", \"zerolinecolor\": \"white\"}, \"zaxis\": {\"backgroundcolor\": \"#E5ECF6\", \"gridcolor\": \"white\", \"gridwidth\": 2, \"linecolor\": \"white\", \"showbackground\": true, \"ticks\": \"\", \"zerolinecolor\": \"white\"}}, \"shapedefaults\": {\"line\": {\"color\": \"#2a3f5f\"}}, \"ternary\": {\"aaxis\": {\"gridcolor\": \"white\", \"linecolor\": \"white\", \"ticks\": \"\"}, \"baxis\": {\"gridcolor\": \"white\", \"linecolor\": \"white\", \"ticks\": \"\"}, \"bgcolor\": \"#E5ECF6\", \"caxis\": {\"gridcolor\": \"white\", \"linecolor\": \"white\", \"ticks\": \"\"}}, \"title\": {\"x\": 0.05}, \"xaxis\": {\"automargin\": true, \"gridcolor\": \"white\", \"linecolor\": \"white\", \"ticks\": \"\", \"title\": {\"standoff\": 15}, \"zerolinecolor\": \"white\", \"zerolinewidth\": 2}, \"yaxis\": {\"automargin\": true, \"gridcolor\": \"white\", \"linecolor\": \"white\", \"ticks\": \"\", \"title\": {\"standoff\": 15}, \"zerolinecolor\": \"white\", \"zerolinewidth\": 2}}}, \"title\": {\"text\": \"Relationship between Perceptions of corruption & Happiness Score of countries\"}, \"xaxis\": {\"anchor\": \"y\", \"domain\": [0.0, 1.0], \"title\": {\"text\": \"Perceptions of corruption\"}}, \"yaxis\": {\"anchor\": \"x\", \"domain\": [0.0, 1.0], \"title\": {\"text\": \"Happiness Score\"}}},                        {\"responsive\": true}                    ).then(function(){\n",
       "                            \n",
       "var gd = document.getElementById('7473db2d-221b-4e97-acea-6d175fef46ec');\n",
       "var x = new MutationObserver(function (mutations, observer) {{\n",
       "        var display = window.getComputedStyle(gd).display;\n",
       "        if (!display || display === 'none') {{\n",
       "            console.log([gd, 'removed!']);\n",
       "            Plotly.purge(gd);\n",
       "            observer.disconnect();\n",
       "        }}\n",
       "}});\n",
       "\n",
       "// Listen for the removal of the full notebook cells\n",
       "var notebookContainer = gd.closest('#notebook-container');\n",
       "if (notebookContainer) {{\n",
       "    x.observe(notebookContainer, {childList: true});\n",
       "}}\n",
       "\n",
       "// Listen for the clearing of the current output cell\n",
       "var outputEl = gd.closest('.output');\n",
       "if (outputEl) {{\n",
       "    x.observe(outputEl, {childList: true});\n",
       "}}\n",
       "\n",
       "                        })                };                });            </script>        </div>"
      ]
     },
     "metadata": {},
     "output_type": "display_data"
    }
   ],
   "source": [
    "fig = px.scatter(data_frame=df,x='Perceptions of corruption',y= 'Happiness Score', \n",
    "                 title=\"Relationship between Perceptions of corruption & Happiness Score of countries\", \n",
    "                labels={\n",
    "                     \"Perceptions of corruption\": \"Perceptions of corruption\",\n",
    "                     \"Happiness Score\": \"Happiness Score\" } , size='Happiness Score', color =  'Region', hover_name='Country'       \n",
    "                 )\n",
    "fig.show()"
   ]
  },
  {
   "cell_type": "code",
   "execution_count": 97,
   "metadata": {},
   "outputs": [],
   "source": [
    "## Lets analyze the average happiness of Regions in the world"
   ]
  },
  {
   "cell_type": "code",
   "execution_count": 99,
   "metadata": {},
   "outputs": [],
   "source": [
    "df_region = df.groupby('Region')\n",
    "mean_df = df_region.mean()\n",
    "mean_df = mean_df.reset_index()"
   ]
  },
  {
   "cell_type": "code",
   "execution_count": 100,
   "metadata": {},
   "outputs": [],
   "source": [
    "region_happiness = mean_df[['Region','Happiness Score','Standard Error']]"
   ]
  },
  {
   "cell_type": "code",
   "execution_count": 101,
   "metadata": {},
   "outputs": [
    {
     "data": {
      "text/html": [
       "<div>\n",
       "<style scoped>\n",
       "    .dataframe tbody tr th:only-of-type {\n",
       "        vertical-align: middle;\n",
       "    }\n",
       "\n",
       "    .dataframe tbody tr th {\n",
       "        vertical-align: top;\n",
       "    }\n",
       "\n",
       "    .dataframe thead th {\n",
       "        text-align: right;\n",
       "    }\n",
       "</style>\n",
       "<table border=\"1\" class=\"dataframe\">\n",
       "  <thead>\n",
       "    <tr style=\"text-align: right;\">\n",
       "      <th></th>\n",
       "      <th>Region</th>\n",
       "      <th>Happiness Score</th>\n",
       "      <th>Standard Error</th>\n",
       "    </tr>\n",
       "  </thead>\n",
       "  <tbody>\n",
       "    <tr>\n",
       "      <th>0</th>\n",
       "      <td>Central and Eastern Europe</td>\n",
       "      <td>5.984765</td>\n",
       "      <td>0.048471</td>\n",
       "    </tr>\n",
       "    <tr>\n",
       "      <th>1</th>\n",
       "      <td>Commonwealth of Independent States</td>\n",
       "      <td>5.467000</td>\n",
       "      <td>0.046750</td>\n",
       "    </tr>\n",
       "    <tr>\n",
       "      <th>2</th>\n",
       "      <td>East Asia</td>\n",
       "      <td>5.810333</td>\n",
       "      <td>0.040000</td>\n",
       "    </tr>\n",
       "    <tr>\n",
       "      <th>3</th>\n",
       "      <td>Latin America and Caribbean</td>\n",
       "      <td>5.908050</td>\n",
       "      <td>0.073900</td>\n",
       "    </tr>\n",
       "    <tr>\n",
       "      <th>4</th>\n",
       "      <td>Middle East and North Africa</td>\n",
       "      <td>5.219765</td>\n",
       "      <td>0.057000</td>\n",
       "    </tr>\n",
       "    <tr>\n",
       "      <th>5</th>\n",
       "      <td>North America and ANZ</td>\n",
       "      <td>7.128500</td>\n",
       "      <td>0.043000</td>\n",
       "    </tr>\n",
       "    <tr>\n",
       "      <th>6</th>\n",
       "      <td>South Asia</td>\n",
       "      <td>4.441857</td>\n",
       "      <td>0.055143</td>\n",
       "    </tr>\n",
       "    <tr>\n",
       "      <th>7</th>\n",
       "      <td>Southeast Asia</td>\n",
       "      <td>5.407556</td>\n",
       "      <td>0.050000</td>\n",
       "    </tr>\n",
       "    <tr>\n",
       "      <th>8</th>\n",
       "      <td>Sub-Saharan Africa</td>\n",
       "      <td>4.494472</td>\n",
       "      <td>0.078333</td>\n",
       "    </tr>\n",
       "    <tr>\n",
       "      <th>9</th>\n",
       "      <td>Western Europe</td>\n",
       "      <td>6.914905</td>\n",
       "      <td>0.040667</td>\n",
       "    </tr>\n",
       "  </tbody>\n",
       "</table>\n",
       "</div>"
      ],
      "text/plain": [
       "                               Region  Happiness Score  Standard Error\n",
       "0          Central and Eastern Europe         5.984765        0.048471\n",
       "1  Commonwealth of Independent States         5.467000        0.046750\n",
       "2                           East Asia         5.810333        0.040000\n",
       "3         Latin America and Caribbean         5.908050        0.073900\n",
       "4        Middle East and North Africa         5.219765        0.057000\n",
       "5               North America and ANZ         7.128500        0.043000\n",
       "6                          South Asia         4.441857        0.055143\n",
       "7                      Southeast Asia         5.407556        0.050000\n",
       "8                  Sub-Saharan Africa         4.494472        0.078333\n",
       "9                      Western Europe         6.914905        0.040667"
      ]
     },
     "execution_count": 101,
     "metadata": {},
     "output_type": "execute_result"
    }
   ],
   "source": [
    "region_happiness"
   ]
  },
  {
   "cell_type": "code",
   "execution_count": 102,
   "metadata": {},
   "outputs": [
    {
     "name": "stderr",
     "output_type": "stream",
     "text": [
      "<ipython-input-102-0366bf95976b>:1: SettingWithCopyWarning:\n",
      "\n",
      "\n",
      "A value is trying to be set on a copy of a slice from a DataFrame.\n",
      "Try using .loc[row_indexer,col_indexer] = value instead\n",
      "\n",
      "See the caveats in the documentation: https://pandas.pydata.org/pandas-docs/stable/user_guide/indexing.html#returning-a-view-versus-a-copy\n",
      "\n"
     ]
    }
   ],
   "source": [
    "region_happiness['CI'] = region_happiness['Standard Error'] * 1.96\n"
   ]
  },
  {
   "cell_type": "code",
   "execution_count": 103,
   "metadata": {},
   "outputs": [],
   "source": [
    "region_happiness = region_happiness.sort_values(by = 'Happiness Score', ascending = False)\n"
   ]
  },
  {
   "cell_type": "code",
   "execution_count": 105,
   "metadata": {},
   "outputs": [
    {
     "data": {
      "application/vnd.plotly.v1+json": {
       "config": {
        "plotlyServerURL": "https://plot.ly"
       },
       "data": [
        {
         "alignmentgroup": "True",
         "error_y": {
          "array": [
           0.08428
          ]
         },
         "hovertemplate": "<b>%{hovertext}</b><br><br>Region=%{x}<br>Happiness Score=%{y}<extra></extra>",
         "hovertext": [
          "North America and ANZ"
         ],
         "legendgroup": "North America and ANZ",
         "marker": {
          "color": "#636efa"
         },
         "name": "North America and ANZ",
         "offsetgroup": "North America and ANZ",
         "orientation": "v",
         "showlegend": true,
         "textposition": "auto",
         "type": "bar",
         "x": [
          "North America and ANZ"
         ],
         "xaxis": "x",
         "y": [
          7.128500000000001
         ],
         "yaxis": "y"
        },
        {
         "alignmentgroup": "True",
         "error_y": {
          "array": [
           0.0797066666666667
          ]
         },
         "hovertemplate": "<b>%{hovertext}</b><br><br>Region=%{x}<br>Happiness Score=%{y}<extra></extra>",
         "hovertext": [
          "Western Europe"
         ],
         "legendgroup": "Western Europe",
         "marker": {
          "color": "#EF553B"
         },
         "name": "Western Europe",
         "offsetgroup": "Western Europe",
         "orientation": "v",
         "showlegend": true,
         "textposition": "auto",
         "type": "bar",
         "x": [
          "Western Europe"
         ],
         "xaxis": "x",
         "y": [
          6.914904761904763
         ],
         "yaxis": "y"
        },
        {
         "alignmentgroup": "True",
         "error_y": {
          "array": [
           0.0950023529411765
          ]
         },
         "hovertemplate": "<b>%{hovertext}</b><br><br>Region=%{x}<br>Happiness Score=%{y}<extra></extra>",
         "hovertext": [
          "Central and Eastern Europe"
         ],
         "legendgroup": "Central and Eastern Europe",
         "marker": {
          "color": "#00cc96"
         },
         "name": "Central and Eastern Europe",
         "offsetgroup": "Central and Eastern Europe",
         "orientation": "v",
         "showlegend": true,
         "textposition": "auto",
         "type": "bar",
         "x": [
          "Central and Eastern Europe"
         ],
         "xaxis": "x",
         "y": [
          5.9847647058823545
         ],
         "yaxis": "y"
        },
        {
         "alignmentgroup": "True",
         "error_y": {
          "array": [
           0.14484399999999997
          ]
         },
         "hovertemplate": "<b>%{hovertext}</b><br><br>Region=%{x}<br>Happiness Score=%{y}<extra></extra>",
         "hovertext": [
          "Latin America and Caribbean"
         ],
         "legendgroup": "Latin America and Caribbean",
         "marker": {
          "color": "#ab63fa"
         },
         "name": "Latin America and Caribbean",
         "offsetgroup": "Latin America and Caribbean",
         "orientation": "v",
         "showlegend": true,
         "textposition": "auto",
         "type": "bar",
         "x": [
          "Latin America and Caribbean"
         ],
         "xaxis": "x",
         "y": [
          5.908049999999999
         ],
         "yaxis": "y"
        },
        {
         "alignmentgroup": "True",
         "error_y": {
          "array": [
           0.0784
          ]
         },
         "hovertemplate": "<b>%{hovertext}</b><br><br>Region=%{x}<br>Happiness Score=%{y}<extra></extra>",
         "hovertext": [
          "East Asia"
         ],
         "legendgroup": "East Asia",
         "marker": {
          "color": "#FFA15A"
         },
         "name": "East Asia",
         "offsetgroup": "East Asia",
         "orientation": "v",
         "showlegend": true,
         "textposition": "auto",
         "type": "bar",
         "x": [
          "East Asia"
         ],
         "xaxis": "x",
         "y": [
          5.810333333333333
         ],
         "yaxis": "y"
        },
        {
         "alignmentgroup": "True",
         "error_y": {
          "array": [
           0.09163000000000003
          ]
         },
         "hovertemplate": "<b>%{hovertext}</b><br><br>Region=%{x}<br>Happiness Score=%{y}<extra></extra>",
         "hovertext": [
          "Commonwealth of Independent States"
         ],
         "legendgroup": "Commonwealth of Independent States",
         "marker": {
          "color": "#19d3f3"
         },
         "name": "Commonwealth of Independent States",
         "offsetgroup": "Commonwealth of Independent States",
         "orientation": "v",
         "showlegend": true,
         "textposition": "auto",
         "type": "bar",
         "x": [
          "Commonwealth of Independent States"
         ],
         "xaxis": "x",
         "y": [
          5.467000000000001
         ],
         "yaxis": "y"
        },
        {
         "alignmentgroup": "True",
         "error_y": {
          "array": [
           0.098
          ]
         },
         "hovertemplate": "<b>%{hovertext}</b><br><br>Region=%{x}<br>Happiness Score=%{y}<extra></extra>",
         "hovertext": [
          "Southeast Asia"
         ],
         "legendgroup": "Southeast Asia",
         "marker": {
          "color": "#FF6692"
         },
         "name": "Southeast Asia",
         "offsetgroup": "Southeast Asia",
         "orientation": "v",
         "showlegend": true,
         "textposition": "auto",
         "type": "bar",
         "x": [
          "Southeast Asia"
         ],
         "xaxis": "x",
         "y": [
          5.407555555555557
         ],
         "yaxis": "y"
        },
        {
         "alignmentgroup": "True",
         "error_y": {
          "array": [
           0.11172000000000003
          ]
         },
         "hovertemplate": "<b>%{hovertext}</b><br><br>Region=%{x}<br>Happiness Score=%{y}<extra></extra>",
         "hovertext": [
          "Middle East and North Africa"
         ],
         "legendgroup": "Middle East and North Africa",
         "marker": {
          "color": "#B6E880"
         },
         "name": "Middle East and North Africa",
         "offsetgroup": "Middle East and North Africa",
         "orientation": "v",
         "showlegend": true,
         "textposition": "auto",
         "type": "bar",
         "x": [
          "Middle East and North Africa"
         ],
         "xaxis": "x",
         "y": [
          5.219764705882353
         ],
         "yaxis": "y"
        },
        {
         "alignmentgroup": "True",
         "error_y": {
          "array": [
           0.15353333333333333
          ]
         },
         "hovertemplate": "<b>%{hovertext}</b><br><br>Region=%{x}<br>Happiness Score=%{y}<extra></extra>",
         "hovertext": [
          "Sub-Saharan Africa"
         ],
         "legendgroup": "Sub-Saharan Africa",
         "marker": {
          "color": "#FF97FF"
         },
         "name": "Sub-Saharan Africa",
         "offsetgroup": "Sub-Saharan Africa",
         "orientation": "v",
         "showlegend": true,
         "textposition": "auto",
         "type": "bar",
         "x": [
          "Sub-Saharan Africa"
         ],
         "xaxis": "x",
         "y": [
          4.494472222222223
         ],
         "yaxis": "y"
        },
        {
         "alignmentgroup": "True",
         "error_y": {
          "array": [
           0.10808000000000001
          ]
         },
         "hovertemplate": "<b>%{hovertext}</b><br><br>Region=%{x}<br>Happiness Score=%{y}<extra></extra>",
         "hovertext": [
          "South Asia"
         ],
         "legendgroup": "South Asia",
         "marker": {
          "color": "#FECB52"
         },
         "name": "South Asia",
         "offsetgroup": "South Asia",
         "orientation": "v",
         "showlegend": true,
         "textposition": "auto",
         "type": "bar",
         "x": [
          "South Asia"
         ],
         "xaxis": "x",
         "y": [
          4.441857142857143
         ],
         "yaxis": "y"
        }
       ],
       "layout": {
        "barmode": "relative",
        "legend": {
         "title": {
          "text": "Region"
         },
         "tracegroupgap": 0
        },
        "margin": {
         "t": 60
        },
        "template": {
         "data": {
          "bar": [
           {
            "error_x": {
             "color": "#2a3f5f"
            },
            "error_y": {
             "color": "#2a3f5f"
            },
            "marker": {
             "line": {
              "color": "#E5ECF6",
              "width": 0.5
             }
            },
            "type": "bar"
           }
          ],
          "barpolar": [
           {
            "marker": {
             "line": {
              "color": "#E5ECF6",
              "width": 0.5
             }
            },
            "type": "barpolar"
           }
          ],
          "carpet": [
           {
            "aaxis": {
             "endlinecolor": "#2a3f5f",
             "gridcolor": "white",
             "linecolor": "white",
             "minorgridcolor": "white",
             "startlinecolor": "#2a3f5f"
            },
            "baxis": {
             "endlinecolor": "#2a3f5f",
             "gridcolor": "white",
             "linecolor": "white",
             "minorgridcolor": "white",
             "startlinecolor": "#2a3f5f"
            },
            "type": "carpet"
           }
          ],
          "choropleth": [
           {
            "colorbar": {
             "outlinewidth": 0,
             "ticks": ""
            },
            "type": "choropleth"
           }
          ],
          "contour": [
           {
            "colorbar": {
             "outlinewidth": 0,
             "ticks": ""
            },
            "colorscale": [
             [
              0,
              "#0d0887"
             ],
             [
              0.1111111111111111,
              "#46039f"
             ],
             [
              0.2222222222222222,
              "#7201a8"
             ],
             [
              0.3333333333333333,
              "#9c179e"
             ],
             [
              0.4444444444444444,
              "#bd3786"
             ],
             [
              0.5555555555555556,
              "#d8576b"
             ],
             [
              0.6666666666666666,
              "#ed7953"
             ],
             [
              0.7777777777777778,
              "#fb9f3a"
             ],
             [
              0.8888888888888888,
              "#fdca26"
             ],
             [
              1,
              "#f0f921"
             ]
            ],
            "type": "contour"
           }
          ],
          "contourcarpet": [
           {
            "colorbar": {
             "outlinewidth": 0,
             "ticks": ""
            },
            "type": "contourcarpet"
           }
          ],
          "heatmap": [
           {
            "colorbar": {
             "outlinewidth": 0,
             "ticks": ""
            },
            "colorscale": [
             [
              0,
              "#0d0887"
             ],
             [
              0.1111111111111111,
              "#46039f"
             ],
             [
              0.2222222222222222,
              "#7201a8"
             ],
             [
              0.3333333333333333,
              "#9c179e"
             ],
             [
              0.4444444444444444,
              "#bd3786"
             ],
             [
              0.5555555555555556,
              "#d8576b"
             ],
             [
              0.6666666666666666,
              "#ed7953"
             ],
             [
              0.7777777777777778,
              "#fb9f3a"
             ],
             [
              0.8888888888888888,
              "#fdca26"
             ],
             [
              1,
              "#f0f921"
             ]
            ],
            "type": "heatmap"
           }
          ],
          "heatmapgl": [
           {
            "colorbar": {
             "outlinewidth": 0,
             "ticks": ""
            },
            "colorscale": [
             [
              0,
              "#0d0887"
             ],
             [
              0.1111111111111111,
              "#46039f"
             ],
             [
              0.2222222222222222,
              "#7201a8"
             ],
             [
              0.3333333333333333,
              "#9c179e"
             ],
             [
              0.4444444444444444,
              "#bd3786"
             ],
             [
              0.5555555555555556,
              "#d8576b"
             ],
             [
              0.6666666666666666,
              "#ed7953"
             ],
             [
              0.7777777777777778,
              "#fb9f3a"
             ],
             [
              0.8888888888888888,
              "#fdca26"
             ],
             [
              1,
              "#f0f921"
             ]
            ],
            "type": "heatmapgl"
           }
          ],
          "histogram": [
           {
            "marker": {
             "colorbar": {
              "outlinewidth": 0,
              "ticks": ""
             }
            },
            "type": "histogram"
           }
          ],
          "histogram2d": [
           {
            "colorbar": {
             "outlinewidth": 0,
             "ticks": ""
            },
            "colorscale": [
             [
              0,
              "#0d0887"
             ],
             [
              0.1111111111111111,
              "#46039f"
             ],
             [
              0.2222222222222222,
              "#7201a8"
             ],
             [
              0.3333333333333333,
              "#9c179e"
             ],
             [
              0.4444444444444444,
              "#bd3786"
             ],
             [
              0.5555555555555556,
              "#d8576b"
             ],
             [
              0.6666666666666666,
              "#ed7953"
             ],
             [
              0.7777777777777778,
              "#fb9f3a"
             ],
             [
              0.8888888888888888,
              "#fdca26"
             ],
             [
              1,
              "#f0f921"
             ]
            ],
            "type": "histogram2d"
           }
          ],
          "histogram2dcontour": [
           {
            "colorbar": {
             "outlinewidth": 0,
             "ticks": ""
            },
            "colorscale": [
             [
              0,
              "#0d0887"
             ],
             [
              0.1111111111111111,
              "#46039f"
             ],
             [
              0.2222222222222222,
              "#7201a8"
             ],
             [
              0.3333333333333333,
              "#9c179e"
             ],
             [
              0.4444444444444444,
              "#bd3786"
             ],
             [
              0.5555555555555556,
              "#d8576b"
             ],
             [
              0.6666666666666666,
              "#ed7953"
             ],
             [
              0.7777777777777778,
              "#fb9f3a"
             ],
             [
              0.8888888888888888,
              "#fdca26"
             ],
             [
              1,
              "#f0f921"
             ]
            ],
            "type": "histogram2dcontour"
           }
          ],
          "mesh3d": [
           {
            "colorbar": {
             "outlinewidth": 0,
             "ticks": ""
            },
            "type": "mesh3d"
           }
          ],
          "parcoords": [
           {
            "line": {
             "colorbar": {
              "outlinewidth": 0,
              "ticks": ""
             }
            },
            "type": "parcoords"
           }
          ],
          "pie": [
           {
            "automargin": true,
            "type": "pie"
           }
          ],
          "scatter": [
           {
            "marker": {
             "colorbar": {
              "outlinewidth": 0,
              "ticks": ""
             }
            },
            "type": "scatter"
           }
          ],
          "scatter3d": [
           {
            "line": {
             "colorbar": {
              "outlinewidth": 0,
              "ticks": ""
             }
            },
            "marker": {
             "colorbar": {
              "outlinewidth": 0,
              "ticks": ""
             }
            },
            "type": "scatter3d"
           }
          ],
          "scattercarpet": [
           {
            "marker": {
             "colorbar": {
              "outlinewidth": 0,
              "ticks": ""
             }
            },
            "type": "scattercarpet"
           }
          ],
          "scattergeo": [
           {
            "marker": {
             "colorbar": {
              "outlinewidth": 0,
              "ticks": ""
             }
            },
            "type": "scattergeo"
           }
          ],
          "scattergl": [
           {
            "marker": {
             "colorbar": {
              "outlinewidth": 0,
              "ticks": ""
             }
            },
            "type": "scattergl"
           }
          ],
          "scattermapbox": [
           {
            "marker": {
             "colorbar": {
              "outlinewidth": 0,
              "ticks": ""
             }
            },
            "type": "scattermapbox"
           }
          ],
          "scatterpolar": [
           {
            "marker": {
             "colorbar": {
              "outlinewidth": 0,
              "ticks": ""
             }
            },
            "type": "scatterpolar"
           }
          ],
          "scatterpolargl": [
           {
            "marker": {
             "colorbar": {
              "outlinewidth": 0,
              "ticks": ""
             }
            },
            "type": "scatterpolargl"
           }
          ],
          "scatterternary": [
           {
            "marker": {
             "colorbar": {
              "outlinewidth": 0,
              "ticks": ""
             }
            },
            "type": "scatterternary"
           }
          ],
          "surface": [
           {
            "colorbar": {
             "outlinewidth": 0,
             "ticks": ""
            },
            "colorscale": [
             [
              0,
              "#0d0887"
             ],
             [
              0.1111111111111111,
              "#46039f"
             ],
             [
              0.2222222222222222,
              "#7201a8"
             ],
             [
              0.3333333333333333,
              "#9c179e"
             ],
             [
              0.4444444444444444,
              "#bd3786"
             ],
             [
              0.5555555555555556,
              "#d8576b"
             ],
             [
              0.6666666666666666,
              "#ed7953"
             ],
             [
              0.7777777777777778,
              "#fb9f3a"
             ],
             [
              0.8888888888888888,
              "#fdca26"
             ],
             [
              1,
              "#f0f921"
             ]
            ],
            "type": "surface"
           }
          ],
          "table": [
           {
            "cells": {
             "fill": {
              "color": "#EBF0F8"
             },
             "line": {
              "color": "white"
             }
            },
            "header": {
             "fill": {
              "color": "#C8D4E3"
             },
             "line": {
              "color": "white"
             }
            },
            "type": "table"
           }
          ]
         },
         "layout": {
          "annotationdefaults": {
           "arrowcolor": "#2a3f5f",
           "arrowhead": 0,
           "arrowwidth": 1
          },
          "autotypenumbers": "strict",
          "coloraxis": {
           "colorbar": {
            "outlinewidth": 0,
            "ticks": ""
           }
          },
          "colorscale": {
           "diverging": [
            [
             0,
             "#8e0152"
            ],
            [
             0.1,
             "#c51b7d"
            ],
            [
             0.2,
             "#de77ae"
            ],
            [
             0.3,
             "#f1b6da"
            ],
            [
             0.4,
             "#fde0ef"
            ],
            [
             0.5,
             "#f7f7f7"
            ],
            [
             0.6,
             "#e6f5d0"
            ],
            [
             0.7,
             "#b8e186"
            ],
            [
             0.8,
             "#7fbc41"
            ],
            [
             0.9,
             "#4d9221"
            ],
            [
             1,
             "#276419"
            ]
           ],
           "sequential": [
            [
             0,
             "#0d0887"
            ],
            [
             0.1111111111111111,
             "#46039f"
            ],
            [
             0.2222222222222222,
             "#7201a8"
            ],
            [
             0.3333333333333333,
             "#9c179e"
            ],
            [
             0.4444444444444444,
             "#bd3786"
            ],
            [
             0.5555555555555556,
             "#d8576b"
            ],
            [
             0.6666666666666666,
             "#ed7953"
            ],
            [
             0.7777777777777778,
             "#fb9f3a"
            ],
            [
             0.8888888888888888,
             "#fdca26"
            ],
            [
             1,
             "#f0f921"
            ]
           ],
           "sequentialminus": [
            [
             0,
             "#0d0887"
            ],
            [
             0.1111111111111111,
             "#46039f"
            ],
            [
             0.2222222222222222,
             "#7201a8"
            ],
            [
             0.3333333333333333,
             "#9c179e"
            ],
            [
             0.4444444444444444,
             "#bd3786"
            ],
            [
             0.5555555555555556,
             "#d8576b"
            ],
            [
             0.6666666666666666,
             "#ed7953"
            ],
            [
             0.7777777777777778,
             "#fb9f3a"
            ],
            [
             0.8888888888888888,
             "#fdca26"
            ],
            [
             1,
             "#f0f921"
            ]
           ]
          },
          "colorway": [
           "#636efa",
           "#EF553B",
           "#00cc96",
           "#ab63fa",
           "#FFA15A",
           "#19d3f3",
           "#FF6692",
           "#B6E880",
           "#FF97FF",
           "#FECB52"
          ],
          "font": {
           "color": "#2a3f5f"
          },
          "geo": {
           "bgcolor": "white",
           "lakecolor": "white",
           "landcolor": "#E5ECF6",
           "showlakes": true,
           "showland": true,
           "subunitcolor": "white"
          },
          "hoverlabel": {
           "align": "left"
          },
          "hovermode": "closest",
          "mapbox": {
           "style": "light"
          },
          "paper_bgcolor": "white",
          "plot_bgcolor": "#E5ECF6",
          "polar": {
           "angularaxis": {
            "gridcolor": "white",
            "linecolor": "white",
            "ticks": ""
           },
           "bgcolor": "#E5ECF6",
           "radialaxis": {
            "gridcolor": "white",
            "linecolor": "white",
            "ticks": ""
           }
          },
          "scene": {
           "xaxis": {
            "backgroundcolor": "#E5ECF6",
            "gridcolor": "white",
            "gridwidth": 2,
            "linecolor": "white",
            "showbackground": true,
            "ticks": "",
            "zerolinecolor": "white"
           },
           "yaxis": {
            "backgroundcolor": "#E5ECF6",
            "gridcolor": "white",
            "gridwidth": 2,
            "linecolor": "white",
            "showbackground": true,
            "ticks": "",
            "zerolinecolor": "white"
           },
           "zaxis": {
            "backgroundcolor": "#E5ECF6",
            "gridcolor": "white",
            "gridwidth": 2,
            "linecolor": "white",
            "showbackground": true,
            "ticks": "",
            "zerolinecolor": "white"
           }
          },
          "shapedefaults": {
           "line": {
            "color": "#2a3f5f"
           }
          },
          "ternary": {
           "aaxis": {
            "gridcolor": "white",
            "linecolor": "white",
            "ticks": ""
           },
           "baxis": {
            "gridcolor": "white",
            "linecolor": "white",
            "ticks": ""
           },
           "bgcolor": "#E5ECF6",
           "caxis": {
            "gridcolor": "white",
            "linecolor": "white",
            "ticks": ""
           }
          },
          "title": {
           "x": 0.05
          },
          "xaxis": {
           "automargin": true,
           "gridcolor": "white",
           "linecolor": "white",
           "ticks": "",
           "title": {
            "standoff": 15
           },
           "zerolinecolor": "white",
           "zerolinewidth": 2
          },
          "yaxis": {
           "automargin": true,
           "gridcolor": "white",
           "linecolor": "white",
           "ticks": "",
           "title": {
            "standoff": 15
           },
           "zerolinecolor": "white",
           "zerolinewidth": 2
          }
         }
        },
        "xaxis": {
         "anchor": "y",
         "categoryarray": [
          "North America and ANZ",
          "Western Europe",
          "Central and Eastern Europe",
          "Latin America and Caribbean",
          "East Asia",
          "Commonwealth of Independent States",
          "Southeast Asia",
          "Middle East and North Africa",
          "Sub-Saharan Africa",
          "South Asia"
         ],
         "categoryorder": "array",
         "domain": [
          0,
          1
         ],
         "title": {
          "text": "Region"
         }
        },
        "yaxis": {
         "anchor": "x",
         "domain": [
          0,
          1
         ],
         "title": {
          "text": "Happiness Score"
         }
        }
       }
      },
      "text/html": [
       "<div>                            <div id=\"08418d94-411d-470e-aeb0-42dbb911824a\" class=\"plotly-graph-div\" style=\"height:525px; width:100%;\"></div>            <script type=\"text/javascript\">                require([\"plotly\"], function(Plotly) {                    window.PLOTLYENV=window.PLOTLYENV || {};                                    if (document.getElementById(\"08418d94-411d-470e-aeb0-42dbb911824a\")) {                    Plotly.newPlot(                        \"08418d94-411d-470e-aeb0-42dbb911824a\",                        [{\"alignmentgroup\": \"True\", \"error_y\": {\"array\": [0.08428]}, \"hovertemplate\": \"<b>%{hovertext}</b><br><br>Region=%{x}<br>Happiness Score=%{y}<extra></extra>\", \"hovertext\": [\"North America and ANZ\"], \"legendgroup\": \"North America and ANZ\", \"marker\": {\"color\": \"#636efa\"}, \"name\": \"North America and ANZ\", \"offsetgroup\": \"North America and ANZ\", \"orientation\": \"v\", \"showlegend\": true, \"textposition\": \"auto\", \"type\": \"bar\", \"x\": [\"North America and ANZ\"], \"xaxis\": \"x\", \"y\": [7.128500000000001], \"yaxis\": \"y\"}, {\"alignmentgroup\": \"True\", \"error_y\": {\"array\": [0.0797066666666667]}, \"hovertemplate\": \"<b>%{hovertext}</b><br><br>Region=%{x}<br>Happiness Score=%{y}<extra></extra>\", \"hovertext\": [\"Western Europe\"], \"legendgroup\": \"Western Europe\", \"marker\": {\"color\": \"#EF553B\"}, \"name\": \"Western Europe\", \"offsetgroup\": \"Western Europe\", \"orientation\": \"v\", \"showlegend\": true, \"textposition\": \"auto\", \"type\": \"bar\", \"x\": [\"Western Europe\"], \"xaxis\": \"x\", \"y\": [6.914904761904763], \"yaxis\": \"y\"}, {\"alignmentgroup\": \"True\", \"error_y\": {\"array\": [0.0950023529411765]}, \"hovertemplate\": \"<b>%{hovertext}</b><br><br>Region=%{x}<br>Happiness Score=%{y}<extra></extra>\", \"hovertext\": [\"Central and Eastern Europe\"], \"legendgroup\": \"Central and Eastern Europe\", \"marker\": {\"color\": \"#00cc96\"}, \"name\": \"Central and Eastern Europe\", \"offsetgroup\": \"Central and Eastern Europe\", \"orientation\": \"v\", \"showlegend\": true, \"textposition\": \"auto\", \"type\": \"bar\", \"x\": [\"Central and Eastern Europe\"], \"xaxis\": \"x\", \"y\": [5.9847647058823545], \"yaxis\": \"y\"}, {\"alignmentgroup\": \"True\", \"error_y\": {\"array\": [0.14484399999999997]}, \"hovertemplate\": \"<b>%{hovertext}</b><br><br>Region=%{x}<br>Happiness Score=%{y}<extra></extra>\", \"hovertext\": [\"Latin America and Caribbean\"], \"legendgroup\": \"Latin America and Caribbean\", \"marker\": {\"color\": \"#ab63fa\"}, \"name\": \"Latin America and Caribbean\", \"offsetgroup\": \"Latin America and Caribbean\", \"orientation\": \"v\", \"showlegend\": true, \"textposition\": \"auto\", \"type\": \"bar\", \"x\": [\"Latin America and Caribbean\"], \"xaxis\": \"x\", \"y\": [5.908049999999999], \"yaxis\": \"y\"}, {\"alignmentgroup\": \"True\", \"error_y\": {\"array\": [0.0784]}, \"hovertemplate\": \"<b>%{hovertext}</b><br><br>Region=%{x}<br>Happiness Score=%{y}<extra></extra>\", \"hovertext\": [\"East Asia\"], \"legendgroup\": \"East Asia\", \"marker\": {\"color\": \"#FFA15A\"}, \"name\": \"East Asia\", \"offsetgroup\": \"East Asia\", \"orientation\": \"v\", \"showlegend\": true, \"textposition\": \"auto\", \"type\": \"bar\", \"x\": [\"East Asia\"], \"xaxis\": \"x\", \"y\": [5.810333333333333], \"yaxis\": \"y\"}, {\"alignmentgroup\": \"True\", \"error_y\": {\"array\": [0.09163000000000003]}, \"hovertemplate\": \"<b>%{hovertext}</b><br><br>Region=%{x}<br>Happiness Score=%{y}<extra></extra>\", \"hovertext\": [\"Commonwealth of Independent States\"], \"legendgroup\": \"Commonwealth of Independent States\", \"marker\": {\"color\": \"#19d3f3\"}, \"name\": \"Commonwealth of Independent States\", \"offsetgroup\": \"Commonwealth of Independent States\", \"orientation\": \"v\", \"showlegend\": true, \"textposition\": \"auto\", \"type\": \"bar\", \"x\": [\"Commonwealth of Independent States\"], \"xaxis\": \"x\", \"y\": [5.467000000000001], \"yaxis\": \"y\"}, {\"alignmentgroup\": \"True\", \"error_y\": {\"array\": [0.098]}, \"hovertemplate\": \"<b>%{hovertext}</b><br><br>Region=%{x}<br>Happiness Score=%{y}<extra></extra>\", \"hovertext\": [\"Southeast Asia\"], \"legendgroup\": \"Southeast Asia\", \"marker\": {\"color\": \"#FF6692\"}, \"name\": \"Southeast Asia\", \"offsetgroup\": \"Southeast Asia\", \"orientation\": \"v\", \"showlegend\": true, \"textposition\": \"auto\", \"type\": \"bar\", \"x\": [\"Southeast Asia\"], \"xaxis\": \"x\", \"y\": [5.407555555555557], \"yaxis\": \"y\"}, {\"alignmentgroup\": \"True\", \"error_y\": {\"array\": [0.11172000000000003]}, \"hovertemplate\": \"<b>%{hovertext}</b><br><br>Region=%{x}<br>Happiness Score=%{y}<extra></extra>\", \"hovertext\": [\"Middle East and North Africa\"], \"legendgroup\": \"Middle East and North Africa\", \"marker\": {\"color\": \"#B6E880\"}, \"name\": \"Middle East and North Africa\", \"offsetgroup\": \"Middle East and North Africa\", \"orientation\": \"v\", \"showlegend\": true, \"textposition\": \"auto\", \"type\": \"bar\", \"x\": [\"Middle East and North Africa\"], \"xaxis\": \"x\", \"y\": [5.219764705882353], \"yaxis\": \"y\"}, {\"alignmentgroup\": \"True\", \"error_y\": {\"array\": [0.15353333333333333]}, \"hovertemplate\": \"<b>%{hovertext}</b><br><br>Region=%{x}<br>Happiness Score=%{y}<extra></extra>\", \"hovertext\": [\"Sub-Saharan Africa\"], \"legendgroup\": \"Sub-Saharan Africa\", \"marker\": {\"color\": \"#FF97FF\"}, \"name\": \"Sub-Saharan Africa\", \"offsetgroup\": \"Sub-Saharan Africa\", \"orientation\": \"v\", \"showlegend\": true, \"textposition\": \"auto\", \"type\": \"bar\", \"x\": [\"Sub-Saharan Africa\"], \"xaxis\": \"x\", \"y\": [4.494472222222223], \"yaxis\": \"y\"}, {\"alignmentgroup\": \"True\", \"error_y\": {\"array\": [0.10808000000000001]}, \"hovertemplate\": \"<b>%{hovertext}</b><br><br>Region=%{x}<br>Happiness Score=%{y}<extra></extra>\", \"hovertext\": [\"South Asia\"], \"legendgroup\": \"South Asia\", \"marker\": {\"color\": \"#FECB52\"}, \"name\": \"South Asia\", \"offsetgroup\": \"South Asia\", \"orientation\": \"v\", \"showlegend\": true, \"textposition\": \"auto\", \"type\": \"bar\", \"x\": [\"South Asia\"], \"xaxis\": \"x\", \"y\": [4.441857142857143], \"yaxis\": \"y\"}],                        {\"barmode\": \"relative\", \"legend\": {\"title\": {\"text\": \"Region\"}, \"tracegroupgap\": 0}, \"margin\": {\"t\": 60}, \"template\": {\"data\": {\"bar\": [{\"error_x\": {\"color\": \"#2a3f5f\"}, \"error_y\": {\"color\": \"#2a3f5f\"}, \"marker\": {\"line\": {\"color\": \"#E5ECF6\", \"width\": 0.5}}, \"type\": \"bar\"}], \"barpolar\": [{\"marker\": {\"line\": {\"color\": \"#E5ECF6\", \"width\": 0.5}}, \"type\": \"barpolar\"}], \"carpet\": [{\"aaxis\": {\"endlinecolor\": \"#2a3f5f\", \"gridcolor\": \"white\", \"linecolor\": \"white\", \"minorgridcolor\": \"white\", \"startlinecolor\": \"#2a3f5f\"}, \"baxis\": {\"endlinecolor\": \"#2a3f5f\", \"gridcolor\": \"white\", \"linecolor\": \"white\", \"minorgridcolor\": \"white\", \"startlinecolor\": \"#2a3f5f\"}, \"type\": \"carpet\"}], \"choropleth\": [{\"colorbar\": {\"outlinewidth\": 0, \"ticks\": \"\"}, \"type\": \"choropleth\"}], \"contour\": [{\"colorbar\": {\"outlinewidth\": 0, \"ticks\": \"\"}, \"colorscale\": [[0.0, \"#0d0887\"], [0.1111111111111111, \"#46039f\"], [0.2222222222222222, \"#7201a8\"], [0.3333333333333333, \"#9c179e\"], [0.4444444444444444, \"#bd3786\"], [0.5555555555555556, \"#d8576b\"], [0.6666666666666666, \"#ed7953\"], [0.7777777777777778, \"#fb9f3a\"], [0.8888888888888888, \"#fdca26\"], [1.0, \"#f0f921\"]], \"type\": \"contour\"}], \"contourcarpet\": [{\"colorbar\": {\"outlinewidth\": 0, \"ticks\": \"\"}, \"type\": \"contourcarpet\"}], \"heatmap\": [{\"colorbar\": {\"outlinewidth\": 0, \"ticks\": \"\"}, \"colorscale\": [[0.0, \"#0d0887\"], [0.1111111111111111, \"#46039f\"], [0.2222222222222222, \"#7201a8\"], [0.3333333333333333, \"#9c179e\"], [0.4444444444444444, \"#bd3786\"], [0.5555555555555556, \"#d8576b\"], [0.6666666666666666, \"#ed7953\"], [0.7777777777777778, \"#fb9f3a\"], [0.8888888888888888, \"#fdca26\"], [1.0, \"#f0f921\"]], \"type\": \"heatmap\"}], \"heatmapgl\": [{\"colorbar\": {\"outlinewidth\": 0, \"ticks\": \"\"}, \"colorscale\": [[0.0, \"#0d0887\"], [0.1111111111111111, \"#46039f\"], [0.2222222222222222, \"#7201a8\"], [0.3333333333333333, \"#9c179e\"], [0.4444444444444444, \"#bd3786\"], [0.5555555555555556, \"#d8576b\"], [0.6666666666666666, \"#ed7953\"], [0.7777777777777778, \"#fb9f3a\"], [0.8888888888888888, \"#fdca26\"], [1.0, \"#f0f921\"]], \"type\": \"heatmapgl\"}], \"histogram\": [{\"marker\": {\"colorbar\": {\"outlinewidth\": 0, \"ticks\": \"\"}}, \"type\": \"histogram\"}], \"histogram2d\": [{\"colorbar\": {\"outlinewidth\": 0, \"ticks\": \"\"}, \"colorscale\": [[0.0, \"#0d0887\"], [0.1111111111111111, \"#46039f\"], [0.2222222222222222, \"#7201a8\"], [0.3333333333333333, \"#9c179e\"], [0.4444444444444444, \"#bd3786\"], [0.5555555555555556, \"#d8576b\"], [0.6666666666666666, \"#ed7953\"], [0.7777777777777778, \"#fb9f3a\"], [0.8888888888888888, \"#fdca26\"], [1.0, \"#f0f921\"]], \"type\": \"histogram2d\"}], \"histogram2dcontour\": [{\"colorbar\": {\"outlinewidth\": 0, \"ticks\": \"\"}, \"colorscale\": [[0.0, \"#0d0887\"], [0.1111111111111111, \"#46039f\"], [0.2222222222222222, \"#7201a8\"], [0.3333333333333333, \"#9c179e\"], [0.4444444444444444, \"#bd3786\"], [0.5555555555555556, \"#d8576b\"], [0.6666666666666666, \"#ed7953\"], [0.7777777777777778, \"#fb9f3a\"], [0.8888888888888888, \"#fdca26\"], [1.0, \"#f0f921\"]], \"type\": \"histogram2dcontour\"}], \"mesh3d\": [{\"colorbar\": {\"outlinewidth\": 0, \"ticks\": \"\"}, \"type\": \"mesh3d\"}], \"parcoords\": [{\"line\": {\"colorbar\": {\"outlinewidth\": 0, \"ticks\": \"\"}}, \"type\": \"parcoords\"}], \"pie\": [{\"automargin\": true, \"type\": \"pie\"}], \"scatter\": [{\"marker\": {\"colorbar\": {\"outlinewidth\": 0, \"ticks\": \"\"}}, \"type\": \"scatter\"}], \"scatter3d\": [{\"line\": {\"colorbar\": {\"outlinewidth\": 0, \"ticks\": \"\"}}, \"marker\": {\"colorbar\": {\"outlinewidth\": 0, \"ticks\": \"\"}}, \"type\": \"scatter3d\"}], \"scattercarpet\": [{\"marker\": {\"colorbar\": {\"outlinewidth\": 0, \"ticks\": \"\"}}, \"type\": \"scattercarpet\"}], \"scattergeo\": [{\"marker\": {\"colorbar\": {\"outlinewidth\": 0, \"ticks\": \"\"}}, \"type\": \"scattergeo\"}], \"scattergl\": [{\"marker\": {\"colorbar\": {\"outlinewidth\": 0, \"ticks\": \"\"}}, \"type\": \"scattergl\"}], \"scattermapbox\": [{\"marker\": {\"colorbar\": {\"outlinewidth\": 0, \"ticks\": \"\"}}, \"type\": \"scattermapbox\"}], \"scatterpolar\": [{\"marker\": {\"colorbar\": {\"outlinewidth\": 0, \"ticks\": \"\"}}, \"type\": \"scatterpolar\"}], \"scatterpolargl\": [{\"marker\": {\"colorbar\": {\"outlinewidth\": 0, \"ticks\": \"\"}}, \"type\": \"scatterpolargl\"}], \"scatterternary\": [{\"marker\": {\"colorbar\": {\"outlinewidth\": 0, \"ticks\": \"\"}}, \"type\": \"scatterternary\"}], \"surface\": [{\"colorbar\": {\"outlinewidth\": 0, \"ticks\": \"\"}, \"colorscale\": [[0.0, \"#0d0887\"], [0.1111111111111111, \"#46039f\"], [0.2222222222222222, \"#7201a8\"], [0.3333333333333333, \"#9c179e\"], [0.4444444444444444, \"#bd3786\"], [0.5555555555555556, \"#d8576b\"], [0.6666666666666666, \"#ed7953\"], [0.7777777777777778, \"#fb9f3a\"], [0.8888888888888888, \"#fdca26\"], [1.0, \"#f0f921\"]], \"type\": \"surface\"}], \"table\": [{\"cells\": {\"fill\": {\"color\": \"#EBF0F8\"}, \"line\": {\"color\": \"white\"}}, \"header\": {\"fill\": {\"color\": \"#C8D4E3\"}, \"line\": {\"color\": \"white\"}}, \"type\": \"table\"}]}, \"layout\": {\"annotationdefaults\": {\"arrowcolor\": \"#2a3f5f\", \"arrowhead\": 0, \"arrowwidth\": 1}, \"autotypenumbers\": \"strict\", \"coloraxis\": {\"colorbar\": {\"outlinewidth\": 0, \"ticks\": \"\"}}, \"colorscale\": {\"diverging\": [[0, \"#8e0152\"], [0.1, \"#c51b7d\"], [0.2, \"#de77ae\"], [0.3, \"#f1b6da\"], [0.4, \"#fde0ef\"], [0.5, \"#f7f7f7\"], [0.6, \"#e6f5d0\"], [0.7, \"#b8e186\"], [0.8, \"#7fbc41\"], [0.9, \"#4d9221\"], [1, \"#276419\"]], \"sequential\": [[0.0, \"#0d0887\"], [0.1111111111111111, \"#46039f\"], [0.2222222222222222, \"#7201a8\"], [0.3333333333333333, \"#9c179e\"], [0.4444444444444444, \"#bd3786\"], [0.5555555555555556, \"#d8576b\"], [0.6666666666666666, \"#ed7953\"], [0.7777777777777778, \"#fb9f3a\"], [0.8888888888888888, \"#fdca26\"], [1.0, \"#f0f921\"]], \"sequentialminus\": [[0.0, \"#0d0887\"], [0.1111111111111111, \"#46039f\"], [0.2222222222222222, \"#7201a8\"], [0.3333333333333333, \"#9c179e\"], [0.4444444444444444, \"#bd3786\"], [0.5555555555555556, \"#d8576b\"], [0.6666666666666666, \"#ed7953\"], [0.7777777777777778, \"#fb9f3a\"], [0.8888888888888888, \"#fdca26\"], [1.0, \"#f0f921\"]]}, \"colorway\": [\"#636efa\", \"#EF553B\", \"#00cc96\", \"#ab63fa\", \"#FFA15A\", \"#19d3f3\", \"#FF6692\", \"#B6E880\", \"#FF97FF\", \"#FECB52\"], \"font\": {\"color\": \"#2a3f5f\"}, \"geo\": {\"bgcolor\": \"white\", \"lakecolor\": \"white\", \"landcolor\": \"#E5ECF6\", \"showlakes\": true, \"showland\": true, \"subunitcolor\": \"white\"}, \"hoverlabel\": {\"align\": \"left\"}, \"hovermode\": \"closest\", \"mapbox\": {\"style\": \"light\"}, \"paper_bgcolor\": \"white\", \"plot_bgcolor\": \"#E5ECF6\", \"polar\": {\"angularaxis\": {\"gridcolor\": \"white\", \"linecolor\": \"white\", \"ticks\": \"\"}, \"bgcolor\": \"#E5ECF6\", \"radialaxis\": {\"gridcolor\": \"white\", \"linecolor\": \"white\", \"ticks\": \"\"}}, \"scene\": {\"xaxis\": {\"backgroundcolor\": \"#E5ECF6\", \"gridcolor\": \"white\", \"gridwidth\": 2, \"linecolor\": \"white\", \"showbackground\": true, \"ticks\": \"\", \"zerolinecolor\": \"white\"}, \"yaxis\": {\"backgroundcolor\": \"#E5ECF6\", \"gridcolor\": \"white\", \"gridwidth\": 2, \"linecolor\": \"white\", \"showbackground\": true, \"ticks\": \"\", \"zerolinecolor\": \"white\"}, \"zaxis\": {\"backgroundcolor\": \"#E5ECF6\", \"gridcolor\": \"white\", \"gridwidth\": 2, \"linecolor\": \"white\", \"showbackground\": true, \"ticks\": \"\", \"zerolinecolor\": \"white\"}}, \"shapedefaults\": {\"line\": {\"color\": \"#2a3f5f\"}}, \"ternary\": {\"aaxis\": {\"gridcolor\": \"white\", \"linecolor\": \"white\", \"ticks\": \"\"}, \"baxis\": {\"gridcolor\": \"white\", \"linecolor\": \"white\", \"ticks\": \"\"}, \"bgcolor\": \"#E5ECF6\", \"caxis\": {\"gridcolor\": \"white\", \"linecolor\": \"white\", \"ticks\": \"\"}}, \"title\": {\"x\": 0.05}, \"xaxis\": {\"automargin\": true, \"gridcolor\": \"white\", \"linecolor\": \"white\", \"ticks\": \"\", \"title\": {\"standoff\": 15}, \"zerolinecolor\": \"white\", \"zerolinewidth\": 2}, \"yaxis\": {\"automargin\": true, \"gridcolor\": \"white\", \"linecolor\": \"white\", \"ticks\": \"\", \"title\": {\"standoff\": 15}, \"zerolinecolor\": \"white\", \"zerolinewidth\": 2}}}, \"xaxis\": {\"anchor\": \"y\", \"categoryarray\": [\"North America and ANZ\", \"Western Europe\", \"Central and Eastern Europe\", \"Latin America and Caribbean\", \"East Asia\", \"Commonwealth of Independent States\", \"Southeast Asia\", \"Middle East and North Africa\", \"Sub-Saharan Africa\", \"South Asia\"], \"categoryorder\": \"array\", \"domain\": [0.0, 1.0], \"title\": {\"text\": \"Region\"}}, \"yaxis\": {\"anchor\": \"x\", \"domain\": [0.0, 1.0], \"title\": {\"text\": \"Happiness Score\"}}},                        {\"responsive\": true}                    ).then(function(){\n",
       "                            \n",
       "var gd = document.getElementById('08418d94-411d-470e-aeb0-42dbb911824a');\n",
       "var x = new MutationObserver(function (mutations, observer) {{\n",
       "        var display = window.getComputedStyle(gd).display;\n",
       "        if (!display || display === 'none') {{\n",
       "            console.log([gd, 'removed!']);\n",
       "            Plotly.purge(gd);\n",
       "            observer.disconnect();\n",
       "        }}\n",
       "}});\n",
       "\n",
       "// Listen for the removal of the full notebook cells\n",
       "var notebookContainer = gd.closest('#notebook-container');\n",
       "if (notebookContainer) {{\n",
       "    x.observe(notebookContainer, {childList: true});\n",
       "}}\n",
       "\n",
       "// Listen for the clearing of the current output cell\n",
       "var outputEl = gd.closest('.output');\n",
       "if (outputEl) {{\n",
       "    x.observe(outputEl, {childList: true});\n",
       "}}\n",
       "\n",
       "                        })                };                });            </script>        </div>"
      ]
     },
     "metadata": {},
     "output_type": "display_data"
    }
   ],
   "source": [
    "fig = px.bar(region_happiness, x='Region', y='Happiness Score', color ='Region', hover_name='Region', \n",
    "            labels={\n",
    "                     \"Region\": \"Region\",\n",
    "                     \"Happiness Score\": \"Happiness Score\" }, error_y='CI',)\n",
    "fig.show()"
   ]
  },
  {
   "cell_type": "markdown",
   "metadata": {},
   "source": [
    "# South Asia and Sub-Saharan Africa have lowest average Happiness (Ladder) Score as compared to other Regions in the world"
   ]
  },
  {
   "cell_type": "code",
   "execution_count": 106,
   "metadata": {},
   "outputs": [],
   "source": [
    "df = df.sort_values(by = 'Happiness Score', ascending = False)"
   ]
  },
  {
   "cell_type": "code",
   "execution_count": 107,
   "metadata": {},
   "outputs": [],
   "source": [
    "df_top20 = df[0:20]\n",
    "df_top20=df_top20.sort_values(by = 'Happiness Score', ascending = True)"
   ]
  },
  {
   "cell_type": "code",
   "execution_count": 108,
   "metadata": {},
   "outputs": [
    {
     "data": {
      "text/plain": [
       "149"
      ]
     },
     "execution_count": 108,
     "metadata": {},
     "output_type": "execute_result"
    }
   ],
   "source": [
    "len(df)"
   ]
  },
  {
   "cell_type": "code",
   "execution_count": 109,
   "metadata": {},
   "outputs": [],
   "source": [
    "df_bottom20 = df[len(df)-21:len(df)-1]\n",
    "df_bottom20 = df_bottom20.sort_values(by = 'Happiness Score', ascending = True)\n"
   ]
  },
  {
   "cell_type": "code",
   "execution_count": 148,
   "metadata": {},
   "outputs": [
    {
     "data": {
      "application/vnd.plotly.v1+json": {
       "config": {
        "plotlyServerURL": "https://plot.ly"
       },
       "data": [
        {
         "alignmentgroup": "True",
         "hovertemplate": "<b>%{hovertext}</b><br><br>Happiness Score=%{x}<br>Country=%{y}<extra></extra>",
         "hovertext": [
          "Belgium",
          "United States",
          "Czech Republic",
          "United Kingdom",
          "Costa Rica",
          "Ireland",
          "Canada",
          "Germany",
          "Israel",
          "Australia",
          "Austria",
          "New Zealand",
          "Luxembourg",
          "Sweden",
          "Norway",
          "Netherlands",
          "Iceland",
          "Switzerland",
          "Denmark",
          "Finland"
         ],
         "legendgroup": "",
         "marker": {
          "color": "#636efa"
         },
         "name": "",
         "offsetgroup": "",
         "orientation": "h",
         "showlegend": false,
         "textposition": "auto",
         "type": "bar",
         "x": [
          6.834,
          6.9510000000000005,
          6.965,
          7.064,
          7.069,
          7.085,
          7.103,
          7.155,
          7.157,
          7.183,
          7.268,
          7.277,
          7.324,
          7.3629999999999995,
          7.392,
          7.4639999999999995,
          7.553999999999999,
          7.571000000000001,
          7.62,
          7.8420000000000005
         ],
         "xaxis": "x",
         "y": [
          "Belgium",
          "United States",
          "Czech Republic",
          "United Kingdom",
          "Costa Rica",
          "Ireland",
          "Canada",
          "Germany",
          "Israel",
          "Australia",
          "Austria",
          "New Zealand",
          "Luxembourg",
          "Sweden",
          "Norway",
          "Netherlands",
          "Iceland",
          "Switzerland",
          "Denmark",
          "Finland"
         ],
         "yaxis": "y"
        }
       ],
       "layout": {
        "barmode": "relative",
        "height": 440,
        "legend": {
         "tracegroupgap": 0
        },
        "margin": {
         "t": 60
        },
        "template": {
         "data": {
          "bar": [
           {
            "error_x": {
             "color": "#2a3f5f"
            },
            "error_y": {
             "color": "#2a3f5f"
            },
            "marker": {
             "line": {
              "color": "#E5ECF6",
              "width": 0.5
             }
            },
            "type": "bar"
           }
          ],
          "barpolar": [
           {
            "marker": {
             "line": {
              "color": "#E5ECF6",
              "width": 0.5
             }
            },
            "type": "barpolar"
           }
          ],
          "carpet": [
           {
            "aaxis": {
             "endlinecolor": "#2a3f5f",
             "gridcolor": "white",
             "linecolor": "white",
             "minorgridcolor": "white",
             "startlinecolor": "#2a3f5f"
            },
            "baxis": {
             "endlinecolor": "#2a3f5f",
             "gridcolor": "white",
             "linecolor": "white",
             "minorgridcolor": "white",
             "startlinecolor": "#2a3f5f"
            },
            "type": "carpet"
           }
          ],
          "choropleth": [
           {
            "colorbar": {
             "outlinewidth": 0,
             "ticks": ""
            },
            "type": "choropleth"
           }
          ],
          "contour": [
           {
            "colorbar": {
             "outlinewidth": 0,
             "ticks": ""
            },
            "colorscale": [
             [
              0,
              "#0d0887"
             ],
             [
              0.1111111111111111,
              "#46039f"
             ],
             [
              0.2222222222222222,
              "#7201a8"
             ],
             [
              0.3333333333333333,
              "#9c179e"
             ],
             [
              0.4444444444444444,
              "#bd3786"
             ],
             [
              0.5555555555555556,
              "#d8576b"
             ],
             [
              0.6666666666666666,
              "#ed7953"
             ],
             [
              0.7777777777777778,
              "#fb9f3a"
             ],
             [
              0.8888888888888888,
              "#fdca26"
             ],
             [
              1,
              "#f0f921"
             ]
            ],
            "type": "contour"
           }
          ],
          "contourcarpet": [
           {
            "colorbar": {
             "outlinewidth": 0,
             "ticks": ""
            },
            "type": "contourcarpet"
           }
          ],
          "heatmap": [
           {
            "colorbar": {
             "outlinewidth": 0,
             "ticks": ""
            },
            "colorscale": [
             [
              0,
              "#0d0887"
             ],
             [
              0.1111111111111111,
              "#46039f"
             ],
             [
              0.2222222222222222,
              "#7201a8"
             ],
             [
              0.3333333333333333,
              "#9c179e"
             ],
             [
              0.4444444444444444,
              "#bd3786"
             ],
             [
              0.5555555555555556,
              "#d8576b"
             ],
             [
              0.6666666666666666,
              "#ed7953"
             ],
             [
              0.7777777777777778,
              "#fb9f3a"
             ],
             [
              0.8888888888888888,
              "#fdca26"
             ],
             [
              1,
              "#f0f921"
             ]
            ],
            "type": "heatmap"
           }
          ],
          "heatmapgl": [
           {
            "colorbar": {
             "outlinewidth": 0,
             "ticks": ""
            },
            "colorscale": [
             [
              0,
              "#0d0887"
             ],
             [
              0.1111111111111111,
              "#46039f"
             ],
             [
              0.2222222222222222,
              "#7201a8"
             ],
             [
              0.3333333333333333,
              "#9c179e"
             ],
             [
              0.4444444444444444,
              "#bd3786"
             ],
             [
              0.5555555555555556,
              "#d8576b"
             ],
             [
              0.6666666666666666,
              "#ed7953"
             ],
             [
              0.7777777777777778,
              "#fb9f3a"
             ],
             [
              0.8888888888888888,
              "#fdca26"
             ],
             [
              1,
              "#f0f921"
             ]
            ],
            "type": "heatmapgl"
           }
          ],
          "histogram": [
           {
            "marker": {
             "colorbar": {
              "outlinewidth": 0,
              "ticks": ""
             }
            },
            "type": "histogram"
           }
          ],
          "histogram2d": [
           {
            "colorbar": {
             "outlinewidth": 0,
             "ticks": ""
            },
            "colorscale": [
             [
              0,
              "#0d0887"
             ],
             [
              0.1111111111111111,
              "#46039f"
             ],
             [
              0.2222222222222222,
              "#7201a8"
             ],
             [
              0.3333333333333333,
              "#9c179e"
             ],
             [
              0.4444444444444444,
              "#bd3786"
             ],
             [
              0.5555555555555556,
              "#d8576b"
             ],
             [
              0.6666666666666666,
              "#ed7953"
             ],
             [
              0.7777777777777778,
              "#fb9f3a"
             ],
             [
              0.8888888888888888,
              "#fdca26"
             ],
             [
              1,
              "#f0f921"
             ]
            ],
            "type": "histogram2d"
           }
          ],
          "histogram2dcontour": [
           {
            "colorbar": {
             "outlinewidth": 0,
             "ticks": ""
            },
            "colorscale": [
             [
              0,
              "#0d0887"
             ],
             [
              0.1111111111111111,
              "#46039f"
             ],
             [
              0.2222222222222222,
              "#7201a8"
             ],
             [
              0.3333333333333333,
              "#9c179e"
             ],
             [
              0.4444444444444444,
              "#bd3786"
             ],
             [
              0.5555555555555556,
              "#d8576b"
             ],
             [
              0.6666666666666666,
              "#ed7953"
             ],
             [
              0.7777777777777778,
              "#fb9f3a"
             ],
             [
              0.8888888888888888,
              "#fdca26"
             ],
             [
              1,
              "#f0f921"
             ]
            ],
            "type": "histogram2dcontour"
           }
          ],
          "mesh3d": [
           {
            "colorbar": {
             "outlinewidth": 0,
             "ticks": ""
            },
            "type": "mesh3d"
           }
          ],
          "parcoords": [
           {
            "line": {
             "colorbar": {
              "outlinewidth": 0,
              "ticks": ""
             }
            },
            "type": "parcoords"
           }
          ],
          "pie": [
           {
            "automargin": true,
            "type": "pie"
           }
          ],
          "scatter": [
           {
            "marker": {
             "colorbar": {
              "outlinewidth": 0,
              "ticks": ""
             }
            },
            "type": "scatter"
           }
          ],
          "scatter3d": [
           {
            "line": {
             "colorbar": {
              "outlinewidth": 0,
              "ticks": ""
             }
            },
            "marker": {
             "colorbar": {
              "outlinewidth": 0,
              "ticks": ""
             }
            },
            "type": "scatter3d"
           }
          ],
          "scattercarpet": [
           {
            "marker": {
             "colorbar": {
              "outlinewidth": 0,
              "ticks": ""
             }
            },
            "type": "scattercarpet"
           }
          ],
          "scattergeo": [
           {
            "marker": {
             "colorbar": {
              "outlinewidth": 0,
              "ticks": ""
             }
            },
            "type": "scattergeo"
           }
          ],
          "scattergl": [
           {
            "marker": {
             "colorbar": {
              "outlinewidth": 0,
              "ticks": ""
             }
            },
            "type": "scattergl"
           }
          ],
          "scattermapbox": [
           {
            "marker": {
             "colorbar": {
              "outlinewidth": 0,
              "ticks": ""
             }
            },
            "type": "scattermapbox"
           }
          ],
          "scatterpolar": [
           {
            "marker": {
             "colorbar": {
              "outlinewidth": 0,
              "ticks": ""
             }
            },
            "type": "scatterpolar"
           }
          ],
          "scatterpolargl": [
           {
            "marker": {
             "colorbar": {
              "outlinewidth": 0,
              "ticks": ""
             }
            },
            "type": "scatterpolargl"
           }
          ],
          "scatterternary": [
           {
            "marker": {
             "colorbar": {
              "outlinewidth": 0,
              "ticks": ""
             }
            },
            "type": "scatterternary"
           }
          ],
          "surface": [
           {
            "colorbar": {
             "outlinewidth": 0,
             "ticks": ""
            },
            "colorscale": [
             [
              0,
              "#0d0887"
             ],
             [
              0.1111111111111111,
              "#46039f"
             ],
             [
              0.2222222222222222,
              "#7201a8"
             ],
             [
              0.3333333333333333,
              "#9c179e"
             ],
             [
              0.4444444444444444,
              "#bd3786"
             ],
             [
              0.5555555555555556,
              "#d8576b"
             ],
             [
              0.6666666666666666,
              "#ed7953"
             ],
             [
              0.7777777777777778,
              "#fb9f3a"
             ],
             [
              0.8888888888888888,
              "#fdca26"
             ],
             [
              1,
              "#f0f921"
             ]
            ],
            "type": "surface"
           }
          ],
          "table": [
           {
            "cells": {
             "fill": {
              "color": "#EBF0F8"
             },
             "line": {
              "color": "white"
             }
            },
            "header": {
             "fill": {
              "color": "#C8D4E3"
             },
             "line": {
              "color": "white"
             }
            },
            "type": "table"
           }
          ]
         },
         "layout": {
          "annotationdefaults": {
           "arrowcolor": "#2a3f5f",
           "arrowhead": 0,
           "arrowwidth": 1
          },
          "autotypenumbers": "strict",
          "coloraxis": {
           "colorbar": {
            "outlinewidth": 0,
            "ticks": ""
           }
          },
          "colorscale": {
           "diverging": [
            [
             0,
             "#8e0152"
            ],
            [
             0.1,
             "#c51b7d"
            ],
            [
             0.2,
             "#de77ae"
            ],
            [
             0.3,
             "#f1b6da"
            ],
            [
             0.4,
             "#fde0ef"
            ],
            [
             0.5,
             "#f7f7f7"
            ],
            [
             0.6,
             "#e6f5d0"
            ],
            [
             0.7,
             "#b8e186"
            ],
            [
             0.8,
             "#7fbc41"
            ],
            [
             0.9,
             "#4d9221"
            ],
            [
             1,
             "#276419"
            ]
           ],
           "sequential": [
            [
             0,
             "#0d0887"
            ],
            [
             0.1111111111111111,
             "#46039f"
            ],
            [
             0.2222222222222222,
             "#7201a8"
            ],
            [
             0.3333333333333333,
             "#9c179e"
            ],
            [
             0.4444444444444444,
             "#bd3786"
            ],
            [
             0.5555555555555556,
             "#d8576b"
            ],
            [
             0.6666666666666666,
             "#ed7953"
            ],
            [
             0.7777777777777778,
             "#fb9f3a"
            ],
            [
             0.8888888888888888,
             "#fdca26"
            ],
            [
             1,
             "#f0f921"
            ]
           ],
           "sequentialminus": [
            [
             0,
             "#0d0887"
            ],
            [
             0.1111111111111111,
             "#46039f"
            ],
            [
             0.2222222222222222,
             "#7201a8"
            ],
            [
             0.3333333333333333,
             "#9c179e"
            ],
            [
             0.4444444444444444,
             "#bd3786"
            ],
            [
             0.5555555555555556,
             "#d8576b"
            ],
            [
             0.6666666666666666,
             "#ed7953"
            ],
            [
             0.7777777777777778,
             "#fb9f3a"
            ],
            [
             0.8888888888888888,
             "#fdca26"
            ],
            [
             1,
             "#f0f921"
            ]
           ]
          },
          "colorway": [
           "#636efa",
           "#EF553B",
           "#00cc96",
           "#ab63fa",
           "#FFA15A",
           "#19d3f3",
           "#FF6692",
           "#B6E880",
           "#FF97FF",
           "#FECB52"
          ],
          "font": {
           "color": "#2a3f5f"
          },
          "geo": {
           "bgcolor": "white",
           "lakecolor": "white",
           "landcolor": "#E5ECF6",
           "showlakes": true,
           "showland": true,
           "subunitcolor": "white"
          },
          "hoverlabel": {
           "align": "left"
          },
          "hovermode": "closest",
          "mapbox": {
           "style": "light"
          },
          "paper_bgcolor": "white",
          "plot_bgcolor": "#E5ECF6",
          "polar": {
           "angularaxis": {
            "gridcolor": "white",
            "linecolor": "white",
            "ticks": ""
           },
           "bgcolor": "#E5ECF6",
           "radialaxis": {
            "gridcolor": "white",
            "linecolor": "white",
            "ticks": ""
           }
          },
          "scene": {
           "xaxis": {
            "backgroundcolor": "#E5ECF6",
            "gridcolor": "white",
            "gridwidth": 2,
            "linecolor": "white",
            "showbackground": true,
            "ticks": "",
            "zerolinecolor": "white"
           },
           "yaxis": {
            "backgroundcolor": "#E5ECF6",
            "gridcolor": "white",
            "gridwidth": 2,
            "linecolor": "white",
            "showbackground": true,
            "ticks": "",
            "zerolinecolor": "white"
           },
           "zaxis": {
            "backgroundcolor": "#E5ECF6",
            "gridcolor": "white",
            "gridwidth": 2,
            "linecolor": "white",
            "showbackground": true,
            "ticks": "",
            "zerolinecolor": "white"
           }
          },
          "shapedefaults": {
           "line": {
            "color": "#2a3f5f"
           }
          },
          "ternary": {
           "aaxis": {
            "gridcolor": "white",
            "linecolor": "white",
            "ticks": ""
           },
           "baxis": {
            "gridcolor": "white",
            "linecolor": "white",
            "ticks": ""
           },
           "bgcolor": "#E5ECF6",
           "caxis": {
            "gridcolor": "white",
            "linecolor": "white",
            "ticks": ""
           }
          },
          "title": {
           "x": 0.05
          },
          "xaxis": {
           "automargin": true,
           "gridcolor": "white",
           "linecolor": "white",
           "ticks": "",
           "title": {
            "standoff": 15
           },
           "zerolinecolor": "white",
           "zerolinewidth": 2
          },
          "yaxis": {
           "automargin": true,
           "gridcolor": "white",
           "linecolor": "white",
           "ticks": "",
           "title": {
            "standoff": 15
           },
           "zerolinecolor": "white",
           "zerolinewidth": 2
          }
         }
        },
        "width": 700,
        "xaxis": {
         "anchor": "y",
         "domain": [
          0,
          1
         ],
         "title": {
          "text": "Happiness Score"
         }
        },
        "yaxis": {
         "anchor": "x",
         "domain": [
          0,
          1
         ],
         "title": {
          "text": "Country"
         }
        }
       }
      },
      "text/html": [
       "<div>                            <div id=\"1eb7c1a7-63a0-477f-a48d-1383dfd3fad2\" class=\"plotly-graph-div\" style=\"height:440px; width:700px;\"></div>            <script type=\"text/javascript\">                require([\"plotly\"], function(Plotly) {                    window.PLOTLYENV=window.PLOTLYENV || {};                                    if (document.getElementById(\"1eb7c1a7-63a0-477f-a48d-1383dfd3fad2\")) {                    Plotly.newPlot(                        \"1eb7c1a7-63a0-477f-a48d-1383dfd3fad2\",                        [{\"alignmentgroup\": \"True\", \"hovertemplate\": \"<b>%{hovertext}</b><br><br>Happiness Score=%{x}<br>Country=%{y}<extra></extra>\", \"hovertext\": [\"Belgium\", \"United States\", \"Czech Republic\", \"United Kingdom\", \"Costa Rica\", \"Ireland\", \"Canada\", \"Germany\", \"Israel\", \"Australia\", \"Austria\", \"New Zealand\", \"Luxembourg\", \"Sweden\", \"Norway\", \"Netherlands\", \"Iceland\", \"Switzerland\", \"Denmark\", \"Finland\"], \"legendgroup\": \"\", \"marker\": {\"color\": \"#636efa\"}, \"name\": \"\", \"offsetgroup\": \"\", \"orientation\": \"h\", \"showlegend\": false, \"textposition\": \"auto\", \"type\": \"bar\", \"x\": [6.834, 6.9510000000000005, 6.965, 7.064, 7.069, 7.085, 7.103, 7.155, 7.157, 7.183, 7.268, 7.277, 7.324, 7.3629999999999995, 7.392, 7.4639999999999995, 7.553999999999999, 7.571000000000001, 7.62, 7.8420000000000005], \"xaxis\": \"x\", \"y\": [\"Belgium\", \"United States\", \"Czech Republic\", \"United Kingdom\", \"Costa Rica\", \"Ireland\", \"Canada\", \"Germany\", \"Israel\", \"Australia\", \"Austria\", \"New Zealand\", \"Luxembourg\", \"Sweden\", \"Norway\", \"Netherlands\", \"Iceland\", \"Switzerland\", \"Denmark\", \"Finland\"], \"yaxis\": \"y\"}],                        {\"barmode\": \"relative\", \"height\": 440, \"legend\": {\"tracegroupgap\": 0}, \"margin\": {\"t\": 60}, \"template\": {\"data\": {\"bar\": [{\"error_x\": {\"color\": \"#2a3f5f\"}, \"error_y\": {\"color\": \"#2a3f5f\"}, \"marker\": {\"line\": {\"color\": \"#E5ECF6\", \"width\": 0.5}}, \"type\": \"bar\"}], \"barpolar\": [{\"marker\": {\"line\": {\"color\": \"#E5ECF6\", \"width\": 0.5}}, \"type\": \"barpolar\"}], \"carpet\": [{\"aaxis\": {\"endlinecolor\": \"#2a3f5f\", \"gridcolor\": \"white\", \"linecolor\": \"white\", \"minorgridcolor\": \"white\", \"startlinecolor\": \"#2a3f5f\"}, \"baxis\": {\"endlinecolor\": \"#2a3f5f\", \"gridcolor\": \"white\", \"linecolor\": \"white\", \"minorgridcolor\": \"white\", \"startlinecolor\": \"#2a3f5f\"}, \"type\": \"carpet\"}], \"choropleth\": [{\"colorbar\": {\"outlinewidth\": 0, \"ticks\": \"\"}, \"type\": \"choropleth\"}], \"contour\": [{\"colorbar\": {\"outlinewidth\": 0, \"ticks\": \"\"}, \"colorscale\": [[0.0, \"#0d0887\"], [0.1111111111111111, \"#46039f\"], [0.2222222222222222, \"#7201a8\"], [0.3333333333333333, \"#9c179e\"], [0.4444444444444444, \"#bd3786\"], [0.5555555555555556, \"#d8576b\"], [0.6666666666666666, \"#ed7953\"], [0.7777777777777778, \"#fb9f3a\"], [0.8888888888888888, \"#fdca26\"], [1.0, \"#f0f921\"]], \"type\": \"contour\"}], \"contourcarpet\": [{\"colorbar\": {\"outlinewidth\": 0, \"ticks\": \"\"}, \"type\": \"contourcarpet\"}], \"heatmap\": [{\"colorbar\": {\"outlinewidth\": 0, \"ticks\": \"\"}, \"colorscale\": [[0.0, \"#0d0887\"], [0.1111111111111111, \"#46039f\"], [0.2222222222222222, \"#7201a8\"], [0.3333333333333333, \"#9c179e\"], [0.4444444444444444, \"#bd3786\"], [0.5555555555555556, \"#d8576b\"], [0.6666666666666666, \"#ed7953\"], [0.7777777777777778, \"#fb9f3a\"], [0.8888888888888888, \"#fdca26\"], [1.0, \"#f0f921\"]], \"type\": \"heatmap\"}], \"heatmapgl\": [{\"colorbar\": {\"outlinewidth\": 0, \"ticks\": \"\"}, \"colorscale\": [[0.0, \"#0d0887\"], [0.1111111111111111, \"#46039f\"], [0.2222222222222222, \"#7201a8\"], [0.3333333333333333, \"#9c179e\"], [0.4444444444444444, \"#bd3786\"], [0.5555555555555556, \"#d8576b\"], [0.6666666666666666, \"#ed7953\"], [0.7777777777777778, \"#fb9f3a\"], [0.8888888888888888, \"#fdca26\"], [1.0, \"#f0f921\"]], \"type\": \"heatmapgl\"}], \"histogram\": [{\"marker\": {\"colorbar\": {\"outlinewidth\": 0, \"ticks\": \"\"}}, \"type\": \"histogram\"}], \"histogram2d\": [{\"colorbar\": {\"outlinewidth\": 0, \"ticks\": \"\"}, \"colorscale\": [[0.0, \"#0d0887\"], [0.1111111111111111, \"#46039f\"], [0.2222222222222222, \"#7201a8\"], [0.3333333333333333, \"#9c179e\"], [0.4444444444444444, \"#bd3786\"], [0.5555555555555556, \"#d8576b\"], [0.6666666666666666, \"#ed7953\"], [0.7777777777777778, \"#fb9f3a\"], [0.8888888888888888, \"#fdca26\"], [1.0, \"#f0f921\"]], \"type\": \"histogram2d\"}], \"histogram2dcontour\": [{\"colorbar\": {\"outlinewidth\": 0, \"ticks\": \"\"}, \"colorscale\": [[0.0, \"#0d0887\"], [0.1111111111111111, \"#46039f\"], [0.2222222222222222, \"#7201a8\"], [0.3333333333333333, \"#9c179e\"], [0.4444444444444444, \"#bd3786\"], [0.5555555555555556, \"#d8576b\"], [0.6666666666666666, \"#ed7953\"], [0.7777777777777778, \"#fb9f3a\"], [0.8888888888888888, \"#fdca26\"], [1.0, \"#f0f921\"]], \"type\": \"histogram2dcontour\"}], \"mesh3d\": [{\"colorbar\": {\"outlinewidth\": 0, \"ticks\": \"\"}, \"type\": \"mesh3d\"}], \"parcoords\": [{\"line\": {\"colorbar\": {\"outlinewidth\": 0, \"ticks\": \"\"}}, \"type\": \"parcoords\"}], \"pie\": [{\"automargin\": true, \"type\": \"pie\"}], \"scatter\": [{\"marker\": {\"colorbar\": {\"outlinewidth\": 0, \"ticks\": \"\"}}, \"type\": \"scatter\"}], \"scatter3d\": [{\"line\": {\"colorbar\": {\"outlinewidth\": 0, \"ticks\": \"\"}}, \"marker\": {\"colorbar\": {\"outlinewidth\": 0, \"ticks\": \"\"}}, \"type\": \"scatter3d\"}], \"scattercarpet\": [{\"marker\": {\"colorbar\": {\"outlinewidth\": 0, \"ticks\": \"\"}}, \"type\": \"scattercarpet\"}], \"scattergeo\": [{\"marker\": {\"colorbar\": {\"outlinewidth\": 0, \"ticks\": \"\"}}, \"type\": \"scattergeo\"}], \"scattergl\": [{\"marker\": {\"colorbar\": {\"outlinewidth\": 0, \"ticks\": \"\"}}, \"type\": \"scattergl\"}], \"scattermapbox\": [{\"marker\": {\"colorbar\": {\"outlinewidth\": 0, \"ticks\": \"\"}}, \"type\": \"scattermapbox\"}], \"scatterpolar\": [{\"marker\": {\"colorbar\": {\"outlinewidth\": 0, \"ticks\": \"\"}}, \"type\": \"scatterpolar\"}], \"scatterpolargl\": [{\"marker\": {\"colorbar\": {\"outlinewidth\": 0, \"ticks\": \"\"}}, \"type\": \"scatterpolargl\"}], \"scatterternary\": [{\"marker\": {\"colorbar\": {\"outlinewidth\": 0, \"ticks\": \"\"}}, \"type\": \"scatterternary\"}], \"surface\": [{\"colorbar\": {\"outlinewidth\": 0, \"ticks\": \"\"}, \"colorscale\": [[0.0, \"#0d0887\"], [0.1111111111111111, \"#46039f\"], [0.2222222222222222, \"#7201a8\"], [0.3333333333333333, \"#9c179e\"], [0.4444444444444444, \"#bd3786\"], [0.5555555555555556, \"#d8576b\"], [0.6666666666666666, \"#ed7953\"], [0.7777777777777778, \"#fb9f3a\"], [0.8888888888888888, \"#fdca26\"], [1.0, \"#f0f921\"]], \"type\": \"surface\"}], \"table\": [{\"cells\": {\"fill\": {\"color\": \"#EBF0F8\"}, \"line\": {\"color\": \"white\"}}, \"header\": {\"fill\": {\"color\": \"#C8D4E3\"}, \"line\": {\"color\": \"white\"}}, \"type\": \"table\"}]}, \"layout\": {\"annotationdefaults\": {\"arrowcolor\": \"#2a3f5f\", \"arrowhead\": 0, \"arrowwidth\": 1}, \"autotypenumbers\": \"strict\", \"coloraxis\": {\"colorbar\": {\"outlinewidth\": 0, \"ticks\": \"\"}}, \"colorscale\": {\"diverging\": [[0, \"#8e0152\"], [0.1, \"#c51b7d\"], [0.2, \"#de77ae\"], [0.3, \"#f1b6da\"], [0.4, \"#fde0ef\"], [0.5, \"#f7f7f7\"], [0.6, \"#e6f5d0\"], [0.7, \"#b8e186\"], [0.8, \"#7fbc41\"], [0.9, \"#4d9221\"], [1, \"#276419\"]], \"sequential\": [[0.0, \"#0d0887\"], [0.1111111111111111, \"#46039f\"], [0.2222222222222222, \"#7201a8\"], [0.3333333333333333, \"#9c179e\"], [0.4444444444444444, \"#bd3786\"], [0.5555555555555556, \"#d8576b\"], [0.6666666666666666, \"#ed7953\"], [0.7777777777777778, \"#fb9f3a\"], [0.8888888888888888, \"#fdca26\"], [1.0, \"#f0f921\"]], \"sequentialminus\": [[0.0, \"#0d0887\"], [0.1111111111111111, \"#46039f\"], [0.2222222222222222, \"#7201a8\"], [0.3333333333333333, \"#9c179e\"], [0.4444444444444444, \"#bd3786\"], [0.5555555555555556, \"#d8576b\"], [0.6666666666666666, \"#ed7953\"], [0.7777777777777778, \"#fb9f3a\"], [0.8888888888888888, \"#fdca26\"], [1.0, \"#f0f921\"]]}, \"colorway\": [\"#636efa\", \"#EF553B\", \"#00cc96\", \"#ab63fa\", \"#FFA15A\", \"#19d3f3\", \"#FF6692\", \"#B6E880\", \"#FF97FF\", \"#FECB52\"], \"font\": {\"color\": \"#2a3f5f\"}, \"geo\": {\"bgcolor\": \"white\", \"lakecolor\": \"white\", \"landcolor\": \"#E5ECF6\", \"showlakes\": true, \"showland\": true, \"subunitcolor\": \"white\"}, \"hoverlabel\": {\"align\": \"left\"}, \"hovermode\": \"closest\", \"mapbox\": {\"style\": \"light\"}, \"paper_bgcolor\": \"white\", \"plot_bgcolor\": \"#E5ECF6\", \"polar\": {\"angularaxis\": {\"gridcolor\": \"white\", \"linecolor\": \"white\", \"ticks\": \"\"}, \"bgcolor\": \"#E5ECF6\", \"radialaxis\": {\"gridcolor\": \"white\", \"linecolor\": \"white\", \"ticks\": \"\"}}, \"scene\": {\"xaxis\": {\"backgroundcolor\": \"#E5ECF6\", \"gridcolor\": \"white\", \"gridwidth\": 2, \"linecolor\": \"white\", \"showbackground\": true, \"ticks\": \"\", \"zerolinecolor\": \"white\"}, \"yaxis\": {\"backgroundcolor\": \"#E5ECF6\", \"gridcolor\": \"white\", \"gridwidth\": 2, \"linecolor\": \"white\", \"showbackground\": true, \"ticks\": \"\", \"zerolinecolor\": \"white\"}, \"zaxis\": {\"backgroundcolor\": \"#E5ECF6\", \"gridcolor\": \"white\", \"gridwidth\": 2, \"linecolor\": \"white\", \"showbackground\": true, \"ticks\": \"\", \"zerolinecolor\": \"white\"}}, \"shapedefaults\": {\"line\": {\"color\": \"#2a3f5f\"}}, \"ternary\": {\"aaxis\": {\"gridcolor\": \"white\", \"linecolor\": \"white\", \"ticks\": \"\"}, \"baxis\": {\"gridcolor\": \"white\", \"linecolor\": \"white\", \"ticks\": \"\"}, \"bgcolor\": \"#E5ECF6\", \"caxis\": {\"gridcolor\": \"white\", \"linecolor\": \"white\", \"ticks\": \"\"}}, \"title\": {\"x\": 0.05}, \"xaxis\": {\"automargin\": true, \"gridcolor\": \"white\", \"linecolor\": \"white\", \"ticks\": \"\", \"title\": {\"standoff\": 15}, \"zerolinecolor\": \"white\", \"zerolinewidth\": 2}, \"yaxis\": {\"automargin\": true, \"gridcolor\": \"white\", \"linecolor\": \"white\", \"ticks\": \"\", \"title\": {\"standoff\": 15}, \"zerolinecolor\": \"white\", \"zerolinewidth\": 2}}}, \"width\": 700, \"xaxis\": {\"anchor\": \"y\", \"domain\": [0.0, 1.0], \"title\": {\"text\": \"Happiness Score\"}}, \"yaxis\": {\"anchor\": \"x\", \"domain\": [0.0, 1.0], \"title\": {\"text\": \"Country\"}}},                        {\"responsive\": true}                    ).then(function(){\n",
       "                            \n",
       "var gd = document.getElementById('1eb7c1a7-63a0-477f-a48d-1383dfd3fad2');\n",
       "var x = new MutationObserver(function (mutations, observer) {{\n",
       "        var display = window.getComputedStyle(gd).display;\n",
       "        if (!display || display === 'none') {{\n",
       "            console.log([gd, 'removed!']);\n",
       "            Plotly.purge(gd);\n",
       "            observer.disconnect();\n",
       "        }}\n",
       "}});\n",
       "\n",
       "// Listen for the removal of the full notebook cells\n",
       "var notebookContainer = gd.closest('#notebook-container');\n",
       "if (notebookContainer) {{\n",
       "    x.observe(notebookContainer, {childList: true});\n",
       "}}\n",
       "\n",
       "// Listen for the clearing of the current output cell\n",
       "var outputEl = gd.closest('.output');\n",
       "if (outputEl) {{\n",
       "    x.observe(outputEl, {childList: true});\n",
       "}}\n",
       "\n",
       "                        })                };                });            </script>        </div>"
      ]
     },
     "metadata": {},
     "output_type": "display_data"
    }
   ],
   "source": [
    "fig = px.bar(df_top20, x='Happiness Score', y='Country',  hover_name='Country', \n",
    "            labels={\n",
    "                     \"Country\": \"Country\",\n",
    "                     \"Happiness Score\": \"Happiness Score\" }, orientation='h', width=700, height=440)\n",
    "fig.show()"
   ]
  },
  {
   "cell_type": "markdown",
   "metadata": {},
   "source": [
    "# Top happiest countries include Finland, Denmark, Switzerland, Iceland, Netherlands and Norway"
   ]
  },
  {
   "cell_type": "code",
   "execution_count": 146,
   "metadata": {},
   "outputs": [
    {
     "data": {
      "application/vnd.plotly.v1+json": {
       "config": {
        "plotlyServerURL": "https://plot.ly"
       },
       "data": [
        {
         "alignmentgroup": "True",
         "hovertemplate": "<b>%{hovertext}</b><br><br>Happiness Score=%{x}<br>Country=%{y}<extra></extra>",
         "hovertext": [
          148,
          147,
          146,
          145,
          144,
          143,
          142,
          141,
          140,
          139,
          138,
          137,
          136,
          135,
          134,
          133,
          132,
          131,
          130,
          129
         ],
         "legendgroup": "",
         "marker": {
          "color": "#636efa"
         },
         "name": "",
         "offsetgroup": "",
         "orientation": "h",
         "showlegend": false,
         "textposition": "auto",
         "type": "bar",
         "x": [
          3.145,
          3.415,
          3.467,
          3.512,
          3.6,
          3.615,
          3.623,
          3.658,
          3.775,
          3.819,
          3.8489999999999998,
          4.073,
          4.107,
          4.208,
          4.227,
          4.275,
          4.283,
          4.289,
          4.308,
          4.325
         ],
         "xaxis": "x",
         "y": [
          "Zimbabwe",
          "Rwanda",
          "Botswana",
          "Lesotho",
          "Malawi",
          "Haiti",
          "Tanzania",
          "Yemen",
          "Burundi",
          "India",
          "Sierra Leone",
          "Zambia",
          "Togo",
          "Madagascar",
          "Mauritania",
          "Ethiopia",
          "Egypt",
          "Comoros",
          "Swaziland",
          "Sri Lanka"
         ],
         "yaxis": "y"
        }
       ],
       "layout": {
        "barmode": "relative",
        "height": 450,
        "legend": {
         "tracegroupgap": 0
        },
        "margin": {
         "t": 60
        },
        "template": {
         "data": {
          "bar": [
           {
            "error_x": {
             "color": "#2a3f5f"
            },
            "error_y": {
             "color": "#2a3f5f"
            },
            "marker": {
             "line": {
              "color": "#E5ECF6",
              "width": 0.5
             }
            },
            "type": "bar"
           }
          ],
          "barpolar": [
           {
            "marker": {
             "line": {
              "color": "#E5ECF6",
              "width": 0.5
             }
            },
            "type": "barpolar"
           }
          ],
          "carpet": [
           {
            "aaxis": {
             "endlinecolor": "#2a3f5f",
             "gridcolor": "white",
             "linecolor": "white",
             "minorgridcolor": "white",
             "startlinecolor": "#2a3f5f"
            },
            "baxis": {
             "endlinecolor": "#2a3f5f",
             "gridcolor": "white",
             "linecolor": "white",
             "minorgridcolor": "white",
             "startlinecolor": "#2a3f5f"
            },
            "type": "carpet"
           }
          ],
          "choropleth": [
           {
            "colorbar": {
             "outlinewidth": 0,
             "ticks": ""
            },
            "type": "choropleth"
           }
          ],
          "contour": [
           {
            "colorbar": {
             "outlinewidth": 0,
             "ticks": ""
            },
            "colorscale": [
             [
              0,
              "#0d0887"
             ],
             [
              0.1111111111111111,
              "#46039f"
             ],
             [
              0.2222222222222222,
              "#7201a8"
             ],
             [
              0.3333333333333333,
              "#9c179e"
             ],
             [
              0.4444444444444444,
              "#bd3786"
             ],
             [
              0.5555555555555556,
              "#d8576b"
             ],
             [
              0.6666666666666666,
              "#ed7953"
             ],
             [
              0.7777777777777778,
              "#fb9f3a"
             ],
             [
              0.8888888888888888,
              "#fdca26"
             ],
             [
              1,
              "#f0f921"
             ]
            ],
            "type": "contour"
           }
          ],
          "contourcarpet": [
           {
            "colorbar": {
             "outlinewidth": 0,
             "ticks": ""
            },
            "type": "contourcarpet"
           }
          ],
          "heatmap": [
           {
            "colorbar": {
             "outlinewidth": 0,
             "ticks": ""
            },
            "colorscale": [
             [
              0,
              "#0d0887"
             ],
             [
              0.1111111111111111,
              "#46039f"
             ],
             [
              0.2222222222222222,
              "#7201a8"
             ],
             [
              0.3333333333333333,
              "#9c179e"
             ],
             [
              0.4444444444444444,
              "#bd3786"
             ],
             [
              0.5555555555555556,
              "#d8576b"
             ],
             [
              0.6666666666666666,
              "#ed7953"
             ],
             [
              0.7777777777777778,
              "#fb9f3a"
             ],
             [
              0.8888888888888888,
              "#fdca26"
             ],
             [
              1,
              "#f0f921"
             ]
            ],
            "type": "heatmap"
           }
          ],
          "heatmapgl": [
           {
            "colorbar": {
             "outlinewidth": 0,
             "ticks": ""
            },
            "colorscale": [
             [
              0,
              "#0d0887"
             ],
             [
              0.1111111111111111,
              "#46039f"
             ],
             [
              0.2222222222222222,
              "#7201a8"
             ],
             [
              0.3333333333333333,
              "#9c179e"
             ],
             [
              0.4444444444444444,
              "#bd3786"
             ],
             [
              0.5555555555555556,
              "#d8576b"
             ],
             [
              0.6666666666666666,
              "#ed7953"
             ],
             [
              0.7777777777777778,
              "#fb9f3a"
             ],
             [
              0.8888888888888888,
              "#fdca26"
             ],
             [
              1,
              "#f0f921"
             ]
            ],
            "type": "heatmapgl"
           }
          ],
          "histogram": [
           {
            "marker": {
             "colorbar": {
              "outlinewidth": 0,
              "ticks": ""
             }
            },
            "type": "histogram"
           }
          ],
          "histogram2d": [
           {
            "colorbar": {
             "outlinewidth": 0,
             "ticks": ""
            },
            "colorscale": [
             [
              0,
              "#0d0887"
             ],
             [
              0.1111111111111111,
              "#46039f"
             ],
             [
              0.2222222222222222,
              "#7201a8"
             ],
             [
              0.3333333333333333,
              "#9c179e"
             ],
             [
              0.4444444444444444,
              "#bd3786"
             ],
             [
              0.5555555555555556,
              "#d8576b"
             ],
             [
              0.6666666666666666,
              "#ed7953"
             ],
             [
              0.7777777777777778,
              "#fb9f3a"
             ],
             [
              0.8888888888888888,
              "#fdca26"
             ],
             [
              1,
              "#f0f921"
             ]
            ],
            "type": "histogram2d"
           }
          ],
          "histogram2dcontour": [
           {
            "colorbar": {
             "outlinewidth": 0,
             "ticks": ""
            },
            "colorscale": [
             [
              0,
              "#0d0887"
             ],
             [
              0.1111111111111111,
              "#46039f"
             ],
             [
              0.2222222222222222,
              "#7201a8"
             ],
             [
              0.3333333333333333,
              "#9c179e"
             ],
             [
              0.4444444444444444,
              "#bd3786"
             ],
             [
              0.5555555555555556,
              "#d8576b"
             ],
             [
              0.6666666666666666,
              "#ed7953"
             ],
             [
              0.7777777777777778,
              "#fb9f3a"
             ],
             [
              0.8888888888888888,
              "#fdca26"
             ],
             [
              1,
              "#f0f921"
             ]
            ],
            "type": "histogram2dcontour"
           }
          ],
          "mesh3d": [
           {
            "colorbar": {
             "outlinewidth": 0,
             "ticks": ""
            },
            "type": "mesh3d"
           }
          ],
          "parcoords": [
           {
            "line": {
             "colorbar": {
              "outlinewidth": 0,
              "ticks": ""
             }
            },
            "type": "parcoords"
           }
          ],
          "pie": [
           {
            "automargin": true,
            "type": "pie"
           }
          ],
          "scatter": [
           {
            "marker": {
             "colorbar": {
              "outlinewidth": 0,
              "ticks": ""
             }
            },
            "type": "scatter"
           }
          ],
          "scatter3d": [
           {
            "line": {
             "colorbar": {
              "outlinewidth": 0,
              "ticks": ""
             }
            },
            "marker": {
             "colorbar": {
              "outlinewidth": 0,
              "ticks": ""
             }
            },
            "type": "scatter3d"
           }
          ],
          "scattercarpet": [
           {
            "marker": {
             "colorbar": {
              "outlinewidth": 0,
              "ticks": ""
             }
            },
            "type": "scattercarpet"
           }
          ],
          "scattergeo": [
           {
            "marker": {
             "colorbar": {
              "outlinewidth": 0,
              "ticks": ""
             }
            },
            "type": "scattergeo"
           }
          ],
          "scattergl": [
           {
            "marker": {
             "colorbar": {
              "outlinewidth": 0,
              "ticks": ""
             }
            },
            "type": "scattergl"
           }
          ],
          "scattermapbox": [
           {
            "marker": {
             "colorbar": {
              "outlinewidth": 0,
              "ticks": ""
             }
            },
            "type": "scattermapbox"
           }
          ],
          "scatterpolar": [
           {
            "marker": {
             "colorbar": {
              "outlinewidth": 0,
              "ticks": ""
             }
            },
            "type": "scatterpolar"
           }
          ],
          "scatterpolargl": [
           {
            "marker": {
             "colorbar": {
              "outlinewidth": 0,
              "ticks": ""
             }
            },
            "type": "scatterpolargl"
           }
          ],
          "scatterternary": [
           {
            "marker": {
             "colorbar": {
              "outlinewidth": 0,
              "ticks": ""
             }
            },
            "type": "scatterternary"
           }
          ],
          "surface": [
           {
            "colorbar": {
             "outlinewidth": 0,
             "ticks": ""
            },
            "colorscale": [
             [
              0,
              "#0d0887"
             ],
             [
              0.1111111111111111,
              "#46039f"
             ],
             [
              0.2222222222222222,
              "#7201a8"
             ],
             [
              0.3333333333333333,
              "#9c179e"
             ],
             [
              0.4444444444444444,
              "#bd3786"
             ],
             [
              0.5555555555555556,
              "#d8576b"
             ],
             [
              0.6666666666666666,
              "#ed7953"
             ],
             [
              0.7777777777777778,
              "#fb9f3a"
             ],
             [
              0.8888888888888888,
              "#fdca26"
             ],
             [
              1,
              "#f0f921"
             ]
            ],
            "type": "surface"
           }
          ],
          "table": [
           {
            "cells": {
             "fill": {
              "color": "#EBF0F8"
             },
             "line": {
              "color": "white"
             }
            },
            "header": {
             "fill": {
              "color": "#C8D4E3"
             },
             "line": {
              "color": "white"
             }
            },
            "type": "table"
           }
          ]
         },
         "layout": {
          "annotationdefaults": {
           "arrowcolor": "#2a3f5f",
           "arrowhead": 0,
           "arrowwidth": 1
          },
          "autotypenumbers": "strict",
          "coloraxis": {
           "colorbar": {
            "outlinewidth": 0,
            "ticks": ""
           }
          },
          "colorscale": {
           "diverging": [
            [
             0,
             "#8e0152"
            ],
            [
             0.1,
             "#c51b7d"
            ],
            [
             0.2,
             "#de77ae"
            ],
            [
             0.3,
             "#f1b6da"
            ],
            [
             0.4,
             "#fde0ef"
            ],
            [
             0.5,
             "#f7f7f7"
            ],
            [
             0.6,
             "#e6f5d0"
            ],
            [
             0.7,
             "#b8e186"
            ],
            [
             0.8,
             "#7fbc41"
            ],
            [
             0.9,
             "#4d9221"
            ],
            [
             1,
             "#276419"
            ]
           ],
           "sequential": [
            [
             0,
             "#0d0887"
            ],
            [
             0.1111111111111111,
             "#46039f"
            ],
            [
             0.2222222222222222,
             "#7201a8"
            ],
            [
             0.3333333333333333,
             "#9c179e"
            ],
            [
             0.4444444444444444,
             "#bd3786"
            ],
            [
             0.5555555555555556,
             "#d8576b"
            ],
            [
             0.6666666666666666,
             "#ed7953"
            ],
            [
             0.7777777777777778,
             "#fb9f3a"
            ],
            [
             0.8888888888888888,
             "#fdca26"
            ],
            [
             1,
             "#f0f921"
            ]
           ],
           "sequentialminus": [
            [
             0,
             "#0d0887"
            ],
            [
             0.1111111111111111,
             "#46039f"
            ],
            [
             0.2222222222222222,
             "#7201a8"
            ],
            [
             0.3333333333333333,
             "#9c179e"
            ],
            [
             0.4444444444444444,
             "#bd3786"
            ],
            [
             0.5555555555555556,
             "#d8576b"
            ],
            [
             0.6666666666666666,
             "#ed7953"
            ],
            [
             0.7777777777777778,
             "#fb9f3a"
            ],
            [
             0.8888888888888888,
             "#fdca26"
            ],
            [
             1,
             "#f0f921"
            ]
           ]
          },
          "colorway": [
           "#636efa",
           "#EF553B",
           "#00cc96",
           "#ab63fa",
           "#FFA15A",
           "#19d3f3",
           "#FF6692",
           "#B6E880",
           "#FF97FF",
           "#FECB52"
          ],
          "font": {
           "color": "#2a3f5f"
          },
          "geo": {
           "bgcolor": "white",
           "lakecolor": "white",
           "landcolor": "#E5ECF6",
           "showlakes": true,
           "showland": true,
           "subunitcolor": "white"
          },
          "hoverlabel": {
           "align": "left"
          },
          "hovermode": "closest",
          "mapbox": {
           "style": "light"
          },
          "paper_bgcolor": "white",
          "plot_bgcolor": "#E5ECF6",
          "polar": {
           "angularaxis": {
            "gridcolor": "white",
            "linecolor": "white",
            "ticks": ""
           },
           "bgcolor": "#E5ECF6",
           "radialaxis": {
            "gridcolor": "white",
            "linecolor": "white",
            "ticks": ""
           }
          },
          "scene": {
           "xaxis": {
            "backgroundcolor": "#E5ECF6",
            "gridcolor": "white",
            "gridwidth": 2,
            "linecolor": "white",
            "showbackground": true,
            "ticks": "",
            "zerolinecolor": "white"
           },
           "yaxis": {
            "backgroundcolor": "#E5ECF6",
            "gridcolor": "white",
            "gridwidth": 2,
            "linecolor": "white",
            "showbackground": true,
            "ticks": "",
            "zerolinecolor": "white"
           },
           "zaxis": {
            "backgroundcolor": "#E5ECF6",
            "gridcolor": "white",
            "gridwidth": 2,
            "linecolor": "white",
            "showbackground": true,
            "ticks": "",
            "zerolinecolor": "white"
           }
          },
          "shapedefaults": {
           "line": {
            "color": "#2a3f5f"
           }
          },
          "ternary": {
           "aaxis": {
            "gridcolor": "white",
            "linecolor": "white",
            "ticks": ""
           },
           "baxis": {
            "gridcolor": "white",
            "linecolor": "white",
            "ticks": ""
           },
           "bgcolor": "#E5ECF6",
           "caxis": {
            "gridcolor": "white",
            "linecolor": "white",
            "ticks": ""
           }
          },
          "title": {
           "x": 0.05
          },
          "xaxis": {
           "automargin": true,
           "gridcolor": "white",
           "linecolor": "white",
           "ticks": "",
           "title": {
            "standoff": 15
           },
           "zerolinecolor": "white",
           "zerolinewidth": 2
          },
          "yaxis": {
           "automargin": true,
           "gridcolor": "white",
           "linecolor": "white",
           "ticks": "",
           "title": {
            "standoff": 15
           },
           "zerolinecolor": "white",
           "zerolinewidth": 2
          }
         }
        },
        "width": 800,
        "xaxis": {
         "anchor": "y",
         "domain": [
          0,
          1
         ],
         "title": {
          "text": "Happiness Score"
         }
        },
        "yaxis": {
         "anchor": "x",
         "domain": [
          0,
          1
         ],
         "title": {
          "text": "Country"
         }
        }
       }
      },
      "text/html": [
       "<div>                            <div id=\"f14c9cb9-d198-4881-a548-e317f7fd3b95\" class=\"plotly-graph-div\" style=\"height:450px; width:800px;\"></div>            <script type=\"text/javascript\">                require([\"plotly\"], function(Plotly) {                    window.PLOTLYENV=window.PLOTLYENV || {};                                    if (document.getElementById(\"f14c9cb9-d198-4881-a548-e317f7fd3b95\")) {                    Plotly.newPlot(                        \"f14c9cb9-d198-4881-a548-e317f7fd3b95\",                        [{\"alignmentgroup\": \"True\", \"hovertemplate\": \"<b>%{hovertext}</b><br><br>Happiness Score=%{x}<br>Country=%{y}<extra></extra>\", \"hovertext\": [148.0, 147.0, 146.0, 145.0, 144.0, 143.0, 142.0, 141.0, 140.0, 139.0, 138.0, 137.0, 136.0, 135.0, 134.0, 133.0, 132.0, 131.0, 130.0, 129.0], \"legendgroup\": \"\", \"marker\": {\"color\": \"#636efa\"}, \"name\": \"\", \"offsetgroup\": \"\", \"orientation\": \"h\", \"showlegend\": false, \"textposition\": \"auto\", \"type\": \"bar\", \"x\": [3.145, 3.415, 3.467, 3.512, 3.6, 3.615, 3.623, 3.658, 3.775, 3.819, 3.8489999999999998, 4.073, 4.107, 4.208, 4.227, 4.275, 4.283, 4.289, 4.308, 4.325], \"xaxis\": \"x\", \"y\": [\"Zimbabwe\", \"Rwanda\", \"Botswana\", \"Lesotho\", \"Malawi\", \"Haiti\", \"Tanzania\", \"Yemen\", \"Burundi\", \"India\", \"Sierra Leone\", \"Zambia\", \"Togo\", \"Madagascar\", \"Mauritania\", \"Ethiopia\", \"Egypt\", \"Comoros\", \"Swaziland\", \"Sri Lanka\"], \"yaxis\": \"y\"}],                        {\"barmode\": \"relative\", \"height\": 450, \"legend\": {\"tracegroupgap\": 0}, \"margin\": {\"t\": 60}, \"template\": {\"data\": {\"bar\": [{\"error_x\": {\"color\": \"#2a3f5f\"}, \"error_y\": {\"color\": \"#2a3f5f\"}, \"marker\": {\"line\": {\"color\": \"#E5ECF6\", \"width\": 0.5}}, \"type\": \"bar\"}], \"barpolar\": [{\"marker\": {\"line\": {\"color\": \"#E5ECF6\", \"width\": 0.5}}, \"type\": \"barpolar\"}], \"carpet\": [{\"aaxis\": {\"endlinecolor\": \"#2a3f5f\", \"gridcolor\": \"white\", \"linecolor\": \"white\", \"minorgridcolor\": \"white\", \"startlinecolor\": \"#2a3f5f\"}, \"baxis\": {\"endlinecolor\": \"#2a3f5f\", \"gridcolor\": \"white\", \"linecolor\": \"white\", \"minorgridcolor\": \"white\", \"startlinecolor\": \"#2a3f5f\"}, \"type\": \"carpet\"}], \"choropleth\": [{\"colorbar\": {\"outlinewidth\": 0, \"ticks\": \"\"}, \"type\": \"choropleth\"}], \"contour\": [{\"colorbar\": {\"outlinewidth\": 0, \"ticks\": \"\"}, \"colorscale\": [[0.0, \"#0d0887\"], [0.1111111111111111, \"#46039f\"], [0.2222222222222222, \"#7201a8\"], [0.3333333333333333, \"#9c179e\"], [0.4444444444444444, \"#bd3786\"], [0.5555555555555556, \"#d8576b\"], [0.6666666666666666, \"#ed7953\"], [0.7777777777777778, \"#fb9f3a\"], [0.8888888888888888, \"#fdca26\"], [1.0, \"#f0f921\"]], \"type\": \"contour\"}], \"contourcarpet\": [{\"colorbar\": {\"outlinewidth\": 0, \"ticks\": \"\"}, \"type\": \"contourcarpet\"}], \"heatmap\": [{\"colorbar\": {\"outlinewidth\": 0, \"ticks\": \"\"}, \"colorscale\": [[0.0, \"#0d0887\"], [0.1111111111111111, \"#46039f\"], [0.2222222222222222, \"#7201a8\"], [0.3333333333333333, \"#9c179e\"], [0.4444444444444444, \"#bd3786\"], [0.5555555555555556, \"#d8576b\"], [0.6666666666666666, \"#ed7953\"], [0.7777777777777778, \"#fb9f3a\"], [0.8888888888888888, \"#fdca26\"], [1.0, \"#f0f921\"]], \"type\": \"heatmap\"}], \"heatmapgl\": [{\"colorbar\": {\"outlinewidth\": 0, \"ticks\": \"\"}, \"colorscale\": [[0.0, \"#0d0887\"], [0.1111111111111111, \"#46039f\"], [0.2222222222222222, \"#7201a8\"], [0.3333333333333333, \"#9c179e\"], [0.4444444444444444, \"#bd3786\"], [0.5555555555555556, \"#d8576b\"], [0.6666666666666666, \"#ed7953\"], [0.7777777777777778, \"#fb9f3a\"], [0.8888888888888888, \"#fdca26\"], [1.0, \"#f0f921\"]], \"type\": \"heatmapgl\"}], \"histogram\": [{\"marker\": {\"colorbar\": {\"outlinewidth\": 0, \"ticks\": \"\"}}, \"type\": \"histogram\"}], \"histogram2d\": [{\"colorbar\": {\"outlinewidth\": 0, \"ticks\": \"\"}, \"colorscale\": [[0.0, \"#0d0887\"], [0.1111111111111111, \"#46039f\"], [0.2222222222222222, \"#7201a8\"], [0.3333333333333333, \"#9c179e\"], [0.4444444444444444, \"#bd3786\"], [0.5555555555555556, \"#d8576b\"], [0.6666666666666666, \"#ed7953\"], [0.7777777777777778, \"#fb9f3a\"], [0.8888888888888888, \"#fdca26\"], [1.0, \"#f0f921\"]], \"type\": \"histogram2d\"}], \"histogram2dcontour\": [{\"colorbar\": {\"outlinewidth\": 0, \"ticks\": \"\"}, \"colorscale\": [[0.0, \"#0d0887\"], [0.1111111111111111, \"#46039f\"], [0.2222222222222222, \"#7201a8\"], [0.3333333333333333, \"#9c179e\"], [0.4444444444444444, \"#bd3786\"], [0.5555555555555556, \"#d8576b\"], [0.6666666666666666, \"#ed7953\"], [0.7777777777777778, \"#fb9f3a\"], [0.8888888888888888, \"#fdca26\"], [1.0, \"#f0f921\"]], \"type\": \"histogram2dcontour\"}], \"mesh3d\": [{\"colorbar\": {\"outlinewidth\": 0, \"ticks\": \"\"}, \"type\": \"mesh3d\"}], \"parcoords\": [{\"line\": {\"colorbar\": {\"outlinewidth\": 0, \"ticks\": \"\"}}, \"type\": \"parcoords\"}], \"pie\": [{\"automargin\": true, \"type\": \"pie\"}], \"scatter\": [{\"marker\": {\"colorbar\": {\"outlinewidth\": 0, \"ticks\": \"\"}}, \"type\": \"scatter\"}], \"scatter3d\": [{\"line\": {\"colorbar\": {\"outlinewidth\": 0, \"ticks\": \"\"}}, \"marker\": {\"colorbar\": {\"outlinewidth\": 0, \"ticks\": \"\"}}, \"type\": \"scatter3d\"}], \"scattercarpet\": [{\"marker\": {\"colorbar\": {\"outlinewidth\": 0, \"ticks\": \"\"}}, \"type\": \"scattercarpet\"}], \"scattergeo\": [{\"marker\": {\"colorbar\": {\"outlinewidth\": 0, \"ticks\": \"\"}}, \"type\": \"scattergeo\"}], \"scattergl\": [{\"marker\": {\"colorbar\": {\"outlinewidth\": 0, \"ticks\": \"\"}}, \"type\": \"scattergl\"}], \"scattermapbox\": [{\"marker\": {\"colorbar\": {\"outlinewidth\": 0, \"ticks\": \"\"}}, \"type\": \"scattermapbox\"}], \"scatterpolar\": [{\"marker\": {\"colorbar\": {\"outlinewidth\": 0, \"ticks\": \"\"}}, \"type\": \"scatterpolar\"}], \"scatterpolargl\": [{\"marker\": {\"colorbar\": {\"outlinewidth\": 0, \"ticks\": \"\"}}, \"type\": \"scatterpolargl\"}], \"scatterternary\": [{\"marker\": {\"colorbar\": {\"outlinewidth\": 0, \"ticks\": \"\"}}, \"type\": \"scatterternary\"}], \"surface\": [{\"colorbar\": {\"outlinewidth\": 0, \"ticks\": \"\"}, \"colorscale\": [[0.0, \"#0d0887\"], [0.1111111111111111, \"#46039f\"], [0.2222222222222222, \"#7201a8\"], [0.3333333333333333, \"#9c179e\"], [0.4444444444444444, \"#bd3786\"], [0.5555555555555556, \"#d8576b\"], [0.6666666666666666, \"#ed7953\"], [0.7777777777777778, \"#fb9f3a\"], [0.8888888888888888, \"#fdca26\"], [1.0, \"#f0f921\"]], \"type\": \"surface\"}], \"table\": [{\"cells\": {\"fill\": {\"color\": \"#EBF0F8\"}, \"line\": {\"color\": \"white\"}}, \"header\": {\"fill\": {\"color\": \"#C8D4E3\"}, \"line\": {\"color\": \"white\"}}, \"type\": \"table\"}]}, \"layout\": {\"annotationdefaults\": {\"arrowcolor\": \"#2a3f5f\", \"arrowhead\": 0, \"arrowwidth\": 1}, \"autotypenumbers\": \"strict\", \"coloraxis\": {\"colorbar\": {\"outlinewidth\": 0, \"ticks\": \"\"}}, \"colorscale\": {\"diverging\": [[0, \"#8e0152\"], [0.1, \"#c51b7d\"], [0.2, \"#de77ae\"], [0.3, \"#f1b6da\"], [0.4, \"#fde0ef\"], [0.5, \"#f7f7f7\"], [0.6, \"#e6f5d0\"], [0.7, \"#b8e186\"], [0.8, \"#7fbc41\"], [0.9, \"#4d9221\"], [1, \"#276419\"]], \"sequential\": [[0.0, \"#0d0887\"], [0.1111111111111111, \"#46039f\"], [0.2222222222222222, \"#7201a8\"], [0.3333333333333333, \"#9c179e\"], [0.4444444444444444, \"#bd3786\"], [0.5555555555555556, \"#d8576b\"], [0.6666666666666666, \"#ed7953\"], [0.7777777777777778, \"#fb9f3a\"], [0.8888888888888888, \"#fdca26\"], [1.0, \"#f0f921\"]], \"sequentialminus\": [[0.0, \"#0d0887\"], [0.1111111111111111, \"#46039f\"], [0.2222222222222222, \"#7201a8\"], [0.3333333333333333, \"#9c179e\"], [0.4444444444444444, \"#bd3786\"], [0.5555555555555556, \"#d8576b\"], [0.6666666666666666, \"#ed7953\"], [0.7777777777777778, \"#fb9f3a\"], [0.8888888888888888, \"#fdca26\"], [1.0, \"#f0f921\"]]}, \"colorway\": [\"#636efa\", \"#EF553B\", \"#00cc96\", \"#ab63fa\", \"#FFA15A\", \"#19d3f3\", \"#FF6692\", \"#B6E880\", \"#FF97FF\", \"#FECB52\"], \"font\": {\"color\": \"#2a3f5f\"}, \"geo\": {\"bgcolor\": \"white\", \"lakecolor\": \"white\", \"landcolor\": \"#E5ECF6\", \"showlakes\": true, \"showland\": true, \"subunitcolor\": \"white\"}, \"hoverlabel\": {\"align\": \"left\"}, \"hovermode\": \"closest\", \"mapbox\": {\"style\": \"light\"}, \"paper_bgcolor\": \"white\", \"plot_bgcolor\": \"#E5ECF6\", \"polar\": {\"angularaxis\": {\"gridcolor\": \"white\", \"linecolor\": \"white\", \"ticks\": \"\"}, \"bgcolor\": \"#E5ECF6\", \"radialaxis\": {\"gridcolor\": \"white\", \"linecolor\": \"white\", \"ticks\": \"\"}}, \"scene\": {\"xaxis\": {\"backgroundcolor\": \"#E5ECF6\", \"gridcolor\": \"white\", \"gridwidth\": 2, \"linecolor\": \"white\", \"showbackground\": true, \"ticks\": \"\", \"zerolinecolor\": \"white\"}, \"yaxis\": {\"backgroundcolor\": \"#E5ECF6\", \"gridcolor\": \"white\", \"gridwidth\": 2, \"linecolor\": \"white\", \"showbackground\": true, \"ticks\": \"\", \"zerolinecolor\": \"white\"}, \"zaxis\": {\"backgroundcolor\": \"#E5ECF6\", \"gridcolor\": \"white\", \"gridwidth\": 2, \"linecolor\": \"white\", \"showbackground\": true, \"ticks\": \"\", \"zerolinecolor\": \"white\"}}, \"shapedefaults\": {\"line\": {\"color\": \"#2a3f5f\"}}, \"ternary\": {\"aaxis\": {\"gridcolor\": \"white\", \"linecolor\": \"white\", \"ticks\": \"\"}, \"baxis\": {\"gridcolor\": \"white\", \"linecolor\": \"white\", \"ticks\": \"\"}, \"bgcolor\": \"#E5ECF6\", \"caxis\": {\"gridcolor\": \"white\", \"linecolor\": \"white\", \"ticks\": \"\"}}, \"title\": {\"x\": 0.05}, \"xaxis\": {\"automargin\": true, \"gridcolor\": \"white\", \"linecolor\": \"white\", \"ticks\": \"\", \"title\": {\"standoff\": 15}, \"zerolinecolor\": \"white\", \"zerolinewidth\": 2}, \"yaxis\": {\"automargin\": true, \"gridcolor\": \"white\", \"linecolor\": \"white\", \"ticks\": \"\", \"title\": {\"standoff\": 15}, \"zerolinecolor\": \"white\", \"zerolinewidth\": 2}}}, \"width\": 800, \"xaxis\": {\"anchor\": \"y\", \"domain\": [0.0, 1.0], \"title\": {\"text\": \"Happiness Score\"}}, \"yaxis\": {\"anchor\": \"x\", \"domain\": [0.0, 1.0], \"title\": {\"text\": \"Country\"}}},                        {\"responsive\": true}                    ).then(function(){\n",
       "                            \n",
       "var gd = document.getElementById('f14c9cb9-d198-4881-a548-e317f7fd3b95');\n",
       "var x = new MutationObserver(function (mutations, observer) {{\n",
       "        var display = window.getComputedStyle(gd).display;\n",
       "        if (!display || display === 'none') {{\n",
       "            console.log([gd, 'removed!']);\n",
       "            Plotly.purge(gd);\n",
       "            observer.disconnect();\n",
       "        }}\n",
       "}});\n",
       "\n",
       "// Listen for the removal of the full notebook cells\n",
       "var notebookContainer = gd.closest('#notebook-container');\n",
       "if (notebookContainer) {{\n",
       "    x.observe(notebookContainer, {childList: true});\n",
       "}}\n",
       "\n",
       "// Listen for the clearing of the current output cell\n",
       "var outputEl = gd.closest('.output');\n",
       "if (outputEl) {{\n",
       "    x.observe(outputEl, {childList: true});\n",
       "}}\n",
       "\n",
       "                        })                };                });            </script>        </div>"
      ]
     },
     "metadata": {},
     "output_type": "display_data"
    }
   ],
   "source": [
    "fig = px.bar(df_bottom20, x='Happiness Score', y='Country',  hover_name='Happiness Rank', \n",
    "            labels={\n",
    "                     \"Country\": \"Country\",\n",
    "                     \"Happiness Score\": \"Happiness Score\" }, orientation='h', width=800, height=450)\n",
    "fig.show()"
   ]
  },
  {
   "cell_type": "markdown",
   "metadata": {},
   "source": [
    "# Among 149 counties surveyed, Zimbabwe, Rwanda, Botswana & Lesotho are most sad countries. India is ranked 139 in the happiness ladder"
   ]
  },
  {
   "cell_type": "code",
   "execution_count": 112,
   "metadata": {},
   "outputs": [],
   "source": [
    "## Lets use the fitter library to check if our Happiness Score fit on a normal curve?"
   ]
  },
  {
   "cell_type": "code",
   "execution_count": 113,
   "metadata": {},
   "outputs": [],
   "source": [
    "from fitter import Fitter"
   ]
  },
  {
   "cell_type": "code",
   "execution_count": 114,
   "metadata": {},
   "outputs": [
    {
     "data": {
      "text/html": [
       "\n",
       "            <div style=\"float: left; border: 1px solid black; width:500px\">\n",
       "              <div id=\"af6bb261-a230-4cfb-be44-10fb1920fa9f\" style=\"background-color:blue; width:0%\">&nbsp;</div>\n",
       "            </div>\n",
       "            <label id=\"5c6cbbde-3e2c-4553-895b-62937f3d9a93\" style=\"padding-left: 10px;\" text = \"\"/>\n",
       "            "
      ],
      "text/plain": [
       "<IPython.core.display.HTML object>"
      ]
     },
     "metadata": {},
     "output_type": "display_data"
    },
    {
     "name": "stderr",
     "output_type": "stream",
     "text": [
      "WARNING:root:SKIPPED kstwo distribution (taking more than 30 seconds)\n",
      "C:\\Users\\RKG\\anaconda4\\lib\\site-packages\\scipy\\stats\\_distn_infrastructure.py:1715: IntegrationWarning:\n",
      "\n",
      "The integral is probably divergent, or slowly convergent.\n",
      "\n",
      "WARNING:root:SKIPPED rv_continuous distribution (taking more than 30 seconds)\n",
      "WARNING:root:SKIPPED rv_histogram distribution (taking more than 30 seconds)\n",
      "WARNING:root:SKIPPED levy_stable distribution (taking more than 30 seconds)\n"
     ]
    },
    {
     "data": {
      "text/html": [
       "<div>\n",
       "<style scoped>\n",
       "    .dataframe tbody tr th:only-of-type {\n",
       "        vertical-align: middle;\n",
       "    }\n",
       "\n",
       "    .dataframe tbody tr th {\n",
       "        vertical-align: top;\n",
       "    }\n",
       "\n",
       "    .dataframe thead th {\n",
       "        text-align: right;\n",
       "    }\n",
       "</style>\n",
       "<table border=\"1\" class=\"dataframe\">\n",
       "  <thead>\n",
       "    <tr style=\"text-align: right;\">\n",
       "      <th></th>\n",
       "      <th>sumsquare_error</th>\n",
       "      <th>aic</th>\n",
       "      <th>bic</th>\n",
       "      <th>kl_div</th>\n",
       "    </tr>\n",
       "  </thead>\n",
       "  <tbody>\n",
       "    <tr>\n",
       "      <th>dweibull</th>\n",
       "      <td>2.146514</td>\n",
       "      <td>429.116480</td>\n",
       "      <td>-616.763233</td>\n",
       "      <td>inf</td>\n",
       "    </tr>\n",
       "    <tr>\n",
       "      <th>dgamma</th>\n",
       "      <td>2.151560</td>\n",
       "      <td>430.313784</td>\n",
       "      <td>-616.413387</td>\n",
       "      <td>inf</td>\n",
       "    </tr>\n",
       "    <tr>\n",
       "      <th>gennorm</th>\n",
       "      <td>2.287555</td>\n",
       "      <td>420.779878</td>\n",
       "      <td>-607.281118</td>\n",
       "      <td>inf</td>\n",
       "    </tr>\n",
       "    <tr>\n",
       "      <th>tukeylambda</th>\n",
       "      <td>2.290701</td>\n",
       "      <td>417.202135</td>\n",
       "      <td>-607.076324</td>\n",
       "      <td>inf</td>\n",
       "    </tr>\n",
       "    <tr>\n",
       "      <th>rice</th>\n",
       "      <td>2.294634</td>\n",
       "      <td>420.099963</td>\n",
       "      <td>-606.820725</td>\n",
       "      <td>inf</td>\n",
       "    </tr>\n",
       "  </tbody>\n",
       "</table>\n",
       "</div>"
      ],
      "text/plain": [
       "             sumsquare_error         aic         bic  kl_div\n",
       "dweibull            2.146514  429.116480 -616.763233     inf\n",
       "dgamma              2.151560  430.313784 -616.413387     inf\n",
       "gennorm             2.287555  420.779878 -607.281118     inf\n",
       "tukeylambda         2.290701  417.202135 -607.076324     inf\n",
       "rice                2.294634  420.099963 -606.820725     inf"
      ]
     },
     "execution_count": 114,
     "metadata": {},
     "output_type": "execute_result"
    },
    {
     "data": {
      "image/png": "[encoded data removed]",
      "text/plain": [
       "<Figure size 432x288 with 1 Axes>"
      ]
     },
     "metadata": {
      "needs_background": "light"
     },
     "output_type": "display_data"
    }
   ],
   "source": [
    "f = Fitter(df['Happiness Score'])\n",
    "f.fit()\n",
    "f.summary()"
   ]
  },
  {
   "cell_type": "code",
   "execution_count": 115,
   "metadata": {},
   "outputs": [
    {
     "data": {
      "text/html": [
       "\n",
       "            <div style=\"float: left; border: 1px solid black; width:500px\">\n",
       "              <div id=\"6d5bba4e-54b0-4f5e-9854-7a7fdcfb294a\" style=\"background-color:blue; width:0%\">&nbsp;</div>\n",
       "            </div>\n",
       "            <label id=\"5436728f-7d0e-4e37-a0e5-e68b4c098740\" style=\"padding-left: 10px;\" text = \"\"/>\n",
       "            "
      ],
      "text/plain": [
       "<IPython.core.display.HTML object>"
      ]
     },
     "metadata": {},
     "output_type": "display_data"
    },
    {
     "name": "stderr",
     "output_type": "stream",
     "text": [
      "WARNING:root:SKIPPED kstwo distribution (taking more than 30 seconds)\n",
      "WARNING:root:SKIPPED exponpow distribution (taking more than 30 seconds)\n",
      "C:\\Users\\RKG\\anaconda4\\lib\\site-packages\\scipy\\stats\\_distn_infrastructure.py:1715: IntegrationWarning:\n",
      "\n",
      "The integral is probably divergent, or slowly convergent.\n",
      "\n",
      "C:\\Users\\RKG\\anaconda4\\lib\\site-packages\\scipy\\stats\\_distn_infrastructure.py:1715: IntegrationWarning:\n",
      "\n",
      "The algorithm does not converge.  Roundoff error is detected\n",
      "  in the extrapolation table.  It is assumed that the requested tolerance\n",
      "  cannot be achieved, and that the returned result (if full_output = 1) is \n",
      "  the best which can be obtained.\n",
      "\n",
      "WARNING:root:SKIPPED rv_continuous distribution (taking more than 30 seconds)\n",
      "WARNING:root:SKIPPED rv_histogram distribution (taking more than 30 seconds)\n",
      "WARNING:root:SKIPPED johnsonsb distribution (taking more than 30 seconds)\n",
      "WARNING:root:SKIPPED johnsonsu distribution (taking more than 30 seconds)\n",
      "WARNING:root:SKIPPED kstwobign distribution (taking more than 30 seconds)\n",
      "WARNING:root:SKIPPED levy_stable distribution (taking more than 30 seconds)\n",
      "WARNING:root:SKIPPED powerlognorm distribution (taking more than 30 seconds)\n",
      "WARNING:root:SKIPPED powernorm distribution (taking more than 30 seconds)\n",
      "WARNING:root:SKIPPED recipinvgauss distribution (taking more than 30 seconds)\n"
     ]
    },
    {
     "data": {
      "text/html": [
       "<div>\n",
       "<style scoped>\n",
       "    .dataframe tbody tr th:only-of-type {\n",
       "        vertical-align: middle;\n",
       "    }\n",
       "\n",
       "    .dataframe tbody tr th {\n",
       "        vertical-align: top;\n",
       "    }\n",
       "\n",
       "    .dataframe thead th {\n",
       "        text-align: right;\n",
       "    }\n",
       "</style>\n",
       "<table border=\"1\" class=\"dataframe\">\n",
       "  <thead>\n",
       "    <tr style=\"text-align: right;\">\n",
       "      <th></th>\n",
       "      <th>sumsquare_error</th>\n",
       "      <th>aic</th>\n",
       "      <th>bic</th>\n",
       "      <th>kl_div</th>\n",
       "    </tr>\n",
       "  </thead>\n",
       "  <tbody>\n",
       "    <tr>\n",
       "      <th>skewnorm</th>\n",
       "      <td>2601.186233</td>\n",
       "      <td>-66.536258</td>\n",
       "      <td>441.118546</td>\n",
       "      <td>inf</td>\n",
       "    </tr>\n",
       "    <tr>\n",
       "      <th>fatiguelife</th>\n",
       "      <td>2620.695712</td>\n",
       "      <td>-125.120535</td>\n",
       "      <td>442.231909</td>\n",
       "      <td>inf</td>\n",
       "    </tr>\n",
       "    <tr>\n",
       "      <th>geninvgauss</th>\n",
       "      <td>2624.032825</td>\n",
       "      <td>-122.478321</td>\n",
       "      <td>447.425467</td>\n",
       "      <td>inf</td>\n",
       "    </tr>\n",
       "    <tr>\n",
       "      <th>gengamma</th>\n",
       "      <td>2626.273476</td>\n",
       "      <td>-119.766890</td>\n",
       "      <td>447.552643</td>\n",
       "      <td>inf</td>\n",
       "    </tr>\n",
       "    <tr>\n",
       "      <th>norminvgauss</th>\n",
       "      <td>2640.852904</td>\n",
       "      <td>-132.908447</td>\n",
       "      <td>448.377510</td>\n",
       "      <td>inf</td>\n",
       "    </tr>\n",
       "  </tbody>\n",
       "</table>\n",
       "</div>"
      ],
      "text/plain": [
       "              sumsquare_error         aic         bic  kl_div\n",
       "skewnorm          2601.186233  -66.536258  441.118546     inf\n",
       "fatiguelife       2620.695712 -125.120535  442.231909     inf\n",
       "geninvgauss       2624.032825 -122.478321  447.425467     inf\n",
       "gengamma          2626.273476 -119.766890  447.552643     inf\n",
       "norminvgauss      2640.852904 -132.908447  448.377510     inf"
      ]
     },
     "execution_count": 115,
     "metadata": {},
     "output_type": "execute_result"
    },
    {
     "data": {
      "image/png": "[encoded data removed]",
      "text/plain": [
       "<Figure size 432x288 with 1 Axes>"
      ]
     },
     "metadata": {
      "needs_background": "light"
     },
     "output_type": "display_data"
    }
   ],
   "source": [
    "f = Fitter(df['Standard Error'])\n",
    "f.fit()\n",
    "f.summary()"
   ]
  },
  {
   "cell_type": "markdown",
   "metadata": {},
   "source": [
    "# Standard error of happiness score is uniformly (not exactly gaussian) distributed (as shown by the fitted curve)"
   ]
  },
  {
   "cell_type": "code",
   "execution_count": null,
   "metadata": {},
   "outputs": [],
   "source": [
    "# Lets see the status of the bottom 20 countries back in 2015"
   ]
  },
  {
   "cell_type": "code",
   "execution_count": 116,
   "metadata": {},
   "outputs": [
    {
     "data": {
      "text/html": [
       "<div>\n",
       "<style scoped>\n",
       "    .dataframe tbody tr th:only-of-type {\n",
       "        vertical-align: middle;\n",
       "    }\n",
       "\n",
       "    .dataframe tbody tr th {\n",
       "        vertical-align: top;\n",
       "    }\n",
       "\n",
       "    .dataframe thead th {\n",
       "        text-align: right;\n",
       "    }\n",
       "</style>\n",
       "<table border=\"1\" class=\"dataframe\">\n",
       "  <thead>\n",
       "    <tr style=\"text-align: right;\">\n",
       "      <th></th>\n",
       "      <th>Country</th>\n",
       "      <th>Region</th>\n",
       "      <th>Happiness Rank</th>\n",
       "      <th>Happiness Score</th>\n",
       "      <th>Standard Error</th>\n",
       "      <th>Ladder score in Dystopia</th>\n",
       "      <th>Economy (GDP per Capita)</th>\n",
       "      <th>Social support</th>\n",
       "      <th>Health (Life Expectancy)</th>\n",
       "      <th>Freedom to make life choices</th>\n",
       "      <th>Generosity</th>\n",
       "      <th>Perceptions of corruption</th>\n",
       "      <th>Dystopia + residual</th>\n",
       "    </tr>\n",
       "  </thead>\n",
       "  <tbody>\n",
       "    <tr>\n",
       "      <th>147</th>\n",
       "      <td>Zimbabwe</td>\n",
       "      <td>Sub-Saharan Africa</td>\n",
       "      <td>148</td>\n",
       "      <td>3.145</td>\n",
       "      <td>0.058</td>\n",
       "      <td>2.43</td>\n",
       "      <td>0.457</td>\n",
       "      <td>0.649</td>\n",
       "      <td>0.243</td>\n",
       "      <td>0.359</td>\n",
       "      <td>0.157</td>\n",
       "      <td>0.075</td>\n",
       "      <td>1.205</td>\n",
       "    </tr>\n",
       "    <tr>\n",
       "      <th>146</th>\n",
       "      <td>Rwanda</td>\n",
       "      <td>Sub-Saharan Africa</td>\n",
       "      <td>147</td>\n",
       "      <td>3.415</td>\n",
       "      <td>0.068</td>\n",
       "      <td>2.43</td>\n",
       "      <td>0.364</td>\n",
       "      <td>0.202</td>\n",
       "      <td>0.407</td>\n",
       "      <td>0.627</td>\n",
       "      <td>0.227</td>\n",
       "      <td>0.493</td>\n",
       "      <td>1.095</td>\n",
       "    </tr>\n",
       "    <tr>\n",
       "      <th>145</th>\n",
       "      <td>Botswana</td>\n",
       "      <td>Sub-Saharan Africa</td>\n",
       "      <td>146</td>\n",
       "      <td>3.467</td>\n",
       "      <td>0.074</td>\n",
       "      <td>2.43</td>\n",
       "      <td>1.099</td>\n",
       "      <td>0.724</td>\n",
       "      <td>0.340</td>\n",
       "      <td>0.539</td>\n",
       "      <td>0.027</td>\n",
       "      <td>0.088</td>\n",
       "      <td>0.648</td>\n",
       "    </tr>\n",
       "    <tr>\n",
       "      <th>144</th>\n",
       "      <td>Lesotho</td>\n",
       "      <td>Sub-Saharan Africa</td>\n",
       "      <td>145</td>\n",
       "      <td>3.512</td>\n",
       "      <td>0.120</td>\n",
       "      <td>2.43</td>\n",
       "      <td>0.451</td>\n",
       "      <td>0.731</td>\n",
       "      <td>0.007</td>\n",
       "      <td>0.405</td>\n",
       "      <td>0.103</td>\n",
       "      <td>0.015</td>\n",
       "      <td>1.800</td>\n",
       "    </tr>\n",
       "    <tr>\n",
       "      <th>143</th>\n",
       "      <td>Malawi</td>\n",
       "      <td>Sub-Saharan Africa</td>\n",
       "      <td>144</td>\n",
       "      <td>3.600</td>\n",
       "      <td>0.092</td>\n",
       "      <td>2.43</td>\n",
       "      <td>0.113</td>\n",
       "      <td>0.168</td>\n",
       "      <td>0.298</td>\n",
       "      <td>0.484</td>\n",
       "      <td>0.213</td>\n",
       "      <td>0.134</td>\n",
       "      <td>2.190</td>\n",
       "    </tr>\n",
       "    <tr>\n",
       "      <th>142</th>\n",
       "      <td>Haiti</td>\n",
       "      <td>Latin America and Caribbean</td>\n",
       "      <td>143</td>\n",
       "      <td>3.615</td>\n",
       "      <td>0.173</td>\n",
       "      <td>2.43</td>\n",
       "      <td>0.294</td>\n",
       "      <td>0.173</td>\n",
       "      <td>0.227</td>\n",
       "      <td>0.257</td>\n",
       "      <td>0.463</td>\n",
       "      <td>0.139</td>\n",
       "      <td>2.060</td>\n",
       "    </tr>\n",
       "    <tr>\n",
       "      <th>141</th>\n",
       "      <td>Tanzania</td>\n",
       "      <td>Sub-Saharan Africa</td>\n",
       "      <td>142</td>\n",
       "      <td>3.623</td>\n",
       "      <td>0.071</td>\n",
       "      <td>2.43</td>\n",
       "      <td>0.433</td>\n",
       "      <td>0.540</td>\n",
       "      <td>0.300</td>\n",
       "      <td>0.549</td>\n",
       "      <td>0.307</td>\n",
       "      <td>0.231</td>\n",
       "      <td>1.263</td>\n",
       "    </tr>\n",
       "    <tr>\n",
       "      <th>140</th>\n",
       "      <td>Yemen</td>\n",
       "      <td>Middle East and North Africa</td>\n",
       "      <td>141</td>\n",
       "      <td>3.658</td>\n",
       "      <td>0.070</td>\n",
       "      <td>2.43</td>\n",
       "      <td>0.329</td>\n",
       "      <td>0.831</td>\n",
       "      <td>0.272</td>\n",
       "      <td>0.268</td>\n",
       "      <td>0.092</td>\n",
       "      <td>0.089</td>\n",
       "      <td>1.776</td>\n",
       "    </tr>\n",
       "    <tr>\n",
       "      <th>139</th>\n",
       "      <td>Burundi</td>\n",
       "      <td>Sub-Saharan Africa</td>\n",
       "      <td>140</td>\n",
       "      <td>3.775</td>\n",
       "      <td>0.107</td>\n",
       "      <td>2.43</td>\n",
       "      <td>0.000</td>\n",
       "      <td>0.062</td>\n",
       "      <td>0.155</td>\n",
       "      <td>0.298</td>\n",
       "      <td>0.172</td>\n",
       "      <td>0.212</td>\n",
       "      <td>2.876</td>\n",
       "    </tr>\n",
       "    <tr>\n",
       "      <th>138</th>\n",
       "      <td>India</td>\n",
       "      <td>South Asia</td>\n",
       "      <td>139</td>\n",
       "      <td>3.819</td>\n",
       "      <td>0.026</td>\n",
       "      <td>2.43</td>\n",
       "      <td>0.741</td>\n",
       "      <td>0.316</td>\n",
       "      <td>0.383</td>\n",
       "      <td>0.622</td>\n",
       "      <td>0.246</td>\n",
       "      <td>0.106</td>\n",
       "      <td>1.405</td>\n",
       "    </tr>\n",
       "    <tr>\n",
       "      <th>137</th>\n",
       "      <td>Sierra Leone</td>\n",
       "      <td>Sub-Saharan Africa</td>\n",
       "      <td>138</td>\n",
       "      <td>3.849</td>\n",
       "      <td>0.077</td>\n",
       "      <td>2.43</td>\n",
       "      <td>0.279</td>\n",
       "      <td>0.377</td>\n",
       "      <td>0.100</td>\n",
       "      <td>0.408</td>\n",
       "      <td>0.243</td>\n",
       "      <td>0.047</td>\n",
       "      <td>2.396</td>\n",
       "    </tr>\n",
       "    <tr>\n",
       "      <th>136</th>\n",
       "      <td>Zambia</td>\n",
       "      <td>Sub-Saharan Africa</td>\n",
       "      <td>137</td>\n",
       "      <td>4.073</td>\n",
       "      <td>0.069</td>\n",
       "      <td>2.43</td>\n",
       "      <td>0.528</td>\n",
       "      <td>0.552</td>\n",
       "      <td>0.231</td>\n",
       "      <td>0.487</td>\n",
       "      <td>0.227</td>\n",
       "      <td>0.074</td>\n",
       "      <td>1.975</td>\n",
       "    </tr>\n",
       "    <tr>\n",
       "      <th>135</th>\n",
       "      <td>Togo</td>\n",
       "      <td>Sub-Saharan Africa</td>\n",
       "      <td>136</td>\n",
       "      <td>4.107</td>\n",
       "      <td>0.077</td>\n",
       "      <td>2.43</td>\n",
       "      <td>0.254</td>\n",
       "      <td>0.239</td>\n",
       "      <td>0.203</td>\n",
       "      <td>0.289</td>\n",
       "      <td>0.209</td>\n",
       "      <td>0.107</td>\n",
       "      <td>2.806</td>\n",
       "    </tr>\n",
       "    <tr>\n",
       "      <th>134</th>\n",
       "      <td>Madagascar</td>\n",
       "      <td>Sub-Saharan Africa</td>\n",
       "      <td>135</td>\n",
       "      <td>4.208</td>\n",
       "      <td>0.072</td>\n",
       "      <td>2.43</td>\n",
       "      <td>0.266</td>\n",
       "      <td>0.503</td>\n",
       "      <td>0.341</td>\n",
       "      <td>0.207</td>\n",
       "      <td>0.185</td>\n",
       "      <td>0.087</td>\n",
       "      <td>2.620</td>\n",
       "    </tr>\n",
       "    <tr>\n",
       "      <th>133</th>\n",
       "      <td>Mauritania</td>\n",
       "      <td>Sub-Saharan Africa</td>\n",
       "      <td>134</td>\n",
       "      <td>4.227</td>\n",
       "      <td>0.070</td>\n",
       "      <td>2.43</td>\n",
       "      <td>0.666</td>\n",
       "      <td>0.749</td>\n",
       "      <td>0.273</td>\n",
       "      <td>0.218</td>\n",
       "      <td>0.119</td>\n",
       "      <td>0.133</td>\n",
       "      <td>2.069</td>\n",
       "    </tr>\n",
       "    <tr>\n",
       "      <th>132</th>\n",
       "      <td>Ethiopia</td>\n",
       "      <td>Sub-Saharan Africa</td>\n",
       "      <td>133</td>\n",
       "      <td>4.275</td>\n",
       "      <td>0.051</td>\n",
       "      <td>2.43</td>\n",
       "      <td>0.370</td>\n",
       "      <td>0.679</td>\n",
       "      <td>0.331</td>\n",
       "      <td>0.451</td>\n",
       "      <td>0.241</td>\n",
       "      <td>0.114</td>\n",
       "      <td>2.089</td>\n",
       "    </tr>\n",
       "    <tr>\n",
       "      <th>131</th>\n",
       "      <td>Egypt</td>\n",
       "      <td>Middle East and North Africa</td>\n",
       "      <td>132</td>\n",
       "      <td>4.283</td>\n",
       "      <td>0.045</td>\n",
       "      <td>2.43</td>\n",
       "      <td>0.954</td>\n",
       "      <td>0.647</td>\n",
       "      <td>0.426</td>\n",
       "      <td>0.446</td>\n",
       "      <td>0.069</td>\n",
       "      <td>0.092</td>\n",
       "      <td>1.648</td>\n",
       "    </tr>\n",
       "    <tr>\n",
       "      <th>130</th>\n",
       "      <td>Comoros</td>\n",
       "      <td>Sub-Saharan Africa</td>\n",
       "      <td>131</td>\n",
       "      <td>4.289</td>\n",
       "      <td>0.084</td>\n",
       "      <td>2.43</td>\n",
       "      <td>0.488</td>\n",
       "      <td>0.367</td>\n",
       "      <td>0.279</td>\n",
       "      <td>0.202</td>\n",
       "      <td>0.241</td>\n",
       "      <td>0.101</td>\n",
       "      <td>2.610</td>\n",
       "    </tr>\n",
       "    <tr>\n",
       "      <th>129</th>\n",
       "      <td>Swaziland</td>\n",
       "      <td>Sub-Saharan Africa</td>\n",
       "      <td>130</td>\n",
       "      <td>4.308</td>\n",
       "      <td>0.071</td>\n",
       "      <td>2.43</td>\n",
       "      <td>0.849</td>\n",
       "      <td>0.693</td>\n",
       "      <td>0.074</td>\n",
       "      <td>0.323</td>\n",
       "      <td>0.067</td>\n",
       "      <td>0.147</td>\n",
       "      <td>2.155</td>\n",
       "    </tr>\n",
       "    <tr>\n",
       "      <th>128</th>\n",
       "      <td>Sri Lanka</td>\n",
       "      <td>South Asia</td>\n",
       "      <td>129</td>\n",
       "      <td>4.325</td>\n",
       "      <td>0.066</td>\n",
       "      <td>2.43</td>\n",
       "      <td>0.990</td>\n",
       "      <td>0.820</td>\n",
       "      <td>0.593</td>\n",
       "      <td>0.559</td>\n",
       "      <td>0.239</td>\n",
       "      <td>0.049</td>\n",
       "      <td>1.075</td>\n",
       "    </tr>\n",
       "  </tbody>\n",
       "</table>\n",
       "</div>"
      ],
      "text/plain": [
       "          Country                        Region  Happiness Rank  \\\n",
       "147      Zimbabwe            Sub-Saharan Africa             148   \n",
       "146        Rwanda            Sub-Saharan Africa             147   \n",
       "145      Botswana            Sub-Saharan Africa             146   \n",
       "144       Lesotho            Sub-Saharan Africa             145   \n",
       "143        Malawi            Sub-Saharan Africa             144   \n",
       "142         Haiti   Latin America and Caribbean             143   \n",
       "141      Tanzania            Sub-Saharan Africa             142   \n",
       "140         Yemen  Middle East and North Africa             141   \n",
       "139       Burundi            Sub-Saharan Africa             140   \n",
       "138         India                    South Asia             139   \n",
       "137  Sierra Leone            Sub-Saharan Africa             138   \n",
       "136        Zambia            Sub-Saharan Africa             137   \n",
       "135          Togo            Sub-Saharan Africa             136   \n",
       "134    Madagascar            Sub-Saharan Africa             135   \n",
       "133    Mauritania            Sub-Saharan Africa             134   \n",
       "132      Ethiopia            Sub-Saharan Africa             133   \n",
       "131         Egypt  Middle East and North Africa             132   \n",
       "130       Comoros            Sub-Saharan Africa             131   \n",
       "129     Swaziland            Sub-Saharan Africa             130   \n",
       "128     Sri Lanka                    South Asia             129   \n",
       "\n",
       "     Happiness Score  Standard Error  Ladder score in Dystopia  \\\n",
       "147            3.145           0.058                      2.43   \n",
       "146            3.415           0.068                      2.43   \n",
       "145            3.467           0.074                      2.43   \n",
       "144            3.512           0.120                      2.43   \n",
       "143            3.600           0.092                      2.43   \n",
       "142            3.615           0.173                      2.43   \n",
       "141            3.623           0.071                      2.43   \n",
       "140            3.658           0.070                      2.43   \n",
       "139            3.775           0.107                      2.43   \n",
       "138            3.819           0.026                      2.43   \n",
       "137            3.849           0.077                      2.43   \n",
       "136            4.073           0.069                      2.43   \n",
       "135            4.107           0.077                      2.43   \n",
       "134            4.208           0.072                      2.43   \n",
       "133            4.227           0.070                      2.43   \n",
       "132            4.275           0.051                      2.43   \n",
       "131            4.283           0.045                      2.43   \n",
       "130            4.289           0.084                      2.43   \n",
       "129            4.308           0.071                      2.43   \n",
       "128            4.325           0.066                      2.43   \n",
       "\n",
       "     Economy (GDP per Capita)  Social support  Health (Life Expectancy)  \\\n",
       "147                     0.457           0.649                     0.243   \n",
       "146                     0.364           0.202                     0.407   \n",
       "145                     1.099           0.724                     0.340   \n",
       "144                     0.451           0.731                     0.007   \n",
       "143                     0.113           0.168                     0.298   \n",
       "142                     0.294           0.173                     0.227   \n",
       "141                     0.433           0.540                     0.300   \n",
       "140                     0.329           0.831                     0.272   \n",
       "139                     0.000           0.062                     0.155   \n",
       "138                     0.741           0.316                     0.383   \n",
       "137                     0.279           0.377                     0.100   \n",
       "136                     0.528           0.552                     0.231   \n",
       "135                     0.254           0.239                     0.203   \n",
       "134                     0.266           0.503                     0.341   \n",
       "133                     0.666           0.749                     0.273   \n",
       "132                     0.370           0.679                     0.331   \n",
       "131                     0.954           0.647                     0.426   \n",
       "130                     0.488           0.367                     0.279   \n",
       "129                     0.849           0.693                     0.074   \n",
       "128                     0.990           0.820                     0.593   \n",
       "\n",
       "     Freedom to make life choices  Generosity  Perceptions of corruption  \\\n",
       "147                         0.359       0.157                      0.075   \n",
       "146                         0.627       0.227                      0.493   \n",
       "145                         0.539       0.027                      0.088   \n",
       "144                         0.405       0.103                      0.015   \n",
       "143                         0.484       0.213                      0.134   \n",
       "142                         0.257       0.463                      0.139   \n",
       "141                         0.549       0.307                      0.231   \n",
       "140                         0.268       0.092                      0.089   \n",
       "139                         0.298       0.172                      0.212   \n",
       "138                         0.622       0.246                      0.106   \n",
       "137                         0.408       0.243                      0.047   \n",
       "136                         0.487       0.227                      0.074   \n",
       "135                         0.289       0.209                      0.107   \n",
       "134                         0.207       0.185                      0.087   \n",
       "133                         0.218       0.119                      0.133   \n",
       "132                         0.451       0.241                      0.114   \n",
       "131                         0.446       0.069                      0.092   \n",
       "130                         0.202       0.241                      0.101   \n",
       "129                         0.323       0.067                      0.147   \n",
       "128                         0.559       0.239                      0.049   \n",
       "\n",
       "     Dystopia + residual  \n",
       "147                1.205  \n",
       "146                1.095  \n",
       "145                0.648  \n",
       "144                1.800  \n",
       "143                2.190  \n",
       "142                2.060  \n",
       "141                1.263  \n",
       "140                1.776  \n",
       "139                2.876  \n",
       "138                1.405  \n",
       "137                2.396  \n",
       "136                1.975  \n",
       "135                2.806  \n",
       "134                2.620  \n",
       "133                2.069  \n",
       "132                2.089  \n",
       "131                1.648  \n",
       "130                2.610  \n",
       "129                2.155  \n",
       "128                1.075  "
      ]
     },
     "execution_count": 116,
     "metadata": {},
     "output_type": "execute_result"
    }
   ],
   "source": [
    "df_bottom20"
   ]
  },
  {
   "cell_type": "code",
   "execution_count": 117,
   "metadata": {},
   "outputs": [],
   "source": [
    "bottom_20 = df_bottom20[['Country','Region','Happiness Rank','Happiness Score']]"
   ]
  },
  {
   "cell_type": "code",
   "execution_count": 118,
   "metadata": {},
   "outputs": [
    {
     "data": {
      "text/html": [
       "<div>\n",
       "<style scoped>\n",
       "    .dataframe tbody tr th:only-of-type {\n",
       "        vertical-align: middle;\n",
       "    }\n",
       "\n",
       "    .dataframe tbody tr th {\n",
       "        vertical-align: top;\n",
       "    }\n",
       "\n",
       "    .dataframe thead th {\n",
       "        text-align: right;\n",
       "    }\n",
       "</style>\n",
       "<table border=\"1\" class=\"dataframe\">\n",
       "  <thead>\n",
       "    <tr style=\"text-align: right;\">\n",
       "      <th></th>\n",
       "      <th>Country</th>\n",
       "      <th>Region</th>\n",
       "      <th>Happiness Rank</th>\n",
       "      <th>Happiness Score</th>\n",
       "    </tr>\n",
       "  </thead>\n",
       "  <tbody>\n",
       "    <tr>\n",
       "      <th>147</th>\n",
       "      <td>Zimbabwe</td>\n",
       "      <td>Sub-Saharan Africa</td>\n",
       "      <td>148</td>\n",
       "      <td>3.145</td>\n",
       "    </tr>\n",
       "    <tr>\n",
       "      <th>146</th>\n",
       "      <td>Rwanda</td>\n",
       "      <td>Sub-Saharan Africa</td>\n",
       "      <td>147</td>\n",
       "      <td>3.415</td>\n",
       "    </tr>\n",
       "    <tr>\n",
       "      <th>145</th>\n",
       "      <td>Botswana</td>\n",
       "      <td>Sub-Saharan Africa</td>\n",
       "      <td>146</td>\n",
       "      <td>3.467</td>\n",
       "    </tr>\n",
       "    <tr>\n",
       "      <th>144</th>\n",
       "      <td>Lesotho</td>\n",
       "      <td>Sub-Saharan Africa</td>\n",
       "      <td>145</td>\n",
       "      <td>3.512</td>\n",
       "    </tr>\n",
       "    <tr>\n",
       "      <th>143</th>\n",
       "      <td>Malawi</td>\n",
       "      <td>Sub-Saharan Africa</td>\n",
       "      <td>144</td>\n",
       "      <td>3.600</td>\n",
       "    </tr>\n",
       "    <tr>\n",
       "      <th>142</th>\n",
       "      <td>Haiti</td>\n",
       "      <td>Latin America and Caribbean</td>\n",
       "      <td>143</td>\n",
       "      <td>3.615</td>\n",
       "    </tr>\n",
       "    <tr>\n",
       "      <th>141</th>\n",
       "      <td>Tanzania</td>\n",
       "      <td>Sub-Saharan Africa</td>\n",
       "      <td>142</td>\n",
       "      <td>3.623</td>\n",
       "    </tr>\n",
       "    <tr>\n",
       "      <th>140</th>\n",
       "      <td>Yemen</td>\n",
       "      <td>Middle East and North Africa</td>\n",
       "      <td>141</td>\n",
       "      <td>3.658</td>\n",
       "    </tr>\n",
       "    <tr>\n",
       "      <th>139</th>\n",
       "      <td>Burundi</td>\n",
       "      <td>Sub-Saharan Africa</td>\n",
       "      <td>140</td>\n",
       "      <td>3.775</td>\n",
       "    </tr>\n",
       "    <tr>\n",
       "      <th>138</th>\n",
       "      <td>India</td>\n",
       "      <td>South Asia</td>\n",
       "      <td>139</td>\n",
       "      <td>3.819</td>\n",
       "    </tr>\n",
       "    <tr>\n",
       "      <th>137</th>\n",
       "      <td>Sierra Leone</td>\n",
       "      <td>Sub-Saharan Africa</td>\n",
       "      <td>138</td>\n",
       "      <td>3.849</td>\n",
       "    </tr>\n",
       "    <tr>\n",
       "      <th>136</th>\n",
       "      <td>Zambia</td>\n",
       "      <td>Sub-Saharan Africa</td>\n",
       "      <td>137</td>\n",
       "      <td>4.073</td>\n",
       "    </tr>\n",
       "    <tr>\n",
       "      <th>135</th>\n",
       "      <td>Togo</td>\n",
       "      <td>Sub-Saharan Africa</td>\n",
       "      <td>136</td>\n",
       "      <td>4.107</td>\n",
       "    </tr>\n",
       "    <tr>\n",
       "      <th>134</th>\n",
       "      <td>Madagascar</td>\n",
       "      <td>Sub-Saharan Africa</td>\n",
       "      <td>135</td>\n",
       "      <td>4.208</td>\n",
       "    </tr>\n",
       "    <tr>\n",
       "      <th>133</th>\n",
       "      <td>Mauritania</td>\n",
       "      <td>Sub-Saharan Africa</td>\n",
       "      <td>134</td>\n",
       "      <td>4.227</td>\n",
       "    </tr>\n",
       "    <tr>\n",
       "      <th>132</th>\n",
       "      <td>Ethiopia</td>\n",
       "      <td>Sub-Saharan Africa</td>\n",
       "      <td>133</td>\n",
       "      <td>4.275</td>\n",
       "    </tr>\n",
       "    <tr>\n",
       "      <th>131</th>\n",
       "      <td>Egypt</td>\n",
       "      <td>Middle East and North Africa</td>\n",
       "      <td>132</td>\n",
       "      <td>4.283</td>\n",
       "    </tr>\n",
       "    <tr>\n",
       "      <th>130</th>\n",
       "      <td>Comoros</td>\n",
       "      <td>Sub-Saharan Africa</td>\n",
       "      <td>131</td>\n",
       "      <td>4.289</td>\n",
       "    </tr>\n",
       "    <tr>\n",
       "      <th>129</th>\n",
       "      <td>Swaziland</td>\n",
       "      <td>Sub-Saharan Africa</td>\n",
       "      <td>130</td>\n",
       "      <td>4.308</td>\n",
       "    </tr>\n",
       "    <tr>\n",
       "      <th>128</th>\n",
       "      <td>Sri Lanka</td>\n",
       "      <td>South Asia</td>\n",
       "      <td>129</td>\n",
       "      <td>4.325</td>\n",
       "    </tr>\n",
       "  </tbody>\n",
       "</table>\n",
       "</div>"
      ],
      "text/plain": [
       "          Country                        Region  Happiness Rank  \\\n",
       "147      Zimbabwe            Sub-Saharan Africa             148   \n",
       "146        Rwanda            Sub-Saharan Africa             147   \n",
       "145      Botswana            Sub-Saharan Africa             146   \n",
       "144       Lesotho            Sub-Saharan Africa             145   \n",
       "143        Malawi            Sub-Saharan Africa             144   \n",
       "142         Haiti   Latin America and Caribbean             143   \n",
       "141      Tanzania            Sub-Saharan Africa             142   \n",
       "140         Yemen  Middle East and North Africa             141   \n",
       "139       Burundi            Sub-Saharan Africa             140   \n",
       "138         India                    South Asia             139   \n",
       "137  Sierra Leone            Sub-Saharan Africa             138   \n",
       "136        Zambia            Sub-Saharan Africa             137   \n",
       "135          Togo            Sub-Saharan Africa             136   \n",
       "134    Madagascar            Sub-Saharan Africa             135   \n",
       "133    Mauritania            Sub-Saharan Africa             134   \n",
       "132      Ethiopia            Sub-Saharan Africa             133   \n",
       "131         Egypt  Middle East and North Africa             132   \n",
       "130       Comoros            Sub-Saharan Africa             131   \n",
       "129     Swaziland            Sub-Saharan Africa             130   \n",
       "128     Sri Lanka                    South Asia             129   \n",
       "\n",
       "     Happiness Score  \n",
       "147            3.145  \n",
       "146            3.415  \n",
       "145            3.467  \n",
       "144            3.512  \n",
       "143            3.600  \n",
       "142            3.615  \n",
       "141            3.623  \n",
       "140            3.658  \n",
       "139            3.775  \n",
       "138            3.819  \n",
       "137            3.849  \n",
       "136            4.073  \n",
       "135            4.107  \n",
       "134            4.208  \n",
       "133            4.227  \n",
       "132            4.275  \n",
       "131            4.283  \n",
       "130            4.289  \n",
       "129            4.308  \n",
       "128            4.325  "
      ]
     },
     "execution_count": 118,
     "metadata": {},
     "output_type": "execute_result"
    }
   ],
   "source": [
    "bottom_20"
   ]
  },
  {
   "cell_type": "code",
   "execution_count": 119,
   "metadata": {},
   "outputs": [],
   "source": [
    "df2 = pd.read_csv('C://Users//RKG//Desktop//Preperation of WBS studies//Python projects//World Happiness Report_Python//2015.csv')"
   ]
  },
  {
   "cell_type": "code",
   "execution_count": 120,
   "metadata": {},
   "outputs": [],
   "source": [
    "df2=df2[['Country','Happiness Rank']]"
   ]
  },
  {
   "cell_type": "code",
   "execution_count": 121,
   "metadata": {},
   "outputs": [
    {
     "data": {
      "text/html": [
       "<div>\n",
       "<style scoped>\n",
       "    .dataframe tbody tr th:only-of-type {\n",
       "        vertical-align: middle;\n",
       "    }\n",
       "\n",
       "    .dataframe tbody tr th {\n",
       "        vertical-align: top;\n",
       "    }\n",
       "\n",
       "    .dataframe thead th {\n",
       "        text-align: right;\n",
       "    }\n",
       "</style>\n",
       "<table border=\"1\" class=\"dataframe\">\n",
       "  <thead>\n",
       "    <tr style=\"text-align: right;\">\n",
       "      <th></th>\n",
       "      <th>Country</th>\n",
       "      <th>Happiness Rank_2015</th>\n",
       "    </tr>\n",
       "  </thead>\n",
       "  <tbody>\n",
       "    <tr>\n",
       "      <th>0</th>\n",
       "      <td>Switzerland</td>\n",
       "      <td>1</td>\n",
       "    </tr>\n",
       "    <tr>\n",
       "      <th>1</th>\n",
       "      <td>Iceland</td>\n",
       "      <td>2</td>\n",
       "    </tr>\n",
       "    <tr>\n",
       "      <th>2</th>\n",
       "      <td>Denmark</td>\n",
       "      <td>3</td>\n",
       "    </tr>\n",
       "    <tr>\n",
       "      <th>3</th>\n",
       "      <td>Norway</td>\n",
       "      <td>4</td>\n",
       "    </tr>\n",
       "    <tr>\n",
       "      <th>4</th>\n",
       "      <td>Canada</td>\n",
       "      <td>5</td>\n",
       "    </tr>\n",
       "    <tr>\n",
       "      <th>...</th>\n",
       "      <td>...</td>\n",
       "      <td>...</td>\n",
       "    </tr>\n",
       "    <tr>\n",
       "      <th>153</th>\n",
       "      <td>Rwanda</td>\n",
       "      <td>154</td>\n",
       "    </tr>\n",
       "    <tr>\n",
       "      <th>154</th>\n",
       "      <td>Benin</td>\n",
       "      <td>155</td>\n",
       "    </tr>\n",
       "    <tr>\n",
       "      <th>155</th>\n",
       "      <td>Syria</td>\n",
       "      <td>156</td>\n",
       "    </tr>\n",
       "    <tr>\n",
       "      <th>156</th>\n",
       "      <td>Burundi</td>\n",
       "      <td>157</td>\n",
       "    </tr>\n",
       "    <tr>\n",
       "      <th>157</th>\n",
       "      <td>Togo</td>\n",
       "      <td>158</td>\n",
       "    </tr>\n",
       "  </tbody>\n",
       "</table>\n",
       "<p>158 rows × 2 columns</p>\n",
       "</div>"
      ],
      "text/plain": [
       "         Country  Happiness Rank_2015\n",
       "0    Switzerland                    1\n",
       "1        Iceland                    2\n",
       "2        Denmark                    3\n",
       "3         Norway                    4\n",
       "4         Canada                    5\n",
       "..           ...                  ...\n",
       "153       Rwanda                  154\n",
       "154        Benin                  155\n",
       "155        Syria                  156\n",
       "156      Burundi                  157\n",
       "157         Togo                  158\n",
       "\n",
       "[158 rows x 2 columns]"
      ]
     },
     "execution_count": 121,
     "metadata": {},
     "output_type": "execute_result"
    }
   ],
   "source": [
    "df2.columns = ['Country', 'Happiness Rank_2015']\n",
    "df2"
   ]
  },
  {
   "cell_type": "code",
   "execution_count": 122,
   "metadata": {},
   "outputs": [],
   "source": [
    "bottom_20 = pd.merge(bottom_20, df2,  on = 'Country')"
   ]
  },
  {
   "cell_type": "code",
   "execution_count": 123,
   "metadata": {},
   "outputs": [
    {
     "data": {
      "text/html": [
       "<div>\n",
       "<style scoped>\n",
       "    .dataframe tbody tr th:only-of-type {\n",
       "        vertical-align: middle;\n",
       "    }\n",
       "\n",
       "    .dataframe tbody tr th {\n",
       "        vertical-align: top;\n",
       "    }\n",
       "\n",
       "    .dataframe thead th {\n",
       "        text-align: right;\n",
       "    }\n",
       "</style>\n",
       "<table border=\"1\" class=\"dataframe\">\n",
       "  <thead>\n",
       "    <tr style=\"text-align: right;\">\n",
       "      <th></th>\n",
       "      <th>Happiness Rank_2015</th>\n",
       "      <th>Happiness Rank</th>\n",
       "      <th>Country</th>\n",
       "    </tr>\n",
       "  </thead>\n",
       "  <tbody>\n",
       "    <tr>\n",
       "      <th>0</th>\n",
       "      <td>115</td>\n",
       "      <td>148</td>\n",
       "      <td>Zimbabwe</td>\n",
       "    </tr>\n",
       "    <tr>\n",
       "      <th>1</th>\n",
       "      <td>154</td>\n",
       "      <td>147</td>\n",
       "      <td>Rwanda</td>\n",
       "    </tr>\n",
       "    <tr>\n",
       "      <th>2</th>\n",
       "      <td>128</td>\n",
       "      <td>146</td>\n",
       "      <td>Botswana</td>\n",
       "    </tr>\n",
       "    <tr>\n",
       "      <th>3</th>\n",
       "      <td>97</td>\n",
       "      <td>145</td>\n",
       "      <td>Lesotho</td>\n",
       "    </tr>\n",
       "    <tr>\n",
       "      <th>4</th>\n",
       "      <td>131</td>\n",
       "      <td>144</td>\n",
       "      <td>Malawi</td>\n",
       "    </tr>\n",
       "    <tr>\n",
       "      <th>5</th>\n",
       "      <td>119</td>\n",
       "      <td>143</td>\n",
       "      <td>Haiti</td>\n",
       "    </tr>\n",
       "    <tr>\n",
       "      <th>6</th>\n",
       "      <td>146</td>\n",
       "      <td>142</td>\n",
       "      <td>Tanzania</td>\n",
       "    </tr>\n",
       "    <tr>\n",
       "      <th>7</th>\n",
       "      <td>136</td>\n",
       "      <td>141</td>\n",
       "      <td>Yemen</td>\n",
       "    </tr>\n",
       "    <tr>\n",
       "      <th>8</th>\n",
       "      <td>157</td>\n",
       "      <td>140</td>\n",
       "      <td>Burundi</td>\n",
       "    </tr>\n",
       "    <tr>\n",
       "      <th>9</th>\n",
       "      <td>117</td>\n",
       "      <td>139</td>\n",
       "      <td>India</td>\n",
       "    </tr>\n",
       "    <tr>\n",
       "      <th>10</th>\n",
       "      <td>123</td>\n",
       "      <td>138</td>\n",
       "      <td>Sierra Leone</td>\n",
       "    </tr>\n",
       "    <tr>\n",
       "      <th>11</th>\n",
       "      <td>85</td>\n",
       "      <td>137</td>\n",
       "      <td>Zambia</td>\n",
       "    </tr>\n",
       "    <tr>\n",
       "      <th>12</th>\n",
       "      <td>158</td>\n",
       "      <td>136</td>\n",
       "      <td>Togo</td>\n",
       "    </tr>\n",
       "    <tr>\n",
       "      <th>13</th>\n",
       "      <td>147</td>\n",
       "      <td>135</td>\n",
       "      <td>Madagascar</td>\n",
       "    </tr>\n",
       "    <tr>\n",
       "      <th>14</th>\n",
       "      <td>124</td>\n",
       "      <td>134</td>\n",
       "      <td>Mauritania</td>\n",
       "    </tr>\n",
       "    <tr>\n",
       "      <th>15</th>\n",
       "      <td>122</td>\n",
       "      <td>133</td>\n",
       "      <td>Ethiopia</td>\n",
       "    </tr>\n",
       "    <tr>\n",
       "      <th>16</th>\n",
       "      <td>135</td>\n",
       "      <td>132</td>\n",
       "      <td>Egypt</td>\n",
       "    </tr>\n",
       "    <tr>\n",
       "      <th>17</th>\n",
       "      <td>140</td>\n",
       "      <td>131</td>\n",
       "      <td>Comoros</td>\n",
       "    </tr>\n",
       "    <tr>\n",
       "      <th>18</th>\n",
       "      <td>101</td>\n",
       "      <td>130</td>\n",
       "      <td>Swaziland</td>\n",
       "    </tr>\n",
       "    <tr>\n",
       "      <th>19</th>\n",
       "      <td>132</td>\n",
       "      <td>129</td>\n",
       "      <td>Sri Lanka</td>\n",
       "    </tr>\n",
       "  </tbody>\n",
       "</table>\n",
       "</div>"
      ],
      "text/plain": [
       "    Happiness Rank_2015  Happiness Rank       Country\n",
       "0                   115             148      Zimbabwe\n",
       "1                   154             147        Rwanda\n",
       "2                   128             146      Botswana\n",
       "3                    97             145       Lesotho\n",
       "4                   131             144        Malawi\n",
       "5                   119             143         Haiti\n",
       "6                   146             142      Tanzania\n",
       "7                   136             141         Yemen\n",
       "8                   157             140       Burundi\n",
       "9                   117             139         India\n",
       "10                  123             138  Sierra Leone\n",
       "11                   85             137        Zambia\n",
       "12                  158             136          Togo\n",
       "13                  147             135    Madagascar\n",
       "14                  124             134    Mauritania\n",
       "15                  122             133      Ethiopia\n",
       "16                  135             132         Egypt\n",
       "17                  140             131       Comoros\n",
       "18                  101             130     Swaziland\n",
       "19                  132             129     Sri Lanka"
      ]
     },
     "execution_count": 123,
     "metadata": {},
     "output_type": "execute_result"
    }
   ],
   "source": [
    "bottom_20 = bottom_20[['Happiness Rank_2015', 'Happiness Rank', 'Country']]\n",
    "bottom_20"
   ]
  },
  {
   "cell_type": "code",
   "execution_count": 124,
   "metadata": {},
   "outputs": [],
   "source": [
    "bottom_20.columns = ['Happiness Rank_2015', 'Happiness Rank_2021','Country']"
   ]
  },
  {
   "cell_type": "code",
   "execution_count": 125,
   "metadata": {},
   "outputs": [
    {
     "data": {
      "text/html": [
       "<div>\n",
       "<style scoped>\n",
       "    .dataframe tbody tr th:only-of-type {\n",
       "        vertical-align: middle;\n",
       "    }\n",
       "\n",
       "    .dataframe tbody tr th {\n",
       "        vertical-align: top;\n",
       "    }\n",
       "\n",
       "    .dataframe thead th {\n",
       "        text-align: right;\n",
       "    }\n",
       "</style>\n",
       "<table border=\"1\" class=\"dataframe\">\n",
       "  <thead>\n",
       "    <tr style=\"text-align: right;\">\n",
       "      <th></th>\n",
       "      <th>Happiness Rank_2015</th>\n",
       "      <th>Happiness Rank_2021</th>\n",
       "      <th>Country</th>\n",
       "    </tr>\n",
       "  </thead>\n",
       "  <tbody>\n",
       "    <tr>\n",
       "      <th>0</th>\n",
       "      <td>115</td>\n",
       "      <td>148</td>\n",
       "      <td>Zimbabwe</td>\n",
       "    </tr>\n",
       "    <tr>\n",
       "      <th>1</th>\n",
       "      <td>154</td>\n",
       "      <td>147</td>\n",
       "      <td>Rwanda</td>\n",
       "    </tr>\n",
       "    <tr>\n",
       "      <th>2</th>\n",
       "      <td>128</td>\n",
       "      <td>146</td>\n",
       "      <td>Botswana</td>\n",
       "    </tr>\n",
       "    <tr>\n",
       "      <th>3</th>\n",
       "      <td>97</td>\n",
       "      <td>145</td>\n",
       "      <td>Lesotho</td>\n",
       "    </tr>\n",
       "    <tr>\n",
       "      <th>4</th>\n",
       "      <td>131</td>\n",
       "      <td>144</td>\n",
       "      <td>Malawi</td>\n",
       "    </tr>\n",
       "    <tr>\n",
       "      <th>5</th>\n",
       "      <td>119</td>\n",
       "      <td>143</td>\n",
       "      <td>Haiti</td>\n",
       "    </tr>\n",
       "    <tr>\n",
       "      <th>6</th>\n",
       "      <td>146</td>\n",
       "      <td>142</td>\n",
       "      <td>Tanzania</td>\n",
       "    </tr>\n",
       "    <tr>\n",
       "      <th>7</th>\n",
       "      <td>136</td>\n",
       "      <td>141</td>\n",
       "      <td>Yemen</td>\n",
       "    </tr>\n",
       "    <tr>\n",
       "      <th>8</th>\n",
       "      <td>157</td>\n",
       "      <td>140</td>\n",
       "      <td>Burundi</td>\n",
       "    </tr>\n",
       "    <tr>\n",
       "      <th>9</th>\n",
       "      <td>117</td>\n",
       "      <td>139</td>\n",
       "      <td>India</td>\n",
       "    </tr>\n",
       "    <tr>\n",
       "      <th>10</th>\n",
       "      <td>123</td>\n",
       "      <td>138</td>\n",
       "      <td>Sierra Leone</td>\n",
       "    </tr>\n",
       "    <tr>\n",
       "      <th>11</th>\n",
       "      <td>85</td>\n",
       "      <td>137</td>\n",
       "      <td>Zambia</td>\n",
       "    </tr>\n",
       "    <tr>\n",
       "      <th>12</th>\n",
       "      <td>158</td>\n",
       "      <td>136</td>\n",
       "      <td>Togo</td>\n",
       "    </tr>\n",
       "    <tr>\n",
       "      <th>13</th>\n",
       "      <td>147</td>\n",
       "      <td>135</td>\n",
       "      <td>Madagascar</td>\n",
       "    </tr>\n",
       "    <tr>\n",
       "      <th>14</th>\n",
       "      <td>124</td>\n",
       "      <td>134</td>\n",
       "      <td>Mauritania</td>\n",
       "    </tr>\n",
       "    <tr>\n",
       "      <th>15</th>\n",
       "      <td>122</td>\n",
       "      <td>133</td>\n",
       "      <td>Ethiopia</td>\n",
       "    </tr>\n",
       "    <tr>\n",
       "      <th>16</th>\n",
       "      <td>135</td>\n",
       "      <td>132</td>\n",
       "      <td>Egypt</td>\n",
       "    </tr>\n",
       "    <tr>\n",
       "      <th>17</th>\n",
       "      <td>140</td>\n",
       "      <td>131</td>\n",
       "      <td>Comoros</td>\n",
       "    </tr>\n",
       "    <tr>\n",
       "      <th>18</th>\n",
       "      <td>101</td>\n",
       "      <td>130</td>\n",
       "      <td>Swaziland</td>\n",
       "    </tr>\n",
       "    <tr>\n",
       "      <th>19</th>\n",
       "      <td>132</td>\n",
       "      <td>129</td>\n",
       "      <td>Sri Lanka</td>\n",
       "    </tr>\n",
       "  </tbody>\n",
       "</table>\n",
       "</div>"
      ],
      "text/plain": [
       "    Happiness Rank_2015  Happiness Rank_2021       Country\n",
       "0                   115                  148      Zimbabwe\n",
       "1                   154                  147        Rwanda\n",
       "2                   128                  146      Botswana\n",
       "3                    97                  145       Lesotho\n",
       "4                   131                  144        Malawi\n",
       "5                   119                  143         Haiti\n",
       "6                   146                  142      Tanzania\n",
       "7                   136                  141         Yemen\n",
       "8                   157                  140       Burundi\n",
       "9                   117                  139         India\n",
       "10                  123                  138  Sierra Leone\n",
       "11                   85                  137        Zambia\n",
       "12                  158                  136          Togo\n",
       "13                  147                  135    Madagascar\n",
       "14                  124                  134    Mauritania\n",
       "15                  122                  133      Ethiopia\n",
       "16                  135                  132         Egypt\n",
       "17                  140                  131       Comoros\n",
       "18                  101                  130     Swaziland\n",
       "19                  132                  129     Sri Lanka"
      ]
     },
     "execution_count": 125,
     "metadata": {},
     "output_type": "execute_result"
    }
   ],
   "source": [
    "bottom_20"
   ]
  },
  {
   "cell_type": "code",
   "execution_count": 126,
   "metadata": {},
   "outputs": [],
   "source": [
    "df3 = pd.read_csv('C://Users//RKG//Desktop//Preperation of WBS studies//Python projects//World Happiness Report_Python//2019.csv')"
   ]
  },
  {
   "cell_type": "code",
   "execution_count": 127,
   "metadata": {},
   "outputs": [],
   "source": [
    "df3=df3[['Country','Happiness Rank']]"
   ]
  },
  {
   "cell_type": "code",
   "execution_count": 128,
   "metadata": {},
   "outputs": [
    {
     "data": {
      "text/html": [
       "<div>\n",
       "<style scoped>\n",
       "    .dataframe tbody tr th:only-of-type {\n",
       "        vertical-align: middle;\n",
       "    }\n",
       "\n",
       "    .dataframe tbody tr th {\n",
       "        vertical-align: top;\n",
       "    }\n",
       "\n",
       "    .dataframe thead th {\n",
       "        text-align: right;\n",
       "    }\n",
       "</style>\n",
       "<table border=\"1\" class=\"dataframe\">\n",
       "  <thead>\n",
       "    <tr style=\"text-align: right;\">\n",
       "      <th></th>\n",
       "      <th>Country</th>\n",
       "      <th>Happiness Rank_2019</th>\n",
       "    </tr>\n",
       "  </thead>\n",
       "  <tbody>\n",
       "    <tr>\n",
       "      <th>0</th>\n",
       "      <td>Finland</td>\n",
       "      <td>1</td>\n",
       "    </tr>\n",
       "    <tr>\n",
       "      <th>1</th>\n",
       "      <td>Denmark</td>\n",
       "      <td>2</td>\n",
       "    </tr>\n",
       "    <tr>\n",
       "      <th>2</th>\n",
       "      <td>Norway</td>\n",
       "      <td>3</td>\n",
       "    </tr>\n",
       "    <tr>\n",
       "      <th>3</th>\n",
       "      <td>Iceland</td>\n",
       "      <td>4</td>\n",
       "    </tr>\n",
       "    <tr>\n",
       "      <th>4</th>\n",
       "      <td>Netherlands</td>\n",
       "      <td>5</td>\n",
       "    </tr>\n",
       "    <tr>\n",
       "      <th>...</th>\n",
       "      <td>...</td>\n",
       "      <td>...</td>\n",
       "    </tr>\n",
       "    <tr>\n",
       "      <th>151</th>\n",
       "      <td>Rwanda</td>\n",
       "      <td>152</td>\n",
       "    </tr>\n",
       "    <tr>\n",
       "      <th>152</th>\n",
       "      <td>Tanzania</td>\n",
       "      <td>153</td>\n",
       "    </tr>\n",
       "    <tr>\n",
       "      <th>153</th>\n",
       "      <td>Afghanistan</td>\n",
       "      <td>154</td>\n",
       "    </tr>\n",
       "    <tr>\n",
       "      <th>154</th>\n",
       "      <td>Central African Republic</td>\n",
       "      <td>155</td>\n",
       "    </tr>\n",
       "    <tr>\n",
       "      <th>155</th>\n",
       "      <td>South Sudan</td>\n",
       "      <td>156</td>\n",
       "    </tr>\n",
       "  </tbody>\n",
       "</table>\n",
       "<p>156 rows × 2 columns</p>\n",
       "</div>"
      ],
      "text/plain": [
       "                      Country  Happiness Rank_2019\n",
       "0                     Finland                    1\n",
       "1                     Denmark                    2\n",
       "2                      Norway                    3\n",
       "3                     Iceland                    4\n",
       "4                 Netherlands                    5\n",
       "..                        ...                  ...\n",
       "151                    Rwanda                  152\n",
       "152                  Tanzania                  153\n",
       "153               Afghanistan                  154\n",
       "154  Central African Republic                  155\n",
       "155               South Sudan                  156\n",
       "\n",
       "[156 rows x 2 columns]"
      ]
     },
     "execution_count": 128,
     "metadata": {},
     "output_type": "execute_result"
    }
   ],
   "source": [
    "df3.columns = ['Country', 'Happiness Rank_2019']\n",
    "df3"
   ]
  },
  {
   "cell_type": "code",
   "execution_count": 129,
   "metadata": {},
   "outputs": [],
   "source": [
    "bottom_20 = pd.merge(bottom_20, df3,  on = 'Country')"
   ]
  },
  {
   "cell_type": "code",
   "execution_count": 130,
   "metadata": {},
   "outputs": [
    {
     "data": {
      "text/html": [
       "<div>\n",
       "<style scoped>\n",
       "    .dataframe tbody tr th:only-of-type {\n",
       "        vertical-align: middle;\n",
       "    }\n",
       "\n",
       "    .dataframe tbody tr th {\n",
       "        vertical-align: top;\n",
       "    }\n",
       "\n",
       "    .dataframe thead th {\n",
       "        text-align: right;\n",
       "    }\n",
       "</style>\n",
       "<table border=\"1\" class=\"dataframe\">\n",
       "  <thead>\n",
       "    <tr style=\"text-align: right;\">\n",
       "      <th></th>\n",
       "      <th>Happiness Rank_2015</th>\n",
       "      <th>Happiness Rank_2021</th>\n",
       "      <th>Country</th>\n",
       "      <th>Happiness Rank_2019</th>\n",
       "    </tr>\n",
       "  </thead>\n",
       "  <tbody>\n",
       "    <tr>\n",
       "      <th>0</th>\n",
       "      <td>115</td>\n",
       "      <td>148</td>\n",
       "      <td>Zimbabwe</td>\n",
       "      <td>146</td>\n",
       "    </tr>\n",
       "    <tr>\n",
       "      <th>1</th>\n",
       "      <td>154</td>\n",
       "      <td>147</td>\n",
       "      <td>Rwanda</td>\n",
       "      <td>152</td>\n",
       "    </tr>\n",
       "    <tr>\n",
       "      <th>2</th>\n",
       "      <td>128</td>\n",
       "      <td>146</td>\n",
       "      <td>Botswana</td>\n",
       "      <td>148</td>\n",
       "    </tr>\n",
       "    <tr>\n",
       "      <th>3</th>\n",
       "      <td>97</td>\n",
       "      <td>145</td>\n",
       "      <td>Lesotho</td>\n",
       "      <td>144</td>\n",
       "    </tr>\n",
       "    <tr>\n",
       "      <th>4</th>\n",
       "      <td>131</td>\n",
       "      <td>144</td>\n",
       "      <td>Malawi</td>\n",
       "      <td>150</td>\n",
       "    </tr>\n",
       "    <tr>\n",
       "      <th>5</th>\n",
       "      <td>119</td>\n",
       "      <td>143</td>\n",
       "      <td>Haiti</td>\n",
       "      <td>147</td>\n",
       "    </tr>\n",
       "    <tr>\n",
       "      <th>6</th>\n",
       "      <td>146</td>\n",
       "      <td>142</td>\n",
       "      <td>Tanzania</td>\n",
       "      <td>153</td>\n",
       "    </tr>\n",
       "    <tr>\n",
       "      <th>7</th>\n",
       "      <td>136</td>\n",
       "      <td>141</td>\n",
       "      <td>Yemen</td>\n",
       "      <td>151</td>\n",
       "    </tr>\n",
       "    <tr>\n",
       "      <th>8</th>\n",
       "      <td>157</td>\n",
       "      <td>140</td>\n",
       "      <td>Burundi</td>\n",
       "      <td>145</td>\n",
       "    </tr>\n",
       "    <tr>\n",
       "      <th>9</th>\n",
       "      <td>117</td>\n",
       "      <td>139</td>\n",
       "      <td>India</td>\n",
       "      <td>140</td>\n",
       "    </tr>\n",
       "    <tr>\n",
       "      <th>10</th>\n",
       "      <td>123</td>\n",
       "      <td>138</td>\n",
       "      <td>Sierra Leone</td>\n",
       "      <td>129</td>\n",
       "    </tr>\n",
       "    <tr>\n",
       "      <th>11</th>\n",
       "      <td>85</td>\n",
       "      <td>137</td>\n",
       "      <td>Zambia</td>\n",
       "      <td>138</td>\n",
       "    </tr>\n",
       "    <tr>\n",
       "      <th>12</th>\n",
       "      <td>158</td>\n",
       "      <td>136</td>\n",
       "      <td>Togo</td>\n",
       "      <td>139</td>\n",
       "    </tr>\n",
       "    <tr>\n",
       "      <th>13</th>\n",
       "      <td>147</td>\n",
       "      <td>135</td>\n",
       "      <td>Madagascar</td>\n",
       "      <td>143</td>\n",
       "    </tr>\n",
       "    <tr>\n",
       "      <th>14</th>\n",
       "      <td>124</td>\n",
       "      <td>134</td>\n",
       "      <td>Mauritania</td>\n",
       "      <td>122</td>\n",
       "    </tr>\n",
       "    <tr>\n",
       "      <th>15</th>\n",
       "      <td>122</td>\n",
       "      <td>133</td>\n",
       "      <td>Ethiopia</td>\n",
       "      <td>134</td>\n",
       "    </tr>\n",
       "    <tr>\n",
       "      <th>16</th>\n",
       "      <td>135</td>\n",
       "      <td>132</td>\n",
       "      <td>Egypt</td>\n",
       "      <td>137</td>\n",
       "    </tr>\n",
       "    <tr>\n",
       "      <th>17</th>\n",
       "      <td>140</td>\n",
       "      <td>131</td>\n",
       "      <td>Comoros</td>\n",
       "      <td>142</td>\n",
       "    </tr>\n",
       "    <tr>\n",
       "      <th>18</th>\n",
       "      <td>101</td>\n",
       "      <td>130</td>\n",
       "      <td>Swaziland</td>\n",
       "      <td>135</td>\n",
       "    </tr>\n",
       "    <tr>\n",
       "      <th>19</th>\n",
       "      <td>132</td>\n",
       "      <td>129</td>\n",
       "      <td>Sri Lanka</td>\n",
       "      <td>130</td>\n",
       "    </tr>\n",
       "  </tbody>\n",
       "</table>\n",
       "</div>"
      ],
      "text/plain": [
       "    Happiness Rank_2015  Happiness Rank_2021       Country  \\\n",
       "0                   115                  148      Zimbabwe   \n",
       "1                   154                  147        Rwanda   \n",
       "2                   128                  146      Botswana   \n",
       "3                    97                  145       Lesotho   \n",
       "4                   131                  144        Malawi   \n",
       "5                   119                  143         Haiti   \n",
       "6                   146                  142      Tanzania   \n",
       "7                   136                  141         Yemen   \n",
       "8                   157                  140       Burundi   \n",
       "9                   117                  139         India   \n",
       "10                  123                  138  Sierra Leone   \n",
       "11                   85                  137        Zambia   \n",
       "12                  158                  136          Togo   \n",
       "13                  147                  135    Madagascar   \n",
       "14                  124                  134    Mauritania   \n",
       "15                  122                  133      Ethiopia   \n",
       "16                  135                  132         Egypt   \n",
       "17                  140                  131       Comoros   \n",
       "18                  101                  130     Swaziland   \n",
       "19                  132                  129     Sri Lanka   \n",
       "\n",
       "    Happiness Rank_2019  \n",
       "0                   146  \n",
       "1                   152  \n",
       "2                   148  \n",
       "3                   144  \n",
       "4                   150  \n",
       "5                   147  \n",
       "6                   153  \n",
       "7                   151  \n",
       "8                   145  \n",
       "9                   140  \n",
       "10                  129  \n",
       "11                  138  \n",
       "12                  139  \n",
       "13                  143  \n",
       "14                  122  \n",
       "15                  134  \n",
       "16                  137  \n",
       "17                  142  \n",
       "18                  135  \n",
       "19                  130  "
      ]
     },
     "execution_count": 130,
     "metadata": {},
     "output_type": "execute_result"
    }
   ],
   "source": [
    "bottom_20"
   ]
  },
  {
   "cell_type": "code",
   "execution_count": 131,
   "metadata": {},
   "outputs": [],
   "source": [
    "bottom_20.columns = ['2015','2021', 'Country', '2019']"
   ]
  },
  {
   "cell_type": "code",
   "execution_count": 132,
   "metadata": {},
   "outputs": [],
   "source": [
    "bottom_20=bottom_20[['Country','2015','2019','2021']]"
   ]
  },
  {
   "cell_type": "code",
   "execution_count": 133,
   "metadata": {},
   "outputs": [
    {
     "data": {
      "text/html": [
       "<div>\n",
       "<style scoped>\n",
       "    .dataframe tbody tr th:only-of-type {\n",
       "        vertical-align: middle;\n",
       "    }\n",
       "\n",
       "    .dataframe tbody tr th {\n",
       "        vertical-align: top;\n",
       "    }\n",
       "\n",
       "    .dataframe thead th {\n",
       "        text-align: right;\n",
       "    }\n",
       "</style>\n",
       "<table border=\"1\" class=\"dataframe\">\n",
       "  <thead>\n",
       "    <tr style=\"text-align: right;\">\n",
       "      <th></th>\n",
       "      <th>Country</th>\n",
       "      <th>2015</th>\n",
       "      <th>2019</th>\n",
       "      <th>2021</th>\n",
       "    </tr>\n",
       "  </thead>\n",
       "  <tbody>\n",
       "    <tr>\n",
       "      <th>0</th>\n",
       "      <td>Zimbabwe</td>\n",
       "      <td>115</td>\n",
       "      <td>146</td>\n",
       "      <td>148</td>\n",
       "    </tr>\n",
       "    <tr>\n",
       "      <th>1</th>\n",
       "      <td>Rwanda</td>\n",
       "      <td>154</td>\n",
       "      <td>152</td>\n",
       "      <td>147</td>\n",
       "    </tr>\n",
       "    <tr>\n",
       "      <th>2</th>\n",
       "      <td>Botswana</td>\n",
       "      <td>128</td>\n",
       "      <td>148</td>\n",
       "      <td>146</td>\n",
       "    </tr>\n",
       "    <tr>\n",
       "      <th>3</th>\n",
       "      <td>Lesotho</td>\n",
       "      <td>97</td>\n",
       "      <td>144</td>\n",
       "      <td>145</td>\n",
       "    </tr>\n",
       "    <tr>\n",
       "      <th>4</th>\n",
       "      <td>Malawi</td>\n",
       "      <td>131</td>\n",
       "      <td>150</td>\n",
       "      <td>144</td>\n",
       "    </tr>\n",
       "    <tr>\n",
       "      <th>5</th>\n",
       "      <td>Haiti</td>\n",
       "      <td>119</td>\n",
       "      <td>147</td>\n",
       "      <td>143</td>\n",
       "    </tr>\n",
       "    <tr>\n",
       "      <th>6</th>\n",
       "      <td>Tanzania</td>\n",
       "      <td>146</td>\n",
       "      <td>153</td>\n",
       "      <td>142</td>\n",
       "    </tr>\n",
       "    <tr>\n",
       "      <th>7</th>\n",
       "      <td>Yemen</td>\n",
       "      <td>136</td>\n",
       "      <td>151</td>\n",
       "      <td>141</td>\n",
       "    </tr>\n",
       "    <tr>\n",
       "      <th>8</th>\n",
       "      <td>Burundi</td>\n",
       "      <td>157</td>\n",
       "      <td>145</td>\n",
       "      <td>140</td>\n",
       "    </tr>\n",
       "    <tr>\n",
       "      <th>9</th>\n",
       "      <td>India</td>\n",
       "      <td>117</td>\n",
       "      <td>140</td>\n",
       "      <td>139</td>\n",
       "    </tr>\n",
       "    <tr>\n",
       "      <th>10</th>\n",
       "      <td>Sierra Leone</td>\n",
       "      <td>123</td>\n",
       "      <td>129</td>\n",
       "      <td>138</td>\n",
       "    </tr>\n",
       "    <tr>\n",
       "      <th>11</th>\n",
       "      <td>Zambia</td>\n",
       "      <td>85</td>\n",
       "      <td>138</td>\n",
       "      <td>137</td>\n",
       "    </tr>\n",
       "    <tr>\n",
       "      <th>12</th>\n",
       "      <td>Togo</td>\n",
       "      <td>158</td>\n",
       "      <td>139</td>\n",
       "      <td>136</td>\n",
       "    </tr>\n",
       "    <tr>\n",
       "      <th>13</th>\n",
       "      <td>Madagascar</td>\n",
       "      <td>147</td>\n",
       "      <td>143</td>\n",
       "      <td>135</td>\n",
       "    </tr>\n",
       "    <tr>\n",
       "      <th>14</th>\n",
       "      <td>Mauritania</td>\n",
       "      <td>124</td>\n",
       "      <td>122</td>\n",
       "      <td>134</td>\n",
       "    </tr>\n",
       "    <tr>\n",
       "      <th>15</th>\n",
       "      <td>Ethiopia</td>\n",
       "      <td>122</td>\n",
       "      <td>134</td>\n",
       "      <td>133</td>\n",
       "    </tr>\n",
       "    <tr>\n",
       "      <th>16</th>\n",
       "      <td>Egypt</td>\n",
       "      <td>135</td>\n",
       "      <td>137</td>\n",
       "      <td>132</td>\n",
       "    </tr>\n",
       "    <tr>\n",
       "      <th>17</th>\n",
       "      <td>Comoros</td>\n",
       "      <td>140</td>\n",
       "      <td>142</td>\n",
       "      <td>131</td>\n",
       "    </tr>\n",
       "    <tr>\n",
       "      <th>18</th>\n",
       "      <td>Swaziland</td>\n",
       "      <td>101</td>\n",
       "      <td>135</td>\n",
       "      <td>130</td>\n",
       "    </tr>\n",
       "    <tr>\n",
       "      <th>19</th>\n",
       "      <td>Sri Lanka</td>\n",
       "      <td>132</td>\n",
       "      <td>130</td>\n",
       "      <td>129</td>\n",
       "    </tr>\n",
       "  </tbody>\n",
       "</table>\n",
       "</div>"
      ],
      "text/plain": [
       "         Country  2015  2019  2021\n",
       "0       Zimbabwe   115   146   148\n",
       "1         Rwanda   154   152   147\n",
       "2       Botswana   128   148   146\n",
       "3        Lesotho    97   144   145\n",
       "4         Malawi   131   150   144\n",
       "5          Haiti   119   147   143\n",
       "6       Tanzania   146   153   142\n",
       "7          Yemen   136   151   141\n",
       "8        Burundi   157   145   140\n",
       "9          India   117   140   139\n",
       "10  Sierra Leone   123   129   138\n",
       "11        Zambia    85   138   137\n",
       "12          Togo   158   139   136\n",
       "13    Madagascar   147   143   135\n",
       "14    Mauritania   124   122   134\n",
       "15      Ethiopia   122   134   133\n",
       "16         Egypt   135   137   132\n",
       "17       Comoros   140   142   131\n",
       "18     Swaziland   101   135   130\n",
       "19     Sri Lanka   132   130   129"
      ]
     },
     "execution_count": 133,
     "metadata": {},
     "output_type": "execute_result"
    }
   ],
   "source": [
    "bottom_20"
   ]
  },
  {
   "cell_type": "code",
   "execution_count": 134,
   "metadata": {},
   "outputs": [
    {
     "name": "stderr",
     "output_type": "stream",
     "text": [
      "<ipython-input-134-dd0a971c829e>:1: SettingWithCopyWarning:\n",
      "\n",
      "\n",
      "A value is trying to be set on a copy of a slice from a DataFrame.\n",
      "Try using .loc[row_indexer,col_indexer] = value instead\n",
      "\n",
      "See the caveats in the documentation: https://pandas.pydata.org/pandas-docs/stable/user_guide/indexing.html#returning-a-view-versus-a-copy\n",
      "\n"
     ]
    }
   ],
   "source": [
    "bottom_20['Drop in Rank'] = bottom_20['2021'] - bottom_20['2015']"
   ]
  },
  {
   "cell_type": "code",
   "execution_count": 135,
   "metadata": {},
   "outputs": [],
   "source": [
    "bottom_20=bottom_20.sort_values(by='Drop in Rank', ascending = True)"
   ]
  },
  {
   "cell_type": "code",
   "execution_count": 136,
   "metadata": {},
   "outputs": [
    {
     "data": {
      "application/vnd.plotly.v1+json": {
       "config": {
        "plotlyServerURL": "https://plot.ly"
       },
       "data": [
        {
         "alignmentgroup": "True",
         "hovertemplate": "<b>%{hovertext}</b><br><br>Drop in Rank=%{x}<br>Country=%{y}<extra></extra>",
         "hovertext": [
          -22,
          -17,
          -12,
          -9,
          -7,
          -4,
          -3,
          -3,
          5,
          10,
          11,
          13,
          15,
          18,
          22,
          24,
          29,
          33,
          48,
          52
         ],
         "legendgroup": "",
         "marker": {
          "color": "#636efa"
         },
         "name": "",
         "offsetgroup": "",
         "orientation": "h",
         "showlegend": false,
         "textposition": "auto",
         "type": "bar",
         "x": [
          -22,
          -17,
          -12,
          -9,
          -7,
          -4,
          -3,
          -3,
          5,
          10,
          11,
          13,
          15,
          18,
          22,
          24,
          29,
          33,
          48,
          52
         ],
         "xaxis": "x",
         "y": [
          "Togo",
          "Burundi",
          "Madagascar",
          "Comoros",
          "Rwanda",
          "Tanzania",
          "Sri Lanka",
          "Egypt",
          "Yemen",
          "Mauritania",
          "Ethiopia",
          "Malawi",
          "Sierra Leone",
          "Botswana",
          "India",
          "Haiti",
          "Swaziland",
          "Zimbabwe",
          "Lesotho",
          "Zambia"
         ],
         "yaxis": "y"
        }
       ],
       "layout": {
        "barmode": "relative",
        "height": 500,
        "legend": {
         "tracegroupgap": 0
        },
        "template": {
         "data": {
          "bar": [
           {
            "error_x": {
             "color": "#2a3f5f"
            },
            "error_y": {
             "color": "#2a3f5f"
            },
            "marker": {
             "line": {
              "color": "#E5ECF6",
              "width": 0.5
             }
            },
            "type": "bar"
           }
          ],
          "barpolar": [
           {
            "marker": {
             "line": {
              "color": "#E5ECF6",
              "width": 0.5
             }
            },
            "type": "barpolar"
           }
          ],
          "carpet": [
           {
            "aaxis": {
             "endlinecolor": "#2a3f5f",
             "gridcolor": "white",
             "linecolor": "white",
             "minorgridcolor": "white",
             "startlinecolor": "#2a3f5f"
            },
            "baxis": {
             "endlinecolor": "#2a3f5f",
             "gridcolor": "white",
             "linecolor": "white",
             "minorgridcolor": "white",
             "startlinecolor": "#2a3f5f"
            },
            "type": "carpet"
           }
          ],
          "choropleth": [
           {
            "colorbar": {
             "outlinewidth": 0,
             "ticks": ""
            },
            "type": "choropleth"
           }
          ],
          "contour": [
           {
            "colorbar": {
             "outlinewidth": 0,
             "ticks": ""
            },
            "colorscale": [
             [
              0,
              "#0d0887"
             ],
             [
              0.1111111111111111,
              "#46039f"
             ],
             [
              0.2222222222222222,
              "#7201a8"
             ],
             [
              0.3333333333333333,
              "#9c179e"
             ],
             [
              0.4444444444444444,
              "#bd3786"
             ],
             [
              0.5555555555555556,
              "#d8576b"
             ],
             [
              0.6666666666666666,
              "#ed7953"
             ],
             [
              0.7777777777777778,
              "#fb9f3a"
             ],
             [
              0.8888888888888888,
              "#fdca26"
             ],
             [
              1,
              "#f0f921"
             ]
            ],
            "type": "contour"
           }
          ],
          "contourcarpet": [
           {
            "colorbar": {
             "outlinewidth": 0,
             "ticks": ""
            },
            "type": "contourcarpet"
           }
          ],
          "heatmap": [
           {
            "colorbar": {
             "outlinewidth": 0,
             "ticks": ""
            },
            "colorscale": [
             [
              0,
              "#0d0887"
             ],
             [
              0.1111111111111111,
              "#46039f"
             ],
             [
              0.2222222222222222,
              "#7201a8"
             ],
             [
              0.3333333333333333,
              "#9c179e"
             ],
             [
              0.4444444444444444,
              "#bd3786"
             ],
             [
              0.5555555555555556,
              "#d8576b"
             ],
             [
              0.6666666666666666,
              "#ed7953"
             ],
             [
              0.7777777777777778,
              "#fb9f3a"
             ],
             [
              0.8888888888888888,
              "#fdca26"
             ],
             [
              1,
              "#f0f921"
             ]
            ],
            "type": "heatmap"
           }
          ],
          "heatmapgl": [
           {
            "colorbar": {
             "outlinewidth": 0,
             "ticks": ""
            },
            "colorscale": [
             [
              0,
              "#0d0887"
             ],
             [
              0.1111111111111111,
              "#46039f"
             ],
             [
              0.2222222222222222,
              "#7201a8"
             ],
             [
              0.3333333333333333,
              "#9c179e"
             ],
             [
              0.4444444444444444,
              "#bd3786"
             ],
             [
              0.5555555555555556,
              "#d8576b"
             ],
             [
              0.6666666666666666,
              "#ed7953"
             ],
             [
              0.7777777777777778,
              "#fb9f3a"
             ],
             [
              0.8888888888888888,
              "#fdca26"
             ],
             [
              1,
              "#f0f921"
             ]
            ],
            "type": "heatmapgl"
           }
          ],
          "histogram": [
           {
            "marker": {
             "colorbar": {
              "outlinewidth": 0,
              "ticks": ""
             }
            },
            "type": "histogram"
           }
          ],
          "histogram2d": [
           {
            "colorbar": {
             "outlinewidth": 0,
             "ticks": ""
            },
            "colorscale": [
             [
              0,
              "#0d0887"
             ],
             [
              0.1111111111111111,
              "#46039f"
             ],
             [
              0.2222222222222222,
              "#7201a8"
             ],
             [
              0.3333333333333333,
              "#9c179e"
             ],
             [
              0.4444444444444444,
              "#bd3786"
             ],
             [
              0.5555555555555556,
              "#d8576b"
             ],
             [
              0.6666666666666666,
              "#ed7953"
             ],
             [
              0.7777777777777778,
              "#fb9f3a"
             ],
             [
              0.8888888888888888,
              "#fdca26"
             ],
             [
              1,
              "#f0f921"
             ]
            ],
            "type": "histogram2d"
           }
          ],
          "histogram2dcontour": [
           {
            "colorbar": {
             "outlinewidth": 0,
             "ticks": ""
            },
            "colorscale": [
             [
              0,
              "#0d0887"
             ],
             [
              0.1111111111111111,
              "#46039f"
             ],
             [
              0.2222222222222222,
              "#7201a8"
             ],
             [
              0.3333333333333333,
              "#9c179e"
             ],
             [
              0.4444444444444444,
              "#bd3786"
             ],
             [
              0.5555555555555556,
              "#d8576b"
             ],
             [
              0.6666666666666666,
              "#ed7953"
             ],
             [
              0.7777777777777778,
              "#fb9f3a"
             ],
             [
              0.8888888888888888,
              "#fdca26"
             ],
             [
              1,
              "#f0f921"
             ]
            ],
            "type": "histogram2dcontour"
           }
          ],
          "mesh3d": [
           {
            "colorbar": {
             "outlinewidth": 0,
             "ticks": ""
            },
            "type": "mesh3d"
           }
          ],
          "parcoords": [
           {
            "line": {
             "colorbar": {
              "outlinewidth": 0,
              "ticks": ""
             }
            },
            "type": "parcoords"
           }
          ],
          "pie": [
           {
            "automargin": true,
            "type": "pie"
           }
          ],
          "scatter": [
           {
            "marker": {
             "colorbar": {
              "outlinewidth": 0,
              "ticks": ""
             }
            },
            "type": "scatter"
           }
          ],
          "scatter3d": [
           {
            "line": {
             "colorbar": {
              "outlinewidth": 0,
              "ticks": ""
             }
            },
            "marker": {
             "colorbar": {
              "outlinewidth": 0,
              "ticks": ""
             }
            },
            "type": "scatter3d"
           }
          ],
          "scattercarpet": [
           {
            "marker": {
             "colorbar": {
              "outlinewidth": 0,
              "ticks": ""
             }
            },
            "type": "scattercarpet"
           }
          ],
          "scattergeo": [
           {
            "marker": {
             "colorbar": {
              "outlinewidth": 0,
              "ticks": ""
             }
            },
            "type": "scattergeo"
           }
          ],
          "scattergl": [
           {
            "marker": {
             "colorbar": {
              "outlinewidth": 0,
              "ticks": ""
             }
            },
            "type": "scattergl"
           }
          ],
          "scattermapbox": [
           {
            "marker": {
             "colorbar": {
              "outlinewidth": 0,
              "ticks": ""
             }
            },
            "type": "scattermapbox"
           }
          ],
          "scatterpolar": [
           {
            "marker": {
             "colorbar": {
              "outlinewidth": 0,
              "ticks": ""
             }
            },
            "type": "scatterpolar"
           }
          ],
          "scatterpolargl": [
           {
            "marker": {
             "colorbar": {
              "outlinewidth": 0,
              "ticks": ""
             }
            },
            "type": "scatterpolargl"
           }
          ],
          "scatterternary": [
           {
            "marker": {
             "colorbar": {
              "outlinewidth": 0,
              "ticks": ""
             }
            },
            "type": "scatterternary"
           }
          ],
          "surface": [
           {
            "colorbar": {
             "outlinewidth": 0,
             "ticks": ""
            },
            "colorscale": [
             [
              0,
              "#0d0887"
             ],
             [
              0.1111111111111111,
              "#46039f"
             ],
             [
              0.2222222222222222,
              "#7201a8"
             ],
             [
              0.3333333333333333,
              "#9c179e"
             ],
             [
              0.4444444444444444,
              "#bd3786"
             ],
             [
              0.5555555555555556,
              "#d8576b"
             ],
             [
              0.6666666666666666,
              "#ed7953"
             ],
             [
              0.7777777777777778,
              "#fb9f3a"
             ],
             [
              0.8888888888888888,
              "#fdca26"
             ],
             [
              1,
              "#f0f921"
             ]
            ],
            "type": "surface"
           }
          ],
          "table": [
           {
            "cells": {
             "fill": {
              "color": "#EBF0F8"
             },
             "line": {
              "color": "white"
             }
            },
            "header": {
             "fill": {
              "color": "#C8D4E3"
             },
             "line": {
              "color": "white"
             }
            },
            "type": "table"
           }
          ]
         },
         "layout": {
          "annotationdefaults": {
           "arrowcolor": "#2a3f5f",
           "arrowhead": 0,
           "arrowwidth": 1
          },
          "autotypenumbers": "strict",
          "coloraxis": {
           "colorbar": {
            "outlinewidth": 0,
            "ticks": ""
           }
          },
          "colorscale": {
           "diverging": [
            [
             0,
             "#8e0152"
            ],
            [
             0.1,
             "#c51b7d"
            ],
            [
             0.2,
             "#de77ae"
            ],
            [
             0.3,
             "#f1b6da"
            ],
            [
             0.4,
             "#fde0ef"
            ],
            [
             0.5,
             "#f7f7f7"
            ],
            [
             0.6,
             "#e6f5d0"
            ],
            [
             0.7,
             "#b8e186"
            ],
            [
             0.8,
             "#7fbc41"
            ],
            [
             0.9,
             "#4d9221"
            ],
            [
             1,
             "#276419"
            ]
           ],
           "sequential": [
            [
             0,
             "#0d0887"
            ],
            [
             0.1111111111111111,
             "#46039f"
            ],
            [
             0.2222222222222222,
             "#7201a8"
            ],
            [
             0.3333333333333333,
             "#9c179e"
            ],
            [
             0.4444444444444444,
             "#bd3786"
            ],
            [
             0.5555555555555556,
             "#d8576b"
            ],
            [
             0.6666666666666666,
             "#ed7953"
            ],
            [
             0.7777777777777778,
             "#fb9f3a"
            ],
            [
             0.8888888888888888,
             "#fdca26"
            ],
            [
             1,
             "#f0f921"
            ]
           ],
           "sequentialminus": [
            [
             0,
             "#0d0887"
            ],
            [
             0.1111111111111111,
             "#46039f"
            ],
            [
             0.2222222222222222,
             "#7201a8"
            ],
            [
             0.3333333333333333,
             "#9c179e"
            ],
            [
             0.4444444444444444,
             "#bd3786"
            ],
            [
             0.5555555555555556,
             "#d8576b"
            ],
            [
             0.6666666666666666,
             "#ed7953"
            ],
            [
             0.7777777777777778,
             "#fb9f3a"
            ],
            [
             0.8888888888888888,
             "#fdca26"
            ],
            [
             1,
             "#f0f921"
            ]
           ]
          },
          "colorway": [
           "#636efa",
           "#EF553B",
           "#00cc96",
           "#ab63fa",
           "#FFA15A",
           "#19d3f3",
           "#FF6692",
           "#B6E880",
           "#FF97FF",
           "#FECB52"
          ],
          "font": {
           "color": "#2a3f5f"
          },
          "geo": {
           "bgcolor": "white",
           "lakecolor": "white",
           "landcolor": "#E5ECF6",
           "showlakes": true,
           "showland": true,
           "subunitcolor": "white"
          },
          "hoverlabel": {
           "align": "left"
          },
          "hovermode": "closest",
          "mapbox": {
           "style": "light"
          },
          "paper_bgcolor": "white",
          "plot_bgcolor": "#E5ECF6",
          "polar": {
           "angularaxis": {
            "gridcolor": "white",
            "linecolor": "white",
            "ticks": ""
           },
           "bgcolor": "#E5ECF6",
           "radialaxis": {
            "gridcolor": "white",
            "linecolor": "white",
            "ticks": ""
           }
          },
          "scene": {
           "xaxis": {
            "backgroundcolor": "#E5ECF6",
            "gridcolor": "white",
            "gridwidth": 2,
            "linecolor": "white",
            "showbackground": true,
            "ticks": "",
            "zerolinecolor": "white"
           },
           "yaxis": {
            "backgroundcolor": "#E5ECF6",
            "gridcolor": "white",
            "gridwidth": 2,
            "linecolor": "white",
            "showbackground": true,
            "ticks": "",
            "zerolinecolor": "white"
           },
           "zaxis": {
            "backgroundcolor": "#E5ECF6",
            "gridcolor": "white",
            "gridwidth": 2,
            "linecolor": "white",
            "showbackground": true,
            "ticks": "",
            "zerolinecolor": "white"
           }
          },
          "shapedefaults": {
           "line": {
            "color": "#2a3f5f"
           }
          },
          "ternary": {
           "aaxis": {
            "gridcolor": "white",
            "linecolor": "white",
            "ticks": ""
           },
           "baxis": {
            "gridcolor": "white",
            "linecolor": "white",
            "ticks": ""
           },
           "bgcolor": "#E5ECF6",
           "caxis": {
            "gridcolor": "white",
            "linecolor": "white",
            "ticks": ""
           }
          },
          "title": {
           "x": 0.05
          },
          "xaxis": {
           "automargin": true,
           "gridcolor": "white",
           "linecolor": "white",
           "ticks": "",
           "title": {
            "standoff": 15
           },
           "zerolinecolor": "white",
           "zerolinewidth": 2
          },
          "yaxis": {
           "automargin": true,
           "gridcolor": "white",
           "linecolor": "white",
           "ticks": "",
           "title": {
            "standoff": 15
           },
           "zerolinecolor": "white",
           "zerolinewidth": 2
          }
         }
        },
        "title": {
         "text": "Drop in Happiness Rank (2021 v/s 2015)"
        },
        "width": 800,
        "xaxis": {
         "anchor": "y",
         "domain": [
          0,
          1
         ],
         "title": {
          "text": "Drop in Rank"
         }
        },
        "yaxis": {
         "anchor": "x",
         "domain": [
          0,
          1
         ],
         "title": {
          "text": "Country"
         }
        }
       }
      },
      "text/html": [
       "<div>                            <div id=\"4dd61561-ea39-4dab-b9de-e14aa9d02c84\" class=\"plotly-graph-div\" style=\"height:500px; width:800px;\"></div>            <script type=\"text/javascript\">                require([\"plotly\"], function(Plotly) {                    window.PLOTLYENV=window.PLOTLYENV || {};                                    if (document.getElementById(\"4dd61561-ea39-4dab-b9de-e14aa9d02c84\")) {                    Plotly.newPlot(                        \"4dd61561-ea39-4dab-b9de-e14aa9d02c84\",                        [{\"alignmentgroup\": \"True\", \"hovertemplate\": \"<b>%{hovertext}</b><br><br>Drop in Rank=%{x}<br>Country=%{y}<extra></extra>\", \"hovertext\": [-22.0, -17.0, -12.0, -9.0, -7.0, -4.0, -3.0, -3.0, 5.0, 10.0, 11.0, 13.0, 15.0, 18.0, 22.0, 24.0, 29.0, 33.0, 48.0, 52.0], \"legendgroup\": \"\", \"marker\": {\"color\": \"#636efa\"}, \"name\": \"\", \"offsetgroup\": \"\", \"orientation\": \"h\", \"showlegend\": false, \"textposition\": \"auto\", \"type\": \"bar\", \"x\": [-22, -17, -12, -9, -7, -4, -3, -3, 5, 10, 11, 13, 15, 18, 22, 24, 29, 33, 48, 52], \"xaxis\": \"x\", \"y\": [\"Togo\", \"Burundi\", \"Madagascar\", \"Comoros\", \"Rwanda\", \"Tanzania\", \"Sri Lanka\", \"Egypt\", \"Yemen\", \"Mauritania\", \"Ethiopia\", \"Malawi\", \"Sierra Leone\", \"Botswana\", \"India\", \"Haiti\", \"Swaziland\", \"Zimbabwe\", \"Lesotho\", \"Zambia\"], \"yaxis\": \"y\"}],                        {\"barmode\": \"relative\", \"height\": 500, \"legend\": {\"tracegroupgap\": 0}, \"template\": {\"data\": {\"bar\": [{\"error_x\": {\"color\": \"#2a3f5f\"}, \"error_y\": {\"color\": \"#2a3f5f\"}, \"marker\": {\"line\": {\"color\": \"#E5ECF6\", \"width\": 0.5}}, \"type\": \"bar\"}], \"barpolar\": [{\"marker\": {\"line\": {\"color\": \"#E5ECF6\", \"width\": 0.5}}, \"type\": \"barpolar\"}], \"carpet\": [{\"aaxis\": {\"endlinecolor\": \"#2a3f5f\", \"gridcolor\": \"white\", \"linecolor\": \"white\", \"minorgridcolor\": \"white\", \"startlinecolor\": \"#2a3f5f\"}, \"baxis\": {\"endlinecolor\": \"#2a3f5f\", \"gridcolor\": \"white\", \"linecolor\": \"white\", \"minorgridcolor\": \"white\", \"startlinecolor\": \"#2a3f5f\"}, \"type\": \"carpet\"}], \"choropleth\": [{\"colorbar\": {\"outlinewidth\": 0, \"ticks\": \"\"}, \"type\": \"choropleth\"}], \"contour\": [{\"colorbar\": {\"outlinewidth\": 0, \"ticks\": \"\"}, \"colorscale\": [[0.0, \"#0d0887\"], [0.1111111111111111, \"#46039f\"], [0.2222222222222222, \"#7201a8\"], [0.3333333333333333, \"#9c179e\"], [0.4444444444444444, \"#bd3786\"], [0.5555555555555556, \"#d8576b\"], [0.6666666666666666, \"#ed7953\"], [0.7777777777777778, \"#fb9f3a\"], [0.8888888888888888, \"#fdca26\"], [1.0, \"#f0f921\"]], \"type\": \"contour\"}], \"contourcarpet\": [{\"colorbar\": {\"outlinewidth\": 0, \"ticks\": \"\"}, \"type\": \"contourcarpet\"}], \"heatmap\": [{\"colorbar\": {\"outlinewidth\": 0, \"ticks\": \"\"}, \"colorscale\": [[0.0, \"#0d0887\"], [0.1111111111111111, \"#46039f\"], [0.2222222222222222, \"#7201a8\"], [0.3333333333333333, \"#9c179e\"], [0.4444444444444444, \"#bd3786\"], [0.5555555555555556, \"#d8576b\"], [0.6666666666666666, \"#ed7953\"], [0.7777777777777778, \"#fb9f3a\"], [0.8888888888888888, \"#fdca26\"], [1.0, \"#f0f921\"]], \"type\": \"heatmap\"}], \"heatmapgl\": [{\"colorbar\": {\"outlinewidth\": 0, \"ticks\": \"\"}, \"colorscale\": [[0.0, \"#0d0887\"], [0.1111111111111111, \"#46039f\"], [0.2222222222222222, \"#7201a8\"], [0.3333333333333333, \"#9c179e\"], [0.4444444444444444, \"#bd3786\"], [0.5555555555555556, \"#d8576b\"], [0.6666666666666666, \"#ed7953\"], [0.7777777777777778, \"#fb9f3a\"], [0.8888888888888888, \"#fdca26\"], [1.0, \"#f0f921\"]], \"type\": \"heatmapgl\"}], \"histogram\": [{\"marker\": {\"colorbar\": {\"outlinewidth\": 0, \"ticks\": \"\"}}, \"type\": \"histogram\"}], \"histogram2d\": [{\"colorbar\": {\"outlinewidth\": 0, \"ticks\": \"\"}, \"colorscale\": [[0.0, \"#0d0887\"], [0.1111111111111111, \"#46039f\"], [0.2222222222222222, \"#7201a8\"], [0.3333333333333333, \"#9c179e\"], [0.4444444444444444, \"#bd3786\"], [0.5555555555555556, \"#d8576b\"], [0.6666666666666666, \"#ed7953\"], [0.7777777777777778, \"#fb9f3a\"], [0.8888888888888888, \"#fdca26\"], [1.0, \"#f0f921\"]], \"type\": \"histogram2d\"}], \"histogram2dcontour\": [{\"colorbar\": {\"outlinewidth\": 0, \"ticks\": \"\"}, \"colorscale\": [[0.0, \"#0d0887\"], [0.1111111111111111, \"#46039f\"], [0.2222222222222222, \"#7201a8\"], [0.3333333333333333, \"#9c179e\"], [0.4444444444444444, \"#bd3786\"], [0.5555555555555556, \"#d8576b\"], [0.6666666666666666, \"#ed7953\"], [0.7777777777777778, \"#fb9f3a\"], [0.8888888888888888, \"#fdca26\"], [1.0, \"#f0f921\"]], \"type\": \"histogram2dcontour\"}], \"mesh3d\": [{\"colorbar\": {\"outlinewidth\": 0, \"ticks\": \"\"}, \"type\": \"mesh3d\"}], \"parcoords\": [{\"line\": {\"colorbar\": {\"outlinewidth\": 0, \"ticks\": \"\"}}, \"type\": \"parcoords\"}], \"pie\": [{\"automargin\": true, \"type\": \"pie\"}], \"scatter\": [{\"marker\": {\"colorbar\": {\"outlinewidth\": 0, \"ticks\": \"\"}}, \"type\": \"scatter\"}], \"scatter3d\": [{\"line\": {\"colorbar\": {\"outlinewidth\": 0, \"ticks\": \"\"}}, \"marker\": {\"colorbar\": {\"outlinewidth\": 0, \"ticks\": \"\"}}, \"type\": \"scatter3d\"}], \"scattercarpet\": [{\"marker\": {\"colorbar\": {\"outlinewidth\": 0, \"ticks\": \"\"}}, \"type\": \"scattercarpet\"}], \"scattergeo\": [{\"marker\": {\"colorbar\": {\"outlinewidth\": 0, \"ticks\": \"\"}}, \"type\": \"scattergeo\"}], \"scattergl\": [{\"marker\": {\"colorbar\": {\"outlinewidth\": 0, \"ticks\": \"\"}}, \"type\": \"scattergl\"}], \"scattermapbox\": [{\"marker\": {\"colorbar\": {\"outlinewidth\": 0, \"ticks\": \"\"}}, \"type\": \"scattermapbox\"}], \"scatterpolar\": [{\"marker\": {\"colorbar\": {\"outlinewidth\": 0, \"ticks\": \"\"}}, \"type\": \"scatterpolar\"}], \"scatterpolargl\": [{\"marker\": {\"colorbar\": {\"outlinewidth\": 0, \"ticks\": \"\"}}, \"type\": \"scatterpolargl\"}], \"scatterternary\": [{\"marker\": {\"colorbar\": {\"outlinewidth\": 0, \"ticks\": \"\"}}, \"type\": \"scatterternary\"}], \"surface\": [{\"colorbar\": {\"outlinewidth\": 0, \"ticks\": \"\"}, \"colorscale\": [[0.0, \"#0d0887\"], [0.1111111111111111, \"#46039f\"], [0.2222222222222222, \"#7201a8\"], [0.3333333333333333, \"#9c179e\"], [0.4444444444444444, \"#bd3786\"], [0.5555555555555556, \"#d8576b\"], [0.6666666666666666, \"#ed7953\"], [0.7777777777777778, \"#fb9f3a\"], [0.8888888888888888, \"#fdca26\"], [1.0, \"#f0f921\"]], \"type\": \"surface\"}], \"table\": [{\"cells\": {\"fill\": {\"color\": \"#EBF0F8\"}, \"line\": {\"color\": \"white\"}}, \"header\": {\"fill\": {\"color\": \"#C8D4E3\"}, \"line\": {\"color\": \"white\"}}, \"type\": \"table\"}]}, \"layout\": {\"annotationdefaults\": {\"arrowcolor\": \"#2a3f5f\", \"arrowhead\": 0, \"arrowwidth\": 1}, \"autotypenumbers\": \"strict\", \"coloraxis\": {\"colorbar\": {\"outlinewidth\": 0, \"ticks\": \"\"}}, \"colorscale\": {\"diverging\": [[0, \"#8e0152\"], [0.1, \"#c51b7d\"], [0.2, \"#de77ae\"], [0.3, \"#f1b6da\"], [0.4, \"#fde0ef\"], [0.5, \"#f7f7f7\"], [0.6, \"#e6f5d0\"], [0.7, \"#b8e186\"], [0.8, \"#7fbc41\"], [0.9, \"#4d9221\"], [1, \"#276419\"]], \"sequential\": [[0.0, \"#0d0887\"], [0.1111111111111111, \"#46039f\"], [0.2222222222222222, \"#7201a8\"], [0.3333333333333333, \"#9c179e\"], [0.4444444444444444, \"#bd3786\"], [0.5555555555555556, \"#d8576b\"], [0.6666666666666666, \"#ed7953\"], [0.7777777777777778, \"#fb9f3a\"], [0.8888888888888888, \"#fdca26\"], [1.0, \"#f0f921\"]], \"sequentialminus\": [[0.0, \"#0d0887\"], [0.1111111111111111, \"#46039f\"], [0.2222222222222222, \"#7201a8\"], [0.3333333333333333, \"#9c179e\"], [0.4444444444444444, \"#bd3786\"], [0.5555555555555556, \"#d8576b\"], [0.6666666666666666, \"#ed7953\"], [0.7777777777777778, \"#fb9f3a\"], [0.8888888888888888, \"#fdca26\"], [1.0, \"#f0f921\"]]}, \"colorway\": [\"#636efa\", \"#EF553B\", \"#00cc96\", \"#ab63fa\", \"#FFA15A\", \"#19d3f3\", \"#FF6692\", \"#B6E880\", \"#FF97FF\", \"#FECB52\"], \"font\": {\"color\": \"#2a3f5f\"}, \"geo\": {\"bgcolor\": \"white\", \"lakecolor\": \"white\", \"landcolor\": \"#E5ECF6\", \"showlakes\": true, \"showland\": true, \"subunitcolor\": \"white\"}, \"hoverlabel\": {\"align\": \"left\"}, \"hovermode\": \"closest\", \"mapbox\": {\"style\": \"light\"}, \"paper_bgcolor\": \"white\", \"plot_bgcolor\": \"#E5ECF6\", \"polar\": {\"angularaxis\": {\"gridcolor\": \"white\", \"linecolor\": \"white\", \"ticks\": \"\"}, \"bgcolor\": \"#E5ECF6\", \"radialaxis\": {\"gridcolor\": \"white\", \"linecolor\": \"white\", \"ticks\": \"\"}}, \"scene\": {\"xaxis\": {\"backgroundcolor\": \"#E5ECF6\", \"gridcolor\": \"white\", \"gridwidth\": 2, \"linecolor\": \"white\", \"showbackground\": true, \"ticks\": \"\", \"zerolinecolor\": \"white\"}, \"yaxis\": {\"backgroundcolor\": \"#E5ECF6\", \"gridcolor\": \"white\", \"gridwidth\": 2, \"linecolor\": \"white\", \"showbackground\": true, \"ticks\": \"\", \"zerolinecolor\": \"white\"}, \"zaxis\": {\"backgroundcolor\": \"#E5ECF6\", \"gridcolor\": \"white\", \"gridwidth\": 2, \"linecolor\": \"white\", \"showbackground\": true, \"ticks\": \"\", \"zerolinecolor\": \"white\"}}, \"shapedefaults\": {\"line\": {\"color\": \"#2a3f5f\"}}, \"ternary\": {\"aaxis\": {\"gridcolor\": \"white\", \"linecolor\": \"white\", \"ticks\": \"\"}, \"baxis\": {\"gridcolor\": \"white\", \"linecolor\": \"white\", \"ticks\": \"\"}, \"bgcolor\": \"#E5ECF6\", \"caxis\": {\"gridcolor\": \"white\", \"linecolor\": \"white\", \"ticks\": \"\"}}, \"title\": {\"x\": 0.05}, \"xaxis\": {\"automargin\": true, \"gridcolor\": \"white\", \"linecolor\": \"white\", \"ticks\": \"\", \"title\": {\"standoff\": 15}, \"zerolinecolor\": \"white\", \"zerolinewidth\": 2}, \"yaxis\": {\"automargin\": true, \"gridcolor\": \"white\", \"linecolor\": \"white\", \"ticks\": \"\", \"title\": {\"standoff\": 15}, \"zerolinecolor\": \"white\", \"zerolinewidth\": 2}}}, \"title\": {\"text\": \"Drop in Happiness Rank (2021 v/s 2015)\"}, \"width\": 800, \"xaxis\": {\"anchor\": \"y\", \"domain\": [0.0, 1.0], \"title\": {\"text\": \"Drop in Rank\"}}, \"yaxis\": {\"anchor\": \"x\", \"domain\": [0.0, 1.0], \"title\": {\"text\": \"Country\"}}},                        {\"responsive\": true}                    ).then(function(){\n",
       "                            \n",
       "var gd = document.getElementById('4dd61561-ea39-4dab-b9de-e14aa9d02c84');\n",
       "var x = new MutationObserver(function (mutations, observer) {{\n",
       "        var display = window.getComputedStyle(gd).display;\n",
       "        if (!display || display === 'none') {{\n",
       "            console.log([gd, 'removed!']);\n",
       "            Plotly.purge(gd);\n",
       "            observer.disconnect();\n",
       "        }}\n",
       "}});\n",
       "\n",
       "// Listen for the removal of the full notebook cells\n",
       "var notebookContainer = gd.closest('#notebook-container');\n",
       "if (notebookContainer) {{\n",
       "    x.observe(notebookContainer, {childList: true});\n",
       "}}\n",
       "\n",
       "// Listen for the clearing of the current output cell\n",
       "var outputEl = gd.closest('.output');\n",
       "if (outputEl) {{\n",
       "    x.observe(outputEl, {childList: true});\n",
       "}}\n",
       "\n",
       "                        })                };                });            </script>        </div>"
      ]
     },
     "metadata": {},
     "output_type": "display_data"
    }
   ],
   "source": [
    "fig = px.bar(bottom_20, x='Drop in Rank', y='Country',  hover_name='Drop in Rank', \n",
    "            labels={\n",
    "                     \"Country\": \"Country\",\n",
    "                     \"Drop in Rank\": \"Drop in Rank\" }, orientation='h', width=800, height=500, title='Drop in Happiness Rank (2021 v/s 2015)')\n",
    "fig.show()"
   ]
  },
  {
   "cell_type": "markdown",
   "metadata": {},
   "source": [
    "# Positive Delta shows that Countries have dropped in rank in 2021 (vs 2015). India's drop in rank is 22 in 2021 v/s 2015. This shows that we might be growing in terms of overall economy but lack in uniformity, opportunities, GDP/capita, corruption seem to make people unsatisfied and sad. This is based on perception (happiness cannot be actually mesasured)"
   ]
  },
  {
   "cell_type": "code",
   "execution_count": 140,
   "metadata": {
    "scrolled": true
   },
   "outputs": [
    {
     "data": {
      "application/vnd.plotly.v1+json": {
       "config": {
        "plotlyServerURL": "https://plot.ly"
       },
       "data": [
        {
         "coloraxis": "coloraxis",
         "geo": "geo",
         "hovertemplate": "Country=%{location}<br>Happiness Score=%{z}<extra></extra>",
         "locationmode": "country names",
         "locations": [
          "Finland",
          "Denmark",
          "Switzerland",
          "Iceland",
          "Netherlands",
          "Norway",
          "Sweden",
          "Luxembourg",
          "New Zealand",
          "Austria",
          "Australia",
          "Israel",
          "Germany",
          "Canada",
          "Ireland",
          "Costa Rica",
          "United Kingdom",
          "Czech Republic",
          "United States",
          "Belgium",
          "France",
          "Bahrain",
          "Malta",
          "Taiwan Province of China",
          "United Arab Emirates",
          "Saudi Arabia",
          "Spain",
          "Italy",
          "Slovenia",
          "Guatemala",
          "Uruguay",
          "Singapore",
          "Kosovo",
          "Slovakia",
          "Brazil",
          "Mexico",
          "Jamaica",
          "Lithuania",
          "Cyprus",
          "Estonia",
          "Panama",
          "Uzbekistan",
          "Chile",
          "Poland",
          "Kazakhstan",
          "Romania",
          "Kuwait",
          "Serbia",
          "El Salvador",
          "Mauritius",
          "Latvia",
          "Colombia",
          "Hungary",
          "Thailand",
          "Nicaragua",
          "Japan",
          "Portugal",
          "Argentina",
          "Honduras",
          "Croatia",
          "Philippines",
          "South Korea",
          "Peru",
          "Bosnia and Herzegovina",
          "Moldova",
          "Ecuador",
          "Kyrgyzstan",
          "Greece",
          "Bolivia",
          "Mongolia",
          "Paraguay",
          "Montenegro",
          "Dominican Republic",
          "North Cyprus",
          "Belarus",
          "Russia",
          "Hong Kong S.A.R. of China",
          "Tajikistan",
          "Vietnam",
          "Libya",
          "Malaysia",
          "Indonesia",
          "Congo (Brazzaville)",
          "China",
          "Ivory Coast",
          "Armenia",
          "Nepal",
          "Bulgaria",
          "Maldives",
          "Azerbaijan",
          "Cameroon",
          "Senegal",
          "Albania",
          "North Macedonia",
          "Ghana",
          "Niger",
          "Turkmenistan",
          "Gambia",
          "Benin",
          "Laos",
          "Bangladesh",
          "Guinea",
          "South Africa",
          "Turkey",
          "Pakistan",
          "Morocco",
          "Venezuela",
          "Georgia",
          "Algeria",
          "Ukraine",
          "Iraq",
          "Gabon",
          "Burkina Faso",
          "Cambodia",
          "Mozambique",
          "Nigeria",
          "Mali",
          "Iran",
          "Uganda",
          "Liberia",
          "Kenya",
          "Tunisia",
          "Lebanon",
          "Namibia",
          "Palestinian Territories",
          "Myanmar",
          "Jordan",
          "Chad",
          "Sri Lanka",
          "Swaziland",
          "Comoros",
          "Egypt",
          "Ethiopia",
          "Mauritania",
          "Madagascar",
          "Togo",
          "Zambia",
          "Sierra Leone",
          "India",
          "Burundi",
          "Yemen",
          "Tanzania",
          "Haiti",
          "Malawi",
          "Lesotho",
          "Botswana",
          "Rwanda",
          "Zimbabwe",
          "Afghanistan"
         ],
         "name": "",
         "type": "choropleth",
         "z": [
          7.8420000000000005,
          7.62,
          7.571000000000001,
          7.553999999999999,
          7.4639999999999995,
          7.392,
          7.3629999999999995,
          7.324,
          7.277,
          7.268,
          7.183,
          7.157,
          7.155,
          7.103,
          7.085,
          7.069,
          7.064,
          6.965,
          6.9510000000000005,
          6.834,
          6.69,
          6.647,
          6.602,
          6.584,
          6.561,
          6.494,
          6.4910000000000005,
          6.483,
          6.461,
          6.435,
          6.431,
          6.377000000000001,
          6.372000000000001,
          6.331,
          6.33,
          6.317,
          6.309,
          6.255,
          6.223,
          6.189,
          6.18,
          6.178999999999999,
          6.172000000000001,
          6.166,
          6.152,
          6.14,
          6.106,
          6.077999999999999,
          6.061,
          6.0489999999999995,
          6.032,
          6.0120000000000005,
          5.992000000000001,
          5.985,
          5.972,
          5.94,
          5.928999999999999,
          5.928999999999999,
          5.919,
          5.882000000000001,
          5.88,
          5.845,
          5.84,
          5.813,
          5.766,
          5.763999999999999,
          5.744,
          5.723,
          5.716,
          5.6770000000000005,
          5.653,
          5.581,
          5.545,
          5.5360000000000005,
          5.534,
          5.477,
          5.477,
          5.466,
          5.4110000000000005,
          5.41,
          5.3839999999999995,
          5.345,
          5.3420000000000005,
          5.3389999999999995,
          5.306,
          5.2829999999999995,
          5.269,
          5.266,
          5.1979999999999995,
          5.171,
          5.142,
          5.132000000000001,
          5.117,
          5.101,
          5.088,
          5.074,
          5.066,
          5.051,
          5.045,
          5.03,
          5.025,
          4.984,
          4.956,
          4.948,
          4.934,
          4.918,
          4.8919999999999995,
          4.891,
          4.887,
          4.875,
          4.854,
          4.852,
          4.834,
          4.83,
          4.794,
          4.7589999999999995,
          4.723,
          4.721,
          4.636,
          4.625,
          4.607,
          4.596,
          4.584,
          4.574,
          4.5169999999999995,
          4.426,
          4.395,
          4.355,
          4.325,
          4.308,
          4.289,
          4.283,
          4.275,
          4.227,
          4.208,
          4.107,
          4.073,
          3.8489999999999998,
          3.819,
          3.775,
          3.658,
          3.623,
          3.615,
          3.6,
          3.512,
          3.467,
          3.415,
          3.145,
          2.523
         ]
        }
       ],
       "layout": {
        "coloraxis": {
         "colorbar": {
          "title": {
           "text": "Happiness Score"
          }
         },
         "colorscale": [
          [
           0,
           "#0d0887"
          ],
          [
           0.1111111111111111,
           "#46039f"
          ],
          [
           0.2222222222222222,
           "#7201a8"
          ],
          [
           0.3333333333333333,
           "#9c179e"
          ],
          [
           0.4444444444444444,
           "#bd3786"
          ],
          [
           0.5555555555555556,
           "#d8576b"
          ],
          [
           0.6666666666666666,
           "#ed7953"
          ],
          [
           0.7777777777777778,
           "#fb9f3a"
          ],
          [
           0.8888888888888888,
           "#fdca26"
          ],
          [
           1,
           "#f0f921"
          ]
         ]
        },
        "geo": {
         "center": {},
         "domain": {
          "x": [
           0,
           1
          ],
          "y": [
           0,
           1
          ]
         }
        },
        "legend": {
         "tracegroupgap": 0
        },
        "template": {
         "data": {
          "bar": [
           {
            "error_x": {
             "color": "#2a3f5f"
            },
            "error_y": {
             "color": "#2a3f5f"
            },
            "marker": {
             "line": {
              "color": "#E5ECF6",
              "width": 0.5
             }
            },
            "type": "bar"
           }
          ],
          "barpolar": [
           {
            "marker": {
             "line": {
              "color": "#E5ECF6",
              "width": 0.5
             }
            },
            "type": "barpolar"
           }
          ],
          "carpet": [
           {
            "aaxis": {
             "endlinecolor": "#2a3f5f",
             "gridcolor": "white",
             "linecolor": "white",
             "minorgridcolor": "white",
             "startlinecolor": "#2a3f5f"
            },
            "baxis": {
             "endlinecolor": "#2a3f5f",
             "gridcolor": "white",
             "linecolor": "white",
             "minorgridcolor": "white",
             "startlinecolor": "#2a3f5f"
            },
            "type": "carpet"
           }
          ],
          "choropleth": [
           {
            "colorbar": {
             "outlinewidth": 0,
             "ticks": ""
            },
            "type": "choropleth"
           }
          ],
          "contour": [
           {
            "colorbar": {
             "outlinewidth": 0,
             "ticks": ""
            },
            "colorscale": [
             [
              0,
              "#0d0887"
             ],
             [
              0.1111111111111111,
              "#46039f"
             ],
             [
              0.2222222222222222,
              "#7201a8"
             ],
             [
              0.3333333333333333,
              "#9c179e"
             ],
             [
              0.4444444444444444,
              "#bd3786"
             ],
             [
              0.5555555555555556,
              "#d8576b"
             ],
             [
              0.6666666666666666,
              "#ed7953"
             ],
             [
              0.7777777777777778,
              "#fb9f3a"
             ],
             [
              0.8888888888888888,
              "#fdca26"
             ],
             [
              1,
              "#f0f921"
             ]
            ],
            "type": "contour"
           }
          ],
          "contourcarpet": [
           {
            "colorbar": {
             "outlinewidth": 0,
             "ticks": ""
            },
            "type": "contourcarpet"
           }
          ],
          "heatmap": [
           {
            "colorbar": {
             "outlinewidth": 0,
             "ticks": ""
            },
            "colorscale": [
             [
              0,
              "#0d0887"
             ],
             [
              0.1111111111111111,
              "#46039f"
             ],
             [
              0.2222222222222222,
              "#7201a8"
             ],
             [
              0.3333333333333333,
              "#9c179e"
             ],
             [
              0.4444444444444444,
              "#bd3786"
             ],
             [
              0.5555555555555556,
              "#d8576b"
             ],
             [
              0.6666666666666666,
              "#ed7953"
             ],
             [
              0.7777777777777778,
              "#fb9f3a"
             ],
             [
              0.8888888888888888,
              "#fdca26"
             ],
             [
              1,
              "#f0f921"
             ]
            ],
            "type": "heatmap"
           }
          ],
          "heatmapgl": [
           {
            "colorbar": {
             "outlinewidth": 0,
             "ticks": ""
            },
            "colorscale": [
             [
              0,
              "#0d0887"
             ],
             [
              0.1111111111111111,
              "#46039f"
             ],
             [
              0.2222222222222222,
              "#7201a8"
             ],
             [
              0.3333333333333333,
              "#9c179e"
             ],
             [
              0.4444444444444444,
              "#bd3786"
             ],
             [
              0.5555555555555556,
              "#d8576b"
             ],
             [
              0.6666666666666666,
              "#ed7953"
             ],
             [
              0.7777777777777778,
              "#fb9f3a"
             ],
             [
              0.8888888888888888,
              "#fdca26"
             ],
             [
              1,
              "#f0f921"
             ]
            ],
            "type": "heatmapgl"
           }
          ],
          "histogram": [
           {
            "marker": {
             "colorbar": {
              "outlinewidth": 0,
              "ticks": ""
             }
            },
            "type": "histogram"
           }
          ],
          "histogram2d": [
           {
            "colorbar": {
             "outlinewidth": 0,
             "ticks": ""
            },
            "colorscale": [
             [
              0,
              "#0d0887"
             ],
             [
              0.1111111111111111,
              "#46039f"
             ],
             [
              0.2222222222222222,
              "#7201a8"
             ],
             [
              0.3333333333333333,
              "#9c179e"
             ],
             [
              0.4444444444444444,
              "#bd3786"
             ],
             [
              0.5555555555555556,
              "#d8576b"
             ],
             [
              0.6666666666666666,
              "#ed7953"
             ],
             [
              0.7777777777777778,
              "#fb9f3a"
             ],
             [
              0.8888888888888888,
              "#fdca26"
             ],
             [
              1,
              "#f0f921"
             ]
            ],
            "type": "histogram2d"
           }
          ],
          "histogram2dcontour": [
           {
            "colorbar": {
             "outlinewidth": 0,
             "ticks": ""
            },
            "colorscale": [
             [
              0,
              "#0d0887"
             ],
             [
              0.1111111111111111,
              "#46039f"
             ],
             [
              0.2222222222222222,
              "#7201a8"
             ],
             [
              0.3333333333333333,
              "#9c179e"
             ],
             [
              0.4444444444444444,
              "#bd3786"
             ],
             [
              0.5555555555555556,
              "#d8576b"
             ],
             [
              0.6666666666666666,
              "#ed7953"
             ],
             [
              0.7777777777777778,
              "#fb9f3a"
             ],
             [
              0.8888888888888888,
              "#fdca26"
             ],
             [
              1,
              "#f0f921"
             ]
            ],
            "type": "histogram2dcontour"
           }
          ],
          "mesh3d": [
           {
            "colorbar": {
             "outlinewidth": 0,
             "ticks": ""
            },
            "type": "mesh3d"
           }
          ],
          "parcoords": [
           {
            "line": {
             "colorbar": {
              "outlinewidth": 0,
              "ticks": ""
             }
            },
            "type": "parcoords"
           }
          ],
          "pie": [
           {
            "automargin": true,
            "type": "pie"
           }
          ],
          "scatter": [
           {
            "marker": {
             "colorbar": {
              "outlinewidth": 0,
              "ticks": ""
             }
            },
            "type": "scatter"
           }
          ],
          "scatter3d": [
           {
            "line": {
             "colorbar": {
              "outlinewidth": 0,
              "ticks": ""
             }
            },
            "marker": {
             "colorbar": {
              "outlinewidth": 0,
              "ticks": ""
             }
            },
            "type": "scatter3d"
           }
          ],
          "scattercarpet": [
           {
            "marker": {
             "colorbar": {
              "outlinewidth": 0,
              "ticks": ""
             }
            },
            "type": "scattercarpet"
           }
          ],
          "scattergeo": [
           {
            "marker": {
             "colorbar": {
              "outlinewidth": 0,
              "ticks": ""
             }
            },
            "type": "scattergeo"
           }
          ],
          "scattergl": [
           {
            "marker": {
             "colorbar": {
              "outlinewidth": 0,
              "ticks": ""
             }
            },
            "type": "scattergl"
           }
          ],
          "scattermapbox": [
           {
            "marker": {
             "colorbar": {
              "outlinewidth": 0,
              "ticks": ""
             }
            },
            "type": "scattermapbox"
           }
          ],
          "scatterpolar": [
           {
            "marker": {
             "colorbar": {
              "outlinewidth": 0,
              "ticks": ""
             }
            },
            "type": "scatterpolar"
           }
          ],
          "scatterpolargl": [
           {
            "marker": {
             "colorbar": {
              "outlinewidth": 0,
              "ticks": ""
             }
            },
            "type": "scatterpolargl"
           }
          ],
          "scatterternary": [
           {
            "marker": {
             "colorbar": {
              "outlinewidth": 0,
              "ticks": ""
             }
            },
            "type": "scatterternary"
           }
          ],
          "surface": [
           {
            "colorbar": {
             "outlinewidth": 0,
             "ticks": ""
            },
            "colorscale": [
             [
              0,
              "#0d0887"
             ],
             [
              0.1111111111111111,
              "#46039f"
             ],
             [
              0.2222222222222222,
              "#7201a8"
             ],
             [
              0.3333333333333333,
              "#9c179e"
             ],
             [
              0.4444444444444444,
              "#bd3786"
             ],
             [
              0.5555555555555556,
              "#d8576b"
             ],
             [
              0.6666666666666666,
              "#ed7953"
             ],
             [
              0.7777777777777778,
              "#fb9f3a"
             ],
             [
              0.8888888888888888,
              "#fdca26"
             ],
             [
              1,
              "#f0f921"
             ]
            ],
            "type": "surface"
           }
          ],
          "table": [
           {
            "cells": {
             "fill": {
              "color": "#EBF0F8"
             },
             "line": {
              "color": "white"
             }
            },
            "header": {
             "fill": {
              "color": "#C8D4E3"
             },
             "line": {
              "color": "white"
             }
            },
            "type": "table"
           }
          ]
         },
         "layout": {
          "annotationdefaults": {
           "arrowcolor": "#2a3f5f",
           "arrowhead": 0,
           "arrowwidth": 1
          },
          "autotypenumbers": "strict",
          "coloraxis": {
           "colorbar": {
            "outlinewidth": 0,
            "ticks": ""
           }
          },
          "colorscale": {
           "diverging": [
            [
             0,
             "#8e0152"
            ],
            [
             0.1,
             "#c51b7d"
            ],
            [
             0.2,
             "#de77ae"
            ],
            [
             0.3,
             "#f1b6da"
            ],
            [
             0.4,
             "#fde0ef"
            ],
            [
             0.5,
             "#f7f7f7"
            ],
            [
             0.6,
             "#e6f5d0"
            ],
            [
             0.7,
             "#b8e186"
            ],
            [
             0.8,
             "#7fbc41"
            ],
            [
             0.9,
             "#4d9221"
            ],
            [
             1,
             "#276419"
            ]
           ],
           "sequential": [
            [
             0,
             "#0d0887"
            ],
            [
             0.1111111111111111,
             "#46039f"
            ],
            [
             0.2222222222222222,
             "#7201a8"
            ],
            [
             0.3333333333333333,
             "#9c179e"
            ],
            [
             0.4444444444444444,
             "#bd3786"
            ],
            [
             0.5555555555555556,
             "#d8576b"
            ],
            [
             0.6666666666666666,
             "#ed7953"
            ],
            [
             0.7777777777777778,
             "#fb9f3a"
            ],
            [
             0.8888888888888888,
             "#fdca26"
            ],
            [
             1,
             "#f0f921"
            ]
           ],
           "sequentialminus": [
            [
             0,
             "#0d0887"
            ],
            [
             0.1111111111111111,
             "#46039f"
            ],
            [
             0.2222222222222222,
             "#7201a8"
            ],
            [
             0.3333333333333333,
             "#9c179e"
            ],
            [
             0.4444444444444444,
             "#bd3786"
            ],
            [
             0.5555555555555556,
             "#d8576b"
            ],
            [
             0.6666666666666666,
             "#ed7953"
            ],
            [
             0.7777777777777778,
             "#fb9f3a"
            ],
            [
             0.8888888888888888,
             "#fdca26"
            ],
            [
             1,
             "#f0f921"
            ]
           ]
          },
          "colorway": [
           "#636efa",
           "#EF553B",
           "#00cc96",
           "#ab63fa",
           "#FFA15A",
           "#19d3f3",
           "#FF6692",
           "#B6E880",
           "#FF97FF",
           "#FECB52"
          ],
          "font": {
           "color": "#2a3f5f"
          },
          "geo": {
           "bgcolor": "white",
           "lakecolor": "white",
           "landcolor": "#E5ECF6",
           "showlakes": true,
           "showland": true,
           "subunitcolor": "white"
          },
          "hoverlabel": {
           "align": "left"
          },
          "hovermode": "closest",
          "mapbox": {
           "style": "light"
          },
          "paper_bgcolor": "white",
          "plot_bgcolor": "#E5ECF6",
          "polar": {
           "angularaxis": {
            "gridcolor": "white",
            "linecolor": "white",
            "ticks": ""
           },
           "bgcolor": "#E5ECF6",
           "radialaxis": {
            "gridcolor": "white",
            "linecolor": "white",
            "ticks": ""
           }
          },
          "scene": {
           "xaxis": {
            "backgroundcolor": "#E5ECF6",
            "gridcolor": "white",
            "gridwidth": 2,
            "linecolor": "white",
            "showbackground": true,
            "ticks": "",
            "zerolinecolor": "white"
           },
           "yaxis": {
            "backgroundcolor": "#E5ECF6",
            "gridcolor": "white",
            "gridwidth": 2,
            "linecolor": "white",
            "showbackground": true,
            "ticks": "",
            "zerolinecolor": "white"
           },
           "zaxis": {
            "backgroundcolor": "#E5ECF6",
            "gridcolor": "white",
            "gridwidth": 2,
            "linecolor": "white",
            "showbackground": true,
            "ticks": "",
            "zerolinecolor": "white"
           }
          },
          "shapedefaults": {
           "line": {
            "color": "#2a3f5f"
           }
          },
          "ternary": {
           "aaxis": {
            "gridcolor": "white",
            "linecolor": "white",
            "ticks": ""
           },
           "baxis": {
            "gridcolor": "white",
            "linecolor": "white",
            "ticks": ""
           },
           "bgcolor": "#E5ECF6",
           "caxis": {
            "gridcolor": "white",
            "linecolor": "white",
            "ticks": ""
           }
          },
          "title": {
           "x": 0.05
          },
          "xaxis": {
           "automargin": true,
           "gridcolor": "white",
           "linecolor": "white",
           "ticks": "",
           "title": {
            "standoff": 15
           },
           "zerolinecolor": "white",
           "zerolinewidth": 2
          },
          "yaxis": {
           "automargin": true,
           "gridcolor": "white",
           "linecolor": "white",
           "ticks": "",
           "title": {
            "standoff": 15
           },
           "zerolinecolor": "white",
           "zerolinewidth": 2
          }
         }
        },
        "title": {
         "text": "Happiness score across the globe"
        }
       }
      },
      "text/html": [
       "<div>                            <div id=\"fd9aea4f-999a-424f-bfee-2d8088757fb0\" class=\"plotly-graph-div\" style=\"height:525px; width:100%;\"></div>            <script type=\"text/javascript\">                require([\"plotly\"], function(Plotly) {                    window.PLOTLYENV=window.PLOTLYENV || {};                                    if (document.getElementById(\"fd9aea4f-999a-424f-bfee-2d8088757fb0\")) {                    Plotly.newPlot(                        \"fd9aea4f-999a-424f-bfee-2d8088757fb0\",                        [{\"coloraxis\": \"coloraxis\", \"geo\": \"geo\", \"hovertemplate\": \"Country=%{location}<br>Happiness Score=%{z}<extra></extra>\", \"locationmode\": \"country names\", \"locations\": [\"Finland\", \"Denmark\", \"Switzerland\", \"Iceland\", \"Netherlands\", \"Norway\", \"Sweden\", \"Luxembourg\", \"New Zealand\", \"Austria\", \"Australia\", \"Israel\", \"Germany\", \"Canada\", \"Ireland\", \"Costa Rica\", \"United Kingdom\", \"Czech Republic\", \"United States\", \"Belgium\", \"France\", \"Bahrain\", \"Malta\", \"Taiwan Province of China\", \"United Arab Emirates\", \"Saudi Arabia\", \"Spain\", \"Italy\", \"Slovenia\", \"Guatemala\", \"Uruguay\", \"Singapore\", \"Kosovo\", \"Slovakia\", \"Brazil\", \"Mexico\", \"Jamaica\", \"Lithuania\", \"Cyprus\", \"Estonia\", \"Panama\", \"Uzbekistan\", \"Chile\", \"Poland\", \"Kazakhstan\", \"Romania\", \"Kuwait\", \"Serbia\", \"El Salvador\", \"Mauritius\", \"Latvia\", \"Colombia\", \"Hungary\", \"Thailand\", \"Nicaragua\", \"Japan\", \"Portugal\", \"Argentina\", \"Honduras\", \"Croatia\", \"Philippines\", \"South Korea\", \"Peru\", \"Bosnia and Herzegovina\", \"Moldova\", \"Ecuador\", \"Kyrgyzstan\", \"Greece\", \"Bolivia\", \"Mongolia\", \"Paraguay\", \"Montenegro\", \"Dominican Republic\", \"North Cyprus\", \"Belarus\", \"Russia\", \"Hong Kong S.A.R. of China\", \"Tajikistan\", \"Vietnam\", \"Libya\", \"Malaysia\", \"Indonesia\", \"Congo (Brazzaville)\", \"China\", \"Ivory Coast\", \"Armenia\", \"Nepal\", \"Bulgaria\", \"Maldives\", \"Azerbaijan\", \"Cameroon\", \"Senegal\", \"Albania\", \"North Macedonia\", \"Ghana\", \"Niger\", \"Turkmenistan\", \"Gambia\", \"Benin\", \"Laos\", \"Bangladesh\", \"Guinea\", \"South Africa\", \"Turkey\", \"Pakistan\", \"Morocco\", \"Venezuela\", \"Georgia\", \"Algeria\", \"Ukraine\", \"Iraq\", \"Gabon\", \"Burkina Faso\", \"Cambodia\", \"Mozambique\", \"Nigeria\", \"Mali\", \"Iran\", \"Uganda\", \"Liberia\", \"Kenya\", \"Tunisia\", \"Lebanon\", \"Namibia\", \"Palestinian Territories\", \"Myanmar\", \"Jordan\", \"Chad\", \"Sri Lanka\", \"Swaziland\", \"Comoros\", \"Egypt\", \"Ethiopia\", \"Mauritania\", \"Madagascar\", \"Togo\", \"Zambia\", \"Sierra Leone\", \"India\", \"Burundi\", \"Yemen\", \"Tanzania\", \"Haiti\", \"Malawi\", \"Lesotho\", \"Botswana\", \"Rwanda\", \"Zimbabwe\", \"Afghanistan\"], \"name\": \"\", \"type\": \"choropleth\", \"z\": [7.8420000000000005, 7.62, 7.571000000000001, 7.553999999999999, 7.4639999999999995, 7.392, 7.3629999999999995, 7.324, 7.277, 7.268, 7.183, 7.157, 7.155, 7.103, 7.085, 7.069, 7.064, 6.965, 6.9510000000000005, 6.834, 6.69, 6.647, 6.602, 6.584, 6.561, 6.494, 6.4910000000000005, 6.483, 6.461, 6.435, 6.431, 6.377000000000001, 6.372000000000001, 6.331, 6.33, 6.317, 6.309, 6.255, 6.223, 6.189, 6.18, 6.178999999999999, 6.172000000000001, 6.166, 6.152, 6.14, 6.106, 6.077999999999999, 6.061, 6.0489999999999995, 6.032, 6.0120000000000005, 5.992000000000001, 5.985, 5.972, 5.94, 5.928999999999999, 5.928999999999999, 5.919, 5.882000000000001, 5.88, 5.845, 5.84, 5.813, 5.766, 5.763999999999999, 5.744, 5.723, 5.716, 5.6770000000000005, 5.653, 5.581, 5.545, 5.5360000000000005, 5.534, 5.477, 5.477, 5.466, 5.4110000000000005, 5.41, 5.3839999999999995, 5.345, 5.3420000000000005, 5.3389999999999995, 5.306, 5.2829999999999995, 5.269, 5.266, 5.1979999999999995, 5.171, 5.142, 5.132000000000001, 5.117, 5.101, 5.088, 5.074, 5.066, 5.051, 5.045, 5.03, 5.025, 4.984, 4.956, 4.948, 4.934, 4.918, 4.8919999999999995, 4.891, 4.887, 4.875, 4.854, 4.852, 4.834, 4.83, 4.794, 4.7589999999999995, 4.723, 4.721, 4.636, 4.625, 4.607, 4.596, 4.584, 4.574, 4.5169999999999995, 4.426, 4.395, 4.355, 4.325, 4.308, 4.289, 4.283, 4.275, 4.227, 4.208, 4.107, 4.073, 3.8489999999999998, 3.819, 3.775, 3.658, 3.623, 3.615, 3.6, 3.512, 3.467, 3.415, 3.145, 2.523]}],                        {\"coloraxis\": {\"colorbar\": {\"title\": {\"text\": \"Happiness Score\"}}, \"colorscale\": [[0.0, \"#0d0887\"], [0.1111111111111111, \"#46039f\"], [0.2222222222222222, \"#7201a8\"], [0.3333333333333333, \"#9c179e\"], [0.4444444444444444, \"#bd3786\"], [0.5555555555555556, \"#d8576b\"], [0.6666666666666666, \"#ed7953\"], [0.7777777777777778, \"#fb9f3a\"], [0.8888888888888888, \"#fdca26\"], [1.0, \"#f0f921\"]]}, \"geo\": {\"center\": {}, \"domain\": {\"x\": [0.0, 1.0], \"y\": [0.0, 1.0]}}, \"legend\": {\"tracegroupgap\": 0}, \"template\": {\"data\": {\"bar\": [{\"error_x\": {\"color\": \"#2a3f5f\"}, \"error_y\": {\"color\": \"#2a3f5f\"}, \"marker\": {\"line\": {\"color\": \"#E5ECF6\", \"width\": 0.5}}, \"type\": \"bar\"}], \"barpolar\": [{\"marker\": {\"line\": {\"color\": \"#E5ECF6\", \"width\": 0.5}}, \"type\": \"barpolar\"}], \"carpet\": [{\"aaxis\": {\"endlinecolor\": \"#2a3f5f\", \"gridcolor\": \"white\", \"linecolor\": \"white\", \"minorgridcolor\": \"white\", \"startlinecolor\": \"#2a3f5f\"}, \"baxis\": {\"endlinecolor\": \"#2a3f5f\", \"gridcolor\": \"white\", \"linecolor\": \"white\", \"minorgridcolor\": \"white\", \"startlinecolor\": \"#2a3f5f\"}, \"type\": \"carpet\"}], \"choropleth\": [{\"colorbar\": {\"outlinewidth\": 0, \"ticks\": \"\"}, \"type\": \"choropleth\"}], \"contour\": [{\"colorbar\": {\"outlinewidth\": 0, \"ticks\": \"\"}, \"colorscale\": [[0.0, \"#0d0887\"], [0.1111111111111111, \"#46039f\"], [0.2222222222222222, \"#7201a8\"], [0.3333333333333333, \"#9c179e\"], [0.4444444444444444, \"#bd3786\"], [0.5555555555555556, \"#d8576b\"], [0.6666666666666666, \"#ed7953\"], [0.7777777777777778, \"#fb9f3a\"], [0.8888888888888888, \"#fdca26\"], [1.0, \"#f0f921\"]], \"type\": \"contour\"}], \"contourcarpet\": [{\"colorbar\": {\"outlinewidth\": 0, \"ticks\": \"\"}, \"type\": \"contourcarpet\"}], \"heatmap\": [{\"colorbar\": {\"outlinewidth\": 0, \"ticks\": \"\"}, \"colorscale\": [[0.0, \"#0d0887\"], [0.1111111111111111, \"#46039f\"], [0.2222222222222222, \"#7201a8\"], [0.3333333333333333, \"#9c179e\"], [0.4444444444444444, \"#bd3786\"], [0.5555555555555556, \"#d8576b\"], [0.6666666666666666, \"#ed7953\"], [0.7777777777777778, \"#fb9f3a\"], [0.8888888888888888, \"#fdca26\"], [1.0, \"#f0f921\"]], \"type\": \"heatmap\"}], \"heatmapgl\": [{\"colorbar\": {\"outlinewidth\": 0, \"ticks\": \"\"}, \"colorscale\": [[0.0, \"#0d0887\"], [0.1111111111111111, \"#46039f\"], [0.2222222222222222, \"#7201a8\"], [0.3333333333333333, \"#9c179e\"], [0.4444444444444444, \"#bd3786\"], [0.5555555555555556, \"#d8576b\"], [0.6666666666666666, \"#ed7953\"], [0.7777777777777778, \"#fb9f3a\"], [0.8888888888888888, \"#fdca26\"], [1.0, \"#f0f921\"]], \"type\": \"heatmapgl\"}], \"histogram\": [{\"marker\": {\"colorbar\": {\"outlinewidth\": 0, \"ticks\": \"\"}}, \"type\": \"histogram\"}], \"histogram2d\": [{\"colorbar\": {\"outlinewidth\": 0, \"ticks\": \"\"}, \"colorscale\": [[0.0, \"#0d0887\"], [0.1111111111111111, \"#46039f\"], [0.2222222222222222, \"#7201a8\"], [0.3333333333333333, \"#9c179e\"], [0.4444444444444444, \"#bd3786\"], [0.5555555555555556, \"#d8576b\"], [0.6666666666666666, \"#ed7953\"], [0.7777777777777778, \"#fb9f3a\"], [0.8888888888888888, \"#fdca26\"], [1.0, \"#f0f921\"]], \"type\": \"histogram2d\"}], \"histogram2dcontour\": [{\"colorbar\": {\"outlinewidth\": 0, \"ticks\": \"\"}, \"colorscale\": [[0.0, \"#0d0887\"], [0.1111111111111111, \"#46039f\"], [0.2222222222222222, \"#7201a8\"], [0.3333333333333333, \"#9c179e\"], [0.4444444444444444, \"#bd3786\"], [0.5555555555555556, \"#d8576b\"], [0.6666666666666666, \"#ed7953\"], [0.7777777777777778, \"#fb9f3a\"], [0.8888888888888888, \"#fdca26\"], [1.0, \"#f0f921\"]], \"type\": \"histogram2dcontour\"}], \"mesh3d\": [{\"colorbar\": {\"outlinewidth\": 0, \"ticks\": \"\"}, \"type\": \"mesh3d\"}], \"parcoords\": [{\"line\": {\"colorbar\": {\"outlinewidth\": 0, \"ticks\": \"\"}}, \"type\": \"parcoords\"}], \"pie\": [{\"automargin\": true, \"type\": \"pie\"}], \"scatter\": [{\"marker\": {\"colorbar\": {\"outlinewidth\": 0, \"ticks\": \"\"}}, \"type\": \"scatter\"}], \"scatter3d\": [{\"line\": {\"colorbar\": {\"outlinewidth\": 0, \"ticks\": \"\"}}, \"marker\": {\"colorbar\": {\"outlinewidth\": 0, \"ticks\": \"\"}}, \"type\": \"scatter3d\"}], \"scattercarpet\": [{\"marker\": {\"colorbar\": {\"outlinewidth\": 0, \"ticks\": \"\"}}, \"type\": \"scattercarpet\"}], \"scattergeo\": [{\"marker\": {\"colorbar\": {\"outlinewidth\": 0, \"ticks\": \"\"}}, \"type\": \"scattergeo\"}], \"scattergl\": [{\"marker\": {\"colorbar\": {\"outlinewidth\": 0, \"ticks\": \"\"}}, \"type\": \"scattergl\"}], \"scattermapbox\": [{\"marker\": {\"colorbar\": {\"outlinewidth\": 0, \"ticks\": \"\"}}, \"type\": \"scattermapbox\"}], \"scatterpolar\": [{\"marker\": {\"colorbar\": {\"outlinewidth\": 0, \"ticks\": \"\"}}, \"type\": \"scatterpolar\"}], \"scatterpolargl\": [{\"marker\": {\"colorbar\": {\"outlinewidth\": 0, \"ticks\": \"\"}}, \"type\": \"scatterpolargl\"}], \"scatterternary\": [{\"marker\": {\"colorbar\": {\"outlinewidth\": 0, \"ticks\": \"\"}}, \"type\": \"scatterternary\"}], \"surface\": [{\"colorbar\": {\"outlinewidth\": 0, \"ticks\": \"\"}, \"colorscale\": [[0.0, \"#0d0887\"], [0.1111111111111111, \"#46039f\"], [0.2222222222222222, \"#7201a8\"], [0.3333333333333333, \"#9c179e\"], [0.4444444444444444, \"#bd3786\"], [0.5555555555555556, \"#d8576b\"], [0.6666666666666666, \"#ed7953\"], [0.7777777777777778, \"#fb9f3a\"], [0.8888888888888888, \"#fdca26\"], [1.0, \"#f0f921\"]], \"type\": \"surface\"}], \"table\": [{\"cells\": {\"fill\": {\"color\": \"#EBF0F8\"}, \"line\": {\"color\": \"white\"}}, \"header\": {\"fill\": {\"color\": \"#C8D4E3\"}, \"line\": {\"color\": \"white\"}}, \"type\": \"table\"}]}, \"layout\": {\"annotationdefaults\": {\"arrowcolor\": \"#2a3f5f\", \"arrowhead\": 0, \"arrowwidth\": 1}, \"autotypenumbers\": \"strict\", \"coloraxis\": {\"colorbar\": {\"outlinewidth\": 0, \"ticks\": \"\"}}, \"colorscale\": {\"diverging\": [[0, \"#8e0152\"], [0.1, \"#c51b7d\"], [0.2, \"#de77ae\"], [0.3, \"#f1b6da\"], [0.4, \"#fde0ef\"], [0.5, \"#f7f7f7\"], [0.6, \"#e6f5d0\"], [0.7, \"#b8e186\"], [0.8, \"#7fbc41\"], [0.9, \"#4d9221\"], [1, \"#276419\"]], \"sequential\": [[0.0, \"#0d0887\"], [0.1111111111111111, \"#46039f\"], [0.2222222222222222, \"#7201a8\"], [0.3333333333333333, \"#9c179e\"], [0.4444444444444444, \"#bd3786\"], [0.5555555555555556, \"#d8576b\"], [0.6666666666666666, \"#ed7953\"], [0.7777777777777778, \"#fb9f3a\"], [0.8888888888888888, \"#fdca26\"], [1.0, \"#f0f921\"]], \"sequentialminus\": [[0.0, \"#0d0887\"], [0.1111111111111111, \"#46039f\"], [0.2222222222222222, \"#7201a8\"], [0.3333333333333333, \"#9c179e\"], [0.4444444444444444, \"#bd3786\"], [0.5555555555555556, \"#d8576b\"], [0.6666666666666666, \"#ed7953\"], [0.7777777777777778, \"#fb9f3a\"], [0.8888888888888888, \"#fdca26\"], [1.0, \"#f0f921\"]]}, \"colorway\": [\"#636efa\", \"#EF553B\", \"#00cc96\", \"#ab63fa\", \"#FFA15A\", \"#19d3f3\", \"#FF6692\", \"#B6E880\", \"#FF97FF\", \"#FECB52\"], \"font\": {\"color\": \"#2a3f5f\"}, \"geo\": {\"bgcolor\": \"white\", \"lakecolor\": \"white\", \"landcolor\": \"#E5ECF6\", \"showlakes\": true, \"showland\": true, \"subunitcolor\": \"white\"}, \"hoverlabel\": {\"align\": \"left\"}, \"hovermode\": \"closest\", \"mapbox\": {\"style\": \"light\"}, \"paper_bgcolor\": \"white\", \"plot_bgcolor\": \"#E5ECF6\", \"polar\": {\"angularaxis\": {\"gridcolor\": \"white\", \"linecolor\": \"white\", \"ticks\": \"\"}, \"bgcolor\": \"#E5ECF6\", \"radialaxis\": {\"gridcolor\": \"white\", \"linecolor\": \"white\", \"ticks\": \"\"}}, \"scene\": {\"xaxis\": {\"backgroundcolor\": \"#E5ECF6\", \"gridcolor\": \"white\", \"gridwidth\": 2, \"linecolor\": \"white\", \"showbackground\": true, \"ticks\": \"\", \"zerolinecolor\": \"white\"}, \"yaxis\": {\"backgroundcolor\": \"#E5ECF6\", \"gridcolor\": \"white\", \"gridwidth\": 2, \"linecolor\": \"white\", \"showbackground\": true, \"ticks\": \"\", \"zerolinecolor\": \"white\"}, \"zaxis\": {\"backgroundcolor\": \"#E5ECF6\", \"gridcolor\": \"white\", \"gridwidth\": 2, \"linecolor\": \"white\", \"showbackground\": true, \"ticks\": \"\", \"zerolinecolor\": \"white\"}}, \"shapedefaults\": {\"line\": {\"color\": \"#2a3f5f\"}}, \"ternary\": {\"aaxis\": {\"gridcolor\": \"white\", \"linecolor\": \"white\", \"ticks\": \"\"}, \"baxis\": {\"gridcolor\": \"white\", \"linecolor\": \"white\", \"ticks\": \"\"}, \"bgcolor\": \"#E5ECF6\", \"caxis\": {\"gridcolor\": \"white\", \"linecolor\": \"white\", \"ticks\": \"\"}}, \"title\": {\"x\": 0.05}, \"xaxis\": {\"automargin\": true, \"gridcolor\": \"white\", \"linecolor\": \"white\", \"ticks\": \"\", \"title\": {\"standoff\": 15}, \"zerolinecolor\": \"white\", \"zerolinewidth\": 2}, \"yaxis\": {\"automargin\": true, \"gridcolor\": \"white\", \"linecolor\": \"white\", \"ticks\": \"\", \"title\": {\"standoff\": 15}, \"zerolinecolor\": \"white\", \"zerolinewidth\": 2}}}, \"title\": {\"text\": \"Happiness score across the globe\"}},                        {\"responsive\": true}                    ).then(function(){\n",
       "                            \n",
       "var gd = document.getElementById('fd9aea4f-999a-424f-bfee-2d8088757fb0');\n",
       "var x = new MutationObserver(function (mutations, observer) {{\n",
       "        var display = window.getComputedStyle(gd).display;\n",
       "        if (!display || display === 'none') {{\n",
       "            console.log([gd, 'removed!']);\n",
       "            Plotly.purge(gd);\n",
       "            observer.disconnect();\n",
       "        }}\n",
       "}});\n",
       "\n",
       "// Listen for the removal of the full notebook cells\n",
       "var notebookContainer = gd.closest('#notebook-container');\n",
       "if (notebookContainer) {{\n",
       "    x.observe(notebookContainer, {childList: true});\n",
       "}}\n",
       "\n",
       "// Listen for the clearing of the current output cell\n",
       "var outputEl = gd.closest('.output');\n",
       "if (outputEl) {{\n",
       "    x.observe(outputEl, {childList: true});\n",
       "}}\n",
       "\n",
       "                        })                };                });            </script>        </div>"
      ]
     },
     "metadata": {},
     "output_type": "display_data"
    }
   ],
   "source": [
    "fig = px.choropleth(df,locations='Country',locationmode='country names',color='Happiness Score',\n",
    "    title='Happiness score across the globe'\n",
    ")\n",
    "fig.show()"
   ]
  },
  {
   "cell_type": "markdown",
   "metadata": {},
   "source": [
    "# We can see that Western Europe has maximum number of countries which are happiest. On the other hand, Southeast Asia & Sub-Saharan Africa seems to have highest #countries which are extremely sad"
   ]
  },
  {
   "cell_type": "code",
   "execution_count": 141,
   "metadata": {},
   "outputs": [
    {
     "name": "stdout",
     "output_type": "stream",
     "text": [
      "<class 'pandas.core.frame.DataFrame'>\n",
      "Int64Index: 149 entries, 0 to 148\n",
      "Data columns (total 13 columns):\n",
      " #   Column                        Non-Null Count  Dtype  \n",
      "---  ------                        --------------  -----  \n",
      " 0   Country                       149 non-null    object \n",
      " 1   Region                        149 non-null    object \n",
      " 2   Happiness Rank                149 non-null    int64  \n",
      " 3   Happiness Score               149 non-null    float64\n",
      " 4   Standard Error                149 non-null    float64\n",
      " 5   Ladder score in Dystopia      149 non-null    float64\n",
      " 6   Economy (GDP per Capita)      149 non-null    float64\n",
      " 7   Social support                149 non-null    float64\n",
      " 8   Health (Life Expectancy)      149 non-null    float64\n",
      " 9   Freedom to make life choices  149 non-null    float64\n",
      " 10  Generosity                    149 non-null    float64\n",
      " 11  Perceptions of corruption     149 non-null    float64\n",
      " 12  Dystopia + residual           149 non-null    float64\n",
      "dtypes: float64(10), int64(1), object(2)\n",
      "memory usage: 16.3+ KB\n"
     ]
    }
   ],
   "source": [
    "df.info()"
   ]
  },
  {
   "cell_type": "code",
   "execution_count": 142,
   "metadata": {},
   "outputs": [],
   "source": [
    "df_corr = df[['Happiness Score', 'Economy (GDP per Capita)', 'Social support', 'Health (Life Expectancy)', 'Freedom to make life choices','Generosity','Perceptions of corruption' ]]"
   ]
  },
  {
   "cell_type": "code",
   "execution_count": 143,
   "metadata": {},
   "outputs": [
    {
     "data": {
      "image/png": "[encoded data removed]",
      "text/plain": [
       "<Figure size 432x288 with 2 Axes>"
      ]
     },
     "metadata": {
      "needs_background": "light"
     },
     "output_type": "display_data"
    }
   ],
   "source": [
    "correlation_mat = df_corr.corr()\n",
    "\n",
    "sns.heatmap(correlation_mat, annot = True)\n",
    "\n",
    "plt.title(\"Correlation matrix of Happiness Score (Ladder Score) and the variables that explain the happiness\")\n",
    "\n",
    "plt.show()"
   ]
  },
  {
   "cell_type": "markdown",
   "metadata": {},
   "source": [
    "# Happiness Score is most affected (corelated) with GDP per Capita, followed by Social Support"
   ]
  },
  {
   "cell_type": "code",
   "execution_count": null,
   "metadata": {},
   "outputs": [],
   "source": []
  }
 ],
 "metadata": {
  "kernelspec": {
   "display_name": "Python 3",
   "language": "python",
   "name": "python3"
  },
  "language_info": {
   "codemirror_mode": {
    "name": "ipython",
    "version": 3
   },
   "file_extension": ".py",
   "mimetype": "text/x-python",
   "name": "python",
   "nbconvert_exporter": "python",
   "pygments_lexer": "ipython3",
   "version": "3.8.5"
  }
 },
 "nbformat": 4,
 "nbformat_minor": 2
}
